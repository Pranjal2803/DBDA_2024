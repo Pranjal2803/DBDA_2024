{
 "cells": [
  {
   "cell_type": "markdown",
   "id": "158258a0-11f6-496c-89a1-5e17e304b1c4",
   "metadata": {},
   "source": [
    "### 1. Using for loop, write and run a Python program for this algorithm.\n",
    "Here is an algorithm to print out n! (n factorial) from 0! to 10! :\n",
    "1. Set f = 1 \n",
    "2. Set n = 0\n",
    "3. Repeat the following 10 times: \n",
    "\n",
    "\n",
    "a. Output n, \"! = \", f\n",
    "\n",
    "\n",
    "b. Add 1 to n \n",
    "\n",
    "\n",
    "c. Multiply f by n"
   ]
  },
  {
   "cell_type": "code",
   "execution_count": 1,
   "id": "7d362000-890d-43ff-830e-3d68ddd02984",
   "metadata": {},
   "outputs": [
    {
     "name": "stdout",
     "output_type": "stream",
     "text": [
      "1! = 1\n",
      "2! = 2\n",
      "3! = 6\n",
      "4! = 24\n",
      "5! = 120\n",
      "6! = 720\n",
      "7! = 5040\n",
      "8! = 40320\n",
      "9! = 362880\n",
      "10! = 3628800\n"
     ]
    }
   ],
   "source": [
    "# We take variable 'n' and assign a integer value to it so that upto that range we can print the factorial of the numbers.\n",
    "\n",
    "n=10\n",
    "\n",
    "# To iterate over a sequence we use 'for' loop.\n",
    "# When using range() function in python First value in this case '1' is included but last value 'n+1' is not included it takes value upto 'n'.\n",
    "#for i in range(1, n+1):: This is the outer loop. It iterates over the numbers from 1 to 10 (inclusive) using the range() function. Each iteration, i takes on the value from 1 to 10.\n",
    "\n",
    "\n",
    "for i in range(1,n+1):\n",
    "    #This line initializes a variable f with the value 1. This variable will hold the factorial value for each i.\n",
    "    f=1\n",
    "    # This is the inner loop. It iterates over the numbers from 1 to i (inclusive), where i is the current number from the outer loop.\n",
    "    #This inner loop calculates the factorial of i.\n",
    "    for j in range(1,i+1):\n",
    "        #Inside the inner loop, the variable f is multiplied by j in each iteration. This effectively calculates the factorial of i.\n",
    "        f=f*j\n",
    "    print(\"{}! = {}\".format(j,f))\n",
    "    # After calculating the factorial of i, this line prints the result. It uses string formatting to display i and its corresponding factorial value f.\n",
    "    #For example, for i = 6, it would print \"6! = 720\"."
   ]
  },
  {
   "cell_type": "markdown",
   "id": "c3428e11-81dc-4a6b-bdc3-58617a2c84f3",
   "metadata": {},
   "source": [
    "### 2. Write a program to display 3 line message"
   ]
  },
  {
   "cell_type": "code",
   "execution_count": 4,
   "id": "3fc0f442-5260-483e-95b3-86bd906ca846",
   "metadata": {},
   "outputs": [
    {
     "name": "stdout",
     "output_type": "stream",
     "text": [
      "\"\n",
      "Hi \n",
      "Good Morning\n",
      "!!\n",
      "\n",
      "\"\n",
      "Hi \n",
      "Good Morning\n",
      "!!\n",
      "\n"
     ]
    }
   ],
   "source": [
    "#The line that variable 's' holds initializes a string variable s with a multiline string. The string contains three lines: \"Hi\", \"Good Morning\", and \"!!\", \n",
    "#each separated by newline characters.\n",
    "\n",
    "\n",
    "s=\"\"\"\"\n",
    "Hi \n",
    "Good Morning\n",
    "!!\n",
    "\"\"\"\n",
    "\n",
    "#Below line prints the entire string s, including the newline characters.\n",
    "\n",
    "print(s)\n",
    "# below line starts a loop that iterates over each element obtained by splitting the string s using the newline character ('\\n') as the separator.\n",
    "for i in s.split('\\n'):\n",
    "    print(i)\n",
    "#Above line prints each element obtained from splitting the string s. In this case, it will print each line of the original multiline string separately."
   ]
  },
  {
   "cell_type": "markdown",
   "id": "51469750-9b90-42ff-b333-1349789e0884",
   "metadata": {},
   "source": [
    "### 3. Write a program that take Student_Number, Name, \n",
    "Branch and University from user. Print the read details."
   ]
  },
  {
   "cell_type": "code",
   "execution_count": 1,
   "id": "54c11a7d-2dde-45ac-b8cc-32920b609101",
   "metadata": {},
   "outputs": [
    {
     "name": "stdin",
     "output_type": "stream",
     "text": [
      "Please enter Student number :  43\n",
      "Please enter the Name :  Narendra Tripathi\n",
      "Please enter the Branch :  E and E\n",
      "Please enter the University :  BHU\n"
     ]
    },
    {
     "name": "stdout",
     "output_type": "stream",
     "text": [
      "Entered Details :\n",
      "\n",
      "\tStudent number :  43\n",
      "\tStudent Name :  Narendra Tripathi\n",
      "\tStudent Branch :  E and E\n",
      "\tStudent University :  BHU\n"
     ]
    }
   ],
   "source": [
    "Student_Number=int(input(\"Please enter Student number : \"))  \n",
    "#above line prompts the user to enter a student number and reads the input as a string using the input() function. Then, it converts the input into an \n",
    "#integer using the int() function and assigns it to the variable Student_Number.\n",
    "\n",
    "Name=input(\"Please enter the Name : \")       \n",
    "#line prompts the user to enter the student's name and reads the input as a string using the input() function.\n",
    "#It assigns the entered string to the variable Name.\n",
    "\n",
    "Branch=input(\"Please enter the Branch : \")      \n",
    "# This line prompts the user to enter the student's branch and reads the input as a string using the input() function. \n",
    "#It assigns the entered string to the variable Branch.\n",
    "\n",
    "University=input(\"Please enter the University : \") \n",
    "# This line prompts the user to enter the student's university and reads the input as a string using the input() function.\n",
    "#It assigns the entered string to the variable University.\n",
    "\n",
    "print(\"Entered Details :\\n\")\n",
    "#This line prints the message \"Entered Details :\" followed by a newline character ('\\n'), creating a line break for better readability.\n",
    "\n",
    "print(\"\\tStudent number : \",Student_Number)\n",
    "# This line prints the label \"Student number :\" followed by the value stored in the variable Student_Number. \n",
    "#The '\\t' character represents a tab space for indentation.\n",
    "\n",
    "print(\"\\tStudent Name : \",Name)\n",
    "# This line prints the label \"Student Name :\" followed by the value stored in the variable Name.\n",
    "\n",
    "print(\"\\tStudent Branch : \",Branch)\n",
    "#This line prints the label \"Student Branch :\" followed by the value stored in the variable Branch.\n",
    "\n",
    "print(\"\\tStudent University : \",University)\n",
    "#This line prints the label \"Student University :\" followed by the value stored in the variable University."
   ]
  },
  {
   "cell_type": "markdown",
   "id": "6fc77d34-a4ae-4afa-86ec-0b3eabcaa2d7",
   "metadata": {},
   "source": [
    "### 4. Create a module consisting of 2 functions \n",
    "\"area_Rectangle\", \"area_Square\". Import the module and \n",
    "perform the following operations:\n",
    "1. Calculate the area of Square only by importing only one method.\n",
    "2. Calculate the area of Rectangle only by importing only one method.\n",
    "3. Calculate the area of Square and Rectangle by importing complete module."
   ]
  },
  {
   "cell_type": "code",
   "execution_count": 4,
   "id": "496cfbc8-6e1a-49f1-92fb-5732fc82ece5",
   "metadata": {},
   "outputs": [
    {
     "name": "stdin",
     "output_type": "stream",
     "text": [
      "Please enter the length :  21\n",
      "Please enter the bredth :  22\n"
     ]
    },
    {
     "name": "stdout",
     "output_type": "stream",
     "text": [
      "Area of rectriangle :  462.0\n"
     ]
    },
    {
     "name": "stdin",
     "output_type": "stream",
     "text": [
      "Please enter the length of square side :  3\n"
     ]
    },
    {
     "name": "stdout",
     "output_type": "stream",
     "text": [
      "Area of Square :  9.0\n"
     ]
    }
   ],
   "source": [
    "# In AreaSqRect.py\n",
    "def area_Rectangle():\n",
    "    l=float(input(\"Please enter the length : \"))\n",
    "    b=float(input(\"Please enter the bredth : \"))\n",
    "    area=l*b\n",
    "    return area\n",
    "#1.Function Definition:\n",
    "#This function area_Rectangle() calculates the area of a rectangle.\n",
    "#It prompts the user to enter the length and breadth of the rectangle, converts the input strings to floats, calculates the area, and returns it.\n",
    "\n",
    "def area_Square():\n",
    "    s=float(input(\"Please enter the length of square side : \"))\n",
    "    area=s*s\n",
    "    return area\n",
    "#This function area_Square() calculates the area of a square. \n",
    "#It prompts the user to enter the length of a side of the square, converts the input string to a float, calculates the area, and returns it.\n",
    "\n",
    "#2. Main Function Definition:\n",
    "#This function SqRectArea() serves as the main function.\n",
    "#It calls the area_Rectangle() function to calculate the area of a rectangle, stores the result in a1, and prints it. \n",
    "#Then, it calls the area_Square() function to calculate the area of a square, stores the result in a2, and prints it.\n",
    "\n",
    "\n",
    "# In AreaSqRectMain.py\n",
    "def SqRectArea():\n",
    "    a1=area_Rectangle()\n",
    "    print(\"Area of rectriangle : \",a1)\n",
    "    a2=area_Square()\n",
    "    print(\"Area of Square : \",a2)\n",
    "\n",
    "#3.Function Call:\n",
    "#This line calls the SqRectArea() function, which in turn calls the area_Rectangle() and area_Square() functions, calculates the areas, and prints them.\n",
    "SqRectArea()"
   ]
  },
  {
   "cell_type": "markdown",
   "id": "65ad3553-2a1e-4f0e-8de9-e6d93e0eaca1",
   "metadata": {},
   "source": [
    "### 5. Python program to demonstrate if, elif and else by \n",
    "checking larges of three numbers"
   ]
  },
  {
   "cell_type": "code",
   "execution_count": 6,
   "id": "0137562b-4474-4e2e-adb2-fac8fda3d611",
   "metadata": {},
   "outputs": [
    {
     "name": "stdout",
     "output_type": "stream",
     "text": [
      "Using if and elif -\t\n",
      "23  : is Greater\n"
     ]
    }
   ],
   "source": [
    "#1.Variable Initialization:\n",
    "#These lines initialize three variables a, b, and c with the values 8, 23, and 17 respectively.\n",
    "\n",
    "a=8\n",
    "b=23\n",
    "c=17\n",
    "\n",
    "#2. Printing Section:\n",
    "#This line prints a message indicating the method used to find the greatest number. It adds a tab space ('\\t') for formatting.\n",
    "print(\"Using if and elif -\\t\")\n",
    "\n",
    "#3.Comparison using if, elif, and else:\n",
    "#The if statement checks if a is greater than or equal to both b and c. If this condition is true, it prints that a is the greatest number.\n",
    "#The elif (else if) statement checks if b is greater than or equal to both c and b. \n",
    "#This condition is incorrect; it should be elif (b >= c and b >= a). However, due to the typo, it compares b with itself,\n",
    "#which will always evaluate to true. So, it prints that b is the greatest number.\n",
    "#The else statement executes if none of the above conditions are true. It means that c is the greatest number among the three.\n",
    "if(a>=b and a>=c):\n",
    "    print(a,\" : is Greater\")\n",
    "\n",
    "elif(b>=c and  b>=c):\n",
    "    print(b,\" : is Greater\")\n",
    "else:\n",
    "    print(c,\" : is Greater\")"
   ]
  },
  {
   "cell_type": "markdown",
   "id": "cdad95e8-db1c-487a-81ed-af3bd3c6cf2f",
   "metadata": {},
   "source": [
    "### 6. Program to check whether a number is perfect or not"
   ]
  },
  {
   "cell_type": "code",
   "execution_count": 8,
   "id": "f473d5ce-b4e2-4c1b-a44c-ac855dbe36c9",
   "metadata": {},
   "outputs": [
    {
     "name": "stdout",
     "output_type": "stream",
     "text": [
      "6  : is a perfect number\n"
     ]
    }
   ],
   "source": [
    "#1. Variable Initialization\n",
    "#These lines initialize two variables: n is assigned the value 6, and s is assigned the initial value 0.\n",
    "#n represents the number we are checking for perfection, and s will accumulate the sum of its factors.\n",
    "\n",
    "n=6\n",
    "s=0\n",
    "\n",
    "#2. Loop through Numbers:\n",
    "#This line initiates a loop that iterates over the numbers from 1 to n, inclusive. The loop variable i takes on each of these values one by one.\n",
    "for i in range(1,n+1):\n",
    "    \n",
    "#3. Check for Factors:\n",
    "#Inside the loop, this line checks if n is divisible evenly by the current value of i (i.e., if i is a factor of n). \n",
    "#If the remainder of the division is 0, it means i is a factor of n.\n",
    "    if(n%i==0):\n",
    "        \n",
    "#4. Accumulate Factor Sum:\n",
    "# If i is a factor of n, its value is added to the variable s. This accumulation process computes the sum of all the factors of n.\n",
    "         s=s+i\n",
    "       \n",
    "#5. Check for Perfect Number:\n",
    "#After the loop, this line checks if the sum of the factors (s) is equal to twice the original number n. \n",
    "#In a perfect number, the sum of its factors (excluding itself) equals the number itself.\n",
    "#If the sum of factors equals n * 2, the number is perfect, so it prints that n is a perfect number.\n",
    "#If the sum of factors does not equal n * 2, it means the number is not perfect, so it prints that n is not a perfect number.\n",
    "if(s==(n*2)):\n",
    "    print(n,\" : is a perfect number\")\n",
    "else:\n",
    "    print(n,\" : is not a perfect number\")\n",
    "\n"
   ]
  },
  {
   "cell_type": "markdown",
   "id": "ca6e67db-3b02-4410-b57e-b7b54da85066",
   "metadata": {},
   "source": [
    "### 7. Read a multiword string and print them in alphabetical order"
   ]
  },
  {
   "cell_type": "code",
   "execution_count": 10,
   "id": "196e3afa-6f81-445c-b6e7-3a82adf5172c",
   "metadata": {},
   "outputs": [
    {
     "name": "stdout",
     "output_type": "stream",
     "text": [
      "Before sorting :  mounika\n",
      "After sorting :  aikmnou\n"
     ]
    }
   ],
   "source": [
    "#1.Variable Initialization and Initial Output:\n",
    "#s1 is assigned the string \"mounika\".\n",
    "#The program prints \"Before sorting : \" followed by the lowercase version of s1, achieved by using the lower() method on the string.#\n",
    "s1=\"mounika\"\n",
    "print(\"Before sorting : \",s1.lower())\n",
    "\n",
    "#2.Sorting the Characters:\n",
    "#s1.lower() converts the string s1 to lowercase.\n",
    "#The list comprehension [i for i in s1.lower()] creates a list s2 containing each character of the lowercase string s1. \n",
    "#Essentially, it splits the string into individual characters.\n",
    "#s2.sort() sorts the characters in the list s2 in lexicographical order.\n",
    "s2=[i for i in s1.lower()]\n",
    "s2.sort()\n",
    "\n",
    "#3.Reassigning s1:\n",
    "#A new list s1 is created using a list comprehension [i for i in s2]. This step seems redundant as it doesn't change the content or order of s2.\n",
    "s1=[i for i in s2]\n",
    "\n",
    "#4.Reconstructing the String:\n",
    "#A new empty string s is created.\n",
    "#The loop iterates over each character i in the list s1.\n",
    "#In each iteration, the character i is concatenated to the string s.\n",
    "s=\"\"\n",
    "for i in s1:\n",
    "    s=s+i\n",
    "\n",
    "\n",
    "#The program prints \"After sorting : \" followed by the string s, which contains the sorted characters of the original string s1.\n",
    "print(\"After sorting : \",s)\n"
   ]
  },
  {
   "cell_type": "markdown",
   "id": "4c4c074a-ab14-477c-a75b-1a1a85fe470e",
   "metadata": {},
   "source": [
    "### 8. Consider the following dictionary:\n",
    "{ \"i10\":\"Blue\", \"Kushaq\": \"Red\", \"i20\": White\"}\n",
    "1. How many cars are there in the dictionary\n",
    "2. Remove the car i10 from the dictionary\n",
    "3. Change the value of Kushaq to Black"
   ]
  },
  {
   "cell_type": "code",
   "execution_count": 12,
   "id": "b665a8bf-2238-40de-9785-883367222281",
   "metadata": {},
   "outputs": [
    {
     "name": "stdout",
     "output_type": "stream",
     "text": [
      "Dictionary items :  {'i10': 'Blue', 'Kushaq': 'Red', 'i20': 'White'}\n",
      "Length of dictinary items :  3\n",
      "After removing \"i10\" car :  {'Kushaq': 'Red', 'i20': 'White'}\n",
      "After updating color of \"Kushaq\" :  {'Kushaq': 'Black', 'i20': 'White'}\n"
     ]
    }
   ],
   "source": [
    "#1.Dictionary Initialization:\n",
    "#This line creates a dictionary named car with three key-value pairs: \"i10\": \"Blue\", \"Kushaq\": \"Red\", and \"i20\": \"White\".\n",
    "#Each key represents a car model, and each value represents the color of the corresponding car model.\n",
    "#And Then print the message \"Dictionary items : \" followed by the contents of the dictionary car. \n",
    "#It shows all the key-value pairs present in the dictionary.\n",
    "car={\"i10\":\"Blue\", \"Kushaq\": \"Red\", \"i20\": \"White\"}\n",
    "print(\"Dictionary items : \",car)\n",
    "\n",
    "#Then print the message \"Length of dictionary items : \" followed by the length of the dictionary car, \n",
    "#which is the number of key-value pairs present in it.\n",
    "print(\"Length of dictinary items : \",len(car))\n",
    "\n",
    "#2.Removing an Item from Dictionary:\n",
    "# Below line removes the key-value pair with the key \"i10\" from the dictionary car using the pop() method.\n",
    "#After this line executes, the car model \"i10\" and its corresponding color are removed from the dictionary.\n",
    "#Then print the message \"After removing \"i10\" car : \" followed by the updated contents of the dictionary car.\n",
    "#It shows the dictionary after removing the key-value pair with the key \"i10\".\n",
    "car.pop(\"i10\")\n",
    "print(\"After removing \\\"i10\\\" car : \",car)\n",
    "\n",
    "#3.Updating a Value in Dictionary:\n",
    "#This line updates the value associated with the key \"Kushaq\" in the dictionary car to \"Black\". \n",
    "#It changes the color of the car model \"Kushaq\" from \"Red\" to \"Black\".\n",
    "#Then print the message \"After updating color of \"Kushaq\" : \" followed by the updated contents of the dictionary car. \n",
    "#It shows the dictionary after updating the color of the car model \"Kushaq\" to \"Black\".\n",
    "car[\"Kushaq\"]=\"Black\"\n",
    "print(\"After updating color of \\\"Kushaq\\\" : \",car)"
   ]
  },
  {
   "cell_type": "markdown",
   "id": "2ad10d52-414a-437b-8eca-df3eda463e60",
   "metadata": {},
   "source": [
    "### 9. Write a program to sort elements of a tuple"
   ]
  },
  {
   "cell_type": "code",
   "execution_count": 14,
   "id": "21ed47d9-f846-4597-a872-4dde834a5b02",
   "metadata": {},
   "outputs": [
    {
     "name": "stdout",
     "output_type": "stream",
     "text": [
      "(3, 6, 1, 10, 19, 14)\n",
      "('axy', 'hgt', 'kylt')\n",
      "(1, 3, 6, 10, 14, 19)\n",
      "('axy', 'hgt', 'kylt')\n"
     ]
    }
   ],
   "source": [
    "#1.Tuple Initialization:\n",
    "#This initializes two tuples t1 and t2 with values (3, 6, 1, 10, 19, 14) and (\"axy\", \"hgt\", \"kylt\") respectively.\n",
    "#Printing both the tuples individually.\n",
    "t1=(3,6,1,10,19,14)\n",
    "t2=(\"axy\",\"hgt\",\"kylt\")\n",
    "print(t1)\n",
    "print(t2)\n",
    "\n",
    "#2.Converting Tuples to Lists:\n",
    "#We convert tuples to list because tuples are immutable so in order to change elements of tuples we have to convert it into list as lists are mutable.\n",
    "#Below lines convert tuples t1 and t2 into lists l1 and l2 respectively using the list() function.\n",
    "#Then sorting the list in ascending order using sort() method.\n",
    "l1=list(t1)\n",
    "l2=list(t2)\n",
    "l1.sort()\n",
    "l2.sort()\n",
    "\n",
    "#3.Converting Lists back to Tuples:\n",
    "#Below lines convert the sorted lists l1 and l2 back into tuples t1 and t2 respectively using the tuple() function.\n",
    "#And then print the elements of the tuples.\n",
    "t1=tuple(l1)\n",
    "t2=tuple(l2)\n",
    "print(t1)\n",
    "print(t2)"
   ]
  },
  {
   "cell_type": "markdown",
   "id": "cf077e3a-e91f-41f5-8dd0-6f6170ef1596",
   "metadata": {},
   "source": [
    "### 10. Implement contact book using dictionaries name, address, \n",
    "number, locality and city by taking input from user"
   ]
  },
  {
   "cell_type": "code",
   "execution_count": 6,
   "id": "38024627-b7e2-4245-af06-013a11f58d16",
   "metadata": {},
   "outputs": [
    {
     "name": "stdin",
     "output_type": "stream",
     "text": [
      " Narendra\n",
      " CDAC\n",
      " 83769\n",
      " Cdac Hostel\n",
      " Banglore\n"
     ]
    },
    {
     "name": "stdout",
     "output_type": "stream",
     "text": [
      "{'name': 'Narendra', 'address': 'CDAC', 'number': '83769', 'locality': 'Cdac Hostel', 'city': 'Banglore'}\n"
     ]
    }
   ],
   "source": [
    "#1.Dictionary Initialization:\n",
    "#The line initializes an empty dictionary named book using curly braces {}.\n",
    "book={}\n",
    "\n",
    "\n",
    "#2.Updating Dictionary with User Input:\n",
    "#These lines prompt the user to input information about a book, including the name, address, number, locality, and city. \n",
    "#The input() function is used to obtain user input, and the update() method is used to add key-value pairs to the dictionary book. \n",
    "#Each update() call adds a single key-value pair to the dictionary, with the key specified (e.g., \"name\", \"address\") and the value obtained from the user input.\n",
    "#After all the user inputs are collected and stored in the book dictionary\n",
    "#print() function prints the entire contents of the book dictionary. It displays all the key-value pairs entered by the user.\n",
    "book.update({\"name\":input()})\n",
    "book.update({\"address\":input()})\n",
    "book.update({\"number\":input()})\n",
    "book.update({\"locality\":input()})\n",
    "book.update({\"city\":input()})\n",
    "print(book)"
   ]
  },
  {
   "cell_type": "markdown",
   "id": "af42d6b7-08b5-434c-bfa4-0e7551cb807c",
   "metadata": {},
   "source": [
    "###  11. Write a python program to create dictionary, list, tuple with the \n",
    "following details: [id, name, job role, joining date]\n",
    "Perform the following opeartions:\n",
    "1. Add 5 employee to each\n",
    "2. Check senior most employee\n",
    "3. Add new employee to the record\n",
    "4. Sort the employee by name\n",
    "5. Remove an employee from the record\n",
    "6. Use function that takes 3 parameter and display prefix, fname and\n",
    "lname of the employee\n",
    "7. Print the employee with salary above 80,000"
   ]
  },
  {
   "cell_type": "code",
   "execution_count": 16,
   "id": "7e68dfbf-6051-415c-b174-87c6486ce3b3",
   "metadata": {},
   "outputs": [
    {
     "name": "stdout",
     "output_type": "stream",
     "text": [
      "Emp Employee 1: 1, Role 1, 2024-05-02\n",
      "Emp Employee 1: 1, Role 1, 2024-05-02\n",
      "[{'id': 1, 'name': 'Employee 1', 'job_role': 'Role 1', 'joining_date': '2024-05-02'}, {'id': 2, 'name': 'Employee 2', 'job_role': 'Role 2', 'joining_date': '2024-05-02'}, {'id': 4, 'name': 'Employee 4', 'job_role': 'Role 4', 'joining_date': '2024-05-02'}, {'id': 5, 'name': 'Employee 5', 'job_role': 'Role 5', 'joining_date': '2024-05-02'}, {'id': 6, 'name': 'New Employee', 'job_role': 'New Role', 'joining_date': '2024-05-02'}]\n"
     ]
    }
   ],
   "source": [
    "\n",
    "#1. Function create_employee_record:\n",
    "#This function takes in employee details such as ID, name, job role, and joining date, and returns a dictionary representing an employee record.\n",
    "def create_employee_record(id, name, job_role, joining_date):\n",
    "    return {'id': id, 'name': name, 'job_role': job_role, 'joining_date': joining_date}\n",
    "\n",
    "#2. Initialization of Empty Dictionary, List, and Tuple:\n",
    "#Below lines initialize an empty dictionary emp_dict, an empty list emp_list, and an empty tuple emp_tuple.\n",
    "emp_dict = {}\n",
    "emp_list = []\n",
    "emp_tuple = ()\n",
    "\n",
    "#3.Function add_employee:\n",
    "#This function adds an employee record to the dictionary, list, and tuple. It also updates the global emp_tuple variable to add the new employee record.\n",
    "def add_employee(id, name, job_role, joining_date):\n",
    "    emp = create_employee_record(id, name, job_role, joining_date)\n",
    "    emp_dict[id] = emp\n",
    "    emp_list.append(emp)\n",
    "    global emp_tuple\n",
    "    emp_tuple += (emp,)\n",
    "\n",
    "\n",
    "#4.Adding 5 Employees:\n",
    "#This loop adds 5 employees to the dictionary, list, and tuple using the add_employee function.\n",
    "for i in range(1, 6):\n",
    "    add_employee(i, f\"Employee {i}\", f\"Role {i}\", f\"2024-05-02\")\n",
    "\n",
    "\n",
    "#5.Function senior_employee:\n",
    "#This function returns the employee with the maximum joining date from the list of employees.\n",
    "def senior_employee():\n",
    "    return max(emp_list, key=lambda emp: emp['joining_date'])\n",
    "\n",
    "#6. Add new employee\n",
    "#This line adds a new employee to the dictionary, list, and tuple using the add_employee function\n",
    "add_employee(6, \"New Employee\", \"New Role\", \"2024-05-02\")\n",
    "\n",
    "#7. Sort employees by name\n",
    "#This line sorts the list of employees by their names in ascending order.\n",
    "emp_list.sort(key=lambda emp: emp['name'])\n",
    "\n",
    "#8. Remove an employee\n",
    "#These lines remove the employee with ID 3 from the dictionary, list, and tuple.\n",
    "del emp_dict[3]\n",
    "emp_list = [emp for emp in emp_list if emp['id'] != 3]\n",
    "emp_tuple = tuple(emp for emp in emp_tuple if emp['id'] != 3)\n",
    "\n",
    "\n",
    "#9. Function to display employee details\n",
    "#This function displays details of employees whose names match the provided prefix, first name, and last name.\n",
    "def display_employee_details(prefix, fname, lname):\n",
    "    for emp in emp_list:\n",
    "        if emp['name'].startswith(prefix) and emp['name'].split()[0] == fname and emp['name'].split()[-1] == lname:\n",
    "            print(f\"{prefix} {fname} {lname}: {emp['id']}, {emp['job_role']}, {emp['joining_date']}\")\n",
    "            \n",
    "#10. Sample usage of display_employee_details function\n",
    "#This line displays details of employees whose names start with \"Emp\", have \"Employee\" as the first name, and \"1\" as the last name.\n",
    "display_employee_details(\"Emp\", \"Employee\", \"1\")\n",
    "\n",
    "#11. Print the employee with salary above 80,000 (not provided, assuming salary attribute)\n",
    "#This line prints the list of employees after all the modifications made to it.\n",
    "\"\"\"\"for emp in emp_list:\n",
    "     if emp['salary'] > 80000:\n",
    "         print(emp['name'])\"\"\"\n",
    "\n",
    "# Sample usage of display_employee_details function\n",
    "display_employee_details(\"Emp\", \"Employee\", \"1\")\n",
    "print(emp_list)\n"
   ]
  },
  {
   "cell_type": "markdown",
   "id": "0c6e10f7-a573-4a2c-a15d-69c5772cf081",
   "metadata": {},
   "source": [
    "### 12. Program to demonstrate fibonacci series using recursion"
   ]
  },
  {
   "cell_type": "code",
   "execution_count": 17,
   "id": "987db4cf-a04c-41de-a76d-64b3b8b5e736",
   "metadata": {},
   "outputs": [
    {
     "name": "stdout",
     "output_type": "stream",
     "text": [
      "0\n",
      "1\n",
      "1\n",
      "2\n",
      "3\n",
      "5\n",
      "8\n",
      "13\n"
     ]
    }
   ],
   "source": [
    "#This function f1(n2) calculates the nth Fibonacci number recursively using the Fibonacci sequence definition: F(n) = F(n-1) + F(n-2).\n",
    "#It takes an integer n2 as input.\n",
    "#If n2 is less than or equal to 1, it returns n2.\n",
    "#Otherwise, it recursively calls itself with n2 - 1 and n2 - 2, and returns the sum of the results of these recursive calls.\n",
    "def f1(n2):\n",
    "    if n2<=1:\n",
    "        return n2\n",
    "    else:\n",
    "        return f1(n2-1)+f1(n2-2)\n",
    "\n",
    "\n",
    "#Function f2(n1):\n",
    "#This function f2(n1) iterates over a range of numbers from 0 to n1 - 1 and prints the Fibonacci number corresponding to each index.\n",
    "#For each index i, it calls the function f1(i) to calculate the Fibonacci number at that index and prints the result.\n",
    "def f2(n1):\n",
    "    for i in range(n1):\n",
    "        print(f1(i))\n",
    "\n",
    "#Main Part:\n",
    "#The variable r is assigned the value 8.\n",
    "#The function f2(r) is called with the value of r as an argument.\n",
    "#This will print the Fibonacci numbers up to the 7th index (since the range is from 0 to r - 1).\n",
    "r=8\n",
    "f2(r)"
   ]
  }
 ],
 "metadata": {
  "kernelspec": {
   "display_name": "Python 3 (ipykernel)",
   "language": "python",
   "name": "python3"
  },
  "language_info": {
   "codemirror_mode": {
    "name": "ipython",
    "version": 3
   },
   "file_extension": ".py",
   "mimetype": "text/x-python",
   "name": "python",
   "nbconvert_exporter": "python",
   "pygments_lexer": "ipython3",
   "version": "3.11.7"
  }
 },
 "nbformat": 4,
 "nbformat_minor": 5
}
