{
 "cells": [
  {
   "cell_type": "code",
   "execution_count": 3,
   "id": "c8eadaf6-6c8b-4aa6-b35d-20384106f322",
   "metadata": {},
   "outputs": [
    {
     "name": "stdout",
     "output_type": "stream",
     "text": [
      "one condition is true\n"
     ]
    }
   ],
   "source": [
    "#Here, we're assigning the value 100 to the variable x.\n",
    "x = 100\n",
    "#Similarly, this line initializes the variable y with the value 20.\n",
    "y = 20\n",
    "#Again, this line initializes the variable z with the value 200.\n",
    "z = 200\n",
    "#This line introduces a conditional statement. \n",
    "#It checks if either of the two conditions is true: either x is greater than y, or x is greater than z.\n",
    "#If the condition in the if statement evaluates to True, this line prints the string \"one condition is true\" to the console.\n",
    "if x>y or x>z:\n",
    "    print(\"one condition is true\")"
   ]
  },
  {
   "cell_type": "code",
   "execution_count": 6,
   "id": "330fedd8-5ac3-4c05-852e-a5708a928a4f",
   "metadata": {},
   "outputs": [
    {
     "name": "stdout",
     "output_type": "stream",
     "text": [
      "x=y\n"
     ]
    }
   ],
   "source": [
    "#This line initializes the variable x with the value 100.\n",
    "x = 100\n",
    "\n",
    "\n",
    "#Similarly, this line initializes the variable y with the value 100.\n",
    "y = 100\n",
    "\n",
    "\n",
    "\n",
    "#print(\"x>y\") if x>y: This part checks if x is greater than y. If this condition is true, it prints \"x>y\".\n",
    "#else print(\"x=y\") if x==y: If the first condition is false (i.e., if x is not greater than y), this part checks if x is equal to y.\n",
    "#If this condition is true, it prints \"x=y\".\n",
    "#else print(\"x<y\"): If both the above conditions are false (i.e., if x is neither greater than nor equal to y), it prints \"x<y\".\n",
    "#So, depending on the values of x and y, it will print one of these three messages:\n",
    "#\"x>y\" if x is greater than y.\n",
    "#\"x=y\" if x is equal to y.\n",
    "#\"x<y\" if x is less than y.\n",
    "\n",
    "\n",
    "\n",
    "print(\"x>y\") if x>y else print(\"x=y\") if x==y else print (\"x<y\")"
   ]
  },
  {
   "cell_type": "code",
   "execution_count": 7,
   "id": "73bcac90-f452-4eb5-bc9f-6b07f60d6833",
   "metadata": {},
   "outputs": [
    {
     "name": "stdout",
     "output_type": "stream",
     "text": [
      "a<b\n"
     ]
    }
   ],
   "source": [
    "#This line initializes the variable a with the value 10.\n",
    "a = 10\n",
    "\n",
    "\n",
    "#Similarly, this line initializes the variable b with the value 20.\n",
    "b= 20\n",
    "\n",
    "\n",
    "#This line introduces a conditional statement. The not keyword here negates the condition that follows it.\n",
    "#So, a > b is the condition being evaluated. \n",
    "#If a is not greater than b, the condition is considered true.\n",
    "#If the condition in the if statement evaluates to True, this line prints the string \"a<b\" to the console.\n",
    "if not a>b:\n",
    "    print(\"a<b\")"
   ]
  },
  {
   "cell_type": "code",
   "execution_count": 10,
   "id": "9ceafe2e-9e71-417e-9800-78ab2fd2024a",
   "metadata": {},
   "outputs": [
    {
     "name": "stdout",
     "output_type": "stream",
     "text": [
      "x>20\n",
      "x>30\n"
     ]
    }
   ],
   "source": [
    "#This line initializes the variable x with the value 40.\n",
    "x = 40\n",
    "\n",
    "\n",
    "#This line introduces a conditional statement. It checks if the value of x is greater than 20.\n",
    "#If the condition in the if statement evaluates to True (which it does, since x is indeed greater than 20), this line prints the string \"x>20\" to the console.\n",
    "if x>20:\n",
    "    print(\"x>20\")\n",
    "\n",
    "    \n",
    "    #Inside the previous if block, this line introduces another nested conditional statement. \n",
    "#It checks if the value of x is greater than 30.\n",
    "#f the condition in this nested if statement evaluates to True, this line prints the string \"x>30\" to the console. \n",
    "#In this case, since x is indeed greater than 30, this line executes.\n",
    "    if (x>30):\n",
    "        print(\"x>30\")\n",
    "        \n",
    "#If the condition in the outer if statement (if x > 20) evaluates to False, this block of code executes.\n",
    "#However, since x is greater than 20, this else block will not execute in this scenario.\n",
    "else:  \n",
    "    print(\"x>20 but not 30\")"
   ]
  },
  {
   "cell_type": "code",
   "execution_count": 13,
   "id": "48ce0475-761b-47f3-a596-ce82894607af",
   "metadata": {},
   "outputs": [
    {
     "name": "stdout",
     "output_type": "stream",
     "text": [
      "car\n"
     ]
    }
   ],
   "source": [
    "#This line initializes a list named vehicles containing three strings: \"car\", \"bus\", and \"auto\".\n",
    "vehicles = [\"car\", \"bus\", \"auto\"]\n",
    "\n",
    "#This line initiates a loop that iterates over each element in the vehicles list. \n",
    "#For each iteration, the current element is assigned to the variable x.\n",
    "#Within the loop, this line checks if the current element x is equal to \"bus\".\n",
    "#If the condition in the if statement is true (i.e., if x is equal to \"bus\"), the break statement is executed.\n",
    "#This causes the loop to terminate immediately.\n",
    "for x in vehicles:\n",
    "    if (x==\"bus\"):\n",
    "        break\n",
    "    print(x)\n",
    "    \n",
    "#this code iterates over each element in the vehicles list. \n",
    "#If it encounters the string \"bus\", it stops iterating. Otherwise, it prints each element of the list until it reaches \"bus\"."
   ]
  },
  {
   "cell_type": "code",
   "execution_count": 14,
   "id": "f25cc510-1163-42e2-a436-e1c94dcaf995",
   "metadata": {
    "scrolled": true
   },
   "outputs": [
    {
     "name": "stdout",
     "output_type": "stream",
     "text": [
      "car\n",
      "auto\n"
     ]
    }
   ],
   "source": [
    "#This line initializes a list named vehicles containing three strings: \"car\", \"bus\", and \"auto\".\n",
    "vehicles = [\"car\", \"bus\", \"auto\"]\n",
    "\n",
    "\n",
    "#This line initiates a loop that iterates over each element in the vehicles list. \n",
    "#For each iteration, the current element is assigned to the variable x.\n",
    "#Within the loop, this line checks if the current element x is equal to \"bus\".\n",
    "#If the condition in the if statement is true (i.e., if x is equal to \"bus\"), the continue statement is executed. \n",
    "#This causes the loop to skip the rest of the code inside the loop for the current iteration and move to the next iteration.\n",
    "for x in vehicles:\n",
    "    if (x==\"bus\"):\n",
    "        continue\n",
    "    print(x)\n",
    "\n",
    "    \n",
    "#If the condition in the if statement is false (i.e., if x is not equal to \"bus\"),print() line prints the current element x to the console."
   ]
  },
  {
   "cell_type": "code",
   "execution_count": 15,
   "id": "08aa1858-6645-4354-b663-bc8797b48649",
   "metadata": {},
   "outputs": [
    {
     "name": "stdout",
     "output_type": "stream",
     "text": [
      "1\n",
      "2\n",
      "3\n",
      "4\n",
      "5\n",
      "6\n",
      "7\n",
      "8\n",
      "9\n"
     ]
    }
   ],
   "source": [
    "#This line initiates a loop using the for keyword. It iterates over a sequence of numbers generated by the range() function.\n",
    "#In this case, the loop will iterate over numbers from 1 to 9 (inclusive). \n",
    "#The range(1, 10) function generates a sequence of numbers starting from 1 and ending before 10.\n",
    "#Within the loop, it prints the current value of x to the console in each iteration.\n",
    "for x in range(1,10):\n",
    "    print(x)"
   ]
  },
  {
   "cell_type": "code",
   "execution_count": 16,
   "id": "dbaad44e-f0b3-4844-8868-c1b4fa4873e8",
   "metadata": {},
   "outputs": [
    {
     "name": "stdout",
     "output_type": "stream",
     "text": [
      "0\n",
      "2\n",
      "4\n",
      "6\n",
      "8\n"
     ]
    }
   ],
   "source": [
    "#This line initiates a loop using the for keyword. It iterates over a sequence of numbers generated by the range() function. \n",
    "#In this case, the loop will iterate over numbers starting from 0 up to, but not including, 10, with a step size of 2. \n",
    "#So, it will iterate over 0, 2, 4, 6, and 8.\n",
    "#Within the loop, it prints the current value of x to the console in each iteration.\n",
    "for x in range (0,10,2):\n",
    "    print(x)"
   ]
  },
  {
   "cell_type": "code",
   "execution_count": 18,
   "id": "d39f85e3-2cf2-42ac-b205-c954a8e8a86c",
   "metadata": {},
   "outputs": [
    {
     "name": "stdout",
     "output_type": "stream",
     "text": [
      "0\n",
      "1\n",
      "2\n"
     ]
    }
   ],
   "source": [
    "#This line initiates a loop using the for keyword. It iterates over a sequence of numbers generated by the range() function. \n",
    "#In this case, the loop will iterate over numbers from 0 to 5 (inclusive), as the range function defaults to starting from 0 if only one argument is provided.\n",
    "#Within the loop, it checks if the current value of x is equal to 3.\n",
    "#If the condition in the if statement is true (i.e., if x is equal to 3), the break statement is executed. \n",
    "#This causes the loop to terminate immediately.\n",
    "#If the condition in the if statement is false (i.e., if x is not equal to 3),it prints the current value of x to the console.\n",
    "for x in range (6):\n",
    "    if x==3:\n",
    "        break\n",
    "    print(x)\n",
    "    \n",
    "    \n",
    "#The else block here is associated with the for loop.\n",
    "#If the loop completes all its iterations without encountering a break statement, then the else block will execute. \n",
    "#In this case, it prints \"loop is completed\" to the console.\n",
    "#However, since the break statement is encountered when x equals 3, the loop doesn't complete all its iterations, and the else block won't execute.\n",
    "else:\n",
    "        print(\"loop is completed\")\n",
    "        "
   ]
  },
  {
   "cell_type": "code",
   "execution_count": 19,
   "id": "9766afc6-d304-4e37-b059-d1689cf8db04",
   "metadata": {},
   "outputs": [
    {
     "name": "stdout",
     "output_type": "stream",
     "text": [
      "red car\n",
      "red bus\n",
      "red auto\n",
      "yellow car\n",
      "yellow bus\n",
      "yellow auto\n",
      "orange car\n",
      "orange bus\n",
      "orange auto\n"
     ]
    }
   ],
   "source": [
    "#color = [\"red\", \"yellow\", \"orange\"]: This line initializes a list named color containing three strings: \"red\", \"yellow\", and \"orange\".\n",
    "#vehicles = [\"car\", \"bus\", \"auto\"]: This line initializes a list named vehicles containing three strings: \"car\", \"bus\", and \"auto\".\n",
    "\n",
    "color = [\"red\", \"yellow\", \"orange\"]\n",
    "vehicles = [\"car\", \"bus\", \"auto\"]\n",
    "\n",
    "\n",
    "#The outer loop iterates through each element in the color list.\n",
    "#For each iteration of the outer loop, the inner loop iterates through each element in the vehicles list.\n",
    "#Inside the nested loops, the print(x, y) statement prints each combination of color and vehicles.\n",
    "for x in color:\n",
    "    for y in vehicles:\n",
    "        print(x,y)\n",
    "        \n",
    "        \n",
    "#The output will consist of all possible combinations of colors and vehicles.\n",
    "#For each color in the color list, there will be a combination with each vehicle in the vehicles list.\n",
    "#So, for each color, the program will print all the vehicles in the vehicles list, and this process repeats for each color in the color list."
   ]
  },
  {
   "cell_type": "code",
   "execution_count": 20,
   "id": "54283276-ab95-49b8-b8f6-968cb0509c33",
   "metadata": {},
   "outputs": [
    {
     "name": "stdout",
     "output_type": "stream",
     "text": [
      "1\n",
      "2\n",
      "3\n",
      "4\n",
      "5\n"
     ]
    }
   ],
   "source": [
    "#i = 1: This line initializes a variable i with the value 1.\n",
    "i = 1\n",
    "\n",
    "#The while loop begins with the condition i < 6.\n",
    "#The loop executes as long as the condition i < 6 evaluates to True.\n",
    "#print(i): This line prints the current value of i to the console.\n",
    "#i += 1: This line increments the value of i by 1.\n",
    "#This ensures that the loop eventually terminates by making i greater than or equal to 6.\n",
    "while i<6:\n",
    "    print(i)\n",
    "    i+=1\n",
    "    \n",
    "    \n",
    "#The loop continues to execute as long as i is less than 6.\n",
    "#Once i becomes 6 or greater, the condition i < 6 becomes False, and the loop terminates.\n",
    "#During each iteration of the loop, the value of i is printed to the console.\n",
    "#The loop starts with i equal to 1 and continues until i reaches 5.\n",
    "#Therefore, the output of the loop will be the numbers 1 through 5 printed each on a separate line."
   ]
  },
  {
   "cell_type": "code",
   "execution_count": 24,
   "id": "84fd70bf-2900-4611-ad5d-7c4bc02334fb",
   "metadata": {},
   "outputs": [
    {
     "name": "stdout",
     "output_type": "stream",
     "text": [
      "hello world\n"
     ]
    }
   ],
   "source": [
    "#message = \"hello world\": This line initializes a variable named message with the string value \"hello world\".\n",
    "#print(message): This line prints the value stored in the variable message to the console.\n",
    "#When the print() function is executed, it outputs the string stored in the message variable, which is \"hello world\".\n",
    "\n",
    "\n",
    "message = \"hello world\"\n",
    "print(message)"
   ]
  },
  {
   "cell_type": "code",
   "execution_count": 25,
   "id": "608444cf-3df8-4dde-baa5-c6761fa41b54",
   "metadata": {},
   "outputs": [
    {
     "name": "stdout",
     "output_type": "stream",
     "text": [
      "hi\n",
      "hello\n",
      "welcome\n"
     ]
    }
   ],
   "source": [
    "#message = '''hi\\nhello\\nwelcome''': This line initializes a variable named message with a multi-line string. The string contains three lines separated by newline characters (\\n). The triple quotes (''') are used to denote a multi-line string literal in Python.\n",
    "#print(message): This line prints the value stored in the variable message to the console.\n",
    "#When the print() function is executed, it outputs the multi-line string stored in the message variable.\n",
    "#The output will display each line of the string on a separate line\n",
    "\n",
    "message = '''hi\n",
    "hello\n",
    "welcome'''\n",
    "print(message)"
   ]
  },
  {
   "cell_type": "code",
   "execution_count": 26,
   "id": "c0afc82a-5845-4dd3-8393-8fe01edaa6a7",
   "metadata": {},
   "outputs": [
    {
     "name": "stdout",
     "output_type": "stream",
     "text": [
      "e\n"
     ]
    }
   ],
   "source": [
    "#msg = \"hello\": This line initializes a variable named msg with the string value \"hello\".\n",
    "\n",
    "#msg[1]: This line accesses the character at index 1 in the string stored in the variable msg. In Python, indexing starts at 0, so index 1 corresponds to the second character in the string.\n",
    "\n",
    "#print(msg[1]): This line prints the character at index 1 of the string stored in the variable msg to the console.\n",
    "\n",
    "#When the print() function is executed, it outputs the character at index 1 of the string \"hello\", which is \"e\".\n",
    "\n",
    "\n",
    "\n",
    "msg = \"hello\"\n",
    "print (msg[1])"
   ]
  },
  {
   "cell_type": "code",
   "execution_count": 27,
   "id": "401fd6dc-1781-4e88-a49b-f0377fe71db9",
   "metadata": {},
   "outputs": [
    {
     "name": "stdout",
     "output_type": "stream",
     "text": [
      "5\n"
     ]
    }
   ],
   "source": [
    "#message = \"hello\": This line initializes a variable named message with the string value \"hello\".\n",
    "#len(message): This line calculates the length of the string stored in the variable message. In Python, the len() function returns the number of characters in a string.\n",
    "#print(len(message)): This line prints the length of the string stored in the variable message to the console.\n",
    "#When the print() function is executed, it outputs the length of the string \"hello\", which is 5 characters.\n",
    "\n",
    "\n",
    "\n",
    "message = \"hello\"\n",
    "print(len(message))"
   ]
  },
  {
   "cell_type": "code",
   "execution_count": 31,
   "id": "954b98c0-64f5-4582-bd40-f7495d4a563d",
   "metadata": {},
   "outputs": [
    {
     "name": "stdout",
     "output_type": "stream",
     "text": [
      "h\n",
      "e\n",
      "l\n",
      "l\n",
      "o\n"
     ]
    }
   ],
   "source": [
    "#message = \"hello\": This line initializes a variable named message with the string value \"hello\".\n",
    "#for x in message:: This line initiates a loop that iterates through each character in the string stored in the variable message.\n",
    "#During each iteration, the current character is assigned to the variable x.\n",
    "#print(x): This line prints the current character x to the console in each iteration of the loop.\n",
    "#During each iteration of the loop, the value of x (each character of the string \"hello\") is printed to the console.\n",
    "#The output will display each character of the string \"hello\" on a separate line\n",
    "\n",
    "\n",
    "\n",
    "\n",
    "message = \"hello\"\n",
    "for x in message:\n",
    "    print(x)"
   ]
  },
  {
   "cell_type": "code",
   "execution_count": 32,
   "id": "e9a39ada-21b0-487f-99db-03d1e970a706",
   "metadata": {},
   "outputs": [
    {
     "name": "stdout",
     "output_type": "stream",
     "text": [
      "True\n"
     ]
    }
   ],
   "source": [
    "#message = \"good day\": This line initializes a variable named message with the string value \"good day\".\n",
    "#\"good\" in message: This expression checks if the substring \"good\" is present within the string stored in the variable message.\n",
    "#The in keyword is used in Python to check if a value exists within a sequence (such as a string).\n",
    "#print(\"good\" in message): This line prints the result of the substring check to the console.\n",
    "#When the print() function is executed, it outputs the result of the substring check, which is a boolean value (True or False).\n",
    "#If the substring \"good\" is found within the string \"good day\", the output will be True. Otherwise, it will be False.\n",
    "\n",
    "\n",
    "message = \"good day\"\n",
    "print(\"good\" in message)"
   ]
  },
  {
   "cell_type": "code",
   "execution_count": 33,
   "id": "e3b33373-0996-4931-9e3b-0feb084fc54f",
   "metadata": {},
   "outputs": [
    {
     "name": "stdout",
     "output_type": "stream",
     "text": [
      "yes 'good' is present\n"
     ]
    }
   ],
   "source": [
    "#message = \"good day\": This line initializes a variable named message with the string value \"good day\".\n",
    "#\"good\" in message: This expression checks if the substring \"good\" is present within the string stored in the variable message.\n",
    "#The in keyword is used in Python to check if a value exists within a sequence (such as a string).\n",
    "#if \"good\" in message:: This line starts a conditional statement (if statement). It checks if the result of the substring check (True or False) is True, meaning if the substring \"good\" is found within the string \"good day\".\n",
    "#print(\"yes 'good' is present\"): If the condition in the if statement is True, this line prints the message \"yes 'good' is present\" to the console.\n",
    "#If the substring \"good\" is found within the string \"good day\", the message \"yes 'good' is present\" will be printed to the console.\n",
    "#If the substring \"good\" is not found within the string \"good day\", nothing will be printed to the console because there is no corresponding else statement.\n",
    "\n",
    "\n",
    "\n",
    "message = \"good day\"\n",
    "if \"good\" in message:\n",
    "    print(\"yes 'good' is present\")"
   ]
  },
  {
   "cell_type": "code",
   "execution_count": 34,
   "id": "58a370b7-aa51-4a1e-9980-ae13226a35de",
   "metadata": {},
   "outputs": [
    {
     "name": "stdout",
     "output_type": "stream",
     "text": [
      "ell\n"
     ]
    }
   ],
   "source": [
    "#txt = \"hello\": This line initializes a variable named txt with the string value \"hello\"\n",
    "#txt[1:4]: This expression extracts a substring from the string stored in the variable txt.\n",
    "#The syntax [start:end] is used for slicing strings in Python. It returns a substring starting from the index start and ending just before the index end.\n",
    "#print(txt[1:4]): This line prints the substring extracted by the slicing operation to the console.\n",
    "#When the print() function is executed, it outputs the substring extracted from the string \"hello\".\n",
    "#In this case, the substring starts from the character at index 1 (inclusive) and ends just before the character at index 4 (exclusive). So, it will output the characters at indices 1, 2, and 3, which are \"ell\".\n",
    "\n",
    "\n",
    "\n",
    "txt = \"hello\"\n",
    "print(txt[1:4])"
   ]
  },
  {
   "cell_type": "code",
   "execution_count": 35,
   "id": "61914e03-4602-4c6d-9857-ee7fb475123a",
   "metadata": {},
   "outputs": [
    {
     "name": "stdout",
     "output_type": "stream",
     "text": [
      "llo\n"
     ]
    }
   ],
   "source": [
    "#txt = \"hello\": This line initializes a variable named txt with the string value \"hello\".\n",
    "\n",
    "\n",
    "#txt[2:]: This expression extracts a substring from the string stored in the variable txt.\n",
    "#The syntax [start:end] is used for slicing strings in Python. In this case, since there is no end specified after the colon, it means the substring will extend from the index start until the end of the string.\n",
    "\n",
    "\n",
    "#print(txt[2:]): This line prints the substring extracted by the slicing operation to the console.\n",
    "\n",
    "\n",
    "#When the print() function is executed, it outputs the substring extracted from the string \"hello\".\n",
    "#In this case, the substring starts from the character at index 2 (\"l\") and extends until the end of the string. So, it will output \"llo\".\n",
    "\n",
    "\n",
    "\n",
    "\n",
    "\n",
    "txt = \"hello\"\n",
    "print(txt[2:])"
   ]
  },
  {
   "cell_type": "code",
   "execution_count": 36,
   "id": "e596ca59-5414-4d08-9cf5-b34f6231fb39",
   "metadata": {},
   "outputs": [
    {
     "name": "stdout",
     "output_type": "stream",
     "text": [
      "hell\n"
     ]
    }
   ],
   "source": [
    "#txt = \"hello\": This line initializes a variable named txt with the string value \"hello\".\n",
    "\n",
    "#txt[:4]: This expression extracts a substring from the string stored in the variable txt.\n",
    "#The syntax [:end] is used for slicing strings in Python. In this case, since there is no start specified before the colon, it defaults to the beginning of the string. The substring will extend from the beginning of the string until the character just before the index end.\n",
    "\n",
    "#print(txt[:4]): This line prints the substring extracted by the slicing operation to the console.\n",
    "\n",
    "#When the print() function is executed, it outputs the substring extracted from the string \"hello\".\n",
    "#In this case, the substring starts from the beginning of the string and extends until the character just before index 4 (\"h\", \"e\", \"l\", \"l\"). So, it will output \"hell\".\n",
    "\n",
    "\n",
    "\n",
    "\n",
    "txt = \"hello\"\n",
    "print(txt[:4])"
   ]
  },
  {
   "cell_type": "code",
   "execution_count": 38,
   "id": "4d7c9e88-dbc3-419e-afda-358657ff032d",
   "metadata": {},
   "outputs": [
    {
     "name": "stdout",
     "output_type": "stream",
     "text": [
      "HELLO\n"
     ]
    }
   ],
   "source": [
    "#txt = \"hello\": This line initializes a variable named txt with the string value \"hello\".\n",
    "\n",
    "#txt.upper(): This line calls the upper() method on the string stored in the variable txt.\n",
    "#The upper() method is a string method in Python that returns a copy of the string with all alphabetic characters converted to uppercase.\n",
    "\n",
    "#print(txt.upper()): This line prints the result of the upper() method call to the console.\n",
    "\n",
    "#When the print() function is executed, it outputs the result of the upper() method call.\n",
    "#In this case, the upper() method converts all lowercase characters in the string \"hello\" to uppercase. So, it will output \"HELLO\".\n",
    "\n",
    "\n",
    "\n",
    "\n",
    "txt = \"hello\"\n",
    "print(txt.upper())"
   ]
  },
  {
   "cell_type": "code",
   "execution_count": 39,
   "id": "0709eb0d-32b8-4e96-9ef6-438d50b6c4a8",
   "metadata": {},
   "outputs": [
    {
     "name": "stdout",
     "output_type": "stream",
     "text": [
      "hello\n"
     ]
    }
   ],
   "source": [
    "#txt = \"HELLO\": This line initializes a variable named txt with the string value \"HELLO\".\n",
    "\n",
    "\n",
    "#txt.lower(): This line calls the lower() method on the string stored in the variable txt.\n",
    "#The lower() method is a string method in Python that returns a copy of the string with all alphabetic characters converted to lowercase.\n",
    "\n",
    "\n",
    "#print(txt.lower()): This line prints the result of the lower() method call to the console.\n",
    "\n",
    "\n",
    "#When the print() function is executed, it outputs the result of the lower() method call.\n",
    "#In this case, the lower() method converts all uppercase characters in the string \"HELLO\" to lowercase. So, it will output \"hello\".\n",
    "\n",
    "\n",
    "\n",
    "\n",
    "\n",
    "\n",
    "txt = \"HELLO\"\n",
    "print(txt.lower())"
   ]
  },
  {
   "cell_type": "code",
   "execution_count": 40,
   "id": "6dc43476-c004-4ffb-9b54-07513712a393",
   "metadata": {},
   "outputs": [
    {
     "name": "stdout",
     "output_type": "stream",
     "text": [
      "hello\n"
     ]
    }
   ],
   "source": [
    "#txt = \" hello\": This line initializes a variable named txt with the string value \" hello\".\n",
    "\n",
    "#txt.strip(): This line calls the strip() method on the string stored in the variable txt.\n",
    "#The strip() method is a string method in Python that removes leading and trailing whitespace characters (spaces, tabs, newline characters) from the string. It returns a copy of the string with whitespace removed from the beginning and end.\n",
    "\n",
    "#print(txt.strip()): This line prints the result of the strip() method call to the console.\n",
    "\n",
    "#When the print() function is executed, it outputs the result of the strip() method call.\n",
    "#In this case, the strip() method removes the leading space from the string \" hello\". So, it will output \"hello\".\n",
    "\n",
    "\n",
    "txt = \" hello\"\n",
    "print(txt.strip())"
   ]
  },
  {
   "cell_type": "code",
   "execution_count": 41,
   "id": "c616efb0-d138-4ffe-9b29-d322c736f5a9",
   "metadata": {},
   "outputs": [
    {
     "name": "stdout",
     "output_type": "stream",
     "text": [
      "yello\n"
     ]
    }
   ],
   "source": [
    "#txt = \"hello\": This line initializes a variable named txt with the string value \"hello\"\n",
    "\n",
    "#txt.replace(\"h\", \"y\"): This line calls the replace() method on the string stored in the variable txt.\n",
    "#The replace() method is a string method in Python that replaces all occurrences of a specified substring with another substring. In this case, it replaces all occurrences of the substring \"h\" with the substring \"y\".\n",
    "\n",
    "#print(txt.replace(\"h\", \"y\")): This line prints the result of the replace() method call to the console.\n",
    "\n",
    "#When the print() function is executed, it outputs the result of the replace() method call.\n",
    "#In this case, the replace() method replaces all occurrences of \"h\" in the string \"hello\" with \"y\". So, it will output \"yello\".\n",
    "\n",
    "\n",
    "txt = \"hello\"\n",
    "print(txt.replace(\"h\",\"y\"))"
   ]
  },
  {
   "cell_type": "code",
   "execution_count": 44,
   "id": "d72ec70d-36b6-4af8-9981-80636bac07c2",
   "metadata": {},
   "outputs": [
    {
     "name": "stdout",
     "output_type": "stream",
     "text": [
      "['good', 'morning']\n"
     ]
    }
   ],
   "source": [
    "#txt = \"good morning\": This line initializes a variable named txt with the string value \"good morning\".\n",
    "\n",
    "#txt.split(\" \"): This line calls the split() method on the string stored in the variable txt.\n",
    "#The split() method is a string method in Python that splits a string into a list of substrings based on a specified separator. In this case, the separator specified is a space \" \", which means the string will be split into substrings wherever a space character is encountered.\n",
    "\n",
    "#print(txt.split(\" \")): This line prints the result of the split() method call to the console.\n",
    "\n",
    "#When the print() function is executed, it outputs the result of the split() method call.\n",
    "#In this case, the split() method splits the string \"good morning\" into substrings wherever a space is encountered. So, it will output a list containing the substrings \"good\" and \"morning\".\n",
    "\n",
    "\n",
    "\n",
    "\n",
    "txt = \"good morning\"\n",
    "print(txt.split(\" \"))"
   ]
  },
  {
   "cell_type": "code",
   "execution_count": 45,
   "id": "982ba39c-f7c7-4bc2-937e-bb3a1ffb155e",
   "metadata": {},
   "outputs": [
    {
     "name": "stdout",
     "output_type": "stream",
     "text": [
      "goodmorning\n",
      "good morning\n"
     ]
    }
   ],
   "source": [
    "#txt1 = \"good\": This line initializes a variable named txt1 with the string value \"good\".\n",
    "#txt2 = \"morning\": This line initializes a variable named txt2 with the string value \"morning\".\n",
    "#message = txt1 + txt2: This line concatenates the strings stored in variables txt1 and txt2, and stores the result in a new variable message.\n",
    "#The + operator is used for string concatenation in Python. It combines the strings together, one after the other.\n",
    "\n",
    "#print(message): This line prints the result of the concatenation to the console.\n",
    "\n",
    "#When the print() function is executed, it outputs the result of the concatenation.\n",
    "#In this case, the strings \"good\" and \"morning\" are concatenated together without any space between them. So, it will output \"goodmorning\".\n",
    "\n",
    "\n",
    "#message2 = txt1 + \" \" + txt2: This line concatenates the strings stored in variables txt1 and txt2, but with an additional space between them, and stores the result in a new variable message2.\n",
    "#Here, the string literal \" \" is used to add a space between txt1 and txt2.\n",
    "\n",
    "\n",
    "#print(message2): This line prints the result of the concatenation (with space) to the console.\n",
    "\n",
    "\n",
    "#When the print() function is executed, it outputs the result of the concatenation (with space).\n",
    "#In this case, the strings \"good\" and \"morning\" are concatenated together with a space between them. So, it will output \"good morning\".\n",
    "\n",
    "\n",
    "\n",
    "\n",
    "txt1 = \"good\"\n",
    "txt2 = \"morning\"\n",
    "message = txt1 + txt2\n",
    "print(message)\n",
    "message2 = txt1 + \" \" + txt2\n",
    "print(message2)"
   ]
  },
  {
   "cell_type": "code",
   "execution_count": 47,
   "id": "ada6dc06-eee8-4646-9dbb-afc2c4017e2d",
   "metadata": {},
   "outputs": [
    {
     "name": "stdout",
     "output_type": "stream",
     "text": [
      "the unit price is: 100\n"
     ]
    }
   ],
   "source": [
    "#price = 100: This line initializes a variable named price with the integer value 100.\n",
    "#txt = \"the unit price is: {}\": This line initializes a variable named txt with a string value \"the unit price is: {}\". This string contains a placeholder {} which will be replaced by the value of price using the .format() method.\n",
    "#txt.format(price): This line uses the .format() method to format the string stored in the variable txt.\n",
    "#The .format() method is used to insert values into placeholders {} within a string. In this case, the value of the variable price (100) will replace the placeholder {} in the string.\n",
    "#print(txt.format(price)): This line prints the formatted string to the console.\n",
    "\n",
    "#When the print() function is executed, it outputs the formatted string.\n",
    "#In this case, the formatted string will be \"the unit price is: 100\", where the placeholder {} has been replaced by the value of the variable price.\n",
    "\n",
    "\n",
    "\n",
    "\n",
    "price = 100\n",
    "txt = \"the unit price is: {}\"\n",
    "print(txt.format(price))"
   ]
  },
  {
   "cell_type": "code",
   "execution_count": 48,
   "id": "f0d399c6-78cc-4f85-95d9-51489883e36b",
   "metadata": {},
   "outputs": [
    {
     "name": "stdout",
     "output_type": "stream",
     "text": [
      "('car', 'bus', 'truck')\n"
     ]
    }
   ],
   "source": [
    "#mytuple = (\"car\", \"bus\", \"truck\"): This line initializes a tuple named mytuple containing three string elements: \"car\", \"bus\", and \"truck\".\n",
    "\n",
    "#print(mytuple): This line prints the tuple mytuple to the console.\n",
    "\n",
    "#When the print() function is executed, it outputs the contents of the tuple mytuple to the console.\n",
    "#In this case, the output will be the tuple itself: (\"car\", \"bus\", \"truck\").\n",
    "\n",
    "\n",
    "\n",
    "mytuple = (\"car\", \"bus\", \"truck\")\n",
    "print(mytuple)"
   ]
  },
  {
   "cell_type": "code",
   "execution_count": 49,
   "id": "7eaaae7f-a8c1-4093-b9cd-e1cc18c4a0d8",
   "metadata": {},
   "outputs": [
    {
     "name": "stdout",
     "output_type": "stream",
     "text": [
      "4\n"
     ]
    }
   ],
   "source": [
    "#vehicleTuple = (\"car\", \"bus\", \"bus\", \"car\"): This line initializes a tuple named vehicleTuple containing four string elements: \"car\", \"bus\", \"bus\", and \"car\".\n",
    "\n",
    "#len(vehicleTuple): This line calculates the length of the tuple stored in the variable vehicleTuple.\n",
    "#The len() function in Python returns the number of items (i.e., the length) in a tuple.\n",
    "\n",
    "#print(len(vehicleTuple)): This line prints the result of the len() function to the console.\n",
    "\n",
    "#When the print() function is executed, it outputs the result of the len() function.\n",
    "#In this case, the length of the tuple vehicleTuple is calculated, which is 4 (because there are four elements in the tuple: \"car\", \"bus\", \"bus\", and \"car\").\n",
    "#So, it will output 4.\n",
    "\n",
    "\n",
    "\n",
    "\n",
    "vehicleTuple = (\"car\", \"bus\", \"bus\", \"car\")\n",
    "print(len(vehicleTuple))"
   ]
  },
  {
   "cell_type": "code",
   "execution_count": 50,
   "id": "fd8b4ac0-d6e3-41cc-827b-127680a6dcc8",
   "metadata": {},
   "outputs": [
    {
     "name": "stdout",
     "output_type": "stream",
     "text": [
      "<class 'tuple'>\n"
     ]
    }
   ],
   "source": [
    "#demoTuple = (\"car\",): This line initializes a tuple named demoTuple containing a single string element: \"car\".\n",
    "#Note the trailing comma , after the single element. This is important in Python to denote a tuple with a single element. Without the trailing comma, Python would interpret the parentheses as defining an expression, rather than a tuple.\n",
    "\n",
    "#type(demoTuple): This line checks the type of the variable demoTuple.\n",
    "#The type() function in Python returns the type of an object.\n",
    "\n",
    "#print(type(demoTuple)): This line prints the type of the variable demoTuple to the console.\n",
    "\n",
    "#When the print() function is executed, it outputs the result of the type() function.\n",
    "#In this case, the type of the variable demoTuple is determined to be tuple.\n",
    "#So, it will output <class 'tuple'>.\n",
    "\n",
    "\n",
    "\n",
    "demoTuple = (\"car\",)\n",
    "print(type(demoTuple))\n"
   ]
  },
  {
   "cell_type": "code",
   "execution_count": 52,
   "id": "bdbbe599-44a4-4325-9dd0-6d428b73e321",
   "metadata": {},
   "outputs": [
    {
     "name": "stdout",
     "output_type": "stream",
     "text": [
      "('car', 1, True, 1.1)\n"
     ]
    }
   ],
   "source": [
    "#demoTuple = (\"car\", 1, True, 1.1): This line initializes a tuple named demoTuple containing four elements of different data types: a string \"car\", an integer 1, a boolean True, and a float 1.1.\n",
    "#print(demoTuple): This line prints the tuple demoTuple to the console.\n",
    "\n",
    "#When the print() function is executed, it outputs the contents of the tuple demoTuple to the console.\n",
    "#In this case, the output will be the tuple itself: (\"car\", 1, True, 1.1).\n",
    "\n",
    "demoTuple = (\"car\", 1, True, 1.1)\n",
    "print(demoTuple)"
   ]
  },
  {
   "cell_type": "code",
   "execution_count": 53,
   "id": "e79c1186-3d88-4df5-baf8-a22bde506cf5",
   "metadata": {},
   "outputs": [
    {
     "name": "stdout",
     "output_type": "stream",
     "text": [
      "('a', 'b', 'c')\n"
     ]
    }
   ],
   "source": [
    "#tuple((\"a\", \"b\", \"c\")): This line creates a tuple containing the elements \"a\", \"b\", and \"c\".\n",
    "#The tuple() function is used to convert an iterable (such as a list or another tuple) into a tuple. In this case, a tuple containing the strings \"a\", \"b\", and \"c\" is created.\n",
    "\n",
    "#demoTuple = tuple((\"a\", \"b\", \"c\")): This line initializes a variable named demoTuple with the tuple created in the previous step.\n",
    "\n",
    "#print(demoTuple): This line prints the tuple demoTuple to the console.\n",
    "\n",
    "#When the print() function is executed, it outputs the contents of the tuple demoTuple to the console.\n",
    "#In this case, the output will be the tuple itself: (\"a\", \"b\", \"c\").\n",
    "\n",
    "\n",
    "\n",
    "demoTuple = tuple((\"a\", \"b\", \"c\"))\n",
    "print(demoTuple)"
   ]
  },
  {
   "cell_type": "code",
   "execution_count": 54,
   "id": "84d46cd7-6387-45a1-afb4-96babced1e10",
   "metadata": {},
   "outputs": [
    {
     "name": "stdout",
     "output_type": "stream",
     "text": [
      "car\n",
      "truck\n"
     ]
    }
   ],
   "source": [
    "#vehicleTuple = (\"car\", \"bus\", \"truck\"): This line initializes a tuple named vehicleTuple containing three string elements: \"car\", \"bus\", and \"truck\".\n",
    "\n",
    "#vehicleTuple[0]: This line accesses the element at index 0 in the tuple vehicleTuple.\n",
    "#In Python, indexing starts at 0, so vehicleTuple[0] accesses the first element of the tuple, which is \"car\".\n",
    "#print(vehicleTuple[0]): This line prints the element at index 0 of the tuple vehicleTuple to the console.\n",
    "\n",
    "#When the print() function is executed, it outputs the element at index 0 of the tuple vehicleTuple, which is \"car\".\n",
    "\n",
    "#vehicleTuple[-1]: This line accesses the element at index -1 in the tuple vehicleTuple.\n",
    "#Negative indexing in Python means counting from the end of the tuple. So, -1 refers to the last element of the tuple.\n",
    "\n",
    "#print(vehicleTuple[-1]): This line prints the element at index -1 of the tuple vehicleTuple to the console.\n",
    "\n",
    "#When the print() function is executed, it outputs the element at index -1 of the tuple vehicleTuple, which is \"truck\".\n",
    "\n",
    "\n",
    "\n",
    "\n",
    "vehicleTuple = (\"car\", \"bus\", \"truck\")\n",
    "print (vehicleTuple [0])\n",
    "print (vehicleTuple[-1])"
   ]
  },
  {
   "cell_type": "code",
   "execution_count": 58,
   "id": "ff0f217d-d9f6-45d5-9d53-cd5fab476459",
   "metadata": {},
   "outputs": [
    {
     "name": "stdout",
     "output_type": "stream",
     "text": [
      "yes car is vehicleTuple\n"
     ]
    }
   ],
   "source": [
    "#vehicleTuple = (\"car\", \"bus\", \"truck\"): This line initializes a tuple named vehicleTuple containing three string elements: \"car\", \"bus\", and \"truck\".\n",
    "\n",
    "#\"car\" in vehicleTuple: This line checks whether the string \"car\" is present as an element in the tuple vehicleTuple.\n",
    "#The in keyword is used in Python to check membership in a sequence, such as a tuple.\n",
    "\n",
    "#if \"car\" in vehicleTuple:: This line starts a conditional statement (if statement). It checks if the result of the membership check is True, meaning if \"car\" is found in vehicleTuple.\n",
    "\n",
    "#print(\"yes car is vehicleTuple\"): If the condition in the if statement is True, this line prints the message \"yes car is vehicleTuple\" to the console.\n",
    "\n",
    "#When the print() function is executed, it outputs the message \"yes car is vehicleTuple\" to the console.\n",
    "#This message indicates that \"car\" is indeed present in the tuple vehicleTuple.\n",
    "\n",
    "vehicleTuple = (\"car\", \"bus\", \"truck\")\n",
    "if \"car\" in vehicleTuple:\n",
    "    print(\"yes car is vehicleTuple\")"
   ]
  },
  {
   "cell_type": "code",
   "execution_count": 1,
   "id": "025d7e86-cd1b-4ce4-bb91-cdb5fa5b9638",
   "metadata": {},
   "outputs": [
    {
     "name": "stdout",
     "output_type": "stream",
     "text": [
      "('car', 'bus', 'truck')\n",
      "['car', 'bus', 'truck']\n",
      "['car', 'bus', 'auto']\n",
      "['car', 'bus', 'auto']\n"
     ]
    }
   ],
   "source": [
    "#vehicleTuple = (\"car\", \"bus\", \"truck\"): This line initializes a tuple named vehicleTuple containing three string elements: \"car\", \"bus\", and \"truck\".\n",
    "\n",
    "#vehicleList = list(vehicleTuple): This line converts the tuple vehicleTuple into a list named vehicleList.\n",
    "#The list() function is used to convert a tuple into a list in Python.\n",
    "\n",
    "#print(vehicleTuple): This line prints the tuple vehicleTuple to the console.\n",
    "#print(vehicleList): This line prints the list vehicleList to the console.\n",
    "\n",
    "#When the print() function is executed, it outputs the contents of vehicleTuple and vehicleList to the console.\n",
    "#For vehicleTuple, the output will be the tuple itself: (\"car\", \"bus\", \"truck\").\n",
    "#For vehicleList, the output will be the list containing the elements of vehicleTuple: [\"car\", \"bus\", \"truck\"].\n",
    "\n",
    "#vehicleList[2] = \"auto\": This line modifies the element at index 2 of the list vehicleList to \"auto\".\n",
    "#Lists in Python are mutable, so their elements can be modified after creation.\n",
    "\n",
    "#print(vehicleList): This line prints the modified list vehicleList to the console.\n",
    "\n",
    "#When the print() function is executed, it outputs the modified contents of vehicleList to the console.\n",
    "#The modified list will now be [\"car\", \"bus\", \"auto\"].\n",
    "\n",
    "#vehicleTuple = tuple(vehicleList): This line converts the list vehicleList back into a tuple and assigns it to the variable vehicleTuple.\n",
    "#The tuple() function is used to convert a list into a tuple in Python.\n",
    "\n",
    "#print(vehicleTuple): This line prints the tuple vehicleTuple to the console.\n",
    "\n",
    "#When the print() function is executed, it outputs the contents of the updated vehicleTuple to the console.\n",
    "#The output will be the tuple containing the modified elements: (\"car\", \"bus\", \"auto\").\n",
    "\n",
    "\n",
    "vehicleTuple = (\"car\", \"bus\", \"truck\")\n",
    "vehicleList = list (vehicleTuple)\n",
    "print(vehicleTuple)\n",
    "print(vehicleList)\n",
    "vehicleList [2] = \"auto\"\n",
    "print (vehicleList)\n",
    "vehicleTuple = (vehicleList)\n",
    "print(vehicleTuple)"
   ]
  },
  {
   "cell_type": "code",
   "execution_count": null,
   "id": "5f24228d-16f0-4c8f-8c46-92b176fcbedd",
   "metadata": {},
   "outputs": [],
   "source": []
  }
 ],
 "metadata": {
  "kernelspec": {
   "display_name": "Python 3 (ipykernel)",
   "language": "python",
   "name": "python3"
  },
  "language_info": {
   "codemirror_mode": {
    "name": "ipython",
    "version": 3
   },
   "file_extension": ".py",
   "mimetype": "text/x-python",
   "name": "python",
   "nbconvert_exporter": "python",
   "pygments_lexer": "ipython3",
   "version": "3.9.13"
  }
 },
 "nbformat": 4,
 "nbformat_minor": 5
}
