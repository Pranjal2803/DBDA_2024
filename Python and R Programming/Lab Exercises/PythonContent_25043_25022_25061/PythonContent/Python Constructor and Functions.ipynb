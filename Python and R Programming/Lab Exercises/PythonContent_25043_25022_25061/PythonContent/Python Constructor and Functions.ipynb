{
 "cells": [
  {
   "cell_type": "markdown",
   "id": "0aab87df-c69d-483a-ba63-3dc384c0c7bb",
   "metadata": {},
   "source": [
    "## Create a vehicle class with attributes number of wheels, number of airbags, max speed etc. Create a constructor and method that displays vehicles' information"
   ]
  },
  {
   "cell_type": "code",
   "execution_count": 5,
   "id": "4b4af33a-46b5-46f9-88c9-9573d8ddad31",
   "metadata": {},
   "outputs": [
    {
     "name": "stdout",
     "output_type": "stream",
     "text": [
      "wheels :  9\n",
      "Airbag :  13\n",
      "Max Speed :  27\n"
     ]
    }
   ],
   "source": [
    "#1.Class Definition:\n",
    "#This line initiates the definition of a class named vehicle. \n",
    "#In Python, classes are like blueprints for creating objects. \n",
    "#They define properties (attributes) and behaviors (methods) that objects of that class will have.\n",
    "\n",
    "class vehicle:\n",
    "    \n",
    "#2.Constructor Method (__init__):\n",
    "#This is a special method in Python classes called the constructor.\n",
    "#It initializes the object's state. self refers to the object itself,\n",
    "#and the other parameters (NumOfWheels, NumOfAirbag, MaxSpeed) are the attributes of the vehicle class.\n",
    "\n",
    "    def __init__(self,NumOfWheels,NumOfAirbag,MaxSpeed):\n",
    "        \n",
    "#3. Initializing Attributes:\n",
    "#Inside the constructor, these lines assign the values passed as arguments to the respective attributes of the object (self). \n",
    "#So, when you create an instance of the vehicle class, you provide values for these attributes.\n",
    "        self.NumOfWheels=NumOfWheels\n",
    "        self.NumOfAirbag=NumOfAirbag\n",
    "        self.MaxSpeed=MaxSpeed\n",
    "        \n",
    "#4. Method Definition (vehicleInfo):\n",
    "#This defines a method named vehicleInfo within the vehicle class.\n",
    "#Methods are functions that are associated with an object. \n",
    "#The self parameter is required in all methods and refers to the object itself.\n",
    "\n",
    "#5. Printing Vehicle Information:\n",
    "#Inside the vehicleInfo method, these lines print out the values of the attributes NumOfWheels,\n",
    "#NumOfAirbag, and MaxSpeed for the object.\n",
    "\n",
    "    def vehicleInfo(self):\n",
    "        print(\"wheels : \",self.NumOfWheels)\n",
    "        print(\"Airbag : \",self.NumOfAirbag)\n",
    "        print(\"Max Speed : \",self.MaxSpeed)\n",
    "\n",
    "#6. Creating an Instance of the Class:\n",
    "#This line creates an instance of the vehicle class and initializes it with the values 9, 13, and 27 \n",
    "#for the attributes NumOfWheels, NumOfAirbag, and MaxSpeed, respectively.\n",
    "v=vehicle(9,13,27)\n",
    "\n",
    "#7. Calling the vehicleInfo Method:\n",
    "#This line calls the vehicleInfo method on the object v. \n",
    "#It prints out the information about the vehicle, which includes the number of wheels, airbags, and maximum speed.\n",
    "\n",
    "v.vehicleInfo()"
   ]
  },
  {
   "cell_type": "markdown",
   "id": "c8fb9ba6-ec1d-437b-9e57-a16021cf9fb4",
   "metadata": {},
   "source": [
    "### Create a child class Bus from Vehicle vlass that inherit all the of the variables and methods from vehicle class. The bus class has its own attributes: number of doors, fare per kilometer, number of seats along with inherited attributes.Write a method to calculate bus fare by accepting distance in kilometer as parameter."
   ]
  },
  {
   "cell_type": "code",
   "execution_count": 3,
   "id": "b18f6b35-d67c-4c5c-8090-013fd5059a49",
   "metadata": {},
   "outputs": [
    {
     "name": "stdout",
     "output_type": "stream",
     "text": [
      "Vehicle runs on Battery ? : False\n",
      "8\n",
      "9\n",
      "12.7\n"
     ]
    }
   ],
   "source": [
    "#1. Class Definition - Vehicle:\n",
    "#This line initiates the definition of a class named Vehicle. Conventionally, class names in Python are capitalized.\n",
    "\n",
    "class Vehicle:\n",
    "    \n",
    "#2.Constructor Method (__init__):\n",
    "#This is the constructor method of the Vehicle class. \n",
    "#It initializes the object's state. self refers to the object itself, and BatteryVehicle is a parameter that indicates whether the vehicle is powered by a battery.\n",
    "    def __init__(self,BatteryVehicle):\n",
    "        \n",
    "#3.Initializing Attributes:\n",
    "#Inside the constructor, this line assigns the value of the BatteryVehicle parameter to the BatteryVehicle attribute of the object (self).\n",
    "#This attribute indicates whether the vehicle is battery-powered.\n",
    "\n",
    "        self.BatteryVehicle=BatteryVehicle\n",
    "    \n",
    "#4. Method Definition (vehicleType):\n",
    "#This defines a method named vehicleType within the Vehicle class.\n",
    "#It returns a string indicating whether the vehicle runs on a battery.\n",
    "\n",
    "\n",
    "    def vehicleType(self):\n",
    "        return f\"Vehicle runs on Battery ? : {self.BatteryVehicle}\"\n",
    "    \n",
    "#5. Class Definition - Bus (Inheritance):\n",
    "#This line defines a subclass named Bus, which inherits from the Vehicle class. \n",
    "#This means that the Bus class will inherit all attributes and methods from the Vehicle class.\n",
    "\n",
    "class Bus(Vehicle):'\n",
    "    \n",
    "#6. Constructor Method (__init__) in Bus class:\n",
    "#This constructor method initializes the state of a Bus object. It takes parameters NumOfDoors, NumOfSeats, and FareKMPH.\n",
    "#super().__init__(False) calls the constructor of the parent class (Vehicle) with False as the argument for BatteryVehicle, indicating that buses are not battery-powered.\n",
    "#self.NumOfDoors, self.FareKMPH, and self.NumOfSeats are attributes specific to the Bus class.\n",
    "\n",
    "    def __init__(self,NumOfDoors,NumOfSeats,FareKMPH):\n",
    "        super().__init__(False)\n",
    "        self.NumOfDoors=NumOfDoors\n",
    "        self.FareKMPH=FareKMPH\n",
    "        self.NumOfSeats=NumOfSeats\n",
    "        \n",
    "#7.Method Definition (Vehicledisplay) in Bus class:\n",
    "#This method prints information about the bus, including whether it's battery-powered (Vehicle.vehicleType(self)),\n",
    "#the number of doors, seats, and fare per kilometer per hour.\n",
    "    def Vehicledisplay(self):\n",
    "        s=Vehicle.vehicleType(self)\n",
    "        print(s)\n",
    "        print(self.NumOfDoors)\n",
    "        print(self.NumOfSeats)\n",
    "        print(self.FareKMPH)\n",
    "\n",
    "#8.Creating an Instance of the Bus Class:\n",
    "#This line creates an instance of the Bus class with 8 doors, 9 seats, and a fare of 12.7 per kilometer per hour.\n",
    "b=Bus(8,9,12.7)\n",
    "\n",
    "#9. Calling the Vehicledisplay Method:\n",
    "#This line calls the Vehicledisplay method on the b object (instance of the Bus class), which prints out the information about the bus.\n",
    "\n",
    "b.Vehicledisplay()"
   ]
  },
  {
   "cell_type": "code",
   "execution_count": null,
   "id": "600e446a-81bc-4774-af30-977781c5c4fe",
   "metadata": {},
   "outputs": [],
   "source": []
  }
 ],
 "metadata": {
  "kernelspec": {
   "display_name": "Python 3 (ipykernel)",
   "language": "python",
   "name": "python3"
  },
  "language_info": {
   "codemirror_mode": {
    "name": "ipython",
    "version": 3
   },
   "file_extension": ".py",
   "mimetype": "text/x-python",
   "name": "python",
   "nbconvert_exporter": "python",
   "pygments_lexer": "ipython3",
   "version": "3.9.13"
  }
 },
 "nbformat": 4,
 "nbformat_minor": 5
}
