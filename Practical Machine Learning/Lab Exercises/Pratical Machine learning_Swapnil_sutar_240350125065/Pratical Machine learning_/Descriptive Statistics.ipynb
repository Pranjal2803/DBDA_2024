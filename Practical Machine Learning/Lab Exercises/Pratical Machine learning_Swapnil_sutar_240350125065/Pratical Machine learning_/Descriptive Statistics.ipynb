{
 "cells": [
  {
   "cell_type": "code",
   "execution_count": 1,
   "metadata": {},
   "outputs": [],
   "source": [
    "#=============================================================================\n",
    "# CODE NAME     : Descriptive Statistics.py\n",
    "# PURPOSE       : Demonstrate Descriptive Statistics using Numpy and Pandas \n",
    "# APPLICATION   : Analyzing Mutual Fund Returns across risk categories\n",
    "#============================================================================="
   ]
  },
  {
   "cell_type": "code",
   "execution_count": 1,
   "metadata": {},
   "outputs": [
    {
     "name": "stdout",
     "output_type": "stream",
     "text": [
      "Listing First Five Records\n"
     ]
    },
    {
     "data": {
      "text/html": [
       "<div>\n",
       "<style scoped>\n",
       "    .dataframe tbody tr th:only-of-type {\n",
       "        vertical-align: middle;\n",
       "    }\n",
       "\n",
       "    .dataframe tbody tr th {\n",
       "        vertical-align: top;\n",
       "    }\n",
       "\n",
       "    .dataframe thead th {\n",
       "        text-align: right;\n",
       "    }\n",
       "</style>\n",
       "<table border=\"1\" class=\"dataframe\">\n",
       "  <thead>\n",
       "    <tr style=\"text-align: right;\">\n",
       "      <th></th>\n",
       "      <th>Fund</th>\n",
       "      <th>Objective</th>\n",
       "      <th>Sales charge</th>\n",
       "      <th>Exp Ratio</th>\n",
       "      <th>Risk</th>\n",
       "      <th>Return 1999</th>\n",
       "      <th>Return Q1-2000</th>\n",
       "      <th>_3Yr Return</th>\n",
       "    </tr>\n",
       "  </thead>\n",
       "  <tbody>\n",
       "    <tr>\n",
       "      <th>0</th>\n",
       "      <td>AMER CENT Gl Gold</td>\n",
       "      <td>SC</td>\n",
       "      <td>N</td>\n",
       "      <td>0.69</td>\n",
       "      <td>high</td>\n",
       "      <td>-3.2</td>\n",
       "      <td>-17.01</td>\n",
       "      <td>-22.82</td>\n",
       "    </tr>\n",
       "    <tr>\n",
       "      <th>1</th>\n",
       "      <td>FPA Paramount</td>\n",
       "      <td>GI</td>\n",
       "      <td>Y</td>\n",
       "      <td>1.03</td>\n",
       "      <td>high</td>\n",
       "      <td>1.6</td>\n",
       "      <td>-13.30</td>\n",
       "      <td>-12.57</td>\n",
       "    </tr>\n",
       "    <tr>\n",
       "      <th>2</th>\n",
       "      <td>FIDELITY emerging markets</td>\n",
       "      <td>IL</td>\n",
       "      <td>Y</td>\n",
       "      <td>1.45</td>\n",
       "      <td>high</td>\n",
       "      <td>70.5</td>\n",
       "      <td>1.58</td>\n",
       "      <td>-10.55</td>\n",
       "    </tr>\n",
       "    <tr>\n",
       "      <th>3</th>\n",
       "      <td>GPLDMAN SACHS Asis Gr A</td>\n",
       "      <td>IL</td>\n",
       "      <td>Y</td>\n",
       "      <td>1.85</td>\n",
       "      <td>high</td>\n",
       "      <td>59.4</td>\n",
       "      <td>1.93</td>\n",
       "      <td>-5.32</td>\n",
       "    </tr>\n",
       "    <tr>\n",
       "      <th>4</th>\n",
       "      <td>Berwyn</td>\n",
       "      <td>SC</td>\n",
       "      <td>N</td>\n",
       "      <td>1.20</td>\n",
       "      <td>high</td>\n",
       "      <td>-4.6</td>\n",
       "      <td>-5.75</td>\n",
       "      <td>-3.16</td>\n",
       "    </tr>\n",
       "  </tbody>\n",
       "</table>\n",
       "</div>"
      ],
      "text/plain": [
       "                        Fund Objective Sales charge  Exp Ratio  Risk  \\\n",
       "0          AMER CENT Gl Gold        SC            N       0.69  high   \n",
       "1              FPA Paramount        GI            Y       1.03  high   \n",
       "2  FIDELITY emerging markets        IL            Y       1.45  high   \n",
       "3    GPLDMAN SACHS Asis Gr A        IL            Y       1.85  high   \n",
       "4                     Berwyn        SC            N       1.20  high   \n",
       "\n",
       "    Return 1999   Return Q1-2000  _3Yr Return  \n",
       "0          -3.2           -17.01       -22.82  \n",
       "1           1.6           -13.30       -12.57  \n",
       "2          70.5             1.58       -10.55  \n",
       "3          59.4             1.93        -5.32  \n",
       "4          -4.6            -5.75        -3.16  "
      ]
     },
     "execution_count": 1,
     "metadata": {},
     "output_type": "execute_result"
    }
   ],
   "source": [
    "# Get the PANDAS Library\n",
    "import numpy as np\n",
    "import pandas as pd\n",
    "\n",
    "# Load Input Data\n",
    "infile = \"C:\\\\Users\\\\Training\\\\Data Science using SAS and Python\\\\Data\\\\MF2000.xlsx\"\n",
    "returns = pd.read_excel(infile,sheet_name='Data')\n",
    "print(\"Listing First Five Records\")\n",
    "returns.head()"
   ]
  },
  {
   "cell_type": "code",
   "execution_count": 3,
   "metadata": {},
   "outputs": [
    {
     "name": "stdout",
     "output_type": "stream",
     "text": [
      "Descriptive Statistics for 3 Years Returns\n"
     ]
    },
    {
     "data": {
      "text/html": [
       "<div>\n",
       "<style scoped>\n",
       "    .dataframe tbody tr th:only-of-type {\n",
       "        vertical-align: middle;\n",
       "    }\n",
       "\n",
       "    .dataframe tbody tr th {\n",
       "        vertical-align: top;\n",
       "    }\n",
       "\n",
       "    .dataframe thead th {\n",
       "        text-align: right;\n",
       "    }\n",
       "</style>\n",
       "<table border=\"1\" class=\"dataframe\">\n",
       "  <thead>\n",
       "    <tr style=\"text-align: right;\">\n",
       "      <th></th>\n",
       "      <th>count</th>\n",
       "      <th>mean</th>\n",
       "      <th>std</th>\n",
       "      <th>min</th>\n",
       "      <th>25%</th>\n",
       "      <th>50%</th>\n",
       "      <th>75%</th>\n",
       "      <th>max</th>\n",
       "    </tr>\n",
       "  </thead>\n",
       "  <tbody>\n",
       "    <tr>\n",
       "      <th>_3Yr Return</th>\n",
       "      <td>137.0</td>\n",
       "      <td>25.462263</td>\n",
       "      <td>19.096356</td>\n",
       "      <td>-22.82</td>\n",
       "      <td>12.46</td>\n",
       "      <td>22.47</td>\n",
       "      <td>33.28</td>\n",
       "      <td>91.15</td>\n",
       "    </tr>\n",
       "  </tbody>\n",
       "</table>\n",
       "</div>"
      ],
      "text/plain": [
       "             count       mean        std    min    25%    50%    75%    max\n",
       "_3Yr Return  137.0  25.462263  19.096356 -22.82  12.46  22.47  33.28  91.15"
      ]
     },
     "execution_count": 3,
     "metadata": {},
     "output_type": "execute_result"
    }
   ],
   "source": [
    "# Get the Descriptive Statistics for 3 years returns\n",
    "returns_ds = pd.DataFrame(returns['_3Yr Return'].describe())\n",
    "print(\"Descriptive Statistics for 3 Years Returns\")\n",
    "returns_ds.transpose()"
   ]
  },
  {
   "cell_type": "code",
   "execution_count": 4,
   "metadata": {},
   "outputs": [
    {
     "name": "stdout",
     "output_type": "stream",
     "text": [
      "Descriptive Statistics for 3 Years Returns across Risk\n"
     ]
    },
    {
     "data": {
      "text/html": [
       "<div>\n",
       "<style scoped>\n",
       "    .dataframe tbody tr th:only-of-type {\n",
       "        vertical-align: middle;\n",
       "    }\n",
       "\n",
       "    .dataframe tbody tr th {\n",
       "        vertical-align: top;\n",
       "    }\n",
       "\n",
       "    .dataframe thead th {\n",
       "        text-align: right;\n",
       "    }\n",
       "</style>\n",
       "<table border=\"1\" class=\"dataframe\">\n",
       "  <thead>\n",
       "    <tr style=\"text-align: right;\">\n",
       "      <th></th>\n",
       "      <th>Risk</th>\n",
       "      <th>avg</th>\n",
       "      <th>high</th>\n",
       "      <th>low</th>\n",
       "    </tr>\n",
       "  </thead>\n",
       "  <tbody>\n",
       "    <tr>\n",
       "      <th rowspan=\"8\" valign=\"top\">_3Yr Return</th>\n",
       "      <th>count</th>\n",
       "      <td>76.000000</td>\n",
       "      <td>47.000000</td>\n",
       "      <td>14.000000</td>\n",
       "    </tr>\n",
       "    <tr>\n",
       "      <th>mean</th>\n",
       "      <td>27.000789</td>\n",
       "      <td>24.811702</td>\n",
       "      <td>19.294286</td>\n",
       "    </tr>\n",
       "    <tr>\n",
       "      <th>std</th>\n",
       "      <td>17.664752</td>\n",
       "      <td>23.166269</td>\n",
       "      <td>7.708491</td>\n",
       "    </tr>\n",
       "    <tr>\n",
       "      <th>min</th>\n",
       "      <td>-2.700000</td>\n",
       "      <td>-22.820000</td>\n",
       "      <td>9.770000</td>\n",
       "    </tr>\n",
       "    <tr>\n",
       "      <th>25%</th>\n",
       "      <td>14.167500</td>\n",
       "      <td>6.670000</td>\n",
       "      <td>14.217500</td>\n",
       "    </tr>\n",
       "    <tr>\n",
       "      <th>50%</th>\n",
       "      <td>22.980000</td>\n",
       "      <td>26.600000</td>\n",
       "      <td>18.420000</td>\n",
       "    </tr>\n",
       "    <tr>\n",
       "      <th>75%</th>\n",
       "      <td>32.620000</td>\n",
       "      <td>38.935000</td>\n",
       "      <td>21.297500</td>\n",
       "    </tr>\n",
       "    <tr>\n",
       "      <th>max</th>\n",
       "      <td>91.150000</td>\n",
       "      <td>86.130000</td>\n",
       "      <td>38.160000</td>\n",
       "    </tr>\n",
       "  </tbody>\n",
       "</table>\n",
       "</div>"
      ],
      "text/plain": [
       "Risk                     avg       high        low\n",
       "_3Yr Return count  76.000000  47.000000  14.000000\n",
       "            mean   27.000789  24.811702  19.294286\n",
       "            std    17.664752  23.166269   7.708491\n",
       "            min    -2.700000 -22.820000   9.770000\n",
       "            25%    14.167500   6.670000  14.217500\n",
       "            50%    22.980000  26.600000  18.420000\n",
       "            75%    32.620000  38.935000  21.297500\n",
       "            max    91.150000  86.130000  38.160000"
      ]
     },
     "execution_count": 4,
     "metadata": {},
     "output_type": "execute_result"
    }
   ],
   "source": [
    "# Get the Descriptive Statistics for 3 years returns/risk\n",
    "returns_risk_ds = pd.DataFrame(returns.groupby('Risk').describe()[['_3Yr Return']])\n",
    "print(\"Descriptive Statistics for 3 Years Returns across Risk\")\n",
    "returns_risk_ds.transpose()"
   ]
  },
  {
   "cell_type": "code",
   "execution_count": 15,
   "metadata": {},
   "outputs": [
    {
     "name": "stdout",
     "output_type": "stream",
     "text": [
      "Median Statistics for 3 Years Returns across Risk\n"
     ]
    },
    {
     "data": {
      "text/html": [
       "<div>\n",
       "<style scoped>\n",
       "    .dataframe tbody tr th:only-of-type {\n",
       "        vertical-align: middle;\n",
       "    }\n",
       "\n",
       "    .dataframe tbody tr th {\n",
       "        vertical-align: top;\n",
       "    }\n",
       "\n",
       "    .dataframe thead th {\n",
       "        text-align: right;\n",
       "    }\n",
       "</style>\n",
       "<table border=\"1\" class=\"dataframe\">\n",
       "  <thead>\n",
       "    <tr style=\"text-align: right;\">\n",
       "      <th>Risk</th>\n",
       "      <th>avg</th>\n",
       "      <th>high</th>\n",
       "      <th>low</th>\n",
       "    </tr>\n",
       "  </thead>\n",
       "  <tbody>\n",
       "    <tr>\n",
       "      <th>_3Yr Return</th>\n",
       "      <td>22.98</td>\n",
       "      <td>26.6</td>\n",
       "      <td>18.42</td>\n",
       "    </tr>\n",
       "  </tbody>\n",
       "</table>\n",
       "</div>"
      ],
      "text/plain": [
       "Risk           avg  high    low\n",
       "_3Yr Return  22.98  26.6  18.42"
      ]
     },
     "execution_count": 15,
     "metadata": {},
     "output_type": "execute_result"
    }
   ],
   "source": [
    "# Calculation of Specific Statistics\n",
    "returns_med = pd.DataFrame(returns.groupby('Risk').median()[['_3Yr Return']])\n",
    "print(\"Median Returns for 3 Years Returns across Risk\")\n",
    "returns_med.transpose()"
   ]
  },
  {
   "cell_type": "code",
   "execution_count": 16,
   "metadata": {},
   "outputs": [
    {
     "name": "stdout",
     "output_type": "stream",
     "text": [
      "Variance in Returns for 3 Years Returns across Risk\n"
     ]
    },
    {
     "data": {
      "text/html": [
       "<div>\n",
       "<style scoped>\n",
       "    .dataframe tbody tr th:only-of-type {\n",
       "        vertical-align: middle;\n",
       "    }\n",
       "\n",
       "    .dataframe tbody tr th {\n",
       "        vertical-align: top;\n",
       "    }\n",
       "\n",
       "    .dataframe thead th {\n",
       "        text-align: right;\n",
       "    }\n",
       "</style>\n",
       "<table border=\"1\" class=\"dataframe\">\n",
       "  <thead>\n",
       "    <tr style=\"text-align: right;\">\n",
       "      <th>Risk</th>\n",
       "      <th>avg</th>\n",
       "      <th>high</th>\n",
       "      <th>low</th>\n",
       "    </tr>\n",
       "  </thead>\n",
       "  <tbody>\n",
       "    <tr>\n",
       "      <th>_3Yr Return</th>\n",
       "      <td>312.043458</td>\n",
       "      <td>536.67601</td>\n",
       "      <td>59.420826</td>\n",
       "    </tr>\n",
       "  </tbody>\n",
       "</table>\n",
       "</div>"
      ],
      "text/plain": [
       "Risk                avg       high        low\n",
       "_3Yr Return  312.043458  536.67601  59.420826"
      ]
     },
     "execution_count": 16,
     "metadata": {},
     "output_type": "execute_result"
    }
   ],
   "source": [
    "returns_var = pd.DataFrame(returns.groupby('Risk').var()[['_3Yr Return']])\n",
    "print(\"Variance in Returns for 3 Years Returns across Risk\")\n",
    "returns_var.transpose()"
   ]
  },
  {
   "cell_type": "code",
   "execution_count": null,
   "metadata": {},
   "outputs": [],
   "source": []
  }
 ],
 "metadata": {
  "kernelspec": {
   "display_name": "Python 3",
   "language": "python",
   "name": "python3"
  },
  "language_info": {
   "codemirror_mode": {
    "name": "ipython",
    "version": 3
   },
   "file_extension": ".py",
   "mimetype": "text/x-python",
   "name": "python",
   "nbconvert_exporter": "python",
   "pygments_lexer": "ipython3",
   "version": "3.8.8"
  }
 },
 "nbformat": 4,
 "nbformat_minor": 2
}
