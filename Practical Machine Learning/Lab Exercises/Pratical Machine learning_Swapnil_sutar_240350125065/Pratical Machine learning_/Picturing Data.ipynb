{
 "cells": [
  {
   "cell_type": "code",
   "execution_count": 1,
   "metadata": {},
   "outputs": [],
   "source": [
    "#=============================================================================\n",
    "# CODE NAME     : Picturing Data.py\n",
    "# PURPOSE       : Demonstrate Distributions and Visulations using Pandas,\n",
    "#                 Scipy and Seaborn \n",
    "# APPLICATION   : Analyzing Mutual Fund Returns across risk categories\n",
    "#============================================================================="
   ]
  },
  {
   "cell_type": "code",
   "execution_count": 1,
   "metadata": {},
   "outputs": [
    {
     "name": "stdout",
     "output_type": "stream",
     "text": [
      "Listing First Five Records\n"
     ]
    },
    {
     "data": {
      "text/html": [
       "<div>\n",
       "<style scoped>\n",
       "    .dataframe tbody tr th:only-of-type {\n",
       "        vertical-align: middle;\n",
       "    }\n",
       "\n",
       "    .dataframe tbody tr th {\n",
       "        vertical-align: top;\n",
       "    }\n",
       "\n",
       "    .dataframe thead th {\n",
       "        text-align: right;\n",
       "    }\n",
       "</style>\n",
       "<table border=\"1\" class=\"dataframe\">\n",
       "  <thead>\n",
       "    <tr style=\"text-align: right;\">\n",
       "      <th></th>\n",
       "      <th>Fund</th>\n",
       "      <th>Objective</th>\n",
       "      <th>Sales charge</th>\n",
       "      <th>Exp Ratio</th>\n",
       "      <th>Risk</th>\n",
       "      <th>Return 1999</th>\n",
       "      <th>Return Q1-2000</th>\n",
       "      <th>_3Yr Return</th>\n",
       "    </tr>\n",
       "  </thead>\n",
       "  <tbody>\n",
       "    <tr>\n",
       "      <th>0</th>\n",
       "      <td>AMER CENT Gl Gold</td>\n",
       "      <td>SC</td>\n",
       "      <td>N</td>\n",
       "      <td>0.69</td>\n",
       "      <td>high</td>\n",
       "      <td>-3.2</td>\n",
       "      <td>-17.01</td>\n",
       "      <td>-22.82</td>\n",
       "    </tr>\n",
       "    <tr>\n",
       "      <th>1</th>\n",
       "      <td>FPA Paramount</td>\n",
       "      <td>GI</td>\n",
       "      <td>Y</td>\n",
       "      <td>1.03</td>\n",
       "      <td>high</td>\n",
       "      <td>1.6</td>\n",
       "      <td>-13.30</td>\n",
       "      <td>-12.57</td>\n",
       "    </tr>\n",
       "    <tr>\n",
       "      <th>2</th>\n",
       "      <td>FIDELITY emerging markets</td>\n",
       "      <td>IL</td>\n",
       "      <td>Y</td>\n",
       "      <td>1.45</td>\n",
       "      <td>high</td>\n",
       "      <td>70.5</td>\n",
       "      <td>1.58</td>\n",
       "      <td>-10.55</td>\n",
       "    </tr>\n",
       "    <tr>\n",
       "      <th>3</th>\n",
       "      <td>GPLDMAN SACHS Asis Gr A</td>\n",
       "      <td>IL</td>\n",
       "      <td>Y</td>\n",
       "      <td>1.85</td>\n",
       "      <td>high</td>\n",
       "      <td>59.4</td>\n",
       "      <td>1.93</td>\n",
       "      <td>-5.32</td>\n",
       "    </tr>\n",
       "    <tr>\n",
       "      <th>4</th>\n",
       "      <td>Berwyn</td>\n",
       "      <td>SC</td>\n",
       "      <td>N</td>\n",
       "      <td>1.20</td>\n",
       "      <td>high</td>\n",
       "      <td>-4.6</td>\n",
       "      <td>-5.75</td>\n",
       "      <td>-3.16</td>\n",
       "    </tr>\n",
       "  </tbody>\n",
       "</table>\n",
       "</div>"
      ],
      "text/plain": [
       "                        Fund Objective Sales charge  Exp Ratio  Risk  \\\n",
       "0          AMER CENT Gl Gold        SC            N       0.69  high   \n",
       "1              FPA Paramount        GI            Y       1.03  high   \n",
       "2  FIDELITY emerging markets        IL            Y       1.45  high   \n",
       "3    GPLDMAN SACHS Asis Gr A        IL            Y       1.85  high   \n",
       "4                     Berwyn        SC            N       1.20  high   \n",
       "\n",
       "    Return 1999   Return Q1-2000  _3Yr Return  \n",
       "0          -3.2           -17.01       -22.82  \n",
       "1           1.6           -13.30       -12.57  \n",
       "2          70.5             1.58       -10.55  \n",
       "3          59.4             1.93        -5.32  \n",
       "4          -4.6            -5.75        -3.16  "
      ]
     },
     "execution_count": 1,
     "metadata": {},
     "output_type": "execute_result"
    }
   ],
   "source": [
    "# Get the PANDAS Library\n",
    "import numpy as np\n",
    "import pandas as pd\n",
    "\n",
    "# Load Input Data\n",
    "infile = \"C:\\\\Users\\\\Training\\\\Data Science using SAS and Python\\\\Data\\\\MF2000.xlsx\"\n",
    "returns = pd.read_excel(infile,sheet_name='Data')\n",
    "print(\"Listing First Five Records\")\n",
    "returns.head()"
   ]
  },
  {
   "cell_type": "code",
   "execution_count": 4,
   "metadata": {},
   "outputs": [
    {
     "name": "stdout",
     "output_type": "stream",
     "text": [
      "Skewness: \n"
     ]
    },
    {
     "data": {
      "text/html": [
       "<div>\n",
       "<style scoped>\n",
       "    .dataframe tbody tr th:only-of-type {\n",
       "        vertical-align: middle;\n",
       "    }\n",
       "\n",
       "    .dataframe tbody tr th {\n",
       "        vertical-align: top;\n",
       "    }\n",
       "\n",
       "    .dataframe thead th {\n",
       "        text-align: right;\n",
       "    }\n",
       "</style>\n",
       "<table border=\"1\" class=\"dataframe\">\n",
       "  <thead>\n",
       "    <tr style=\"text-align: right;\">\n",
       "      <th>Risk</th>\n",
       "      <th>avg</th>\n",
       "      <th>high</th>\n",
       "      <th>low</th>\n",
       "    </tr>\n",
       "  </thead>\n",
       "  <tbody>\n",
       "    <tr>\n",
       "      <th>_3Yr Return</th>\n",
       "      <td>1.216081</td>\n",
       "      <td>0.273235</td>\n",
       "      <td>1.305763</td>\n",
       "    </tr>\n",
       "  </tbody>\n",
       "</table>\n",
       "</div>"
      ],
      "text/plain": [
       "Risk              avg      high       low\n",
       "_3Yr Return  1.216081  0.273235  1.305763"
      ]
     },
     "execution_count": 4,
     "metadata": {},
     "output_type": "execute_result"
    }
   ],
   "source": [
    "# Get the Skewness and Kurtosis for 3 Years returns\n",
    "ret_skew = returns.groupby(\"Risk\").skew()[[\"_3Yr Return\"]]\n",
    "print(\"Skewness: \")\n",
    "ret_skew.transpose()"
   ]
  },
  {
   "cell_type": "code",
   "execution_count": 5,
   "metadata": {},
   "outputs": [
    {
     "name": "stdout",
     "output_type": "stream",
     "text": [
      "Kurtosis: \n"
     ]
    },
    {
     "data": {
      "text/html": [
       "<div>\n",
       "<style scoped>\n",
       "    .dataframe tbody tr th:only-of-type {\n",
       "        vertical-align: middle;\n",
       "    }\n",
       "\n",
       "    .dataframe tbody tr th {\n",
       "        vertical-align: top;\n",
       "    }\n",
       "\n",
       "    .dataframe thead th {\n",
       "        text-align: right;\n",
       "    }\n",
       "</style>\n",
       "<table border=\"1\" class=\"dataframe\">\n",
       "  <thead>\n",
       "    <tr style=\"text-align: right;\">\n",
       "      <th>Risk</th>\n",
       "      <th>avg</th>\n",
       "      <th>high</th>\n",
       "      <th>low</th>\n",
       "    </tr>\n",
       "  </thead>\n",
       "  <tbody>\n",
       "    <tr>\n",
       "      <th>_3Yr Return</th>\n",
       "      <td>1.545188</td>\n",
       "      <td>-0.078729</td>\n",
       "      <td>1.86166</td>\n",
       "    </tr>\n",
       "  </tbody>\n",
       "</table>\n",
       "</div>"
      ],
      "text/plain": [
       "Risk              avg      high      low\n",
       "_3Yr Return  1.545188 -0.078729  1.86166"
      ]
     },
     "execution_count": 5,
     "metadata": {},
     "output_type": "execute_result"
    }
   ],
   "source": [
    "ret_kur = returns.groupby(\"Risk\").apply(pd.DataFrame.kurt)[[\"_3Yr Return\"]]\n",
    "print(\"Kurtosis: \")\n",
    "ret_kur.transpose()"
   ]
  },
  {
   "cell_type": "code",
   "execution_count": 6,
   "metadata": {},
   "outputs": [
    {
     "data": {
      "text/plain": [
       "<matplotlib.axes._subplots.AxesSubplot at 0x21d7239e208>"
      ]
     },
     "execution_count": 6,
     "metadata": {},
     "output_type": "execute_result"
    },
    {
     "data": {
      "image/png": "[encoded data removed]",
      "text/plain": [
       "<Figure size 432x288 with 1 Axes>"
      ]
     },
     "metadata": {
      "needs_background": "light"
     },
     "output_type": "display_data"
    }
   ],
   "source": [
    "# Get the Histogram of 3 Years returns\n",
    "ret_hist = returns[\"_3Yr Return\"]\n",
    "ret_hist.plot.kde()\n",
    "ret_hist.plot.hist(density = True)"
   ]
  },
  {
   "cell_type": "code",
   "execution_count": 7,
   "metadata": {},
   "outputs": [
    {
     "name": "stdout",
     "output_type": "stream",
     "text": [
      "Probability Plot for 3 Years Returns: \n"
     ]
    },
    {
     "data": {
      "image/png": "[encoded data removed]",
      "text/plain": [
       "<Figure size 432x288 with 1 Axes>"
      ]
     },
     "metadata": {
      "needs_background": "light"
     },
     "output_type": "display_data"
    }
   ],
   "source": [
    "# Get the Probability Plot for 3 Years returns\n",
    "import scipy.stats as stat\n",
    "import matplotlib.pyplot as plt\n",
    "ppplot = stat.probplot(ret_hist, plot = plt)\n",
    "print(\"Probability Plot for 3 Years Returns: \")"
   ]
  },
  {
   "cell_type": "code",
   "execution_count": 8,
   "metadata": {},
   "outputs": [
    {
     "name": "stdout",
     "output_type": "stream",
     "text": [
      "Box Plot for 3 Years returns: \n"
     ]
    },
    {
     "data": {
      "image/png": "[encoded data removed]",
      "text/plain": [
       "<Figure size 432x288 with 1 Axes>"
      ]
     },
     "metadata": {
      "needs_background": "light"
     },
     "output_type": "display_data"
    }
   ],
   "source": [
    "# Get the Box-Plot for 3 Years returns\n",
    "import seaborn as sns\n",
    "print(\"Box Plot for 3 Years returns: \")\n",
    "box_plt = sns.boxplot(y = \"_3Yr Return\", x = \"Risk\", data = returns)"
   ]
  },
  {
   "cell_type": "code",
   "execution_count": 9,
   "metadata": {},
   "outputs": [
    {
     "name": "stdout",
     "output_type": "stream",
     "text": [
      "Scatter Plot of Returns (Return 1999 vs. Return Q1-2000): \n"
     ]
    },
    {
     "data": {
      "image/png": "[encoded data removed]",
      "text/plain": [
       "<Figure size 432x288 with 1 Axes>"
      ]
     },
     "metadata": {
      "needs_background": "light"
     },
     "output_type": "display_data"
    }
   ],
   "source": [
    "# Get the Scatter Plot of Returns (Return_1999 and Returns_Q1_2000)\n",
    "print('Scatter Plot of Returns (Return 1999 vs. Return Q1-2000): ')\n",
    "scatter_plt = sns.scatterplot(y = ' Return Q1-2000', x = ' Return 1999', data = returns)"
   ]
  },
  {
   "cell_type": "code",
   "execution_count": 5,
   "metadata": {},
   "outputs": [
    {
     "data": {
      "text/html": [
       "<div>\n",
       "<style scoped>\n",
       "    .dataframe tbody tr th:only-of-type {\n",
       "        vertical-align: middle;\n",
       "    }\n",
       "\n",
       "    .dataframe tbody tr th {\n",
       "        vertical-align: top;\n",
       "    }\n",
       "\n",
       "    .dataframe thead th {\n",
       "        text-align: right;\n",
       "    }\n",
       "</style>\n",
       "<table border=\"1\" class=\"dataframe\">\n",
       "  <thead>\n",
       "    <tr style=\"text-align: right;\">\n",
       "      <th></th>\n",
       "      <th>Fund</th>\n",
       "      <th>Objective</th>\n",
       "      <th>Sales charge</th>\n",
       "      <th>Exp Ratio</th>\n",
       "      <th>Risk</th>\n",
       "      <th>Return 1999</th>\n",
       "      <th>Return Q1-2000</th>\n",
       "      <th>_3Yr Return</th>\n",
       "    </tr>\n",
       "  </thead>\n",
       "  <tbody>\n",
       "    <tr>\n",
       "      <th>0</th>\n",
       "      <td>AMER CENT Gl Gold</td>\n",
       "      <td>SC</td>\n",
       "      <td>N</td>\n",
       "      <td>0.69</td>\n",
       "      <td>high</td>\n",
       "      <td>-3.2</td>\n",
       "      <td>-17.01</td>\n",
       "      <td>-22.82</td>\n",
       "    </tr>\n",
       "    <tr>\n",
       "      <th>132</th>\n",
       "      <td>PRNCIPL PRESV PSE Tech</td>\n",
       "      <td>TK</td>\n",
       "      <td>Y</td>\n",
       "      <td>0.60</td>\n",
       "      <td>avg</td>\n",
       "      <td>114.6</td>\n",
       "      <td>18.80</td>\n",
       "      <td>67.45</td>\n",
       "    </tr>\n",
       "    <tr>\n",
       "      <th>133</th>\n",
       "      <td>INVESCO Tech</td>\n",
       "      <td>TK</td>\n",
       "      <td>N</td>\n",
       "      <td>1.20</td>\n",
       "      <td>avg</td>\n",
       "      <td>144.9</td>\n",
       "      <td>26.20</td>\n",
       "      <td>67.69</td>\n",
       "    </tr>\n",
       "    <tr>\n",
       "      <th>134</th>\n",
       "      <td>FIDELITY SELECTS Comp</td>\n",
       "      <td>TK</td>\n",
       "      <td>Y</td>\n",
       "      <td>1.25</td>\n",
       "      <td>high</td>\n",
       "      <td>81.0</td>\n",
       "      <td>24.40</td>\n",
       "      <td>68.58</td>\n",
       "    </tr>\n",
       "    <tr>\n",
       "      <th>135</th>\n",
       "      <td>FIRST AMERICAN Tech</td>\n",
       "      <td>TK</td>\n",
       "      <td>Y</td>\n",
       "      <td>1.15</td>\n",
       "      <td>high</td>\n",
       "      <td>191.8</td>\n",
       "      <td>28.90</td>\n",
       "      <td>86.13</td>\n",
       "    </tr>\n",
       "    <tr>\n",
       "      <th>136</th>\n",
       "      <td>NORTHERN Tech</td>\n",
       "      <td>TK</td>\n",
       "      <td>N</td>\n",
       "      <td>1.23</td>\n",
       "      <td>avg</td>\n",
       "      <td>134.5</td>\n",
       "      <td>27.10</td>\n",
       "      <td>91.15</td>\n",
       "    </tr>\n",
       "  </tbody>\n",
       "</table>\n",
       "</div>"
      ],
      "text/plain": [
       "                       Fund Objective Sales charge  Exp Ratio  Risk  \\\n",
       "0         AMER CENT Gl Gold        SC            N       0.69  high   \n",
       "132  PRNCIPL PRESV PSE Tech        TK            Y       0.60   avg   \n",
       "133            INVESCO Tech        TK            N       1.20   avg   \n",
       "134   FIDELITY SELECTS Comp        TK            Y       1.25  high   \n",
       "135     FIRST AMERICAN Tech        TK            Y       1.15  high   \n",
       "136           NORTHERN Tech        TK            N       1.23   avg   \n",
       "\n",
       "      Return 1999   Return Q1-2000  _3Yr Return  \n",
       "0            -3.2           -17.01       -22.82  \n",
       "132         114.6            18.80        67.45  \n",
       "133         144.9            26.20        67.69  \n",
       "134          81.0            24.40        68.58  \n",
       "135         191.8            28.90        86.13  \n",
       "136         134.5            27.10        91.15  "
      ]
     },
     "execution_count": 5,
     "metadata": {},
     "output_type": "execute_result"
    }
   ],
   "source": [
    "# Utility to calculate the outliers\n",
    "\n",
    "def util_get_outliers(in_dfn,analysis_var,iqr_cutoff):\n",
    "    \n",
    "    \"This will calculate the outliers based on given data and variable\"\n",
    "    \n",
    "    # Get the Q1 and Q3\n",
    "    Q1,Q3 = in_dfn[analysis_var].quantile([0.25,0.75])\n",
    "    lower = Q1 - (Q3 - Q1)*iqr_cutoff\n",
    "    upper = Q3 + (Q3 - Q1)*iqr_cutoff\n",
    "    \n",
    "    # Get the Outliers\n",
    "    df_outliers = in_dfn.loc[np.where((in_dfn[analysis_var] < lower) | (in_dfn[analysis_var] > upper))]\n",
    "    \n",
    "    return df_outliers\n",
    "\n",
    "util_get_outliers(returns,\"_3Yr Return\",1.5)"
   ]
  },
  {
   "cell_type": "code",
   "execution_count": null,
   "metadata": {},
   "outputs": [],
   "source": []
  }
 ],
 "metadata": {
  "kernelspec": {
   "display_name": "Python 3",
   "language": "python",
   "name": "python3"
  },
  "language_info": {
   "codemirror_mode": {
    "name": "ipython",
    "version": 3
   },
   "file_extension": ".py",
   "mimetype": "text/x-python",
   "name": "python",
   "nbconvert_exporter": "python",
   "pygments_lexer": "ipython3",
   "version": "3.8.8"
  }
 },
 "nbformat": 4,
 "nbformat_minor": 4
}
