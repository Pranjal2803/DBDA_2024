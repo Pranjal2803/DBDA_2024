{
 "cells": [
  {
   "cell_type": "code",
   "execution_count": 1,
   "metadata": {},
   "outputs": [],
   "source": [
    "#====================================================================================\n",
    "# CODE NAME     : Descriptive Statistics.py\n",
    "# PURPOSE       : Demonstrate Hypothesis Testing using Pandas and Scipy\n",
    "# APPLICATION   : Analyzing Mean difference in sales compare to company's target\n",
    "#===================================================================================="
   ]
  },
  {
   "cell_type": "code",
   "execution_count": 2,
   "metadata": {},
   "outputs": [],
   "source": [
    "import numpy as np\n",
    "import pandas as pd"
   ]
  },
  {
   "cell_type": "code",
   "execution_count": 3,
   "metadata": {},
   "outputs": [
    {
     "data": {
      "text/html": [
       "<div>\n",
       "<style scoped>\n",
       "    .dataframe tbody tr th:only-of-type {\n",
       "        vertical-align: middle;\n",
       "    }\n",
       "\n",
       "    .dataframe tbody tr th {\n",
       "        vertical-align: top;\n",
       "    }\n",
       "\n",
       "    .dataframe thead th {\n",
       "        text-align: right;\n",
       "    }\n",
       "</style>\n",
       "<table border=\"1\" class=\"dataframe\">\n",
       "  <thead>\n",
       "    <tr style=\"text-align: right;\">\n",
       "      <th></th>\n",
       "      <th>Sales</th>\n",
       "    </tr>\n",
       "  </thead>\n",
       "  <tbody>\n",
       "    <tr>\n",
       "      <th>0</th>\n",
       "      <td>108.98</td>\n",
       "    </tr>\n",
       "    <tr>\n",
       "      <th>1</th>\n",
       "      <td>152.22</td>\n",
       "    </tr>\n",
       "    <tr>\n",
       "      <th>2</th>\n",
       "      <td>111.45</td>\n",
       "    </tr>\n",
       "    <tr>\n",
       "      <th>3</th>\n",
       "      <td>110.59</td>\n",
       "    </tr>\n",
       "    <tr>\n",
       "      <th>4</th>\n",
       "      <td>127.46</td>\n",
       "    </tr>\n",
       "    <tr>\n",
       "      <th>5</th>\n",
       "      <td>107.26</td>\n",
       "    </tr>\n",
       "    <tr>\n",
       "      <th>6</th>\n",
       "      <td>93.32</td>\n",
       "    </tr>\n",
       "    <tr>\n",
       "      <th>7</th>\n",
       "      <td>91.97</td>\n",
       "    </tr>\n",
       "    <tr>\n",
       "      <th>8</th>\n",
       "      <td>111.56</td>\n",
       "    </tr>\n",
       "    <tr>\n",
       "      <th>9</th>\n",
       "      <td>75.71</td>\n",
       "    </tr>\n",
       "    <tr>\n",
       "      <th>10</th>\n",
       "      <td>128.58</td>\n",
       "    </tr>\n",
       "    <tr>\n",
       "      <th>11</th>\n",
       "      <td>135.11</td>\n",
       "    </tr>\n",
       "  </tbody>\n",
       "</table>\n",
       "</div>"
      ],
      "text/plain": [
       "     Sales\n",
       "0   108.98\n",
       "1   152.22\n",
       "2   111.45\n",
       "3   110.59\n",
       "4   127.46\n",
       "5   107.26\n",
       "6    93.32\n",
       "7    91.97\n",
       "8   111.56\n",
       "9    75.71\n",
       "10  128.58\n",
       "11  135.11"
      ]
     },
     "execution_count": 3,
     "metadata": {},
     "output_type": "execute_result"
    }
   ],
   "source": [
    "# Load Input Data\n",
    "infile = \"C:\\\\Users\\\\Training\\\\Data Science using SAS and Python\\\\Data\\\\invoices.xls\"\n",
    "invoices = pd.read_excel(infile)\n",
    "invoices"
   ]
  },
  {
   "cell_type": "code",
   "execution_count": 4,
   "metadata": {},
   "outputs": [
    {
     "data": {
      "text/plain": [
       "112.85083333333334"
      ]
     },
     "execution_count": 4,
     "metadata": {},
     "output_type": "execute_result"
    }
   ],
   "source": [
    "# Get the Mean of Sales (Response Variable)\n",
    "invoices_stat = invoices.Sales.mean()\n",
    "# invoices_stat = retail_stat.rename(columns = {'Sales':'Total Sales'})\n",
    "invoices_stat"
   ]
  },
  {
   "cell_type": "code",
   "execution_count": 5,
   "metadata": {},
   "outputs": [
    {
     "data": {
      "text/html": [
       "<div>\n",
       "<style scoped>\n",
       "    .dataframe tbody tr th:only-of-type {\n",
       "        vertical-align: middle;\n",
       "    }\n",
       "\n",
       "    .dataframe tbody tr th {\n",
       "        vertical-align: top;\n",
       "    }\n",
       "\n",
       "    .dataframe thead th {\n",
       "        text-align: right;\n",
       "    }\n",
       "</style>\n",
       "<table border=\"1\" class=\"dataframe\">\n",
       "  <thead>\n",
       "    <tr style=\"text-align: right;\">\n",
       "      <th></th>\n",
       "      <th>Population_Mean</th>\n",
       "      <th>Sample_Mean</th>\n",
       "      <th>T_Value</th>\n",
       "      <th>Alpha_Value</th>\n",
       "      <th>P_Value</th>\n",
       "      <th>Decision</th>\n",
       "    </tr>\n",
       "  </thead>\n",
       "  <tbody>\n",
       "    <tr>\n",
       "      <th>Sales</th>\n",
       "      <td>120</td>\n",
       "      <td>112.85</td>\n",
       "      <td>-1.19</td>\n",
       "      <td>0.05</td>\n",
       "      <td>0.26</td>\n",
       "      <td>Fail to Reject</td>\n",
       "    </tr>\n",
       "  </tbody>\n",
       "</table>\n",
       "</div>"
      ],
      "text/plain": [
       "       Population_Mean  Sample_Mean  T_Value  Alpha_Value  P_Value  \\\n",
       "Sales              120       112.85    -1.19         0.05     0.26   \n",
       "\n",
       "             Decision  \n",
       "Sales  Fail to Reject  "
      ]
     },
     "execution_count": 5,
     "metadata": {},
     "output_type": "execute_result"
    }
   ],
   "source": [
    "# Hyphothesis Testing\n",
    "\n",
    "# One Sample T-test on Pandas dataframe\n",
    "\n",
    "from scipy import stats\n",
    "\n",
    "mu = 120 # Company's Target or Hypothesis which we need to test or Null Hyphothesis\n",
    "\n",
    "# mean_sales = pd.Series(retail_desc_stat[:1].Mean.round(2))\n",
    "# mean_sales = mean_sales.get(key = 'Sales')\n",
    "mean_sales = invoices.Sales.mean()\n",
    "\n",
    "alpha = 0.05 # Type 1 Error Rate or Level of significance\n",
    "\n",
    "sales_t_test = pd.DataFrame(stats.ttest_1samp(invoices.Sales,mu), index = [\"T_Value\",\"P_Value\"]).transpose()\n",
    "sales_t_test[\"Alpha_Value\"] = alpha\n",
    "sales_t_test[\"Sample_Mean\"] = mean_sales\n",
    "sales_t_test[\"Population_Mean\"] = mu\n",
    "sales_t_test = sales_t_test.rename(index = {0:'Sales'})\n",
    "sales_t_test = sales_t_test.reindex(columns = ['Population_Mean','Sample_Mean','T_Value','Alpha_Value','P_Value'])\n",
    "sales_t_test[\"Decision\"] = np.where(sales_t_test['P_Value'] < sales_t_test['Alpha_Value'],\"Reject\",\"Fail to Reject\")\n",
    "sales_t_test.round(2)"
   ]
  },
  {
   "cell_type": "code",
   "execution_count": 7,
   "metadata": {},
   "outputs": [
    {
     "ename": "NameError",
     "evalue": "name 'sales' is not defined",
     "output_type": "error",
     "traceback": [
      "\u001b[1;31m---------------------------------------------------------------------------\u001b[0m",
      "\u001b[1;31mNameError\u001b[0m                                 Traceback (most recent call last)",
      "\u001b[1;32m<ipython-input-7-436b284afb5a>\u001b[0m in \u001b[0;36m<module>\u001b[1;34m\u001b[0m\n\u001b[1;32m----> 1\u001b[1;33m \u001b[0msales\u001b[0m\u001b[1;33m.\u001b[0m\u001b[0mhead\u001b[0m\u001b[1;33m(\u001b[0m\u001b[1;33m)\u001b[0m\u001b[1;33m\u001b[0m\u001b[1;33m\u001b[0m\u001b[0m\n\u001b[0m",
      "\u001b[1;31mNameError\u001b[0m: name 'sales' is not defined"
     ]
    }
   ],
   "source": [
    "sales.head()"
   ]
  },
  {
   "cell_type": "code",
   "execution_count": 4,
   "metadata": {},
   "outputs": [
    {
     "data": {
      "text/html": [
       "<div>\n",
       "<style scoped>\n",
       "    .dataframe tbody tr th:only-of-type {\n",
       "        vertical-align: middle;\n",
       "    }\n",
       "\n",
       "    .dataframe tbody tr th {\n",
       "        vertical-align: top;\n",
       "    }\n",
       "\n",
       "    .dataframe thead th {\n",
       "        text-align: right;\n",
       "    }\n",
       "</style>\n",
       "<table border=\"1\" class=\"dataframe\">\n",
       "  <thead>\n",
       "    <tr style=\"text-align: right;\">\n",
       "      <th></th>\n",
       "      <th>Display_Type</th>\n",
       "      <th>Sales</th>\n",
       "    </tr>\n",
       "  </thead>\n",
       "  <tbody>\n",
       "    <tr>\n",
       "      <th>0</th>\n",
       "      <td>Normal</td>\n",
       "      <td>22</td>\n",
       "    </tr>\n",
       "    <tr>\n",
       "      <th>1</th>\n",
       "      <td>Normal</td>\n",
       "      <td>34</td>\n",
       "    </tr>\n",
       "    <tr>\n",
       "      <th>2</th>\n",
       "      <td>Normal</td>\n",
       "      <td>52</td>\n",
       "    </tr>\n",
       "    <tr>\n",
       "      <th>3</th>\n",
       "      <td>Normal</td>\n",
       "      <td>62</td>\n",
       "    </tr>\n",
       "    <tr>\n",
       "      <th>4</th>\n",
       "      <td>Normal</td>\n",
       "      <td>30</td>\n",
       "    </tr>\n",
       "  </tbody>\n",
       "</table>\n",
       "</div>"
      ],
      "text/plain": [
       "  Display_Type  Sales\n",
       "0       Normal     22\n",
       "1       Normal     34\n",
       "2       Normal     52\n",
       "3       Normal     62\n",
       "4       Normal     30"
      ]
     },
     "execution_count": 4,
     "metadata": {},
     "output_type": "execute_result"
    }
   ],
   "source": [
    "# Two Sample T-test on Pandas Dataframe\n",
    "\n",
    "# Load Input Data\n",
    "infile = \"C:\\\\Users\\\\Training\\\\Data Science using SAS and Python\\\\Data\\\\COLA.XLS\"\n",
    "sales = pd.read_excel(infile, sheet_name = \"Data\")\n",
    "normal_sales = sales[sales.Display_Type == \"Normal\"]\n",
    "normal_sales.head()"
   ]
  },
  {
   "cell_type": "code",
   "execution_count": 6,
   "metadata": {},
   "outputs": [
    {
     "data": {
      "text/html": [
       "<div>\n",
       "<style scoped>\n",
       "    .dataframe tbody tr th:only-of-type {\n",
       "        vertical-align: middle;\n",
       "    }\n",
       "\n",
       "    .dataframe tbody tr th {\n",
       "        vertical-align: top;\n",
       "    }\n",
       "\n",
       "    .dataframe thead th {\n",
       "        text-align: right;\n",
       "    }\n",
       "</style>\n",
       "<table border=\"1\" class=\"dataframe\">\n",
       "  <thead>\n",
       "    <tr style=\"text-align: right;\">\n",
       "      <th></th>\n",
       "      <th>Display_Type</th>\n",
       "      <th>Sales</th>\n",
       "    </tr>\n",
       "  </thead>\n",
       "  <tbody>\n",
       "    <tr>\n",
       "      <th>10</th>\n",
       "      <td>EndAisle</td>\n",
       "      <td>52</td>\n",
       "    </tr>\n",
       "    <tr>\n",
       "      <th>11</th>\n",
       "      <td>EndAisle</td>\n",
       "      <td>71</td>\n",
       "    </tr>\n",
       "    <tr>\n",
       "      <th>12</th>\n",
       "      <td>EndAisle</td>\n",
       "      <td>76</td>\n",
       "    </tr>\n",
       "    <tr>\n",
       "      <th>13</th>\n",
       "      <td>EndAisle</td>\n",
       "      <td>54</td>\n",
       "    </tr>\n",
       "    <tr>\n",
       "      <th>14</th>\n",
       "      <td>EndAisle</td>\n",
       "      <td>67</td>\n",
       "    </tr>\n",
       "  </tbody>\n",
       "</table>\n",
       "</div>"
      ],
      "text/plain": [
       "   Display_Type  Sales\n",
       "10     EndAisle     52\n",
       "11     EndAisle     71\n",
       "12     EndAisle     76\n",
       "13     EndAisle     54\n",
       "14     EndAisle     67"
      ]
     },
     "execution_count": 6,
     "metadata": {},
     "output_type": "execute_result"
    }
   ],
   "source": [
    "ea_sales = sales[sales.Display_Type == \"EndAisle\"]\n",
    "ea_sales.head()"
   ]
  },
  {
   "cell_type": "code",
   "execution_count": 12,
   "metadata": {},
   "outputs": [
    {
     "data": {
      "text/html": [
       "<div>\n",
       "<style scoped>\n",
       "    .dataframe tbody tr th:only-of-type {\n",
       "        vertical-align: middle;\n",
       "    }\n",
       "\n",
       "    .dataframe tbody tr th {\n",
       "        vertical-align: top;\n",
       "    }\n",
       "\n",
       "    .dataframe thead th {\n",
       "        text-align: right;\n",
       "    }\n",
       "</style>\n",
       "<table border=\"1\" class=\"dataframe\">\n",
       "  <thead>\n",
       "    <tr style=\"text-align: right;\">\n",
       "      <th></th>\n",
       "      <th>Description</th>\n",
       "      <th>T test type</th>\n",
       "      <th>T Value</th>\n",
       "      <th>Alpha</th>\n",
       "      <th>P Value</th>\n",
       "      <th>Decision</th>\n",
       "    </tr>\n",
       "  </thead>\n",
       "  <tbody>\n",
       "    <tr>\n",
       "      <th>Sales</th>\n",
       "      <td>Normal - EndAisle</td>\n",
       "      <td>Pooled Variance</td>\n",
       "      <td>3.04455</td>\n",
       "      <td>0.05</td>\n",
       "      <td>0.00697</td>\n",
       "      <td>Reject</td>\n",
       "    </tr>\n",
       "  </tbody>\n",
       "</table>\n",
       "</div>"
      ],
      "text/plain": [
       "             Description      T test type  T Value  Alpha  P Value Decision\n",
       "Sales  Normal - EndAisle  Pooled Variance  3.04455   0.05  0.00697   Reject"
      ]
     },
     "execution_count": 12,
     "metadata": {},
     "output_type": "execute_result"
    }
   ],
   "source": [
    "# Two Sample T-test on Pandas Dataframe\n",
    "# Check whether population mean of Normal Sales and EndAisle Sales are different\n",
    "\n",
    "#-------------------------------------------------------------\n",
    "# Step 1: Check for the equality variance between two groups\n",
    "#-------------------------------------------------------------\n",
    "F = np.var(normal_sales.Sales) / np.var(ea_sales.Sales)\n",
    "alpha = 0.05\n",
    "df1 = len(normal_sales.Sales-1)\n",
    "df2 = len(ea_sales.Sales-1)\n",
    "f_p_value = stats.f.cdf(F, df1, df2)\n",
    "\n",
    "#-------------------------------------------------------------\n",
    "# Step 2: Perform T-test for difference between two groups\n",
    "#-------------------------------------------------------------\n",
    "if f_p_value > alpha:\n",
    "    t_value,t_p_value = stats.ttest_ind(ea_sales.Sales,normal_sales.Sales,equal_var = True)\n",
    "    data = {\"Description\":\"Normal - EndAisle\", \"T test type\": \"Pooled Variance\",\n",
    "            \"T Value\":t_value, \"Alpha\":alpha, \"P Value\":t_p_value}\n",
    "    two_samp_t_test = pd.DataFrame(data,index = [\"Sales\"])\n",
    "    two_samp_t_test[\"Decision\"] = np.where(two_samp_t_test[\"P Value\"] < alpha, \"Reject\", \"Do not reject\")\n",
    "    \n",
    "else:    \n",
    "    t_value,t_p_value = stats.ttest_ind(ea_sales.Sales,normal_sales.Sales,equal_var = False)\n",
    "    data = {\"Description\":\"Normal - EndAise\", \"T test type\": \"Separate Variance\",\n",
    "            \"T Value\":t_value, \"Alpha\":alpha, \"P Value\":t_p_value}\n",
    "    two_samp_t_test = pd.DataFrame(data,index = [\"Sales\"])\n",
    "    two_samp_t_test[\"Decision\"] = np.where(two_samp_t_test[\"P Value\"] < alpha, \"Reject\", \"Do not reject\")\n",
    "    \n",
    "two_samp_t_test.round(5)"
   ]
  },
  {
   "cell_type": "code",
   "execution_count": null,
   "metadata": {},
   "outputs": [],
   "source": [
    "def hyppthesis_testing(analysis_var,n_samples,samp1,samp2):\n",
    "    .......\n",
    "    return\n",
    "\n",
    "hyppthesis_testing(analysis_var = \"Sales\", n_samples = 2,samp1 = Africa, Samp2 = Pacific)\n",
    "hyppthesis_testing(analysis_var = \"Sales\", n_samples = 1,samp1 = , Samp2 = )"
   ]
  }
 ],
 "metadata": {
  "kernelspec": {
   "display_name": "Python 3",
   "language": "python",
   "name": "python3"
  },
  "language_info": {
   "codemirror_mode": {
    "name": "ipython",
    "version": 3
   },
   "file_extension": ".py",
   "mimetype": "text/x-python",
   "name": "python",
   "nbconvert_exporter": "python",
   "pygments_lexer": "ipython3",
   "version": "3.8.8"
  }
 },
 "nbformat": 4,
 "nbformat_minor": 2
}
