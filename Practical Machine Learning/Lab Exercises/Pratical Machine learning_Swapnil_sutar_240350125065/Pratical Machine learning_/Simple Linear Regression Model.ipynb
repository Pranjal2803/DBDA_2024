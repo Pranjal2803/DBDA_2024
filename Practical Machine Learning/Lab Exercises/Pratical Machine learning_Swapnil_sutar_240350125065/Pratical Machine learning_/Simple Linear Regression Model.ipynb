{
 "cells": [
  {
   "cell_type": "markdown",
   "metadata": {},
   "source": [
    "# Simple Linear Regression Model"
   ]
  },
  {
   "cell_type": "code",
   "execution_count": 1,
   "metadata": {},
   "outputs": [],
   "source": [
    "#=============================================================================================\n",
    "# CODE NAME     : Simple Linear regression Model.py\n",
    "# PURPOSE       : Demonstrate application of regression analysis using Pandas and statsmodels \n",
    "# APPLICATION   : Analyzing Fitness dataset\n",
    "#=============================================================================================="
   ]
  },
  {
   "cell_type": "code",
   "execution_count": 1,
   "metadata": {},
   "outputs": [
    {
     "data": {
      "text/html": [
       "<div>\n",
       "<style scoped>\n",
       "    .dataframe tbody tr th:only-of-type {\n",
       "        vertical-align: middle;\n",
       "    }\n",
       "\n",
       "    .dataframe tbody tr th {\n",
       "        vertical-align: top;\n",
       "    }\n",
       "\n",
       "    .dataframe thead th {\n",
       "        text-align: right;\n",
       "    }\n",
       "</style>\n",
       "<table border=\"1\" class=\"dataframe\">\n",
       "  <thead>\n",
       "    <tr style=\"text-align: right;\">\n",
       "      <th></th>\n",
       "      <th>Name</th>\n",
       "      <th>Gender</th>\n",
       "      <th>RunTime</th>\n",
       "      <th>Age</th>\n",
       "      <th>Weight</th>\n",
       "      <th>Oxygen_Consumption</th>\n",
       "      <th>Run_Pulse</th>\n",
       "      <th>Rest_Pulse</th>\n",
       "      <th>Maximum_Pulse</th>\n",
       "      <th>Performance</th>\n",
       "    </tr>\n",
       "  </thead>\n",
       "  <tbody>\n",
       "    <tr>\n",
       "      <th>0</th>\n",
       "      <td>Donna</td>\n",
       "      <td>F</td>\n",
       "      <td>8.17</td>\n",
       "      <td>42</td>\n",
       "      <td>68.15</td>\n",
       "      <td>59.57</td>\n",
       "      <td>166</td>\n",
       "      <td>40</td>\n",
       "      <td>172</td>\n",
       "      <td>90</td>\n",
       "    </tr>\n",
       "    <tr>\n",
       "      <th>1</th>\n",
       "      <td>Gracie</td>\n",
       "      <td>F</td>\n",
       "      <td>8.63</td>\n",
       "      <td>38</td>\n",
       "      <td>81.87</td>\n",
       "      <td>60.06</td>\n",
       "      <td>170</td>\n",
       "      <td>48</td>\n",
       "      <td>186</td>\n",
       "      <td>94</td>\n",
       "    </tr>\n",
       "    <tr>\n",
       "      <th>2</th>\n",
       "      <td>Luanne</td>\n",
       "      <td>F</td>\n",
       "      <td>8.65</td>\n",
       "      <td>43</td>\n",
       "      <td>85.84</td>\n",
       "      <td>54.30</td>\n",
       "      <td>156</td>\n",
       "      <td>45</td>\n",
       "      <td>168</td>\n",
       "      <td>83</td>\n",
       "    </tr>\n",
       "    <tr>\n",
       "      <th>3</th>\n",
       "      <td>Mimi</td>\n",
       "      <td>F</td>\n",
       "      <td>8.92</td>\n",
       "      <td>50</td>\n",
       "      <td>70.87</td>\n",
       "      <td>54.63</td>\n",
       "      <td>146</td>\n",
       "      <td>48</td>\n",
       "      <td>155</td>\n",
       "      <td>67</td>\n",
       "    </tr>\n",
       "    <tr>\n",
       "      <th>4</th>\n",
       "      <td>Chris</td>\n",
       "      <td>M</td>\n",
       "      <td>8.95</td>\n",
       "      <td>49</td>\n",
       "      <td>81.42</td>\n",
       "      <td>49.16</td>\n",
       "      <td>180</td>\n",
       "      <td>44</td>\n",
       "      <td>185</td>\n",
       "      <td>72</td>\n",
       "    </tr>\n",
       "  </tbody>\n",
       "</table>\n",
       "</div>"
      ],
      "text/plain": [
       "     Name Gender  RunTime  Age  Weight  Oxygen_Consumption  Run_Pulse  \\\n",
       "0   Donna      F     8.17   42   68.15               59.57        166   \n",
       "1  Gracie      F     8.63   38   81.87               60.06        170   \n",
       "2  Luanne      F     8.65   43   85.84               54.30        156   \n",
       "3    Mimi      F     8.92   50   70.87               54.63        146   \n",
       "4   Chris      M     8.95   49   81.42               49.16        180   \n",
       "\n",
       "   Rest_Pulse  Maximum_Pulse  Performance  \n",
       "0          40            172           90  \n",
       "1          48            186           94  \n",
       "2          45            168           83  \n",
       "3          48            155           67  \n",
       "4          44            185           72  "
      ]
     },
     "execution_count": 1,
     "metadata": {},
     "output_type": "execute_result"
    }
   ],
   "source": [
    "# Load Input data\n",
    "import numpy as np\n",
    "import pandas as pd\n",
    "\n",
    "fitness = pd.read_excel(\"C:\\\\Users\\\\Training\\\\Data Science using SAS and Python\\\\Data\\\\fitness.xlsx\")\n",
    "fitness.head()"
   ]
  },
  {
   "cell_type": "markdown",
   "metadata": {},
   "source": [
    "# Fit Simple Linear Regression Model"
   ]
  },
  {
   "cell_type": "code",
   "execution_count": 7,
   "metadata": {
    "scrolled": true
   },
   "outputs": [
    {
     "data": {
      "text/html": [
       "<table class=\"simpletable\">\n",
       "<caption>OLS Regression Results</caption>\n",
       "<tr>\n",
       "  <th>Dep. Variable:</th>    <td>Oxygen_Consumption</td> <th>  R-squared:         </th> <td>   0.743</td>\n",
       "</tr>\n",
       "<tr>\n",
       "  <th>Model:</th>                    <td>OLS</td>        <th>  Adj. R-squared:    </th> <td>   0.735</td>\n",
       "</tr>\n",
       "<tr>\n",
       "  <th>Method:</th>              <td>Least Squares</td>   <th>  F-statistic:       </th> <td>   84.00</td>\n",
       "</tr>\n",
       "<tr>\n",
       "  <th>Date:</th>              <td>Sun, 23 May 2021</td>  <th>  Prob (F-statistic):</th> <td>4.59e-10</td>\n",
       "</tr>\n",
       "<tr>\n",
       "  <th>Time:</th>                  <td>11:39:27</td>      <th>  Log-Likelihood:    </th> <td> -74.258</td>\n",
       "</tr>\n",
       "<tr>\n",
       "  <th>No. Observations:</th>       <td>    31</td>       <th>  AIC:               </th> <td>   152.5</td>\n",
       "</tr>\n",
       "<tr>\n",
       "  <th>Df Residuals:</th>           <td>    29</td>       <th>  BIC:               </th> <td>   155.4</td>\n",
       "</tr>\n",
       "<tr>\n",
       "  <th>Df Model:</th>               <td>     1</td>       <th>                     </th>     <td> </td>   \n",
       "</tr>\n",
       "<tr>\n",
       "  <th>Covariance Type:</th>       <td>nonrobust</td>     <th>                     </th>     <td> </td>   \n",
       "</tr>\n",
       "</table>\n",
       "<table class=\"simpletable\">\n",
       "<tr>\n",
       "      <td></td>         <th>coef</th>     <th>std err</th>      <th>t</th>      <th>P>|t|</th>  <th>[0.025</th>    <th>0.975]</th>  \n",
       "</tr>\n",
       "<tr>\n",
       "  <th>Intercept</th> <td>   82.4249</td> <td>    3.856</td> <td>   21.377</td> <td> 0.000</td> <td>   74.539</td> <td>   90.311</td>\n",
       "</tr>\n",
       "<tr>\n",
       "  <th>RunTime</th>   <td>   -3.3109</td> <td>    0.361</td> <td>   -9.165</td> <td> 0.000</td> <td>   -4.050</td> <td>   -2.572</td>\n",
       "</tr>\n",
       "</table>\n",
       "<table class=\"simpletable\">\n",
       "<tr>\n",
       "  <th>Omnibus:</th>       <td> 0.032</td> <th>  Durbin-Watson:     </th> <td>   1.678</td>\n",
       "</tr>\n",
       "<tr>\n",
       "  <th>Prob(Omnibus):</th> <td> 0.984</td> <th>  Jarque-Bera (JB):  </th> <td>   0.073</td>\n",
       "</tr>\n",
       "<tr>\n",
       "  <th>Skew:</th>          <td> 0.028</td> <th>  Prob(JB):          </th> <td>   0.964</td>\n",
       "</tr>\n",
       "<tr>\n",
       "  <th>Kurtosis:</th>      <td> 2.769</td> <th>  Cond. No.          </th> <td>    84.2</td>\n",
       "</tr>\n",
       "</table><br/><br/>Warnings:<br/>[1] Standard Errors assume that the covariance matrix of the errors is correctly specified."
      ],
      "text/plain": [
       "<class 'statsmodels.iolib.summary.Summary'>\n",
       "\"\"\"\n",
       "                            OLS Regression Results                            \n",
       "==============================================================================\n",
       "Dep. Variable:     Oxygen_Consumption   R-squared:                       0.743\n",
       "Model:                            OLS   Adj. R-squared:                  0.735\n",
       "Method:                 Least Squares   F-statistic:                     84.00\n",
       "Date:                Sun, 23 May 2021   Prob (F-statistic):           4.59e-10\n",
       "Time:                        11:39:27   Log-Likelihood:                -74.258\n",
       "No. Observations:                  31   AIC:                             152.5\n",
       "Df Residuals:                      29   BIC:                             155.4\n",
       "Df Model:                           1                                         \n",
       "Covariance Type:            nonrobust                                         \n",
       "==============================================================================\n",
       "                 coef    std err          t      P>|t|      [0.025      0.975]\n",
       "------------------------------------------------------------------------------\n",
       "Intercept     82.4249      3.856     21.377      0.000      74.539      90.311\n",
       "RunTime       -3.3109      0.361     -9.165      0.000      -4.050      -2.572\n",
       "==============================================================================\n",
       "Omnibus:                        0.032   Durbin-Watson:                   1.678\n",
       "Prob(Omnibus):                  0.984   Jarque-Bera (JB):                0.073\n",
       "Skew:                           0.028   Prob(JB):                        0.964\n",
       "Kurtosis:                       2.769   Cond. No.                         84.2\n",
       "==============================================================================\n",
       "\n",
       "Warnings:\n",
       "[1] Standard Errors assume that the covariance matrix of the errors is correctly specified.\n",
       "\"\"\""
      ]
     },
     "execution_count": 7,
     "metadata": {},
     "output_type": "execute_result"
    }
   ],
   "source": [
    "from statsmodels.formula.api import ols\n",
    "model = ols('Oxygen_Consumption ~ RunTime', data = fitness)\n",
    "model = model.fit()\n",
    "model.summary()"
   ]
  },
  {
   "cell_type": "markdown",
   "metadata": {},
   "source": [
    "# ANOVA Table based on Linear Regression"
   ]
  },
  {
   "cell_type": "code",
   "execution_count": 8,
   "metadata": {},
   "outputs": [
    {
     "data": {
      "text/html": [
       "<div>\n",
       "<style scoped>\n",
       "    .dataframe tbody tr th:only-of-type {\n",
       "        vertical-align: middle;\n",
       "    }\n",
       "\n",
       "    .dataframe tbody tr th {\n",
       "        vertical-align: top;\n",
       "    }\n",
       "\n",
       "    .dataframe thead th {\n",
       "        text-align: right;\n",
       "    }\n",
       "</style>\n",
       "<table border=\"1\" class=\"dataframe\">\n",
       "  <thead>\n",
       "    <tr style=\"text-align: right;\">\n",
       "      <th></th>\n",
       "      <th>df</th>\n",
       "      <th>sum_sq</th>\n",
       "      <th>mean_sq</th>\n",
       "      <th>F</th>\n",
       "      <th>PR(&gt;F)</th>\n",
       "    </tr>\n",
       "  </thead>\n",
       "  <tbody>\n",
       "    <tr>\n",
       "      <th>RunTime</th>\n",
       "      <td>1.0</td>\n",
       "      <td>633.014584</td>\n",
       "      <td>633.014584</td>\n",
       "      <td>84.000299</td>\n",
       "      <td>4.589832e-10</td>\n",
       "    </tr>\n",
       "    <tr>\n",
       "      <th>Residual</th>\n",
       "      <td>29.0</td>\n",
       "      <td>218.539971</td>\n",
       "      <td>7.535861</td>\n",
       "      <td>NaN</td>\n",
       "      <td>NaN</td>\n",
       "    </tr>\n",
       "  </tbody>\n",
       "</table>\n",
       "</div>"
      ],
      "text/plain": [
       "            df      sum_sq     mean_sq          F        PR(>F)\n",
       "RunTime    1.0  633.014584  633.014584  84.000299  4.589832e-10\n",
       "Residual  29.0  218.539971    7.535861        NaN           NaN"
      ]
     },
     "execution_count": 8,
     "metadata": {},
     "output_type": "execute_result"
    }
   ],
   "source": [
    "import statsmodels.api as sm\n",
    "anova_table = sm.stats.anova_lm(model)\n",
    "anova_table"
   ]
  },
  {
   "cell_type": "markdown",
   "metadata": {},
   "source": [
    "# Predictions based on fitted model"
   ]
  },
  {
   "cell_type": "code",
   "execution_count": 12,
   "metadata": {},
   "outputs": [
    {
     "data": {
      "text/plain": [
       "0    52.627249\n",
       "1    49.316395\n",
       "2    46.005540\n",
       "3    42.694685\n",
       "4    39.383830\n",
       "dtype: float64"
      ]
     },
     "execution_count": 12,
     "metadata": {},
     "output_type": "execute_result"
    }
   ],
   "source": [
    "need_predictions = pd.DataFrame(list(range(9,14)))\n",
    "need_predictions.columns = [\"RunTime\"]\n",
    "predictions = model.predict(need_predictions)\n",
    "predictions"
   ]
  },
  {
   "cell_type": "code",
   "execution_count": null,
   "metadata": {},
   "outputs": [],
   "source": []
  }
 ],
 "metadata": {
  "kernelspec": {
   "display_name": "Python 3",
   "language": "python",
   "name": "python3"
  },
  "language_info": {
   "codemirror_mode": {
    "name": "ipython",
    "version": 3
   },
   "file_extension": ".py",
   "mimetype": "text/x-python",
   "name": "python",
   "nbconvert_exporter": "python",
   "pygments_lexer": "ipython3",
   "version": "3.8.8"
  }
 },
 "nbformat": 4,
 "nbformat_minor": 4
}
