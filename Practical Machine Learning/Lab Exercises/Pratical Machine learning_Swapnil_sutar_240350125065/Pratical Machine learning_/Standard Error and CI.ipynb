{
 "cells": [
  {
   "cell_type": "code",
   "execution_count": 1,
   "metadata": {},
   "outputs": [],
   "source": [
    "#=============================================================================\n",
    "# CODE NAME     : Standard Error and CI.py\n",
    "# PURPOSE       : Demonstrate Standard Error and CI Pandas and Scipy \n",
    "# APPLICATION   : Analyzing Mutual Fund Returns across risk categories\n",
    "#============================================================================="
   ]
  },
  {
   "cell_type": "code",
   "execution_count": 1,
   "metadata": {},
   "outputs": [
    {
     "name": "stdout",
     "output_type": "stream",
     "text": [
      "Listing First Five Records\n"
     ]
    },
    {
     "data": {
      "text/html": [
       "<div>\n",
       "<style scoped>\n",
       "    .dataframe tbody tr th:only-of-type {\n",
       "        vertical-align: middle;\n",
       "    }\n",
       "\n",
       "    .dataframe tbody tr th {\n",
       "        vertical-align: top;\n",
       "    }\n",
       "\n",
       "    .dataframe thead th {\n",
       "        text-align: right;\n",
       "    }\n",
       "</style>\n",
       "<table border=\"1\" class=\"dataframe\">\n",
       "  <thead>\n",
       "    <tr style=\"text-align: right;\">\n",
       "      <th></th>\n",
       "      <th>Fund</th>\n",
       "      <th>Objective</th>\n",
       "      <th>Sales charge</th>\n",
       "      <th>Exp Ratio</th>\n",
       "      <th>Risk</th>\n",
       "      <th>Return 1999</th>\n",
       "      <th>Return Q1-2000</th>\n",
       "      <th>_3Yr Return</th>\n",
       "    </tr>\n",
       "  </thead>\n",
       "  <tbody>\n",
       "    <tr>\n",
       "      <th>0</th>\n",
       "      <td>AMER CENT Gl Gold</td>\n",
       "      <td>SC</td>\n",
       "      <td>N</td>\n",
       "      <td>0.69</td>\n",
       "      <td>high</td>\n",
       "      <td>-3.2</td>\n",
       "      <td>-17.01</td>\n",
       "      <td>-22.82</td>\n",
       "    </tr>\n",
       "    <tr>\n",
       "      <th>1</th>\n",
       "      <td>FPA Paramount</td>\n",
       "      <td>GI</td>\n",
       "      <td>Y</td>\n",
       "      <td>1.03</td>\n",
       "      <td>high</td>\n",
       "      <td>1.6</td>\n",
       "      <td>-13.30</td>\n",
       "      <td>-12.57</td>\n",
       "    </tr>\n",
       "    <tr>\n",
       "      <th>2</th>\n",
       "      <td>FIDELITY emerging markets</td>\n",
       "      <td>IL</td>\n",
       "      <td>Y</td>\n",
       "      <td>1.45</td>\n",
       "      <td>high</td>\n",
       "      <td>70.5</td>\n",
       "      <td>1.58</td>\n",
       "      <td>-10.55</td>\n",
       "    </tr>\n",
       "    <tr>\n",
       "      <th>3</th>\n",
       "      <td>GPLDMAN SACHS Asis Gr A</td>\n",
       "      <td>IL</td>\n",
       "      <td>Y</td>\n",
       "      <td>1.85</td>\n",
       "      <td>high</td>\n",
       "      <td>59.4</td>\n",
       "      <td>1.93</td>\n",
       "      <td>-5.32</td>\n",
       "    </tr>\n",
       "    <tr>\n",
       "      <th>4</th>\n",
       "      <td>Berwyn</td>\n",
       "      <td>SC</td>\n",
       "      <td>N</td>\n",
       "      <td>1.20</td>\n",
       "      <td>high</td>\n",
       "      <td>-4.6</td>\n",
       "      <td>-5.75</td>\n",
       "      <td>-3.16</td>\n",
       "    </tr>\n",
       "  </tbody>\n",
       "</table>\n",
       "</div>"
      ],
      "text/plain": [
       "                        Fund Objective Sales charge  Exp Ratio  Risk  \\\n",
       "0          AMER CENT Gl Gold        SC            N       0.69  high   \n",
       "1              FPA Paramount        GI            Y       1.03  high   \n",
       "2  FIDELITY emerging markets        IL            Y       1.45  high   \n",
       "3    GPLDMAN SACHS Asis Gr A        IL            Y       1.85  high   \n",
       "4                     Berwyn        SC            N       1.20  high   \n",
       "\n",
       "    Return 1999   Return Q1-2000  _3Yr Return  \n",
       "0          -3.2           -17.01       -22.82  \n",
       "1           1.6           -13.30       -12.57  \n",
       "2          70.5             1.58       -10.55  \n",
       "3          59.4             1.93        -5.32  \n",
       "4          -4.6            -5.75        -3.16  "
      ]
     },
     "execution_count": 1,
     "metadata": {},
     "output_type": "execute_result"
    }
   ],
   "source": [
    "# Get the PANDAS Library\n",
    "import numpy as np\n",
    "import pandas as pd\n",
    "\n",
    "# Load Input Data\n",
    "infile = \"C:\\\\Users\\\\Training\\\\Data Science using SAS and Python\\\\Data\\\\MF2000.xlsx\"\n",
    "returns = pd.read_excel(infile,sheet_name='Data')\n",
    "print(\"Listing First Five Records\")\n",
    "returns.head()"
   ]
  },
  {
   "cell_type": "code",
   "execution_count": 3,
   "metadata": {},
   "outputs": [
    {
     "name": "stdout",
     "output_type": "stream",
     "text": [
      "Standard Error of the mean for 3 years returns\n"
     ]
    },
    {
     "data": {
      "text/html": [
       "<div>\n",
       "<style scoped>\n",
       "    .dataframe tbody tr th:only-of-type {\n",
       "        vertical-align: middle;\n",
       "    }\n",
       "\n",
       "    .dataframe tbody tr th {\n",
       "        vertical-align: top;\n",
       "    }\n",
       "\n",
       "    .dataframe thead th {\n",
       "        text-align: right;\n",
       "    }\n",
       "</style>\n",
       "<table border=\"1\" class=\"dataframe\">\n",
       "  <thead>\n",
       "    <tr style=\"text-align: right;\">\n",
       "      <th></th>\n",
       "      <th>_3Yr Return</th>\n",
       "    </tr>\n",
       "  </thead>\n",
       "  <tbody>\n",
       "    <tr>\n",
       "      <th>0</th>\n",
       "      <td>1.631512</td>\n",
       "    </tr>\n",
       "  </tbody>\n",
       "</table>\n",
       "</div>"
      ],
      "text/plain": [
       "   _3Yr Return\n",
       "0     1.631512"
      ]
     },
     "execution_count": 3,
     "metadata": {},
     "output_type": "execute_result"
    }
   ],
   "source": [
    "# Get the Standard Error of the Mean for 3 years returns\n",
    "returns_sem = pd.DataFrame(returns.sem()[['_3Yr Return']])\n",
    "print(\"Standard Error of the mean for 3 years returns\")\n",
    "returns_sem.transpose()"
   ]
  },
  {
   "cell_type": "code",
   "execution_count": 3,
   "metadata": {},
   "outputs": [
    {
     "name": "stdout",
     "output_type": "stream",
     "text": [
      "Confidence Interval of the Mean for 3 Years Returns\n"
     ]
    },
    {
     "name": "stderr",
     "output_type": "stream",
     "text": [
      "C:\\Users\\Urvish\\anaconda3\\lib\\site-packages\\ipykernel_launcher.py:8: DeprecationWarning: scipy.mean is deprecated and will be removed in SciPy 2.0.0, use numpy.mean instead\n",
      "  \n"
     ]
    },
    {
     "data": {
      "text/html": [
       "<div>\n",
       "<style scoped>\n",
       "    .dataframe tbody tr th:only-of-type {\n",
       "        vertical-align: middle;\n",
       "    }\n",
       "\n",
       "    .dataframe tbody tr th {\n",
       "        vertical-align: top;\n",
       "    }\n",
       "\n",
       "    .dataframe thead th {\n",
       "        text-align: right;\n",
       "    }\n",
       "</style>\n",
       "<table border=\"1\" class=\"dataframe\">\n",
       "  <thead>\n",
       "    <tr style=\"text-align: right;\">\n",
       "      <th></th>\n",
       "      <th>Mean</th>\n",
       "      <th>Start</th>\n",
       "      <th>End</th>\n",
       "    </tr>\n",
       "  </thead>\n",
       "  <tbody>\n",
       "    <tr>\n",
       "      <th>3 Yr Returns</th>\n",
       "      <td>25.462263</td>\n",
       "      <td>22.235849</td>\n",
       "      <td>28.688677</td>\n",
       "    </tr>\n",
       "  </tbody>\n",
       "</table>\n",
       "</div>"
      ],
      "text/plain": [
       "                   Mean      Start        End\n",
       "3 Yr Returns  25.462263  22.235849  28.688677"
      ]
     },
     "execution_count": 3,
     "metadata": {},
     "output_type": "execute_result"
    }
   ],
   "source": [
    "# Get the Confidence Interval of the Mean\n",
    "from scipy.stats import sem,t\n",
    "from scipy import mean\n",
    "\n",
    "confidence = 0.95\n",
    "data = returns['_3Yr Return']\n",
    "n = len(data)\n",
    "x_bar = mean(data)\n",
    "std_err = sem(data)\n",
    "h = std_err * t.ppf((1+confidence)/2,n-1) # This is for critical value of t distribution\n",
    "start = x_bar - h\n",
    "end = x_bar + h\n",
    "\n",
    "# Get the CI Output in Dataframe\n",
    "ci_dict = {'Mean':x_bar, \"Start\":start, \"End\":end}\n",
    "ci = pd.DataFrame(ci_dict, index = [\"3 Yr Returns\"], columns = [\"Mean\",\"Start\",\"End\"])\n",
    "print(\"Confidence Interval of the Mean for 3 Years Returns\")\n",
    "ci"
   ]
  },
  {
   "cell_type": "code",
   "execution_count": null,
   "metadata": {},
   "outputs": [],
   "source": []
  }
 ],
 "metadata": {
  "kernelspec": {
   "display_name": "Python 3",
   "language": "python",
   "name": "python3"
  },
  "language_info": {
   "codemirror_mode": {
    "name": "ipython",
    "version": 3
   },
   "file_extension": ".py",
   "mimetype": "text/x-python",
   "name": "python",
   "nbconvert_exporter": "python",
   "pygments_lexer": "ipython3",
   "version": "3.8.8"
  }
 },
 "nbformat": 4,
 "nbformat_minor": 2
}
