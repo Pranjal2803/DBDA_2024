{
 "cells": [
  {
   "cell_type": "markdown",
   "metadata": {},
   "source": [
    "# Residual Analysis"
   ]
  },
  {
   "cell_type": "markdown",
   "metadata": {},
   "source": [
    "We will perform residual analysis or will check assumptions of regression model"
   ]
  },
  {
   "cell_type": "code",
   "execution_count": 1,
   "metadata": {},
   "outputs": [],
   "source": [
    "#=============================================================================================\n",
    "# CODE NAME     : Residual Analysis.py\n",
    "# PURPOSE       : Demonstrate application of residual analysis using Pandas and statsmodels \n",
    "# APPLICATION   : Analyzing Fitness dataset\n",
    "#=============================================================================================="
   ]
  },
  {
   "cell_type": "code",
   "execution_count": 1,
   "metadata": {},
   "outputs": [
    {
     "data": {
      "text/html": [
       "<div>\n",
       "<style scoped>\n",
       "    .dataframe tbody tr th:only-of-type {\n",
       "        vertical-align: middle;\n",
       "    }\n",
       "\n",
       "    .dataframe tbody tr th {\n",
       "        vertical-align: top;\n",
       "    }\n",
       "\n",
       "    .dataframe thead th {\n",
       "        text-align: right;\n",
       "    }\n",
       "</style>\n",
       "<table border=\"1\" class=\"dataframe\">\n",
       "  <thead>\n",
       "    <tr style=\"text-align: right;\">\n",
       "      <th></th>\n",
       "      <th>Name</th>\n",
       "      <th>Gender</th>\n",
       "      <th>RunTime</th>\n",
       "      <th>Age</th>\n",
       "      <th>Weight</th>\n",
       "      <th>Oxygen_Consumption</th>\n",
       "      <th>Run_Pulse</th>\n",
       "      <th>Rest_Pulse</th>\n",
       "      <th>Maximum_Pulse</th>\n",
       "      <th>Performance</th>\n",
       "    </tr>\n",
       "  </thead>\n",
       "  <tbody>\n",
       "    <tr>\n",
       "      <th>0</th>\n",
       "      <td>Donna</td>\n",
       "      <td>F</td>\n",
       "      <td>8.17</td>\n",
       "      <td>42</td>\n",
       "      <td>68.15</td>\n",
       "      <td>59.57</td>\n",
       "      <td>166</td>\n",
       "      <td>40</td>\n",
       "      <td>172</td>\n",
       "      <td>90</td>\n",
       "    </tr>\n",
       "    <tr>\n",
       "      <th>1</th>\n",
       "      <td>Gracie</td>\n",
       "      <td>F</td>\n",
       "      <td>8.63</td>\n",
       "      <td>38</td>\n",
       "      <td>81.87</td>\n",
       "      <td>60.06</td>\n",
       "      <td>170</td>\n",
       "      <td>48</td>\n",
       "      <td>186</td>\n",
       "      <td>94</td>\n",
       "    </tr>\n",
       "    <tr>\n",
       "      <th>2</th>\n",
       "      <td>Luanne</td>\n",
       "      <td>F</td>\n",
       "      <td>8.65</td>\n",
       "      <td>43</td>\n",
       "      <td>85.84</td>\n",
       "      <td>54.30</td>\n",
       "      <td>156</td>\n",
       "      <td>45</td>\n",
       "      <td>168</td>\n",
       "      <td>83</td>\n",
       "    </tr>\n",
       "    <tr>\n",
       "      <th>3</th>\n",
       "      <td>Mimi</td>\n",
       "      <td>F</td>\n",
       "      <td>8.92</td>\n",
       "      <td>50</td>\n",
       "      <td>70.87</td>\n",
       "      <td>54.63</td>\n",
       "      <td>146</td>\n",
       "      <td>48</td>\n",
       "      <td>155</td>\n",
       "      <td>67</td>\n",
       "    </tr>\n",
       "    <tr>\n",
       "      <th>4</th>\n",
       "      <td>Chris</td>\n",
       "      <td>M</td>\n",
       "      <td>8.95</td>\n",
       "      <td>49</td>\n",
       "      <td>81.42</td>\n",
       "      <td>49.16</td>\n",
       "      <td>180</td>\n",
       "      <td>44</td>\n",
       "      <td>185</td>\n",
       "      <td>72</td>\n",
       "    </tr>\n",
       "  </tbody>\n",
       "</table>\n",
       "</div>"
      ],
      "text/plain": [
       "     Name Gender  RunTime  Age  Weight  Oxygen_Consumption  Run_Pulse  \\\n",
       "0   Donna      F     8.17   42   68.15               59.57        166   \n",
       "1  Gracie      F     8.63   38   81.87               60.06        170   \n",
       "2  Luanne      F     8.65   43   85.84               54.30        156   \n",
       "3    Mimi      F     8.92   50   70.87               54.63        146   \n",
       "4   Chris      M     8.95   49   81.42               49.16        180   \n",
       "\n",
       "   Rest_Pulse  Maximum_Pulse  Performance  \n",
       "0          40            172           90  \n",
       "1          48            186           94  \n",
       "2          45            168           83  \n",
       "3          48            155           67  \n",
       "4          44            185           72  "
      ]
     },
     "execution_count": 1,
     "metadata": {},
     "output_type": "execute_result"
    }
   ],
   "source": [
    "# Load Input data\n",
    "import numpy as np\n",
    "import pandas as pd\n",
    "\n",
    "fitness = pd.read_excel(\"C:\\\\Users\\\\Training\\\\Data Science using SAS and Python\\\\Data\\\\fitness.xlsx\")\n",
    "fitness.head()"
   ]
  },
  {
   "cell_type": "code",
   "execution_count": 3,
   "metadata": {},
   "outputs": [
    {
     "data": {
      "text/html": [
       "<table class=\"simpletable\">\n",
       "<caption>OLS Regression Results</caption>\n",
       "<tr>\n",
       "  <th>Dep. Variable:</th>    <td>Oxygen_Consumption</td> <th>  R-squared:         </th> <td>   0.835</td>\n",
       "</tr>\n",
       "<tr>\n",
       "  <th>Model:</th>                    <td>OLS</td>        <th>  Adj. R-squared:    </th> <td>   0.810</td>\n",
       "</tr>\n",
       "<tr>\n",
       "  <th>Method:</th>              <td>Least Squares</td>   <th>  F-statistic:       </th> <td>   33.01</td>\n",
       "</tr>\n",
       "<tr>\n",
       "  <th>Date:</th>              <td>Sun, 06 Jun 2021</td>  <th>  Prob (F-statistic):</th> <td>7.68e-10</td>\n",
       "</tr>\n",
       "<tr>\n",
       "  <th>Time:</th>                  <td>12:15:50</td>      <th>  Log-Likelihood:    </th> <td> -67.367</td>\n",
       "</tr>\n",
       "<tr>\n",
       "  <th>No. Observations:</th>       <td>    31</td>       <th>  AIC:               </th> <td>   144.7</td>\n",
       "</tr>\n",
       "<tr>\n",
       "  <th>Df Residuals:</th>           <td>    26</td>       <th>  BIC:               </th> <td>   151.9</td>\n",
       "</tr>\n",
       "<tr>\n",
       "  <th>Df Model:</th>               <td>     4</td>       <th>                     </th>     <td> </td>   \n",
       "</tr>\n",
       "<tr>\n",
       "  <th>Covariance Type:</th>       <td>nonrobust</td>     <th>                     </th>     <td> </td>   \n",
       "</tr>\n",
       "</table>\n",
       "<table class=\"simpletable\">\n",
       "<tr>\n",
       "        <td></td>           <th>coef</th>     <th>std err</th>      <th>t</th>      <th>P>|t|</th>  <th>[0.025</th>    <th>0.975]</th>  \n",
       "</tr>\n",
       "<tr>\n",
       "  <th>Intercept</th>     <td>   97.1695</td> <td>   11.657</td> <td>    8.336</td> <td> 0.000</td> <td>   73.208</td> <td>  121.131</td>\n",
       "</tr>\n",
       "<tr>\n",
       "  <th>RunTime</th>       <td>   -2.7758</td> <td>    0.342</td> <td>   -8.126</td> <td> 0.000</td> <td>   -3.478</td> <td>   -2.074</td>\n",
       "</tr>\n",
       "<tr>\n",
       "  <th>Age</th>           <td>   -0.1890</td> <td>    0.094</td> <td>   -2.003</td> <td> 0.056</td> <td>   -0.383</td> <td>    0.005</td>\n",
       "</tr>\n",
       "<tr>\n",
       "  <th>Run_Pulse</th>     <td>   -0.3457</td> <td>    0.118</td> <td>   -2.924</td> <td> 0.007</td> <td>   -0.589</td> <td>   -0.103</td>\n",
       "</tr>\n",
       "<tr>\n",
       "  <th>Maximum_Pulse</th> <td>    0.2719</td> <td>    0.134</td> <td>    2.023</td> <td> 0.053</td> <td>   -0.004</td> <td>    0.548</td>\n",
       "</tr>\n",
       "</table>\n",
       "<table class=\"simpletable\">\n",
       "<tr>\n",
       "  <th>Omnibus:</th>       <td> 0.144</td> <th>  Durbin-Watson:     </th> <td>   1.862</td>\n",
       "</tr>\n",
       "<tr>\n",
       "  <th>Prob(Omnibus):</th> <td> 0.931</td> <th>  Jarque-Bera (JB):  </th> <td>   0.036</td>\n",
       "</tr>\n",
       "<tr>\n",
       "  <th>Skew:</th>          <td>-0.061</td> <th>  Prob(JB):          </th> <td>   0.982</td>\n",
       "</tr>\n",
       "<tr>\n",
       "  <th>Kurtosis:</th>      <td> 2.885</td> <th>  Cond. No.          </th> <td>6.94e+03</td>\n",
       "</tr>\n",
       "</table><br/><br/>Warnings:<br/>[1] Standard Errors assume that the covariance matrix of the errors is correctly specified.<br/>[2] The condition number is large, 6.94e+03. This might indicate that there are<br/>strong multicollinearity or other numerical problems."
      ],
      "text/plain": [
       "<class 'statsmodels.iolib.summary.Summary'>\n",
       "\"\"\"\n",
       "                            OLS Regression Results                            \n",
       "==============================================================================\n",
       "Dep. Variable:     Oxygen_Consumption   R-squared:                       0.835\n",
       "Model:                            OLS   Adj. R-squared:                  0.810\n",
       "Method:                 Least Squares   F-statistic:                     33.01\n",
       "Date:                Sun, 06 Jun 2021   Prob (F-statistic):           7.68e-10\n",
       "Time:                        12:15:50   Log-Likelihood:                -67.367\n",
       "No. Observations:                  31   AIC:                             144.7\n",
       "Df Residuals:                      26   BIC:                             151.9\n",
       "Df Model:                           4                                         \n",
       "Covariance Type:            nonrobust                                         \n",
       "=================================================================================\n",
       "                    coef    std err          t      P>|t|      [0.025      0.975]\n",
       "---------------------------------------------------------------------------------\n",
       "Intercept        97.1695     11.657      8.336      0.000      73.208     121.131\n",
       "RunTime          -2.7758      0.342     -8.126      0.000      -3.478      -2.074\n",
       "Age              -0.1890      0.094     -2.003      0.056      -0.383       0.005\n",
       "Run_Pulse        -0.3457      0.118     -2.924      0.007      -0.589      -0.103\n",
       "Maximum_Pulse     0.2719      0.134      2.023      0.053      -0.004       0.548\n",
       "==============================================================================\n",
       "Omnibus:                        0.144   Durbin-Watson:                   1.862\n",
       "Prob(Omnibus):                  0.931   Jarque-Bera (JB):                0.036\n",
       "Skew:                          -0.061   Prob(JB):                        0.982\n",
       "Kurtosis:                       2.885   Cond. No.                     6.94e+03\n",
       "==============================================================================\n",
       "\n",
       "Warnings:\n",
       "[1] Standard Errors assume that the covariance matrix of the errors is correctly specified.\n",
       "[2] The condition number is large, 6.94e+03. This might indicate that there are\n",
       "strong multicollinearity or other numerical problems.\n",
       "\"\"\""
      ]
     },
     "execution_count": 3,
     "metadata": {},
     "output_type": "execute_result"
    }
   ],
   "source": [
    "# Fit a model selected based on Cp statistics for prediction\n",
    "from statsmodels.formula.api import ols\n",
    "model = ols('Oxygen_Consumption ~ RunTime + Age + Run_Pulse + Maximum_Pulse', data = fitness).fit()\n",
    "model.summary() "
   ]
  },
  {
   "cell_type": "code",
   "execution_count": 10,
   "metadata": {},
   "outputs": [],
   "source": [
    "# Take the residuals and predicted values\n",
    "res = model.resid\n",
    "y_hat = model.fittedvalues"
   ]
  },
  {
   "cell_type": "markdown",
   "metadata": {},
   "source": [
    "# Assumption 1: Normality of Residuals"
   ]
  },
  {
   "cell_type": "code",
   "execution_count": 12,
   "metadata": {},
   "outputs": [
    {
     "data": {
      "image/png": "[encoded data removed]",
      "text/plain": [
       "<Figure size 432x288 with 1 Axes>"
      ]
     },
     "metadata": {
      "needs_background": "light"
     },
     "output_type": "display_data"
    }
   ],
   "source": [
    "import scipy.stats as stat\n",
    "import matplotlib.pyplot as plt\n",
    "\n",
    "qqplot = stat.probplot(res, plot = plt)"
   ]
  },
  {
   "cell_type": "markdown",
   "metadata": {},
   "source": [
    "# Assumption 2: Homoscedasticity of Variance "
   ]
  },
  {
   "cell_type": "markdown",
   "metadata": {},
   "source": [
    "Plot 1: Residual by Predicted values"
   ]
  },
  {
   "cell_type": "code",
   "execution_count": 22,
   "metadata": {},
   "outputs": [
    {
     "data": {
      "text/plain": [
       "Text(0, 0.5, 'Residuals')"
      ]
     },
     "execution_count": 22,
     "metadata": {},
     "output_type": "execute_result"
    },
    {
     "data": {
      "image/png": "[encoded data removed]",
      "text/plain": [
       "<Figure size 432x288 with 1 Axes>"
      ]
     },
     "metadata": {
      "needs_background": "light"
     },
     "output_type": "display_data"
    }
   ],
   "source": [
    "import seaborn as sns\n",
    "import matplotlib.pyplot as plt\n",
    "\n",
    "residualbypredicted = sns.scatterplot(y = res, x = y_hat)\n",
    "plt.xlabel(\"Predicted Values\")\n",
    "plt.ylabel(\"Residuals\")"
   ]
  },
  {
   "cell_type": "markdown",
   "metadata": {},
   "source": [
    "Plot 2: Residual by Predictors"
   ]
  },
  {
   "cell_type": "code",
   "execution_count": 40,
   "metadata": {},
   "outputs": [
    {
     "data": {
      "text/plain": [
       "Text(0, 0.5, 'Residuals')"
      ]
     },
     "execution_count": 40,
     "metadata": {},
     "output_type": "execute_result"
    },
    {
     "data": {
      "image/png": "[encoded data removed]",
      "text/plain": [
       "<Figure size 432x288 with 1 Axes>"
      ]
     },
     "metadata": {
      "needs_background": "light"
     },
     "output_type": "display_data"
    }
   ],
   "source": [
    "# RunTime + Age + Run_Pulse + Maximum_Pulse\n",
    "residual_by_runtime = sns.scatterplot(x = fitness[\"RunTime\"], y = res)\n",
    "plt.xlabel(\"Run Time\")\n",
    "plt.ylabel(\"Residuals\")"
   ]
  },
  {
   "cell_type": "code",
   "execution_count": 41,
   "metadata": {},
   "outputs": [
    {
     "data": {
      "text/plain": [
       "Text(0, 0.5, 'Residuals')"
      ]
     },
     "execution_count": 41,
     "metadata": {},
     "output_type": "execute_result"
    },
    {
     "data": {
      "image/png": "[encoded data removed]",
      "text/plain": [
       "<Figure size 432x288 with 1 Axes>"
      ]
     },
     "metadata": {
      "needs_background": "light"
     },
     "output_type": "display_data"
    }
   ],
   "source": [
    "residual_by_age = sns.scatterplot(x = fitness[\"Age\"], y = res)\n",
    "plt.xlabel(\"Age\")\n",
    "plt.ylabel(\"Residuals\")"
   ]
  },
  {
   "cell_type": "code",
   "execution_count": 42,
   "metadata": {},
   "outputs": [
    {
     "data": {
      "text/plain": [
       "Text(0, 0.5, 'Residuals')"
      ]
     },
     "execution_count": 42,
     "metadata": {},
     "output_type": "execute_result"
    },
    {
     "data": {
      "image/png": "[encoded data removed]",
      "text/plain": [
       "<Figure size 432x288 with 1 Axes>"
      ]
     },
     "metadata": {
      "needs_background": "light"
     },
     "output_type": "display_data"
    }
   ],
   "source": [
    "residual_by_Run_Pulse = sns.scatterplot(x = fitness[\"Run_Pulse\"], y = res)\n",
    "plt.xlabel(\"Run Pulse\")\n",
    "plt.ylabel(\"Residuals\")"
   ]
  },
  {
   "cell_type": "code",
   "execution_count": 43,
   "metadata": {},
   "outputs": [
    {
     "data": {
      "text/plain": [
       "Text(0, 0.5, 'Residuals')"
      ]
     },
     "execution_count": 43,
     "metadata": {},
     "output_type": "execute_result"
    },
    {
     "data": {
      "image/png": "[encoded data removed]",
      "text/plain": [
       "<Figure size 432x288 with 1 Axes>"
      ]
     },
     "metadata": {
      "needs_background": "light"
     },
     "output_type": "display_data"
    }
   ],
   "source": [
    "residual_by_Maximum_Pulse = sns.scatterplot(x = fitness[\"Maximum_Pulse\"], y = res)\n",
    "plt.xlabel(\"Maximum Pulse\")\n",
    "plt.ylabel(\"Residuals\")"
   ]
  },
  {
   "cell_type": "code",
   "execution_count": null,
   "metadata": {},
   "outputs": [],
   "source": []
  }
 ],
 "metadata": {
  "kernelspec": {
   "display_name": "Python 3",
   "language": "python",
   "name": "python3"
  },
  "language_info": {
   "codemirror_mode": {
    "name": "ipython",
    "version": 3
   },
   "file_extension": ".py",
   "mimetype": "text/x-python",
   "name": "python",
   "nbconvert_exporter": "python",
   "pygments_lexer": "ipython3",
   "version": "3.8.8"
  }
 },
 "nbformat": 4,
 "nbformat_minor": 4
}
