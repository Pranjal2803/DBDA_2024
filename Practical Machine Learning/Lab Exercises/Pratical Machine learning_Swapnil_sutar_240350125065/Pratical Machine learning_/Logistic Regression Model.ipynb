{
 "cells": [
  {
   "cell_type": "markdown",
   "metadata": {},
   "source": [
    "# Logistic Regression Model"
   ]
  },
  {
   "cell_type": "code",
   "execution_count": 1,
   "metadata": {},
   "outputs": [],
   "source": [
    "#========================================================================================\n",
    "# CODE NAME     : Logistic Regression Model.py\n",
    "# PURPOSE       : Demonstrate application of logistic regression model using Python\n",
    "# APPLICATION   : Analyzing Titanic Data\n",
    "#========================================================================================="
   ]
  },
  {
   "cell_type": "code",
   "execution_count": 4,
   "metadata": {},
   "outputs": [
    {
     "data": {
      "text/html": [
       "<div>\n",
       "<style scoped>\n",
       "    .dataframe tbody tr th:only-of-type {\n",
       "        vertical-align: middle;\n",
       "    }\n",
       "\n",
       "    .dataframe tbody tr th {\n",
       "        vertical-align: top;\n",
       "    }\n",
       "\n",
       "    .dataframe thead th {\n",
       "        text-align: right;\n",
       "    }\n",
       "</style>\n",
       "<table border=\"1\" class=\"dataframe\">\n",
       "  <thead>\n",
       "    <tr style=\"text-align: right;\">\n",
       "      <th></th>\n",
       "      <th>Name</th>\n",
       "      <th>Age</th>\n",
       "      <th>Gender</th>\n",
       "      <th>Class</th>\n",
       "      <th>Fare</th>\n",
       "      <th>Survived</th>\n",
       "      <th>observation</th>\n",
       "    </tr>\n",
       "  </thead>\n",
       "  <tbody>\n",
       "    <tr>\n",
       "      <th>0</th>\n",
       "      <td>Allen, Miss. Elisabeth Walton</td>\n",
       "      <td>29.0</td>\n",
       "      <td>female</td>\n",
       "      <td>1</td>\n",
       "      <td>211.34</td>\n",
       "      <td>1</td>\n",
       "      <td>0</td>\n",
       "    </tr>\n",
       "    <tr>\n",
       "      <th>1</th>\n",
       "      <td>Allison, Master. Hudson Trevor</td>\n",
       "      <td>1.0</td>\n",
       "      <td>male</td>\n",
       "      <td>1</td>\n",
       "      <td>151.55</td>\n",
       "      <td>1</td>\n",
       "      <td>1</td>\n",
       "    </tr>\n",
       "    <tr>\n",
       "      <th>2</th>\n",
       "      <td>Allison, Miss. Helen Loraine</td>\n",
       "      <td>2.0</td>\n",
       "      <td>female</td>\n",
       "      <td>1</td>\n",
       "      <td>151.55</td>\n",
       "      <td>0</td>\n",
       "      <td>2</td>\n",
       "    </tr>\n",
       "    <tr>\n",
       "      <th>3</th>\n",
       "      <td>Allison, Mr. Hudson Joshua Creighton</td>\n",
       "      <td>30.0</td>\n",
       "      <td>male</td>\n",
       "      <td>1</td>\n",
       "      <td>151.55</td>\n",
       "      <td>0</td>\n",
       "      <td>3</td>\n",
       "    </tr>\n",
       "    <tr>\n",
       "      <th>4</th>\n",
       "      <td>Allison, Mrs. Hudson J C (Bessie Waldo Daniels)</td>\n",
       "      <td>25.0</td>\n",
       "      <td>female</td>\n",
       "      <td>1</td>\n",
       "      <td>151.55</td>\n",
       "      <td>0</td>\n",
       "      <td>4</td>\n",
       "    </tr>\n",
       "    <tr>\n",
       "      <th>...</th>\n",
       "      <td>...</td>\n",
       "      <td>...</td>\n",
       "      <td>...</td>\n",
       "      <td>...</td>\n",
       "      <td>...</td>\n",
       "      <td>...</td>\n",
       "      <td>...</td>\n",
       "    </tr>\n",
       "    <tr>\n",
       "      <th>1304</th>\n",
       "      <td>Zabour, Miss. Hileni</td>\n",
       "      <td>15.0</td>\n",
       "      <td>female</td>\n",
       "      <td>3</td>\n",
       "      <td>14.45</td>\n",
       "      <td>0</td>\n",
       "      <td>1304</td>\n",
       "    </tr>\n",
       "    <tr>\n",
       "      <th>1305</th>\n",
       "      <td>Zabour, Miss. Thamine</td>\n",
       "      <td>NaN</td>\n",
       "      <td>female</td>\n",
       "      <td>3</td>\n",
       "      <td>14.45</td>\n",
       "      <td>0</td>\n",
       "      <td>1305</td>\n",
       "    </tr>\n",
       "    <tr>\n",
       "      <th>1306</th>\n",
       "      <td>Zakarian, Mr. Mapriededer</td>\n",
       "      <td>27.0</td>\n",
       "      <td>male</td>\n",
       "      <td>3</td>\n",
       "      <td>7.23</td>\n",
       "      <td>0</td>\n",
       "      <td>1306</td>\n",
       "    </tr>\n",
       "    <tr>\n",
       "      <th>1307</th>\n",
       "      <td>Zakarian, Mr. Ortin</td>\n",
       "      <td>27.0</td>\n",
       "      <td>male</td>\n",
       "      <td>3</td>\n",
       "      <td>7.23</td>\n",
       "      <td>0</td>\n",
       "      <td>1307</td>\n",
       "    </tr>\n",
       "    <tr>\n",
       "      <th>1308</th>\n",
       "      <td>Zimmerman, Mr. Leo</td>\n",
       "      <td>29.0</td>\n",
       "      <td>male</td>\n",
       "      <td>3</td>\n",
       "      <td>7.88</td>\n",
       "      <td>0</td>\n",
       "      <td>1308</td>\n",
       "    </tr>\n",
       "  </tbody>\n",
       "</table>\n",
       "<p>1309 rows × 7 columns</p>\n",
       "</div>"
      ],
      "text/plain": [
       "                                                 Name   Age  Gender  Class  \\\n",
       "0                       Allen, Miss. Elisabeth Walton  29.0  female      1   \n",
       "1                      Allison, Master. Hudson Trevor   1.0    male      1   \n",
       "2                        Allison, Miss. Helen Loraine   2.0  female      1   \n",
       "3                Allison, Mr. Hudson Joshua Creighton  30.0    male      1   \n",
       "4     Allison, Mrs. Hudson J C (Bessie Waldo Daniels)  25.0  female      1   \n",
       "...                                               ...   ...     ...    ...   \n",
       "1304                             Zabour, Miss. Hileni  15.0  female      3   \n",
       "1305                            Zabour, Miss. Thamine   NaN  female      3   \n",
       "1306                        Zakarian, Mr. Mapriededer  27.0    male      3   \n",
       "1307                              Zakarian, Mr. Ortin  27.0    male      3   \n",
       "1308                               Zimmerman, Mr. Leo  29.0    male      3   \n",
       "\n",
       "        Fare  Survived  observation  \n",
       "0     211.34         1            0  \n",
       "1     151.55         1            1  \n",
       "2     151.55         0            2  \n",
       "3     151.55         0            3  \n",
       "4     151.55         0            4  \n",
       "...      ...       ...          ...  \n",
       "1304   14.45         0         1304  \n",
       "1305   14.45         0         1305  \n",
       "1306    7.23         0         1306  \n",
       "1307    7.23         0         1307  \n",
       "1308    7.88         0         1308  \n",
       "\n",
       "[1309 rows x 7 columns]"
      ]
     },
     "execution_count": 4,
     "metadata": {},
     "output_type": "execute_result"
    }
   ],
   "source": [
    "# Load the input data\n",
    "import numpy as np\n",
    "import pandas as pd\n",
    "\n",
    "titanic = pd.read_excel(\"C:\\\\Users\\\\Training\\\\Data Science using SAS and Python\\\\Data\\\\titanic.xlsx\")\n",
    "titanic[\"observation\"] = titanic.index.values\n",
    "titanic"
   ]
  },
  {
   "cell_type": "code",
   "execution_count": 3,
   "metadata": {},
   "outputs": [
    {
     "data": {
      "text/html": [
       "<div>\n",
       "<style scoped>\n",
       "    .dataframe tbody tr th:only-of-type {\n",
       "        vertical-align: middle;\n",
       "    }\n",
       "\n",
       "    .dataframe tbody tr th {\n",
       "        vertical-align: top;\n",
       "    }\n",
       "\n",
       "    .dataframe thead th {\n",
       "        text-align: right;\n",
       "    }\n",
       "</style>\n",
       "<table border=\"1\" class=\"dataframe\">\n",
       "  <thead>\n",
       "    <tr style=\"text-align: right;\">\n",
       "      <th></th>\n",
       "      <th>Name</th>\n",
       "      <th>Age</th>\n",
       "      <th>Gender</th>\n",
       "      <th>Class</th>\n",
       "      <th>Fare</th>\n",
       "      <th>Survived</th>\n",
       "      <th>observation</th>\n",
       "    </tr>\n",
       "  </thead>\n",
       "  <tbody>\n",
       "    <tr>\n",
       "      <th>0</th>\n",
       "      <td>Allen, Miss. Elisabeth Walton</td>\n",
       "      <td>29.0</td>\n",
       "      <td>female</td>\n",
       "      <td>1</td>\n",
       "      <td>211.34</td>\n",
       "      <td>Survived</td>\n",
       "      <td>0</td>\n",
       "    </tr>\n",
       "    <tr>\n",
       "      <th>1</th>\n",
       "      <td>Allison, Master. Hudson Trevor</td>\n",
       "      <td>1.0</td>\n",
       "      <td>male</td>\n",
       "      <td>1</td>\n",
       "      <td>151.55</td>\n",
       "      <td>Survived</td>\n",
       "      <td>1</td>\n",
       "    </tr>\n",
       "    <tr>\n",
       "      <th>2</th>\n",
       "      <td>Allison, Miss. Helen Loraine</td>\n",
       "      <td>2.0</td>\n",
       "      <td>female</td>\n",
       "      <td>1</td>\n",
       "      <td>151.55</td>\n",
       "      <td>Died</td>\n",
       "      <td>2</td>\n",
       "    </tr>\n",
       "    <tr>\n",
       "      <th>3</th>\n",
       "      <td>Allison, Mr. Hudson Joshua Creighton</td>\n",
       "      <td>30.0</td>\n",
       "      <td>male</td>\n",
       "      <td>1</td>\n",
       "      <td>151.55</td>\n",
       "      <td>Died</td>\n",
       "      <td>3</td>\n",
       "    </tr>\n",
       "    <tr>\n",
       "      <th>4</th>\n",
       "      <td>Allison, Mrs. Hudson J C (Bessie Waldo Daniels)</td>\n",
       "      <td>25.0</td>\n",
       "      <td>female</td>\n",
       "      <td>1</td>\n",
       "      <td>151.55</td>\n",
       "      <td>Died</td>\n",
       "      <td>4</td>\n",
       "    </tr>\n",
       "  </tbody>\n",
       "</table>\n",
       "</div>"
      ],
      "text/plain": [
       "                                              Name   Age  Gender  Class  \\\n",
       "0                    Allen, Miss. Elisabeth Walton  29.0  female      1   \n",
       "1                   Allison, Master. Hudson Trevor   1.0    male      1   \n",
       "2                     Allison, Miss. Helen Loraine   2.0  female      1   \n",
       "3             Allison, Mr. Hudson Joshua Creighton  30.0    male      1   \n",
       "4  Allison, Mrs. Hudson J C (Bessie Waldo Daniels)  25.0  female      1   \n",
       "\n",
       "     Fare  Survived  observation  \n",
       "0  211.34  Survived            0  \n",
       "1  151.55  Survived            1  \n",
       "2  151.55      Died            2  \n",
       "3  151.55      Died            3  \n",
       "4  151.55      Died            4  "
      ]
     },
     "execution_count": 3,
     "metadata": {},
     "output_type": "execute_result"
    }
   ],
   "source": [
    "# Format the Survived variable\n",
    "condition = [titanic[\"Survived\"] == 1, titanic[\"Survived\"] == 0]\n",
    "choice = [\"Survived\",\"Died\"]\n",
    "titanic[\"Survived\"] = np.select(condition,choice,default = \"NaN\")\n",
    "titanic.head()"
   ]
  },
  {
   "cell_type": "markdown",
   "metadata": {},
   "source": [
    "# Fit  Logistic Regression Model using one predictor variable"
   ]
  },
  {
   "cell_type": "code",
   "execution_count": 5,
   "metadata": {},
   "outputs": [
    {
     "name": "stdout",
     "output_type": "stream",
     "text": [
      "Optimization terminated successfully.\n",
      "         Current function value: 0.674618\n",
      "         Iterations 4\n"
     ]
    },
    {
     "data": {
      "text/html": [
       "<table class=\"simpletable\">\n",
       "<caption>Logit Regression Results</caption>\n",
       "<tr>\n",
       "  <th>Dep. Variable:</th>       <td>Survived</td>     <th>  No. Observations:  </th>  <td>  1046</td> \n",
       "</tr>\n",
       "<tr>\n",
       "  <th>Model:</th>                 <td>Logit</td>      <th>  Df Residuals:      </th>  <td>  1044</td> \n",
       "</tr>\n",
       "<tr>\n",
       "  <th>Method:</th>                 <td>MLE</td>       <th>  Df Model:          </th>  <td>     1</td> \n",
       "</tr>\n",
       "<tr>\n",
       "  <th>Date:</th>            <td>Sat, 03 Jul 2021</td> <th>  Pseudo R-squ.:     </th> <td>0.002346</td>\n",
       "</tr>\n",
       "<tr>\n",
       "  <th>Time:</th>                <td>10:59:38</td>     <th>  Log-Likelihood:    </th> <td> -705.65</td>\n",
       "</tr>\n",
       "<tr>\n",
       "  <th>converged:</th>             <td>True</td>       <th>  LL-Null:           </th> <td> -707.31</td>\n",
       "</tr>\n",
       "<tr>\n",
       "  <th>Covariance Type:</th>     <td>nonrobust</td>    <th>  LLR p-value:       </th>  <td>0.06848</td>\n",
       "</tr>\n",
       "</table>\n",
       "<table class=\"simpletable\">\n",
       "<tr>\n",
       "      <td></td>         <th>coef</th>     <th>std err</th>      <th>z</th>      <th>P>|z|</th>  <th>[0.025</th>    <th>0.975]</th>  \n",
       "</tr>\n",
       "<tr>\n",
       "  <th>Intercept</th> <td>   -0.1335</td> <td>    0.145</td> <td>   -0.922</td> <td> 0.357</td> <td>   -0.417</td> <td>    0.150</td>\n",
       "</tr>\n",
       "<tr>\n",
       "  <th>Age</th>       <td>   -0.0080</td> <td>    0.004</td> <td>   -1.815</td> <td> 0.070</td> <td>   -0.017</td> <td>    0.001</td>\n",
       "</tr>\n",
       "</table>"
      ],
      "text/plain": [
       "<class 'statsmodels.iolib.summary.Summary'>\n",
       "\"\"\"\n",
       "                           Logit Regression Results                           \n",
       "==============================================================================\n",
       "Dep. Variable:               Survived   No. Observations:                 1046\n",
       "Model:                          Logit   Df Residuals:                     1044\n",
       "Method:                           MLE   Df Model:                            1\n",
       "Date:                Sat, 03 Jul 2021   Pseudo R-squ.:                0.002346\n",
       "Time:                        10:59:38   Log-Likelihood:                -705.65\n",
       "converged:                       True   LL-Null:                       -707.31\n",
       "Covariance Type:            nonrobust   LLR p-value:                   0.06848\n",
       "==============================================================================\n",
       "                 coef    std err          z      P>|z|      [0.025      0.975]\n",
       "------------------------------------------------------------------------------\n",
       "Intercept     -0.1335      0.145     -0.922      0.357      -0.417       0.150\n",
       "Age           -0.0080      0.004     -1.815      0.070      -0.017       0.001\n",
       "==============================================================================\n",
       "\"\"\""
      ]
     },
     "execution_count": 5,
     "metadata": {},
     "output_type": "execute_result"
    }
   ],
   "source": [
    "import statsmodels.formula.api as smf\n",
    "import statsmodels.api as sm\n",
    "logit_model = smf.logit(formula = 'Survived ~ Age', data = titanic).fit()\n",
    "logit_model.summary()"
   ]
  },
  {
   "cell_type": "markdown",
   "metadata": {},
   "source": [
    "# Get the Odds of Surviving people with respect to Age"
   ]
  },
  {
   "cell_type": "code",
   "execution_count": 6,
   "metadata": {},
   "outputs": [
    {
     "data": {
      "text/html": [
       "<div>\n",
       "<style scoped>\n",
       "    .dataframe tbody tr th:only-of-type {\n",
       "        vertical-align: middle;\n",
       "    }\n",
       "\n",
       "    .dataframe tbody tr th {\n",
       "        vertical-align: top;\n",
       "    }\n",
       "\n",
       "    .dataframe thead th {\n",
       "        text-align: right;\n",
       "    }\n",
       "</style>\n",
       "<table border=\"1\" class=\"dataframe\">\n",
       "  <thead>\n",
       "    <tr style=\"text-align: right;\">\n",
       "      <th></th>\n",
       "      <th>0</th>\n",
       "    </tr>\n",
       "  </thead>\n",
       "  <tbody>\n",
       "    <tr>\n",
       "      <th>Age</th>\n",
       "      <td>-0.796524</td>\n",
       "    </tr>\n",
       "  </tbody>\n",
       "</table>\n",
       "</div>"
      ],
      "text/plain": [
       "            0\n",
       "Age -0.796524"
      ]
     },
     "execution_count": 6,
     "metadata": {},
     "output_type": "execute_result"
    }
   ],
   "source": [
    "params = logit_model.params\n",
    "odds_ratio = pd.DataFrame(np.exp(params))\n",
    "(odds_ratio[1:]-1)*100"
   ]
  },
  {
   "cell_type": "markdown",
   "metadata": {},
   "source": [
    "# Get the Proability of surviving people based on their Age"
   ]
  },
  {
   "cell_type": "code",
   "execution_count": 13,
   "metadata": {},
   "outputs": [
    {
     "data": {
      "text/html": [
       "<div>\n",
       "<style scoped>\n",
       "    .dataframe tbody tr th:only-of-type {\n",
       "        vertical-align: middle;\n",
       "    }\n",
       "\n",
       "    .dataframe tbody tr th {\n",
       "        vertical-align: top;\n",
       "    }\n",
       "\n",
       "    .dataframe thead th {\n",
       "        text-align: right;\n",
       "    }\n",
       "</style>\n",
       "<table border=\"1\" class=\"dataframe\">\n",
       "  <thead>\n",
       "    <tr style=\"text-align: right;\">\n",
       "      <th></th>\n",
       "      <th>Y_hat</th>\n",
       "      <th>Age</th>\n",
       "    </tr>\n",
       "  </thead>\n",
       "  <tbody>\n",
       "    <tr>\n",
       "      <th>0</th>\n",
       "      <td>0.409652</td>\n",
       "      <td>29.0</td>\n",
       "    </tr>\n",
       "    <tr>\n",
       "      <th>1</th>\n",
       "      <td>0.464688</td>\n",
       "      <td>1.0</td>\n",
       "    </tr>\n",
       "    <tr>\n",
       "      <th>2</th>\n",
       "      <td>0.462699</td>\n",
       "      <td>2.0</td>\n",
       "    </tr>\n",
       "    <tr>\n",
       "      <th>3</th>\n",
       "      <td>0.407720</td>\n",
       "      <td>30.0</td>\n",
       "    </tr>\n",
       "    <tr>\n",
       "      <th>4</th>\n",
       "      <td>0.417410</td>\n",
       "      <td>25.0</td>\n",
       "    </tr>\n",
       "    <tr>\n",
       "      <th>...</th>\n",
       "      <td>...</td>\n",
       "      <td>...</td>\n",
       "    </tr>\n",
       "    <tr>\n",
       "      <th>1041</th>\n",
       "      <td>0.377223</td>\n",
       "      <td>NaN</td>\n",
       "    </tr>\n",
       "    <tr>\n",
       "      <th>1042</th>\n",
       "      <td>0.436976</td>\n",
       "      <td>NaN</td>\n",
       "    </tr>\n",
       "    <tr>\n",
       "      <th>1043</th>\n",
       "      <td>0.413526</td>\n",
       "      <td>NaN</td>\n",
       "    </tr>\n",
       "    <tr>\n",
       "      <th>1044</th>\n",
       "      <td>0.413526</td>\n",
       "      <td>NaN</td>\n",
       "    </tr>\n",
       "    <tr>\n",
       "      <th>1045</th>\n",
       "      <td>0.409652</td>\n",
       "      <td>18.0</td>\n",
       "    </tr>\n",
       "  </tbody>\n",
       "</table>\n",
       "<p>1046 rows × 2 columns</p>\n",
       "</div>"
      ],
      "text/plain": [
       "         Y_hat   Age\n",
       "0     0.409652  29.0\n",
       "1     0.464688   1.0\n",
       "2     0.462699   2.0\n",
       "3     0.407720  30.0\n",
       "4     0.417410  25.0\n",
       "...        ...   ...\n",
       "1041  0.377223   NaN\n",
       "1042  0.436976   NaN\n",
       "1043  0.413526   NaN\n",
       "1044  0.413526   NaN\n",
       "1045  0.409652  18.0\n",
       "\n",
       "[1046 rows x 2 columns]"
      ]
     },
     "execution_count": 13,
     "metadata": {},
     "output_type": "execute_result"
    }
   ],
   "source": [
    "y_hat = pd.DataFrame(logit_model.predict(),columns = [\"Y_hat\"])\n",
    "y_hat[\"observation\"] = y_hat.index.values\n",
    "x = pd.DataFrame(titanic[\"Age\"])\n",
    "x[\"observation\"] = x.index.values\n",
    "prob = pd.merge(y_hat,x)[[\"Y_hat\",\"Age\"]]\n",
    "prob"
   ]
  },
  {
   "cell_type": "code",
   "execution_count": 14,
   "metadata": {
    "scrolled": true
   },
   "outputs": [
    {
     "data": {
      "text/plain": [
       "(0, 1)"
      ]
     },
     "execution_count": 14,
     "metadata": {},
     "output_type": "execute_result"
    },
    {
     "data": {
      "image/png": "[encoded data removed]",
      "text/plain": [
       "<Figure size 432x288 with 1 Axes>"
      ]
     },
     "metadata": {
      "needs_background": "light"
     },
     "output_type": "display_data"
    }
   ],
   "source": [
    "import seaborn as sns\n",
    "from matplotlib import pyplot as plt\n",
    "sns.scatterplot(x = \"Age\", y = \"Y_hat\", data = prob)\n",
    "plt.ylim(0,1)"
   ]
  },
  {
   "cell_type": "markdown",
   "metadata": {},
   "source": [
    "# Concordance and Discordance Statistics"
   ]
  },
  {
   "cell_type": "code",
   "execution_count": 20,
   "metadata": {},
   "outputs": [
    {
     "name": "stdout",
     "output_type": "stream",
     "text": [
      "Pairs =  267445\n",
      "Conc =  93674\n",
      "Disc =  173771\n",
      "Tied =  0\n",
      "Concordance =  35.0 %\n",
      "Discordance =  65.0 %\n",
      "Tied =  0.0 %\n"
     ]
    }
   ],
   "source": [
    "def get_concordance_discordance(data,outcome): \n",
    "    \n",
    "    prob_0 = data[outcome == 0].reset_index().drop(['index'], axis = 1)\n",
    "    prob_1 = data[outcome == 1].reset_index().drop(['index'], axis = 1)\n",
    "    \n",
    "    from bisect import bisect_left, bisect_right\n",
    "    zeros_list = sorted([prob_0.iloc[j,1] for j in prob_0.index])\n",
    "    \n",
    "    zeros_length = len(zeros_list)\n",
    "    disc = 0\n",
    "    ties = 0\n",
    "    conc = 0    \n",
    "    \n",
    "    for i in prob_1.index:\n",
    "        cur_conc = bisect_left(zeros_list, prob_1.iloc[i,1])\n",
    "        cur_ties = bisect_right(zeros_list, prob_1.iloc[i,1]) - cur_conc   \n",
    "        conc += cur_conc\n",
    "        ties += cur_ties\n",
    "    pairs_tested = zeros_length * len(prob_1.index)\n",
    "    disc = pairs_tested - conc - ties\n",
    "    \n",
    "    print(\"Pairs = \", pairs_tested)\n",
    "    print(\"Conc = \", conc)\n",
    "    print(\"Disc = \", disc)\n",
    "    print(\"Tied = \", ties)\n",
    "    \n",
    "    concordance = round(conc/pairs_tested,2)\n",
    "    discordance = round(disc/pairs_tested,2)\n",
    "    ties_perc = round(ties/pairs_tested,2)\n",
    "    \n",
    "    print(\"Concordance = \", concordance*100, \"%\")\n",
    "    print(\"Discordance = \", discordance*100, \"%\")\n",
    "    print(\"Tied = \", ties_perc, \"%\")\n",
    "    \n",
    "    return\n",
    "\n",
    "con_disc_data = pd.merge(y_hat,titanic[[\"observation\",\"Survived\"]])\n",
    "\n",
    "get_concordance_discordance(con_disc_data,con_disc_data[\"Survived\"])"
   ]
  },
  {
   "cell_type": "markdown",
   "metadata": {},
   "source": [
    "# Logistic Regression Model with categorical predictors"
   ]
  },
  {
   "cell_type": "code",
   "execution_count": 22,
   "metadata": {},
   "outputs": [
    {
     "name": "stdout",
     "output_type": "stream",
     "text": [
      "Optimization terminated successfully.\n",
      "         Current function value: 0.469558\n",
      "         Iterations 6\n"
     ]
    },
    {
     "data": {
      "text/html": [
       "<table class=\"simpletable\">\n",
       "<caption>Logit Regression Results</caption>\n",
       "<tr>\n",
       "  <th>Dep. Variable:</th>       <td>Survived</td>     <th>  No. Observations:  </th>  <td>  1046</td>  \n",
       "</tr>\n",
       "<tr>\n",
       "  <th>Model:</th>                 <td>Logit</td>      <th>  Df Residuals:      </th>  <td>  1041</td>  \n",
       "</tr>\n",
       "<tr>\n",
       "  <th>Method:</th>                 <td>MLE</td>       <th>  Df Model:          </th>  <td>     4</td>  \n",
       "</tr>\n",
       "<tr>\n",
       "  <th>Date:</th>            <td>Sat, 03 Jul 2021</td> <th>  Pseudo R-squ.:     </th>  <td>0.3056</td>  \n",
       "</tr>\n",
       "<tr>\n",
       "  <th>Time:</th>                <td>11:59:30</td>     <th>  Log-Likelihood:    </th> <td> -491.16</td> \n",
       "</tr>\n",
       "<tr>\n",
       "  <th>converged:</th>             <td>True</td>       <th>  LL-Null:           </th> <td> -707.31</td> \n",
       "</tr>\n",
       "<tr>\n",
       "  <th>Covariance Type:</th>     <td>nonrobust</td>    <th>  LLR p-value:       </th> <td>2.903e-92</td>\n",
       "</tr>\n",
       "</table>\n",
       "<table class=\"simpletable\">\n",
       "<tr>\n",
       "        <td></td>           <th>coef</th>     <th>std err</th>      <th>z</th>      <th>P>|z|</th>  <th>[0.025</th>    <th>0.975]</th>  \n",
       "</tr>\n",
       "<tr>\n",
       "  <th>Intercept</th>     <td>   -1.2628</td> <td>    0.203</td> <td>   -6.222</td> <td> 0.000</td> <td>   -1.661</td> <td>   -0.865</td>\n",
       "</tr>\n",
       "<tr>\n",
       "  <th>Age</th>           <td>   -0.0345</td> <td>    0.006</td> <td>   -5.443</td> <td> 0.000</td> <td>   -0.047</td> <td>   -0.022</td>\n",
       "</tr>\n",
       "<tr>\n",
       "  <th>Gender_female</th> <td>    2.4976</td> <td>    0.166</td> <td>   15.041</td> <td> 0.000</td> <td>    2.172</td> <td>    2.823</td>\n",
       "</tr>\n",
       "<tr>\n",
       "  <th>Class_1</th>       <td>    2.2907</td> <td>    0.226</td> <td>   10.143</td> <td> 0.000</td> <td>    1.848</td> <td>    2.733</td>\n",
       "</tr>\n",
       "<tr>\n",
       "  <th>Class_2</th>       <td>    1.0093</td> <td>    0.198</td> <td>    5.088</td> <td> 0.000</td> <td>    0.620</td> <td>    1.398</td>\n",
       "</tr>\n",
       "</table>"
      ],
      "text/plain": [
       "<class 'statsmodels.iolib.summary.Summary'>\n",
       "\"\"\"\n",
       "                           Logit Regression Results                           \n",
       "==============================================================================\n",
       "Dep. Variable:               Survived   No. Observations:                 1046\n",
       "Model:                          Logit   Df Residuals:                     1041\n",
       "Method:                           MLE   Df Model:                            4\n",
       "Date:                Sat, 03 Jul 2021   Pseudo R-squ.:                  0.3056\n",
       "Time:                        11:59:30   Log-Likelihood:                -491.16\n",
       "converged:                       True   LL-Null:                       -707.31\n",
       "Covariance Type:            nonrobust   LLR p-value:                 2.903e-92\n",
       "=================================================================================\n",
       "                    coef    std err          z      P>|z|      [0.025      0.975]\n",
       "---------------------------------------------------------------------------------\n",
       "Intercept        -1.2628      0.203     -6.222      0.000      -1.661      -0.865\n",
       "Age              -0.0345      0.006     -5.443      0.000      -0.047      -0.022\n",
       "Gender_female     2.4976      0.166     15.041      0.000       2.172       2.823\n",
       "Class_1           2.2907      0.226     10.143      0.000       1.848       2.733\n",
       "Class_2           1.0093      0.198      5.088      0.000       0.620       1.398\n",
       "=================================================================================\n",
       "\"\"\""
      ]
     },
     "execution_count": 22,
     "metadata": {},
     "output_type": "execute_result"
    }
   ],
   "source": [
    "titanic_dummy = pd.get_dummies(titanic, columns = ['Gender', 'Class'])\n",
    "logit_model_dummy = smf.logit(formula = 'Survived ~ Age + Gender_female + Class_1 + Class_2', data = titanic_dummy).fit()\n",
    "logit_model_dummy.summary()"
   ]
  },
  {
   "cell_type": "code",
   "execution_count": 8,
   "metadata": {},
   "outputs": [
    {
     "data": {
      "text/html": [
       "<div>\n",
       "<style scoped>\n",
       "    .dataframe tbody tr th:only-of-type {\n",
       "        vertical-align: middle;\n",
       "    }\n",
       "\n",
       "    .dataframe tbody tr th {\n",
       "        vertical-align: top;\n",
       "    }\n",
       "\n",
       "    .dataframe thead th {\n",
       "        text-align: right;\n",
       "    }\n",
       "</style>\n",
       "<table border=\"1\" class=\"dataframe\">\n",
       "  <thead>\n",
       "    <tr style=\"text-align: right;\">\n",
       "      <th></th>\n",
       "      <th>Odds Ratio</th>\n",
       "    </tr>\n",
       "  </thead>\n",
       "  <tbody>\n",
       "    <tr>\n",
       "      <th>Age</th>\n",
       "      <td>0.966113</td>\n",
       "    </tr>\n",
       "    <tr>\n",
       "      <th>Gender_female</th>\n",
       "      <td>12.153021</td>\n",
       "    </tr>\n",
       "    <tr>\n",
       "      <th>Class_1</th>\n",
       "      <td>9.881668</td>\n",
       "    </tr>\n",
       "    <tr>\n",
       "      <th>Class_2</th>\n",
       "      <td>2.743693</td>\n",
       "    </tr>\n",
       "  </tbody>\n",
       "</table>\n",
       "</div>"
      ],
      "text/plain": [
       "               Odds Ratio\n",
       "Age              0.966113\n",
       "Gender_female   12.153021\n",
       "Class_1          9.881668\n",
       "Class_2          2.743693"
      ]
     },
     "execution_count": 8,
     "metadata": {},
     "output_type": "execute_result"
    }
   ],
   "source": [
    "pd.DataFrame(np.exp(logit_model_dummy.params), columns = [\"Odds Ratio\"])[1:]"
   ]
  },
  {
   "cell_type": "markdown",
   "metadata": {},
   "source": []
  },
  {
   "cell_type": "markdown",
   "metadata": {},
   "source": [
    "# Logistic Regression Model with Interaction Terms"
   ]
  },
  {
   "cell_type": "code",
   "execution_count": 9,
   "metadata": {},
   "outputs": [
    {
     "name": "stdout",
     "output_type": "stream",
     "text": [
      "Optimization terminated successfully.\n",
      "         Current function value: 0.445426\n",
      "         Iterations 7\n"
     ]
    },
    {
     "data": {
      "text/html": [
       "<table class=\"simpletable\">\n",
       "<caption>Logit Regression Results</caption>\n",
       "<tr>\n",
       "  <th>Dep. Variable:</th>       <td>Survived</td>     <th>  No. Observations:  </th>   <td>  1046</td>  \n",
       "</tr>\n",
       "<tr>\n",
       "  <th>Model:</th>                 <td>Logit</td>      <th>  Df Residuals:      </th>   <td>  1039</td>  \n",
       "</tr>\n",
       "<tr>\n",
       "  <th>Method:</th>                 <td>MLE</td>       <th>  Df Model:          </th>   <td>     6</td>  \n",
       "</tr>\n",
       "<tr>\n",
       "  <th>Date:</th>            <td>Sun, 25 Apr 2021</td> <th>  Pseudo R-squ.:     </th>   <td>0.3413</td>  \n",
       "</tr>\n",
       "<tr>\n",
       "  <th>Time:</th>                <td>09:11:46</td>     <th>  Log-Likelihood:    </th>  <td> -465.92</td> \n",
       "</tr>\n",
       "<tr>\n",
       "  <th>converged:</th>             <td>True</td>       <th>  LL-Null:           </th>  <td> -707.31</td> \n",
       "</tr>\n",
       "<tr>\n",
       "  <th>Covariance Type:</th>     <td>nonrobust</td>    <th>  LLR p-value:       </th> <td>4.284e-101</td>\n",
       "</tr>\n",
       "</table>\n",
       "<table class=\"simpletable\">\n",
       "<tr>\n",
       "            <td></td>               <th>coef</th>     <th>std err</th>      <th>z</th>      <th>P>|z|</th>  <th>[0.025</th>    <th>0.975]</th>  \n",
       "</tr>\n",
       "<tr>\n",
       "  <th>Intercept</th>             <td>   -0.6552</td> <td>    0.211</td> <td>   -3.101</td> <td> 0.002</td> <td>   -1.069</td> <td>   -0.241</td>\n",
       "</tr>\n",
       "<tr>\n",
       "  <th>Age</th>                   <td>   -0.0385</td> <td>    0.007</td> <td>   -5.707</td> <td> 0.000</td> <td>   -0.052</td> <td>   -0.025</td>\n",
       "</tr>\n",
       "<tr>\n",
       "  <th>Gender_female</th>         <td>    1.3970</td> <td>    0.221</td> <td>    6.329</td> <td> 0.000</td> <td>    0.964</td> <td>    1.830</td>\n",
       "</tr>\n",
       "<tr>\n",
       "  <th>Class_1</th>               <td>    1.5770</td> <td>    0.253</td> <td>    6.245</td> <td> 0.000</td> <td>    1.082</td> <td>    2.072</td>\n",
       "</tr>\n",
       "<tr>\n",
       "  <th>Class_2</th>               <td>   -0.0242</td> <td>    0.272</td> <td>   -0.089</td> <td> 0.929</td> <td>   -0.557</td> <td>    0.509</td>\n",
       "</tr>\n",
       "<tr>\n",
       "  <th>Gender_female:Class_1</th> <td>    2.4894</td> <td>    0.540</td> <td>    4.607</td> <td> 0.000</td> <td>    1.430</td> <td>    3.548</td>\n",
       "</tr>\n",
       "<tr>\n",
       "  <th>Gender_female:Class_2</th> <td>    2.5599</td> <td>    0.456</td> <td>    5.612</td> <td> 0.000</td> <td>    1.666</td> <td>    3.454</td>\n",
       "</tr>\n",
       "</table>"
      ],
      "text/plain": [
       "<class 'statsmodels.iolib.summary.Summary'>\n",
       "\"\"\"\n",
       "                           Logit Regression Results                           \n",
       "==============================================================================\n",
       "Dep. Variable:               Survived   No. Observations:                 1046\n",
       "Model:                          Logit   Df Residuals:                     1039\n",
       "Method:                           MLE   Df Model:                            6\n",
       "Date:                Sun, 25 Apr 2021   Pseudo R-squ.:                  0.3413\n",
       "Time:                        09:11:46   Log-Likelihood:                -465.92\n",
       "converged:                       True   LL-Null:                       -707.31\n",
       "Covariance Type:            nonrobust   LLR p-value:                4.284e-101\n",
       "=========================================================================================\n",
       "                            coef    std err          z      P>|z|      [0.025      0.975]\n",
       "-----------------------------------------------------------------------------------------\n",
       "Intercept                -0.6552      0.211     -3.101      0.002      -1.069      -0.241\n",
       "Age                      -0.0385      0.007     -5.707      0.000      -0.052      -0.025\n",
       "Gender_female             1.3970      0.221      6.329      0.000       0.964       1.830\n",
       "Class_1                   1.5770      0.253      6.245      0.000       1.082       2.072\n",
       "Class_2                  -0.0242      0.272     -0.089      0.929      -0.557       0.509\n",
       "Gender_female:Class_1     2.4894      0.540      4.607      0.000       1.430       3.548\n",
       "Gender_female:Class_2     2.5599      0.456      5.612      0.000       1.666       3.454\n",
       "=========================================================================================\n",
       "\"\"\""
      ]
     },
     "execution_count": 9,
     "metadata": {},
     "output_type": "execute_result"
    }
   ],
   "source": [
    "logit_model_dummy = smf.logit(formula = 'Survived ~ Age + Gender_female + Class_1 + Class_2 + Gender_female*Class_1 + Gender_female*Class_2', data = titanic_dummy).fit()\n",
    "logit_model_dummy.summary()"
   ]
  },
  {
   "cell_type": "code",
   "execution_count": 10,
   "metadata": {},
   "outputs": [
    {
     "data": {
      "text/html": [
       "<div>\n",
       "<style scoped>\n",
       "    .dataframe tbody tr th:only-of-type {\n",
       "        vertical-align: middle;\n",
       "    }\n",
       "\n",
       "    .dataframe tbody tr th {\n",
       "        vertical-align: top;\n",
       "    }\n",
       "\n",
       "    .dataframe thead th {\n",
       "        text-align: right;\n",
       "    }\n",
       "</style>\n",
       "<table border=\"1\" class=\"dataframe\">\n",
       "  <thead>\n",
       "    <tr style=\"text-align: right;\">\n",
       "      <th></th>\n",
       "      <th>Odds Ratio</th>\n",
       "    </tr>\n",
       "  </thead>\n",
       "  <tbody>\n",
       "    <tr>\n",
       "      <th>Age</th>\n",
       "      <td>0.962242</td>\n",
       "    </tr>\n",
       "    <tr>\n",
       "      <th>Gender_female</th>\n",
       "      <td>4.042977</td>\n",
       "    </tr>\n",
       "    <tr>\n",
       "      <th>Class_1</th>\n",
       "      <td>4.840540</td>\n",
       "    </tr>\n",
       "    <tr>\n",
       "      <th>Class_2</th>\n",
       "      <td>0.976136</td>\n",
       "    </tr>\n",
       "    <tr>\n",
       "      <th>Gender_female:Class_1</th>\n",
       "      <td>12.054483</td>\n",
       "    </tr>\n",
       "    <tr>\n",
       "      <th>Gender_female:Class_2</th>\n",
       "      <td>12.934729</td>\n",
       "    </tr>\n",
       "  </tbody>\n",
       "</table>\n",
       "</div>"
      ],
      "text/plain": [
       "                       Odds Ratio\n",
       "Age                      0.962242\n",
       "Gender_female            4.042977\n",
       "Class_1                  4.840540\n",
       "Class_2                  0.976136\n",
       "Gender_female:Class_1   12.054483\n",
       "Gender_female:Class_2   12.934729"
      ]
     },
     "execution_count": 10,
     "metadata": {},
     "output_type": "execute_result"
    }
   ],
   "source": [
    "pd.DataFrame(np.exp(logit_model_dummy.params), columns = [\"Odds Ratio\"])[1:]"
   ]
  },
  {
   "cell_type": "code",
   "execution_count": 27,
   "metadata": {},
   "outputs": [
    {
     "name": "stdout",
     "output_type": "stream",
     "text": [
      "992.3152461198325\n",
      "1415.3013679488658\n"
     ]
    }
   ],
   "source": [
    "print(logit_model_dummy.aic)\n",
    "print(logit_model.aic)"
   ]
  },
  {
   "cell_type": "code",
   "execution_count": null,
   "metadata": {},
   "outputs": [],
   "source": []
  }
 ],
 "metadata": {
  "kernelspec": {
   "display_name": "Python 3",
   "language": "python",
   "name": "python3"
  },
  "language_info": {
   "codemirror_mode": {
    "name": "ipython",
    "version": 3
   },
   "file_extension": ".py",
   "mimetype": "text/x-python",
   "name": "python",
   "nbconvert_exporter": "python",
   "pygments_lexer": "ipython3",
   "version": "3.8.8"
  }
 },
 "nbformat": 4,
 "nbformat_minor": 4
}
