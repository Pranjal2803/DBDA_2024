{
 "cells": [
  {
   "cell_type": "markdown",
   "id": "531f0e4c-1a3e-4c69-b545-bab8d2af13c3",
   "metadata": {},
   "source": [
    "DEPLOYED Code lab exam exmaple"
   ]
  },
  {
   "cell_type": "code",
   "execution_count": 59,
   "id": "0d66f161-737a-4f4e-af20-5ed6ff5dc78e",
   "metadata": {
    "tags": []
   },
   "outputs": [],
   "source": [
    "import pandas as pd\n",
    "import numpy as np\n",
    "\n",
    "from sklearn.linear_model import LinearRegression"
   ]
  },
  {
   "cell_type": "code",
   "execution_count": 61,
   "id": "101bab32-44f1-4916-8232-e5ef4b673b81",
   "metadata": {
    "tags": []
   },
   "outputs": [
    {
     "name": "stdout",
     "output_type": "stream",
     "text": [
      "    adv  sales\n",
      "0    10     10\n",
      "1    11     11\n",
      "2    12     12\n",
      "3    13     13\n",
      "4    14     14\n",
      "5    15     15\n",
      "6    16     16\n",
      "7    17     17\n",
      "8    18     18\n",
      "9    19     19\n",
      "10   20     20\n",
      "11   21     21\n",
      "12   22     22\n",
      "13   23     23\n",
      "14   24     24\n",
      "15   25     25\n",
      "16   26     26\n",
      "17   27     27\n",
      "18   28     28\n",
      "19   29     29\n",
      "20   30     30\n",
      "21   21     21\n"
     ]
    }
   ],
   "source": [
    "adv = [10,11,12,13,14,15,16,17,18,19,20,21,22,23,24,25,26,27,28,29,30,21]\n",
    "sales = [10,11,12,13,14,15,16,17,18,19,20,21,22,23,24,25,26,27,28,29,30,21]\n",
    "\n",
    "df = pd.DataFrame({\"adv\":adv,\"sales\":sales})\n",
    "print(df)"
   ]
  },
  {
   "cell_type": "code",
   "execution_count": 63,
   "id": "d1d62c60-3afe-4559-92a4-705d803a545a",
   "metadata": {
    "tags": []
   },
   "outputs": [],
   "source": [
    "x = np.array(df[\"adv\"]).reshape(-1,1)\n",
    "y = df[\"sales\"]\n"
   ]
  },
  {
   "cell_type": "code",
   "execution_count": 65,
   "id": "33ab67ee-ffc2-4642-a4ae-069a7f6d81d3",
   "metadata": {
    "tags": []
   },
   "outputs": [
    {
     "data": {
      "text/html": [
       "<style>#sk-container-id-1 {color: black;background-color: white;}#sk-container-id-1 pre{padding: 0;}#sk-container-id-1 div.sk-toggleable {background-color: white;}#sk-container-id-1 label.sk-toggleable__label {cursor: pointer;display: block;width: 100%;margin-bottom: 0;padding: 0.3em;box-sizing: border-box;text-align: center;}#sk-container-id-1 label.sk-toggleable__label-arrow:before {content: \"▸\";float: left;margin-right: 0.25em;color: #696969;}#sk-container-id-1 label.sk-toggleable__label-arrow:hover:before {color: black;}#sk-container-id-1 div.sk-estimator:hover label.sk-toggleable__label-arrow:before {color: black;}#sk-container-id-1 div.sk-toggleable__content {max-height: 0;max-width: 0;overflow: hidden;text-align: left;background-color: #f0f8ff;}#sk-container-id-1 div.sk-toggleable__content pre {margin: 0.2em;color: black;border-radius: 0.25em;background-color: #f0f8ff;}#sk-container-id-1 input.sk-toggleable__control:checked~div.sk-toggleable__content {max-height: 200px;max-width: 100%;overflow: auto;}#sk-container-id-1 input.sk-toggleable__control:checked~label.sk-toggleable__label-arrow:before {content: \"▾\";}#sk-container-id-1 div.sk-estimator input.sk-toggleable__control:checked~label.sk-toggleable__label {background-color: #d4ebff;}#sk-container-id-1 div.sk-label input.sk-toggleable__control:checked~label.sk-toggleable__label {background-color: #d4ebff;}#sk-container-id-1 input.sk-hidden--visually {border: 0;clip: rect(1px 1px 1px 1px);clip: rect(1px, 1px, 1px, 1px);height: 1px;margin: -1px;overflow: hidden;padding: 0;position: absolute;width: 1px;}#sk-container-id-1 div.sk-estimator {font-family: monospace;background-color: #f0f8ff;border: 1px dotted black;border-radius: 0.25em;box-sizing: border-box;margin-bottom: 0.5em;}#sk-container-id-1 div.sk-estimator:hover {background-color: #d4ebff;}#sk-container-id-1 div.sk-parallel-item::after {content: \"\";width: 100%;border-bottom: 1px solid gray;flex-grow: 1;}#sk-container-id-1 div.sk-label:hover label.sk-toggleable__label {background-color: #d4ebff;}#sk-container-id-1 div.sk-serial::before {content: \"\";position: absolute;border-left: 1px solid gray;box-sizing: border-box;top: 0;bottom: 0;left: 50%;z-index: 0;}#sk-container-id-1 div.sk-serial {display: flex;flex-direction: column;align-items: center;background-color: white;padding-right: 0.2em;padding-left: 0.2em;position: relative;}#sk-container-id-1 div.sk-item {position: relative;z-index: 1;}#sk-container-id-1 div.sk-parallel {display: flex;align-items: stretch;justify-content: center;background-color: white;position: relative;}#sk-container-id-1 div.sk-item::before, #sk-container-id-1 div.sk-parallel-item::before {content: \"\";position: absolute;border-left: 1px solid gray;box-sizing: border-box;top: 0;bottom: 0;left: 50%;z-index: -1;}#sk-container-id-1 div.sk-parallel-item {display: flex;flex-direction: column;z-index: 1;position: relative;background-color: white;}#sk-container-id-1 div.sk-parallel-item:first-child::after {align-self: flex-end;width: 50%;}#sk-container-id-1 div.sk-parallel-item:last-child::after {align-self: flex-start;width: 50%;}#sk-container-id-1 div.sk-parallel-item:only-child::after {width: 0;}#sk-container-id-1 div.sk-dashed-wrapped {border: 1px dashed gray;margin: 0 0.4em 0.5em 0.4em;box-sizing: border-box;padding-bottom: 0.4em;background-color: white;}#sk-container-id-1 div.sk-label label {font-family: monospace;font-weight: bold;display: inline-block;line-height: 1.2em;}#sk-container-id-1 div.sk-label-container {text-align: center;}#sk-container-id-1 div.sk-container {/* jupyter's `normalize.less` sets `[hidden] { display: none; }` but bootstrap.min.css set `[hidden] { display: none !important; }` so we also need the `!important` here to be able to override the default hidden behavior on the sphinx rendered scikit-learn.org. See: https://github.com/scikit-learn/scikit-learn/issues/21755 */display: inline-block !important;position: relative;}#sk-container-id-1 div.sk-text-repr-fallback {display: none;}</style><div id=\"sk-container-id-1\" class=\"sk-top-container\"><div class=\"sk-text-repr-fallback\"><pre>LinearRegression()</pre><b>In a Jupyter environment, please rerun this cell to show the HTML representation or trust the notebook. <br />On GitHub, the HTML representation is unable to render, please try loading this page with nbviewer.org.</b></div><div class=\"sk-container\" hidden><div class=\"sk-item\"><div class=\"sk-estimator sk-toggleable\"><input class=\"sk-toggleable__control sk-hidden--visually\" id=\"sk-estimator-id-1\" type=\"checkbox\" checked><label for=\"sk-estimator-id-1\" class=\"sk-toggleable__label sk-toggleable__label-arrow\">LinearRegression</label><div class=\"sk-toggleable__content\"><pre>LinearRegression()</pre></div></div></div></div></div>"
      ],
      "text/plain": [
       "LinearRegression()"
      ]
     },
     "execution_count": 65,
     "metadata": {},
     "output_type": "execute_result"
    }
   ],
   "source": [
    "model= LinearRegression()\n",
    "model.fit(x,y)"
   ]
  },
  {
   "cell_type": "code",
   "execution_count": 67,
   "id": "859abc56-f086-44ac-892b-0c1d8a1ec3cf",
   "metadata": {
    "tags": []
   },
   "outputs": [
    {
     "name": "stdin",
     "output_type": "stream",
     "text": [
      "enter the adv value:  25\n"
     ]
    },
    {
     "name": "stdout",
     "output_type": "stream",
     "text": [
      "sales for 25 adv will be 25.0\n"
     ]
    }
   ],
   "source": [
    "new_adv_value= int(input(\"enter the adv value: \"))\n",
    "\n",
    "new_sales=model.predict([[new_adv_value]])\n",
    "\n",
    "print(\"sales for %s adv will be %s\" %(new_adv_value,new_sales[0]))"
   ]
  },
  {
   "cell_type": "code",
   "execution_count": 69,
   "id": "bcfb798a-63ff-44d8-a3d6-14a3ae1c17a2",
   "metadata": {
    "tags": []
   },
   "outputs": [],
   "source": [
    "import pickle "
   ]
  },
  {
   "cell_type": "code",
   "execution_count": 91,
   "id": "684d0e6d-68d3-4fec-a3da-b68e4a3dbbf7",
   "metadata": {
    "tags": []
   },
   "outputs": [],
   "source": [
    "\n",
    "# with open(\"save.pkl\",\"wb\") as f1:\n",
    "#     pickle.dump(model,f1)\n",
    "# print(\"sucessfully load\")\n",
    "    "
   ]
  },
  {
   "cell_type": "code",
   "execution_count": 84,
   "id": "77ee3908-b146-45fc-84ec-5ad4f9291249",
   "metadata": {
    "tags": []
   },
   "outputs": [
    {
     "name": "stdout",
     "output_type": "stream",
     "text": [
      "sucessufully\n"
     ]
    }
   ],
   "source": [
    "f1= open(\"save.pkl\",\"wb\")\n",
    "pickle.dump(model,f1)\n",
    "f1.close()\n",
    "print(\"sucessufully\")"
   ]
  },
  {
   "cell_type": "code",
   "execution_count": 97,
   "id": "16da2826-2d04-4d96-983e-8540e372eb9c",
   "metadata": {
    "tags": []
   },
   "outputs": [
    {
     "data": {
      "text/html": [
       "<style>#sk-container-id-3 {color: black;background-color: white;}#sk-container-id-3 pre{padding: 0;}#sk-container-id-3 div.sk-toggleable {background-color: white;}#sk-container-id-3 label.sk-toggleable__label {cursor: pointer;display: block;width: 100%;margin-bottom: 0;padding: 0.3em;box-sizing: border-box;text-align: center;}#sk-container-id-3 label.sk-toggleable__label-arrow:before {content: \"▸\";float: left;margin-right: 0.25em;color: #696969;}#sk-container-id-3 label.sk-toggleable__label-arrow:hover:before {color: black;}#sk-container-id-3 div.sk-estimator:hover label.sk-toggleable__label-arrow:before {color: black;}#sk-container-id-3 div.sk-toggleable__content {max-height: 0;max-width: 0;overflow: hidden;text-align: left;background-color: #f0f8ff;}#sk-container-id-3 div.sk-toggleable__content pre {margin: 0.2em;color: black;border-radius: 0.25em;background-color: #f0f8ff;}#sk-container-id-3 input.sk-toggleable__control:checked~div.sk-toggleable__content {max-height: 200px;max-width: 100%;overflow: auto;}#sk-container-id-3 input.sk-toggleable__control:checked~label.sk-toggleable__label-arrow:before {content: \"▾\";}#sk-container-id-3 div.sk-estimator input.sk-toggleable__control:checked~label.sk-toggleable__label {background-color: #d4ebff;}#sk-container-id-3 div.sk-label input.sk-toggleable__control:checked~label.sk-toggleable__label {background-color: #d4ebff;}#sk-container-id-3 input.sk-hidden--visually {border: 0;clip: rect(1px 1px 1px 1px);clip: rect(1px, 1px, 1px, 1px);height: 1px;margin: -1px;overflow: hidden;padding: 0;position: absolute;width: 1px;}#sk-container-id-3 div.sk-estimator {font-family: monospace;background-color: #f0f8ff;border: 1px dotted black;border-radius: 0.25em;box-sizing: border-box;margin-bottom: 0.5em;}#sk-container-id-3 div.sk-estimator:hover {background-color: #d4ebff;}#sk-container-id-3 div.sk-parallel-item::after {content: \"\";width: 100%;border-bottom: 1px solid gray;flex-grow: 1;}#sk-container-id-3 div.sk-label:hover label.sk-toggleable__label {background-color: #d4ebff;}#sk-container-id-3 div.sk-serial::before {content: \"\";position: absolute;border-left: 1px solid gray;box-sizing: border-box;top: 0;bottom: 0;left: 50%;z-index: 0;}#sk-container-id-3 div.sk-serial {display: flex;flex-direction: column;align-items: center;background-color: white;padding-right: 0.2em;padding-left: 0.2em;position: relative;}#sk-container-id-3 div.sk-item {position: relative;z-index: 1;}#sk-container-id-3 div.sk-parallel {display: flex;align-items: stretch;justify-content: center;background-color: white;position: relative;}#sk-container-id-3 div.sk-item::before, #sk-container-id-3 div.sk-parallel-item::before {content: \"\";position: absolute;border-left: 1px solid gray;box-sizing: border-box;top: 0;bottom: 0;left: 50%;z-index: -1;}#sk-container-id-3 div.sk-parallel-item {display: flex;flex-direction: column;z-index: 1;position: relative;background-color: white;}#sk-container-id-3 div.sk-parallel-item:first-child::after {align-self: flex-end;width: 50%;}#sk-container-id-3 div.sk-parallel-item:last-child::after {align-self: flex-start;width: 50%;}#sk-container-id-3 div.sk-parallel-item:only-child::after {width: 0;}#sk-container-id-3 div.sk-dashed-wrapped {border: 1px dashed gray;margin: 0 0.4em 0.5em 0.4em;box-sizing: border-box;padding-bottom: 0.4em;background-color: white;}#sk-container-id-3 div.sk-label label {font-family: monospace;font-weight: bold;display: inline-block;line-height: 1.2em;}#sk-container-id-3 div.sk-label-container {text-align: center;}#sk-container-id-3 div.sk-container {/* jupyter's `normalize.less` sets `[hidden] { display: none; }` but bootstrap.min.css set `[hidden] { display: none !important; }` so we also need the `!important` here to be able to override the default hidden behavior on the sphinx rendered scikit-learn.org. See: https://github.com/scikit-learn/scikit-learn/issues/21755 */display: inline-block !important;position: relative;}#sk-container-id-3 div.sk-text-repr-fallback {display: none;}</style><div id=\"sk-container-id-3\" class=\"sk-top-container\"><div class=\"sk-text-repr-fallback\"><pre>LinearRegression()</pre><b>In a Jupyter environment, please rerun this cell to show the HTML representation or trust the notebook. <br />On GitHub, the HTML representation is unable to render, please try loading this page with nbviewer.org.</b></div><div class=\"sk-container\" hidden><div class=\"sk-item\"><div class=\"sk-estimator sk-toggleable\"><input class=\"sk-toggleable__control sk-hidden--visually\" id=\"sk-estimator-id-3\" type=\"checkbox\" checked><label for=\"sk-estimator-id-3\" class=\"sk-toggleable__label sk-toggleable__label-arrow\">LinearRegression</label><div class=\"sk-toggleable__content\"><pre>LinearRegression()</pre></div></div></div></div></div>"
      ],
      "text/plain": [
       "LinearRegression()"
      ]
     },
     "execution_count": 97,
     "metadata": {},
     "output_type": "execute_result"
    }
   ],
   "source": [
    "f2 = open(\"save.pkl\",\"rb\")\n",
    "model=pickle.load(f2)\n",
    "model"
   ]
  },
  {
   "cell_type": "code",
   "execution_count": 109,
   "id": "a393f949-0b8c-4793-a9f7-1333ee63c89f",
   "metadata": {
    "tags": []
   },
   "outputs": [
    {
     "name": "stdin",
     "output_type": "stream",
     "text": [
      "enter the adv value:  45\n"
     ]
    },
    {
     "name": "stdout",
     "output_type": "stream",
     "text": [
      "sales for 45 adv will be 45.0\n"
     ]
    }
   ],
   "source": [
    "new_adv_value= int(input(\"enter the adv value: \"))\n",
    "\n",
    "new_sales=model.predict([[new_adv_value]])\n",
    "\n",
    "print(\"sales for %s adv will be %s\" %(new_adv_value,new_sales[0]))"
   ]
  },
  {
   "cell_type": "code",
   "execution_count": 3,
   "id": "d7ad9a2d-dbc9-4a55-b558-1c62282a2e5f",
   "metadata": {},
   "outputs": [],
   "source": [
    "# we dev need not transform and convert API give you luxary:- \n",
    "\n",
    "# data persectence\n",
    "\n",
    "# offload this a Libary(API)\n",
    "\n",
    "# 4 APIS\n",
    "# import pickle as pk \n",
    "# import json\n",
    "# import shelve\n",
    "# DBAPI(PDBC)\n",
    "\n",
    "# it will take a snapshot of a data and saves capalable of reproduce data"
   ]
  },
  {
   "cell_type": "markdown",
   "id": "accc01af-9ea4-49b4-ba23-f362b574b975",
   "metadata": {
    "tags": []
   },
   "source": [
    "#to load \n",
    "#pickel.load(file)\n",
    "#to dump\n",
    "# fuction called pickel.dump(data,file)"
   ]
  },
  {
   "cell_type": "code",
   "execution_count": 115,
   "id": "a2edb40e-9e14-4872-8105-4c6e26742979",
   "metadata": {
    "tags": []
   },
   "outputs": [
    {
     "ename": "TypeError",
     "evalue": "person.show() takes 0 positional arguments but 1 was given",
     "output_type": "error",
     "traceback": [
      "\u001b[1;31m---------------------------------------------------------------------------\u001b[0m",
      "\u001b[1;31mTypeError\u001b[0m                                 Traceback (most recent call last)",
      "Cell \u001b[1;32mIn[115], line 16\u001b[0m\n\u001b[0;32m     14\u001b[0m subhajet\u001b[38;5;241m.\u001b[39mconvert()\n\u001b[0;32m     15\u001b[0m ashish\u001b[38;5;241m.\u001b[39mincr()\n\u001b[1;32m---> 16\u001b[0m subhajet\u001b[38;5;241m.\u001b[39mshow()\n\u001b[0;32m     17\u001b[0m ashish\u001b[38;5;241m.\u001b[39mshow()\n\u001b[0;32m     19\u001b[0m \u001b[38;5;28;01mimport\u001b[39;00m \u001b[38;5;21;01mpickle\u001b[39;00m\n",
      "\u001b[1;31mTypeError\u001b[0m: person.show() takes 0 positional arguments but 1 was given"
     ]
    }
   ],
   "source": [
    "class person:\n",
    "    def __init__(self,name,age,loc):\n",
    "        self.name=name\n",
    "        self.age=age\n",
    "        self.loc=loc\n",
    "    def convert(self):\n",
    "        self.name=self.name.upper()\n",
    "    def incr(self):\n",
    "        self.age+=1\n",
    "    def  show():\n",
    "        print(\"name = %s age = %s loc = %s\",(self.name,self.age,self.loc))\n",
    "subhajet = person(\"subha\",22,\"bhubaneshwar\")\n",
    "ashish  = person(\"ashish\",22,\"mumbai\")\n",
    "subhajet.convert()\n",
    "ashish.incr()\n",
    "subhajet.show()\n",
    "ashish.show()\n",
    "\n",
    "import pickle\n",
    "f1 = open(\"person.txt\",\"w\")\n",
    "# f1.write(subhajet)\n",
    "pickle.dump(subhajet,f1)\n",
    "pickle.dump(ashish,f1)\n",
    "print(\"successfully  saved into a file\")\n",
    "f1.close()"
   ]
  },
  {
   "cell_type": "code",
   "execution_count": 21,
   "id": "7fca20e7-b294-4dca-a99b-7ebad2b66747",
   "metadata": {
    "tags": []
   },
   "outputs": [
    {
     "name": "stdout",
     "output_type": "stream",
     "text": [
      "name = SUBHA age = 22 loc = bhubaneshwar\n",
      "name = ashish age = 23 loc = mumbai\n",
      "Successfully saved into a file\n"
     ]
    }
   ],
   "source": [
    "import pickle\n",
    "\n",
    "class person:\n",
    "    def __init__(self, name, age, loc):\n",
    "        self.name = name\n",
    "        self.age = age\n",
    "        self.loc = loc\n",
    "\n",
    "    def convert(self):\n",
    "        self.name = self.name.upper()\n",
    "\n",
    "    def incr(self):\n",
    "        self.age += 1\n",
    "\n",
    "    def show(self):\n",
    "        print(\"name = %s age = %s loc = %s\" % (self.name, self.age, self.loc))\n",
    "\n",
    "# Creating instances of the person class\n",
    "subhajet = person(\"subha\", 22, \"bhubaneshwar\")\n",
    "ashish = person(\"ashish\", 22, \"mumbai\")\n",
    "\n",
    "# Modifying the instances\n",
    "subhajet.convert()\n",
    "ashish.incr()\n",
    "\n",
    "# Displaying the instances\n",
    "subhajet.show()\n",
    "ashish.show()\n",
    "\n",
    "# Saving the instances to a file using pickle\n",
    "with open(\"person.pkl\", \"wb\") as f1:  # Use binary mode for pickle\n",
    "    pickle.dump(subhajet, f1)\n",
    "    pickle.dump(ashish, f1)\n",
    "\n",
    "print(\"Successfully saved into a file\")\n"
   ]
  },
  {
   "cell_type": "code",
   "execution_count": 23,
   "id": "7fd7ac27-db4f-41ee-b602-da400258cd40",
   "metadata": {
    "tags": []
   },
   "outputs": [
    {
     "name": "stdout",
     "output_type": "stream",
     "text": [
      "name = SUBHA age = 22 loc = bhubaneshwar\n",
      "name = ashish age = 23 loc = mumbai\n"
     ]
    }
   ],
   "source": [
    "with open(\"person.pkl\", \"rb\") as f1:\n",
    "    subhajet_loaded = pickle.load(f1)\n",
    "    ashish_loaded = pickle.load(f1)\n",
    "\n",
    "subhajet_loaded.show()\n",
    "ashish_loaded.show()\n"
   ]
  },
  {
   "cell_type": "code",
   "execution_count": 31,
   "id": "e23c8778-733c-44ba-bcd9-ec7e4d062f3b",
   "metadata": {
    "tags": []
   },
   "outputs": [
    {
     "name": "stdout",
     "output_type": "stream",
     "text": [
      "name = SUBHA age = 22 loc = bhubaneshwar\n",
      "name = ashish age = 23 loc = mumbai\n"
     ]
    }
   ],
   "source": [
    "f2 = open(\"person.pkl\",\"rb\")\n",
    "p1= pickle.load(f2)\n",
    "p1.show() \n",
    "p2=pickle.load(f2)\n",
    "p2.show()"
   ]
  },
  {
   "cell_type": "code",
   "execution_count": null,
   "id": "9d5d031d-cf3b-4525-adee-f167cf0d6ebb",
   "metadata": {},
   "outputs": [],
   "source": []
  }
 ],
 "metadata": {
  "kernelspec": {
   "display_name": "Python 3 (ipykernel)",
   "language": "python",
   "name": "python3"
  },
  "language_info": {
   "codemirror_mode": {
    "name": "ipython",
    "version": 3
   },
   "file_extension": ".py",
   "mimetype": "text/x-python",
   "name": "python",
   "nbconvert_exporter": "python",
   "pygments_lexer": "ipython3",
   "version": "3.11.7"
  }
 },
 "nbformat": 4,
 "nbformat_minor": 5
}
