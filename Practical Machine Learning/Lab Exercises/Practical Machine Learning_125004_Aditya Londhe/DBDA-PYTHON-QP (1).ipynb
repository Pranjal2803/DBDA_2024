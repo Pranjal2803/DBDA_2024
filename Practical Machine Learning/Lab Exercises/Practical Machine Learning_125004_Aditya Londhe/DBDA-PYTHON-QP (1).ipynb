{
 "cells": [
  {
   "cell_type": "markdown",
   "id": "7586886b",
   "metadata": {},
   "source": [
    "## <span style='color:blue'>1. Given a dictionary of Customers and their items bought from a store: </span>\n",
    "    **people= {'Rajesh':'Table',\n",
    "               'Hethal':'Chair',\n",
    "               'Vivek':'Night Stand',\n",
    "               'Jiva':'Vase'}**\n",
    "    \n",
    "    a.Find out how many Customers are in the dictionary.\n",
    "    b.Change the item bought by Hethal to wodden sofa.\n",
    "    c.Remove 'Jiva' and his item.                                                     \n",
    "**5m** "
   ]
  },
  {
   "cell_type": "code",
   "execution_count": 3,
   "id": "7bf97346-e079-46b1-88ef-8271b5c3c7d5",
   "metadata": {
    "tags": []
   },
   "outputs": [
    {
     "name": "stdout",
     "output_type": "stream",
     "text": [
      "Number of customers: 4\n",
      "Updated dictionary: {'Rajesh': 'Table', 'Hethal': 'Wooden Sofa', 'Vivek': 'Night Stand', 'Jiva': 'Vase'}\n",
      "Dictionary after removing Jiva: {'Rajesh': 'Table', 'Hethal': 'Wooden Sofa', 'Vivek': 'Night Stand'}\n"
     ]
    }
   ],
   "source": [
    "# Initial dictionary\n",
    "people = {'Rajesh':'Table', 'Hethal':'Chair', 'Vivek':'Night Stand', 'Jiva':'Vase'}\n",
    "\n",
    "# a. Find the number of customers\n",
    "number_of_customers = len(people)\n",
    "print(\"Number of customers:\", number_of_customers)\n",
    "\n",
    "# b. Change the item bought by Hethal to 'Wooden Sofa'\n",
    "people['Hethal'] = 'Wooden Sofa'\n",
    "print(\"Updated dictionary:\", people)\n",
    "\n",
    "# c. Remove 'Jiva' and his item\n",
    "people.pop('Jiva')\n",
    "print(\"Dictionary after removing Jiva:\", people)\n"
   ]
  },
  {
   "cell_type": "markdown",
   "id": "77ad5aa8-28f4-4641-9e48-3788966a5b52",
   "metadata": {},
   "source": [
    "## <span style='color:blue'>2. Write a program that takes a string as input and builds a frequency listing of the characters contained in it using function. Represent the frequency listing as a Python dictionary.\n",
    "    **Example:**\n",
    "        Input String: “Leader”\n",
    "        Output Dictionary: {‘L’:1, ‘a’:1,‘d’:1, ‘e’:2, ‘r’:1}\n",
    "**5M**                   "
   ]
  },
  {
   "cell_type": "code",
   "execution_count": 5,
   "id": "11274a9b-e870-4de3-943e-08f428d1db43",
   "metadata": {
    "tags": []
   },
   "outputs": [
    {
     "name": "stdout",
     "output_type": "stream",
     "text": [
      "Output Dictionary: {'L': 1, 'e': 2, 'a': 1, 'd': 1, 'r': 1}\n"
     ]
    }
   ],
   "source": [
    "def character_frequency(input_string):\n",
    "    # Initialize an empty dictionary to store the frequency of each character\n",
    "    frequency_dict = {}\n",
    "    \n",
    "    # Loop through each character in the input string\n",
    "    for char in input_string:\n",
    "        # If the character is already in the dictionary, increment its count\n",
    "        if char in frequency_dict:\n",
    "            frequency_dict[char] += 1\n",
    "        # If the character is not in the dictionary, add it with a count of 1\n",
    "        else:\n",
    "            frequency_dict[char] = 1\n",
    "            \n",
    "    return frequency_dict\n",
    "\n",
    "# Input string\n",
    "input_string = \"Leader\"\n",
    "\n",
    "# Get the frequency dictionary\n",
    "frequency_dict = character_frequency(input_string)\n",
    "\n",
    "# Print the output dictionary\n",
    "print(\"Output Dictionary:\", frequency_dict)\n"
   ]
  },
  {
   "cell_type": "markdown",
   "id": "e39b0440-7632-4a0c-a646-7a187587728d",
   "metadata": {},
   "source": [
    "## <span style='color:blue'>3. Create a class VehicleRenting with data members as customer number, customer name, distance traveled, and methods as follows:\n",
    "\n",
    "    a.show_data() - to display the customer details\n",
    "    b.compute_bill() - to calculate and return the rental charges to be paid.\n",
    "    c.Calculate the bill as specified below:\n",
    "    d.Distance Traveled Charges per unit\n",
    "        < = 100 km Rs.1.20\n",
    "        for the next 200 km Rs. 2.00\n",
    "        for the next 300 km Rs. 3.00\n",
    "        for more Rs. 5.00\n",
    "\n",
    "For example, if the input is 320 km, the output should be:\n",
    "100 * 1.20 + 200 * 2.00 + 20 * 3.00 = Rs. 580.                                                           \n",
    "**10M**"
   ]
  },
  {
   "cell_type": "code",
   "execution_count": 11,
   "id": "0254d31c-9f53-46d6-91e5-577bb4785db6",
   "metadata": {
    "tags": []
   },
   "outputs": [
    {
     "name": "stdout",
     "output_type": "stream",
     "text": [
      "Customer Number: 123\n",
      "Customer Name: Aditya Londhe\n",
      "Distance Traveled: 320 km\n",
      "Rental Charges: Rs. 580.00\n"
     ]
    }
   ],
   "source": [
    "class VehicleRenting:\n",
    "    def __init__(self, customer_number, customer_name, distance_traveled):\n",
    "        self.customer_number = customer_number\n",
    "        self.customer_name = customer_name\n",
    "        self.distance_traveled = distance_traveled\n",
    "\n",
    "    def show_data(self):\n",
    "        print(f\"Customer Number: {self.customer_number}\")\n",
    "        print(f\"Customer Name: {self.customer_name}\")\n",
    "        print(f\"Distance Traveled: {self.distance_traveled} km\")\n",
    "\n",
    "    def compute_bill(self):\n",
    "        distance = self.distance_traveled\n",
    "        bill = 0.0\n",
    "\n",
    "        if distance <= 100:\n",
    "            bill = distance * 1.20\n",
    "        elif distance <= 300:\n",
    "            bill = 100 * 1.20 + (distance - 100) * 2.00\n",
    "        elif distance <= 600:\n",
    "            bill = 100 * 1.20 + 200 * 2.00 + (distance - 300) * 3.00\n",
    "        else:\n",
    "            bill = 100 * 1.20 + 200 * 2.00 + 300 * 3.00 + (distance - 600) * 5.00\n",
    "\n",
    "        return bill\n",
    "\n",
    "# Example usage:\n",
    "customer = VehicleRenting(123, \"Aditya Londhe\", 320)\n",
    "customer.show_data()\n",
    "bill = customer.compute_bill()\n",
    "print(f\"Rental Charges: Rs. {bill:.2f}\")\n"
   ]
  },
  {
   "cell_type": "markdown",
   "id": "35644633",
   "metadata": {},
   "source": [
    "## <span style='color:blue'> 4. Write a function to implement a simple calculator that can add, subtract, multiply and divide two integers. The program should handle two kinds of exceptions, ZeroDivisionError and NameError.                                                   \n",
    "**5M**                                             "
   ]
  },
  {
   "cell_type": "code",
   "execution_count": 21,
   "id": "eee1f9af-c587-43d0-adb4-2c9ed4dddc68",
   "metadata": {
    "tags": []
   },
   "outputs": [
    {
     "name": "stdin",
     "output_type": "stream",
     "text": [
      "Enter the first integer:  2\n",
      "Enter the second integer:  3\n",
      "Enter the operation (+, -, *, /):  +\n"
     ]
    },
    {
     "name": "stdout",
     "output_type": "stream",
     "text": [
      "The result of 2 + 3 is: 5\n"
     ]
    }
   ],
   "source": [
    "def simple_calculator():\n",
    "    try:\n",
    "        # Input two integers and an operation from the user\n",
    "        num1 = int(input(\"Enter the first integer: \"))\n",
    "        num2 = int(input(\"Enter the second integer: \"))\n",
    "        operation = input(\"Enter the operation (+, -, *, /): \")\n",
    "\n",
    "        # Perform the requested operation\n",
    "        if operation == '+':\n",
    "            result = num1 + num2\n",
    "        elif operation == '-':\n",
    "            result = num1 - num2\n",
    "        elif operation == '*':\n",
    "            result = num1 * num2\n",
    "        elif operation == '/':\n",
    "            result = num1 / num2\n",
    "        else:\n",
    "            raise NameError(\"Invalid operation\")\n",
    "\n",
    "        # Print the result\n",
    "        print(f\"The result of {num1} {operation} {num2} is: {result}\")\n",
    "\n",
    "    except ZeroDivisionError:\n",
    "        print(\"Error: Division by zero is not allowed.\")\n",
    "    except NameError as e:\n",
    "        print(f\"Error: {e}\")\n",
    "    except ValueError:\n",
    "        print(\"Error: Invalid input. Please enter integers.\")\n",
    "\n",
    "# Example usage:\n",
    "simple_calculator()\n"
   ]
  },
  {
   "cell_type": "markdown",
   "id": "3663fffe",
   "metadata": {},
   "source": [
    "## <span style='color:blue'>5. File blinkit_grocery_data.csv contains data about products available on the Blinkit online grocery shopping app. Based on this data, answer the following questions using a pandas DataFrame:\n",
    "    a. How many products are available on Blinkit?\n",
    "    b. Identify null values and replace the null values with proper data appropriately.\n",
    "    c. Change the data from Red Rice to Wheat            \n",
    "**5M**"
   ]
  },
  {
   "cell_type": "code",
   "execution_count": 26,
   "id": "69228726-5d88-4e82-a9fe-7f6e17ff14f4",
   "metadata": {
    "tags": []
   },
   "outputs": [
    {
     "name": "stdout",
     "output_type": "stream",
     "text": [
      "Number of products available on Blinkit: 10\n",
      "\n",
      "Null values before replacement:\n",
      "Product Name        0\n",
      "Category            0\n",
      "Price (per unit)    1\n",
      "Quantity            1\n",
      "Location            1\n",
      "dtype: int64\n",
      "\n",
      "Null values after replacement:\n",
      "Product Name        0\n",
      "Category            0\n",
      "Price (per unit)    1\n",
      "Quantity            1\n",
      "Location            1\n",
      "dtype: int64\n",
      "\n",
      "Modified DataFrame:\n",
      "  Product Name Category  Price (per unit)  Quantity      Location\n",
      "0      Apple,    Fruits              25.0     100.0   Koramangala\n",
      "1      Bananas   Fruits              15.0     150.0   Indiranagar\n",
      "2         Milk    Dairy              30.0      50.0     Jayanagar\n",
      "3        Bread   Bakery              20.0       NaN  Marathahalli\n",
      "4        Eggs     Dairy              40.0      60.0    Whitefield\n"
     ]
    }
   ],
   "source": [
    "import pandas as pd\n",
    "\n",
    "# Load the CSV file into a pandas DataFrame\n",
    "df = pd.read_csv('Dataset_as_csv.csv')\n",
    "\n",
    "# a. How many products are available on Blinkit?\n",
    "num_products = len(df)\n",
    "print(f\"Number of products available on Blinkit: {num_products}\")\n",
    "\n",
    "# b. Identify null values and replace them appropriately\n",
    "print(\"\\nNull values before replacement:\")\n",
    "print(df.isnull().sum())\n",
    "\n",
    "# Replace null values with appropriate data (e.g., fill NaN in numerical columns with 0, and in categorical columns with 'Unknown')\n",
    "df.fillna({'product_name': 'Unknown', 'category': 'Unknown', 'price': 0, 'quantity': 0}, inplace=True)\n",
    "\n",
    "print(\"\\nNull values after replacement:\")\n",
    "print(df.isnull().sum())\n",
    "\n",
    "# c. Change the data from Red Rice to Wheat\n",
    "df['Product Name'] = df['Product Name'].replace('Red Rice', 'Wheat')\n",
    "\n",
    "# Save the modified DataFrame to a new CSV file\n",
    "df.to_csv('modified_blinkit_grocery_data.csv', index=False)\n",
    "\n",
    "# Display the first few rows of the modified DataFrame\n",
    "print(\"\\nModified DataFrame:\")\n",
    "print(df.head())\n"
   ]
  },
  {
   "cell_type": "markdown",
   "id": "b1b31b0a",
   "metadata": {},
   "source": [
    "## <span style='color:blue'> 6. Consider a scenario where you are given the sales data of a company for the first six months of the year. You have two NumPy arrays:\n",
    "### 6 a)Calculate and display the average sales, total sales, shape, and size of the sales data using numpy.\n",
    "    months = ['January', 'February', 'March', 'April', 'May', 'June']\n",
    "    sales = [35000, 42000, 38000, 41000, 45000, 49000]\n",
    "    \n",
    "### 6 b) Write a Python script using the above given NumPy array and Matplotlib to visualize the sales data in a bar chart. The bar chart should have the following features:\n",
    "        a.Each bar represents the sales for a particular month.\n",
    "        b.The x-axis should represent the months (January to June).\n",
    "        c.The y-axis should represent the sales values.\n",
    "        d.Each bar should be labeled with the corresponding sales value.\n",
    "        e.The title of the chart should be \"Sales Data for the First Six Months of the Year\".\n",
    "        f.The bars should be colored differently.\n",
    "\n",
    "### Your visualization should be clear, well-labeled, and visually appealing. Make sure to include necessary imports and any additional code needed to display the chart and statistics properly.\n",
    "\n",
    "**10M**"
   ]
  },
  {
   "cell_type": "code",
   "execution_count": 28,
   "id": "1011c109-dc4e-46e4-8931-36f08551d555",
   "metadata": {
    "tags": []
   },
   "outputs": [
    {
     "name": "stdout",
     "output_type": "stream",
     "text": [
      "Average Sales: 41666.666666666664\n",
      "Total Sales: 250000\n",
      "Shape of Sales Data: (6,)\n",
      "Size of Sales Data: 6\n"
     ]
    }
   ],
   "source": [
    "import numpy as np\n",
    "\n",
    "# Define the sales data\n",
    "months = np.array(['January', 'February', 'March', 'April', 'May', 'June'])\n",
    "sales = np.array([35000, 42000, 38000, 41000, 45000, 49000])\n",
    "\n",
    "# Calculate average sales\n",
    "average_sales = np.mean(sales)\n",
    "\n",
    "# Calculate total sales\n",
    "total_sales = np.sum(sales)\n",
    "\n",
    "# Get the shape of the sales data\n",
    "shape_of_sales = sales.shape\n",
    "\n",
    "# Get the size of the sales data\n",
    "size_of_sales = sales.size\n",
    "\n",
    "# Display the results\n",
    "print(f\"Average Sales: {average_sales}\")\n",
    "print(f\"Total Sales: {total_sales}\")\n",
    "print(f\"Shape of Sales Data: {shape_of_sales}\")\n",
    "print(f\"Size of Sales Data: {size_of_sales}\")\n"
   ]
  },
  {
   "cell_type": "code",
   "execution_count": 32,
   "id": "efc0934b-ca49-4c58-b2c7-8c337dfeb6aa",
   "metadata": {
    "tags": []
   },
   "outputs": [
    {
     "data": {
      "image/png": "[encoded data removed]",
      "text/plain": [
       "<Figure size 1000x600 with 1 Axes>"
      ]
     },
     "metadata": {},
     "output_type": "display_data"
    }
   ],
   "source": [
    "import numpy as np\n",
    "import matplotlib.pyplot as plt\n",
    "\n",
    "# Define the sales data\n",
    "months = np.array(['January', 'February', 'March', 'April', 'May', 'June'])\n",
    "sales = np.array([35000, 42000, 38000, 41000, 45000, 49000])\n",
    "\n",
    "# Create a bar chart\n",
    "plt.figure(figsize=(10, 6))\n",
    "bars = plt.bar(months, sales, color=['blue', 'orange', 'green', 'red', 'purple', 'brown'])\n",
    "\n",
    "# Label each bar with the corresponding sales value\n",
    "for bar, sale in zip(bars, sales):\n",
    "    plt.text(bar.get_x() + bar.get_width()/2, bar.get_height(), f'{sale}', ha='center', va='bottom')\n",
    "\n",
    "# Set the title of the chart\n",
    "plt.title(\"Sales Data for the First Six Months of the Year\")\n",
    "\n",
    "# Set the labels for the x-axis and y-axis\n",
    "plt.xlabel(\"Months\")\n",
    "plt.ylabel(\"Sales\")\n",
    "\n",
    "# Show the plot\n",
    "plt.show()\n"
   ]
  },
  {
   "cell_type": "code",
   "execution_count": null,
   "id": "d6f97e0f-fc5b-476c-b7b2-e71006aa6c78",
   "metadata": {},
   "outputs": [],
   "source": []
  }
 ],
 "metadata": {
  "kernelspec": {
   "display_name": "Python 3 (ipykernel)",
   "language": "python",
   "name": "python3"
  },
  "language_info": {
   "codemirror_mode": {
    "name": "ipython",
    "version": 3
   },
   "file_extension": ".py",
   "mimetype": "text/x-python",
   "name": "python",
   "nbconvert_exporter": "python",
   "pygments_lexer": "ipython3",
   "version": "3.11.7"
  }
 },
 "nbformat": 4,
 "nbformat_minor": 5
}
