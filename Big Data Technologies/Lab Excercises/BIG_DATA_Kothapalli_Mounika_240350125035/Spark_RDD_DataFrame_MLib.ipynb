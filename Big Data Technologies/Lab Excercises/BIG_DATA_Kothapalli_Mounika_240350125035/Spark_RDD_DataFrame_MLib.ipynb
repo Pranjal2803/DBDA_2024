{
  "nbformat": 4,
  "nbformat_minor": 0,
  "metadata": {
    "colab": {
      "provenance": []
    },
    "kernelspec": {
      "name": "python3",
      "display_name": "Python 3"
    },
    "language_info": {
      "name": "python"
    }
  },
  "cells": [
    {
      "cell_type": "markdown",
      "source": [
        "FindSpark: This Python library helps locate the Spark installation and configure the environment variables, allowing Python to interact seamlessly with Apache Spark.\n",
        "\n",
        "PySpark: PySpark is the Python API for Apache Spark, enabling Python applications to leverage Spark's distributed data processing capabilities, and py4j is a dependency that facilitates communication between Python and Java, essential for PySpark to function"
      ],
      "metadata": {
        "id": "YHwWPVljXPbT"
      }
    },
    {
      "cell_type": "code",
      "execution_count": null,
      "metadata": {
        "colab": {
          "base_uri": "https://localhost:8080/"
        },
        "id": "24Q1FxADJwiH",
        "outputId": "268f8018-0c96-44e4-b989-b73aa3bbf2ab"
      },
      "outputs": [
        {
          "output_type": "stream",
          "name": "stdout",
          "text": [
            "Collecting findspark\n",
            "  Downloading findspark-2.0.1-py2.py3-none-any.whl.metadata (352 bytes)\n",
            "Downloading findspark-2.0.1-py2.py3-none-any.whl (4.4 kB)\n",
            "Installing collected packages: findspark\n",
            "Successfully installed findspark-2.0.1\n",
            "Collecting pyspark\n",
            "  Downloading pyspark-3.5.1.tar.gz (317.0 MB)\n",
            "\u001b[2K     \u001b[90m━━━━━━━━━━━━━━━━━━━━━━━━━━━━━━━━━━━━━━━━\u001b[0m \u001b[32m317.0/317.0 MB\u001b[0m \u001b[31m1.6 MB/s\u001b[0m eta \u001b[36m0:00:00\u001b[0m\n",
            "\u001b[?25h  Preparing metadata (setup.py) ... \u001b[?25l\u001b[?25hdone\n",
            "Requirement already satisfied: py4j==0.10.9.7 in /usr/local/lib/python3.10/dist-packages (from pyspark) (0.10.9.7)\n",
            "Building wheels for collected packages: pyspark\n",
            "  Building wheel for pyspark (setup.py) ... \u001b[?25l\u001b[?25hdone\n",
            "  Created wheel for pyspark: filename=pyspark-3.5.1-py2.py3-none-any.whl size=317488493 sha256=027ea74e489f2ab43f95cbe2ed94a05dcf976084248f3e6650c3ac992799c08a\n",
            "  Stored in directory: /root/.cache/pip/wheels/80/1d/60/2c256ed38dddce2fdd93be545214a63e02fbd8d74fb0b7f3a6\n",
            "Successfully built pyspark\n",
            "Installing collected packages: pyspark\n",
            "Successfully installed pyspark-3.5.1\n",
            "Requirement already satisfied: py4j in /usr/local/lib/python3.10/dist-packages (0.10.9.7)\n"
          ]
        }
      ],
      "source": [
        "!pip install findspark\n",
        "!pip install pyspark\n",
        "!pip install py4j\n"
      ]
    },
    {
      "cell_type": "markdown",
      "source": [
        "SparkSession: The main entry point for DataFrame and SQL operations in Spark, providing unified APIs for Spark functionalities.\n",
        "SparkContext: The entry point for RDD operations, used here for backwards compatibility or specific RDD manipulations. For new code, prefer SparkSession."
      ],
      "metadata": {
        "id": "zZH5gcFIXUn2"
      }
    },
    {
      "cell_type": "code",
      "source": [
        "import findspark\n",
        "import pyspark\n",
        "import os\n",
        "\n",
        "from pyspark.sql import SparkSession\n",
        "from pyspark import SparkContext, SparkConf\n",
        "\n",
        "spark=SparkSession.builder.master('local').appName('rdd_demo').getOrCreate()\n",
        "coff=SparkConf().setMaster('local').setAppName('data')\n",
        "sc=SparkContext.getOrCreate()\n"
      ],
      "metadata": {
        "id": "h7nw8JbwKror"
      },
      "execution_count": null,
      "outputs": []
    },
    {
      "cell_type": "markdown",
      "source": [
        "inferschema='false': No automatic type inference; all data will be read as strings.\n",
        "header='true': The first row of the CSV file is used for column names."
      ],
      "metadata": {
        "id": "UlMA7PcmXmQ8"
      }
    },
    {
      "cell_type": "code",
      "source": [
        "data=spark\\\n",
        ".read\\\n",
        ".option('inferschema','false')\\\n",
        ".option('header','true')\\\n",
        ".csv(\"2015-summary.csv\")"
      ],
      "metadata": {
        "id": "carhdiWZKu75"
      },
      "execution_count": null,
      "outputs": []
    },
    {
      "cell_type": "code",
      "source": [
        "print(data)\n",
        "data\n",
        "print(type(data))"
      ],
      "metadata": {
        "colab": {
          "base_uri": "https://localhost:8080/"
        },
        "id": "JS2upk_NTbfa",
        "outputId": "e92f4bfe-3f5c-40fd-9dee-0151281c4f63"
      },
      "execution_count": null,
      "outputs": [
        {
          "output_type": "stream",
          "name": "stdout",
          "text": [
            "DataFrame[DEST_COUNTRY_NAME: string, ORIGIN_COUNTRY_NAME: string, count: string]\n",
            "<class 'pyspark.sql.dataframe.DataFrame'>\n"
          ]
        }
      ]
    },
    {
      "cell_type": "markdown",
      "source": [
        "Repartitioning: Repartitioning changes the number of partitions in an RDD and can be useful for optimizing performance based on the size of the data and the resources available"
      ],
      "metadata": {
        "id": "mamt4yo1YB9k"
      }
    },
    {
      "cell_type": "code",
      "source": [
        "data=spark\\\n",
        ".read\\\n",
        ".option('inferschema','false')\\\n",
        ".option('header','true')\\\n",
        ".csv(\"2015-summary.csv\")\n",
        "data=data.toDF(\"dest\",\"source\",\"count\").rdd\n",
        "print(\"the count of data is: \", data.count())\n",
        "print(type(data))\n",
        "print(data.take(1))\n",
        "data.getNumPartitions()\n",
        "data=data.repartition(5)\n",
        "print(\"the number of partions are: \", data.getNumPartitions())\n",
        "data=data.repartition(1)\n",
        "print(\"the number of partions are: \", data.getNumPartitions())"
      ],
      "metadata": {
        "colab": {
          "base_uri": "https://localhost:8080/"
        },
        "id": "NBWVL8DzW88s",
        "outputId": "13a1a451-dba3-439a-db78-8bd6a57a2e6b"
      },
      "execution_count": null,
      "outputs": [
        {
          "output_type": "stream",
          "name": "stdout",
          "text": [
            "the count of data is:  256\n",
            "<class 'pyspark.rdd.RDD'>\n",
            "[Row(dest='United States', source='Romania', count='15')]\n",
            "the number of partions are:  5\n",
            "the number of partions are:  1\n"
          ]
        }
      ]
    },
    {
      "cell_type": "code",
      "source": [
        "import pandas as pd\n",
        "data3=pd.read_csv('2015-summary.csv')\n",
        "print(data3.head())\n",
        "print(type(data3))\n",
        "\n",
        "data4=spark.createDataFrame(data3).rdd\n",
        "print(data4.take(4))\n",
        "print(type(data4))"
      ],
      "metadata": {
        "colab": {
          "base_uri": "https://localhost:8080/"
        },
        "id": "rhbCWr6SbhTz",
        "outputId": "277d809f-dddf-44a1-e66d-05670c01a412"
      },
      "execution_count": null,
      "outputs": [
        {
          "output_type": "stream",
          "name": "stdout",
          "text": [
            "  DEST_COUNTRY_NAME ORIGIN_COUNTRY_NAME  count\n",
            "0     United States             Romania     15\n",
            "1     United States             Croatia      1\n",
            "2     United States             Ireland    344\n",
            "3             Egypt       United States     15\n",
            "4     United States               India     62\n",
            "<class 'pandas.core.frame.DataFrame'>\n",
            "[Row(DEST_COUNTRY_NAME='United States', ORIGIN_COUNTRY_NAME='Romania', count=15), Row(DEST_COUNTRY_NAME='United States', ORIGIN_COUNTRY_NAME='Croatia', count=1), Row(DEST_COUNTRY_NAME='United States', ORIGIN_COUNTRY_NAME='Ireland', count=344), Row(DEST_COUNTRY_NAME='Egypt', ORIGIN_COUNTRY_NAME='United States', count=15)]\n",
            "<class 'pyspark.rdd.RDD'>\n"
          ]
        }
      ]
    },
    {
      "cell_type": "markdown",
      "source": [
        "operation focuses on finding records where the closing price of a stock is greater than the opening price, which might be used to identify positive trading days or analyze stock performance."
      ],
      "metadata": {
        "id": "qlsDyN9MYoZP"
      }
    },
    {
      "cell_type": "code",
      "source": [
        "ndata=spark.read.format('csv').option('inferschema', 'false').option('header', 'true') \\\n",
        "  .load('RELIANCE.csv')\n",
        "ndata=ndata.toDF('Date', 'Open', 'High', 'Low', 'Last', 'Close', 'Volume', 'Turnover').rdd \\\n",
        "  .map(lambda row: (row[0], row[1], row[5]))\n",
        "print(ndata.count())\n",
        "print(ndata.take(2))\n",
        "\n",
        "\n",
        "ndata=ndata.filter(lambda row: float(row[2]) > float(row[1]))\n",
        "print(ndata.count())\n",
        "print(ndata.take(4))"
      ],
      "metadata": {
        "colab": {
          "base_uri": "https://localhost:8080/"
        },
        "id": "jiRZUaGYchbO",
        "outputId": "bf71bd1d-570b-4aa8-fad1-de29623fa9d7"
      },
      "execution_count": null,
      "outputs": [
        {
          "output_type": "stream",
          "name": "stdout",
          "text": [
            "5\n",
            "[('2022-01-01', '100', '10000'), ('2022-01-02', '200', '20000')]\n",
            "5\n",
            "[('2022-01-01', '100', '10000'), ('2022-01-02', '200', '20000'), ('2022-01-03', '300', '30000'), ('2022-01-04', '400', '40000')]\n"
          ]
        }
      ]
    },
    {
      "cell_type": "code",
      "source": [
        "def pl(line):\n",
        "  field=line.split(',')\n",
        "  dat=field[field]\n",
        "  open=field[1]\n",
        "  volume=field[4]\n",
        "  return (dat, open, volume)\n",
        "\n",
        "mdata=spark.sparkContext.textFile('RELIANCE.csv')\n",
        "mdata=mdata.map(pl)"
      ],
      "metadata": {
        "id": "aysM1_C6wv1w"
      },
      "execution_count": null,
      "outputs": []
    },
    {
      "cell_type": "markdown",
      "source": [
        "HighClose checks if the 'Close' price is greater than the 'Open' price and returns a Boolean,\n",
        "CSV file is read into an RDD, and columns are selected\n",
        "Counts and prints initial rows, applies filtering, and prints filtered results"
      ],
      "metadata": {
        "id": "hndg-vWNZFiQ"
      }
    },
    {
      "cell_type": "code",
      "source": [
        "def HighClose(row):\n",
        "    if float(row[2]) > float(row[1]):\n",
        "        return row\n",
        "\n",
        "o_sdt = spark.read.format(\"CSV\").option(\"header\", \"true\").load('RELIANCE.csv')\n",
        "o_sdt = o_sdt.toDF(\"Date\", \"Open\", \"High\", \"Low\", \"Last\", \"Close\", \"Volume\", \"Turnover\").rdd \\\n",
        "    .map(lambda row: (row[0], row[1], row[5]))\n",
        "print(o_sdt.count())\n",
        "o_sdt = o_sdt.filter(lambda row: HighClose(row))\n",
        "print(o_sdt.take(5))\n",
        "print(type(o_sdt))\n",
        "print(o_sdt.count())\n"
      ],
      "metadata": {
        "colab": {
          "base_uri": "https://localhost:8080/"
        },
        "id": "ThiKYyskwwXb",
        "outputId": "88611bc4-2433-4aa3-d02e-51524e96fe1c"
      },
      "execution_count": null,
      "outputs": [
        {
          "output_type": "stream",
          "name": "stdout",
          "text": [
            "5\n",
            "[('2022-01-01', '100', '10000'), ('2022-01-02', '200', '20000'), ('2022-01-03', '300', '30000'), ('2022-01-04', '400', '40000'), ('2022-01-05', '500', '50000')]\n",
            "<class 'pyspark.rdd.PipelinedRDD'>\n",
            "5\n"
          ]
        }
      ]
    },
    {
      "cell_type": "code",
      "source": [
        "def to_mil(rwo):\n",
        "  return (row[0], row[1], rwo[5], round(row[3], 0))\n",
        "\n",
        "kdata=spark.read.format('csv').option('inferschema','false').option('header','true').load('RELIANCE.csv')\n",
        "kdata=kdata.toDF(\"Date\", \"Open\", \"High\", \"Low\", \"Last\", \"Close\", \"Volume\", \"Turnover\").rdd.map(lambda row: (row[0], row[1], row[5]))\n",
        "\n",
        "print(kdata.count())\n",
        "kdata=kdata.map(to_mil)\n",
        "print(type(kdata))"
      ],
      "metadata": {
        "colab": {
          "base_uri": "https://localhost:8080/"
        },
        "id": "lscxQTod4Rzo",
        "outputId": "da60f150-a304-438f-90bd-618a9226cf0c"
      },
      "execution_count": null,
      "outputs": [
        {
          "output_type": "stream",
          "name": "stdout",
          "text": [
            "5\n",
            "<class 'pyspark.rdd.PipelinedRDD'>\n"
          ]
        }
      ]
    },
    {
      "cell_type": "code",
      "source": [
        "def chan(lines):\n",
        "  lines=lines.lower()\n",
        "  lines=lines.split(' ')\n",
        "  return lines\n",
        "s='sherlock_holmes.txt'\n",
        "input_file=sc.textFile(s, 6)\n",
        "\n",
        "print(input_file.take(1))\n",
        "sdatas=input_file.flatMap(chan)\n",
        "print(sdatas.take(6))\n",
        "\n",
        "sdatan=input_file.map(chan)\n",
        "print(sdatan.take(1))"
      ],
      "metadata": {
        "colab": {
          "base_uri": "https://localhost:8080/"
        },
        "id": "mZHjOfB14Sc5",
        "outputId": "844a5956-1945-4ed0-d59a-dfa37201c848"
      },
      "execution_count": null,
      "outputs": [
        {
          "output_type": "stream",
          "name": "stdout",
          "text": [
            "['A SCANDAL IN BOHEMIA']\n",
            "['a', 'scandal', 'in', 'bohemia', 'i.', 'to']\n",
            "[['a', 'scandal', 'in', 'bohemia']]\n"
          ]
        }
      ]
    },
    {
      "cell_type": "code",
      "source": [
        "sdatas.count()"
      ],
      "metadata": {
        "colab": {
          "base_uri": "https://localhost:8080/"
        },
        "id": "yK32EC-5KIgS",
        "outputId": "ea671f1a-7f7d-4cde-89bc-d7ecc508a68a"
      },
      "execution_count": null,
      "outputs": [
        {
          "output_type": "execute_result",
          "data": {
            "text/plain": [
              "11427"
            ]
          },
          "metadata": {},
          "execution_count": 18
        }
      ]
    },
    {
      "cell_type": "code",
      "source": [
        "sdatas.countApprox(1,0.9)"
      ],
      "metadata": {
        "colab": {
          "base_uri": "https://localhost:8080/"
        },
        "id": "34nGDwadKIE4",
        "outputId": "7ba93212-9f04-4b61-e17c-cbae8a9cd35d"
      },
      "execution_count": null,
      "outputs": [
        {
          "output_type": "execute_result",
          "data": {
            "text/plain": [
              "11427"
            ]
          },
          "metadata": {},
          "execution_count": 19
        }
      ]
    },
    {
      "cell_type": "code",
      "source": [
        "sdatas.countByValue()"
      ],
      "metadata": {
        "colab": {
          "base_uri": "https://localhost:8080/"
        },
        "collapsed": true,
        "id": "hjL2hiKcKqKz",
        "outputId": "2a9cb68f-1ab5-4671-8608-a85dd0ddffdd"
      },
      "execution_count": null,
      "outputs": [
        {
          "output_type": "execute_result",
          "data": {
            "text/plain": [
              "defaultdict(int,\n",
              "            {'a': 288,\n",
              "             'scandal': 4,\n",
              "             'in': 188,\n",
              "             'bohemia': 2,\n",
              "             'i.': 2,\n",
              "             'to': 299,\n",
              "             'sherlock': 14,\n",
              "             'holmes': 27,\n",
              "             'she': 67,\n",
              "             'is': 114,\n",
              "             'always': 7,\n",
              "             'the': 556,\n",
              "             'woman.': 3,\n",
              "             'i': 280,\n",
              "             'have': 88,\n",
              "             'seldom': 3,\n",
              "             'heard': 11,\n",
              "             'him': 16,\n",
              "             'mention': 1,\n",
              "             'her': 40,\n",
              "             'under': 10,\n",
              "             'any': 10,\n",
              "             'other': 12,\n",
              "             'name.': 1,\n",
              "             'his': 137,\n",
              "             'eyes': 9,\n",
              "             'eclipses': 1,\n",
              "             'and': 305,\n",
              "             'predominates': 1,\n",
              "             'whole': 6,\n",
              "             'of': 302,\n",
              "             'sex.': 1,\n",
              "             'it': 137,\n",
              "             'was': 140,\n",
              "             'not': 73,\n",
              "             'that': 137,\n",
              "             'he': 129,\n",
              "             'felt': 2,\n",
              "             'emotion': 2,\n",
              "             'akin': 2,\n",
              "             'love': 6,\n",
              "             'for': 69,\n",
              "             'irene': 10,\n",
              "             'adler.': 2,\n",
              "             'all': 32,\n",
              "             'emotions,': 1,\n",
              "             'one': 29,\n",
              "             'particularly,': 1,\n",
              "             'were': 31,\n",
              "             'abhorrent': 1,\n",
              "             'cold,': 1,\n",
              "             'precise': 1,\n",
              "             'but': 56,\n",
              "             'admirably': 2,\n",
              "             'balanced': 1,\n",
              "             'mind.': 1,\n",
              "             'was,': 1,\n",
              "             'take': 7,\n",
              "             'it,': 11,\n",
              "             'most': 16,\n",
              "             'perfect': 1,\n",
              "             'reasoning': 2,\n",
              "             'observing': 2,\n",
              "             'machine': 1,\n",
              "             'world': 1,\n",
              "             'has': 34,\n",
              "             'seen,': 1,\n",
              "             'as': 91,\n",
              "             'lover': 1,\n",
              "             'would': 28,\n",
              "             'placed': 1,\n",
              "             'himself': 7,\n",
              "             'false': 3,\n",
              "             'position.': 1,\n",
              "             'never': 7,\n",
              "             'spoke': 3,\n",
              "             'softer': 1,\n",
              "             'passions,': 1,\n",
              "             'save': 4,\n",
              "             'with': 93,\n",
              "             'gibe': 1,\n",
              "             'sneer.': 1,\n",
              "             'they': 17,\n",
              "             'admirable': 2,\n",
              "             'things': 3,\n",
              "             'observer—excellent': 1,\n",
              "             'drawing': 1,\n",
              "             'veil': 1,\n",
              "             'from': 53,\n",
              "             'men’s': 2,\n",
              "             'motives': 1,\n",
              "             'actions.': 1,\n",
              "             'trained': 2,\n",
              "             'reasoner': 2,\n",
              "             'admit': 2,\n",
              "             'such': 12,\n",
              "             'intrusions': 1,\n",
              "             'into': 37,\n",
              "             'own': 16,\n",
              "             'delicate': 4,\n",
              "             'finely': 1,\n",
              "             'adjusted': 2,\n",
              "             'temperament': 1,\n",
              "             'introduce': 1,\n",
              "             'distracting': 1,\n",
              "             'factor': 2,\n",
              "             'which': 63,\n",
              "             'might': 13,\n",
              "             'throw': 3,\n",
              "             'doubt': 6,\n",
              "             'upon': 36,\n",
              "             'mental': 1,\n",
              "             'results.': 1,\n",
              "             'grit': 1,\n",
              "             'sensitive': 1,\n",
              "             'instrument,': 1,\n",
              "             'or': 25,\n",
              "             'crack': 1,\n",
              "             'high-power': 1,\n",
              "             'lenses,': 1,\n",
              "             'be': 66,\n",
              "             'more': 16,\n",
              "             'disturbing': 1,\n",
              "             'than': 15,\n",
              "             'strong': 3,\n",
              "             'nature': 4,\n",
              "             'his.': 1,\n",
              "             'yet': 6,\n",
              "             'there': 38,\n",
              "             'woman': 5,\n",
              "             'him,': 3,\n",
              "             'late': 3,\n",
              "             'adler,': 5,\n",
              "             'dubious': 1,\n",
              "             'questionable': 1,\n",
              "             'memory.': 2,\n",
              "             '': 321,\n",
              "             'had': 73,\n",
              "             'seen': 6,\n",
              "             'little': 22,\n",
              "             'lately.': 1,\n",
              "             'my': 97,\n",
              "             'marriage': 3,\n",
              "             'drifted': 1,\n",
              "             'us': 8,\n",
              "             'away': 7,\n",
              "             'each': 3,\n",
              "             'other.': 1,\n",
              "             'complete': 2,\n",
              "             'happiness,': 1,\n",
              "             'home-centred': 1,\n",
              "             'interests': 1,\n",
              "             'rise': 1,\n",
              "             'up': 35,\n",
              "             'around': 1,\n",
              "             'man': 19,\n",
              "             'who': 38,\n",
              "             'first': 4,\n",
              "             'finds': 1,\n",
              "             'master': 1,\n",
              "             'establishment,': 1,\n",
              "             'sufficient': 1,\n",
              "             'absorb': 1,\n",
              "             'attention,': 1,\n",
              "             'while': 9,\n",
              "             'holmes,': 12,\n",
              "             'loathed': 1,\n",
              "             'every': 11,\n",
              "             'form': 1,\n",
              "             'society': 1,\n",
              "             'bohemian': 3,\n",
              "             'soul,': 1,\n",
              "             'remained': 1,\n",
              "             'our': 14,\n",
              "             'lodgings': 1,\n",
              "             'baker': 6,\n",
              "             'street,': 6,\n",
              "             'buried': 1,\n",
              "             'among': 4,\n",
              "             'old': 4,\n",
              "             'books,': 1,\n",
              "             'alternating': 1,\n",
              "             'week': 3,\n",
              "             'between': 4,\n",
              "             'cocaine': 1,\n",
              "             'ambition,': 1,\n",
              "             'drowsiness': 1,\n",
              "             'drug,': 1,\n",
              "             'fierce': 2,\n",
              "             'energy': 1,\n",
              "             'keen': 2,\n",
              "             'nature.': 1,\n",
              "             'still,': 2,\n",
              "             'ever,': 1,\n",
              "             'deeply': 2,\n",
              "             'attracted': 1,\n",
              "             'by': 38,\n",
              "             'study': 4,\n",
              "             'crime,': 1,\n",
              "             'occupied': 1,\n",
              "             'immense': 2,\n",
              "             'faculties': 1,\n",
              "             'extraordinary': 4,\n",
              "             'powers': 2,\n",
              "             'observation': 1,\n",
              "             'following': 2,\n",
              "             'out': 25,\n",
              "             'those': 4,\n",
              "             'clues,': 1,\n",
              "             'clearing': 2,\n",
              "             'mysteries': 1,\n",
              "             'been': 38,\n",
              "             'abandoned': 1,\n",
              "             'hopeless': 1,\n",
              "             'official': 1,\n",
              "             'police.': 1,\n",
              "             'time': 5,\n",
              "             'some': 19,\n",
              "             'vague': 1,\n",
              "             'account': 4,\n",
              "             'doings:': 1,\n",
              "             'summons': 1,\n",
              "             'odessa': 1,\n",
              "             'case': 7,\n",
              "             'trepoff': 1,\n",
              "             'murder,': 1,\n",
              "             'singular': 4,\n",
              "             'tragedy': 1,\n",
              "             'atkinson': 1,\n",
              "             'brothers': 1,\n",
              "             'at': 72,\n",
              "             'trincomalee,': 1,\n",
              "             'finally': 1,\n",
              "             'mission': 1,\n",
              "             'accomplished': 1,\n",
              "             'so': 25,\n",
              "             'delicately': 1,\n",
              "             'successfully': 1,\n",
              "             'reigning': 2,\n",
              "             'family': 1,\n",
              "             'holland.': 1,\n",
              "             'beyond': 1,\n",
              "             'these': 3,\n",
              "             'signs': 1,\n",
              "             'activity,': 1,\n",
              "             'however,': 4,\n",
              "             'merely': 4,\n",
              "             'shared': 1,\n",
              "             'readers': 1,\n",
              "             'daily': 1,\n",
              "             'press,': 1,\n",
              "             'knew': 5,\n",
              "             'former': 1,\n",
              "             'friend': 5,\n",
              "             'companion.': 2,\n",
              "             'night—it': 1,\n",
              "             'on': 37,\n",
              "             'twentieth': 1,\n",
              "             'march,': 1,\n",
              "             '1888—i': 1,\n",
              "             'returning': 1,\n",
              "             'journey': 1,\n",
              "             'patient': 1,\n",
              "             '(for': 1,\n",
              "             'now': 10,\n",
              "             'returned': 3,\n",
              "             'civil': 1,\n",
              "             'practice),': 1,\n",
              "             'when': 36,\n",
              "             'way': 5,\n",
              "             'led': 2,\n",
              "             'me': 44,\n",
              "             'through': 5,\n",
              "             'street.': 6,\n",
              "             'passed': 1,\n",
              "             'well-remembered': 1,\n",
              "             'door,': 3,\n",
              "             'must': 19,\n",
              "             'associated': 2,\n",
              "             'mind': 6,\n",
              "             'wooing,': 1,\n",
              "             'dark': 3,\n",
              "             'incidents': 1,\n",
              "             'scarlet,': 1,\n",
              "             'seized': 2,\n",
              "             'desire': 2,\n",
              "             'see': 16,\n",
              "             'again,': 5,\n",
              "             'know': 18,\n",
              "             'how': 19,\n",
              "             'employing': 1,\n",
              "             'powers.': 1,\n",
              "             'rooms': 2,\n",
              "             'brilliantly': 1,\n",
              "             'lit,': 2,\n",
              "             'and,': 5,\n",
              "             'even': 7,\n",
              "             'looked': 9,\n",
              "             'up,': 3,\n",
              "             'saw': 8,\n",
              "             'tall,': 1,\n",
              "             'spare': 2,\n",
              "             'figure': 3,\n",
              "             'pass': 1,\n",
              "             'twice': 7,\n",
              "             'silhouette': 1,\n",
              "             'against': 6,\n",
              "             'blind.': 1,\n",
              "             'pacing': 2,\n",
              "             'room': 8,\n",
              "             'swiftly,': 1,\n",
              "             'eagerly,': 1,\n",
              "             'head': 3,\n",
              "             'sunk': 1,\n",
              "             'chest': 3,\n",
              "             'hands': 5,\n",
              "             'clasped': 1,\n",
              "             'behind': 5,\n",
              "             'him.': 9,\n",
              "             'me,': 5,\n",
              "             'mood': 1,\n",
              "             'habit,': 1,\n",
              "             'attitude': 1,\n",
              "             'manner': 2,\n",
              "             'told': 5,\n",
              "             'their': 10,\n",
              "             'story.': 1,\n",
              "             'work': 4,\n",
              "             'again.': 1,\n",
              "             'risen': 1,\n",
              "             'drug-created': 1,\n",
              "             'dreams': 1,\n",
              "             'hot': 2,\n",
              "             'scent': 1,\n",
              "             'new': 4,\n",
              "             'problem.': 1,\n",
              "             'rang': 1,\n",
              "             'bell': 1,\n",
              "             'shown': 4,\n",
              "             'chamber': 2,\n",
              "             'formerly': 1,\n",
              "             'part': 8,\n",
              "             'own.': 2,\n",
              "             'effusive.': 1,\n",
              "             'was;': 1,\n",
              "             'glad,': 1,\n",
              "             'think,': 4,\n",
              "             'me.': 8,\n",
              "             'hardly': 4,\n",
              "             'word': 3,\n",
              "             'spoken,': 1,\n",
              "             'kindly': 1,\n",
              "             'eye,': 1,\n",
              "             'waved': 1,\n",
              "             'an': 41,\n",
              "             'armchair,': 2,\n",
              "             'threw': 3,\n",
              "             'across': 4,\n",
              "             'cigars,': 1,\n",
              "             'indicated': 2,\n",
              "             'spirit': 1,\n",
              "             'gasogene': 1,\n",
              "             'corner.': 1,\n",
              "             'then': 12,\n",
              "             'stood': 4,\n",
              "             'before': 13,\n",
              "             'fire': 3,\n",
              "             'over': 12,\n",
              "             'introspective': 1,\n",
              "             'fashion.': 1,\n",
              "             '“wedlock': 1,\n",
              "             'suits': 1,\n",
              "             'you,”': 1,\n",
              "             'remarked.': 3,\n",
              "             '“i': 46,\n",
              "             'watson,': 4,\n",
              "             'you': 122,\n",
              "             'put': 5,\n",
              "             'seven': 3,\n",
              "             'half': 10,\n",
              "             'pounds': 2,\n",
              "             'since': 3,\n",
              "             'you.”': 7,\n",
              "             '“seven!”': 1,\n",
              "             'answered.': 3,\n",
              "             '“indeed,': 1,\n",
              "             'should': 18,\n",
              "             'thought': 6,\n",
              "             'more.': 4,\n",
              "             'just': 21,\n",
              "             'trifle': 1,\n",
              "             'more,': 2,\n",
              "             'fancy,': 1,\n",
              "             'watson.': 2,\n",
              "             'practice': 1,\n",
              "             'observe.': 2,\n",
              "             'did': 12,\n",
              "             'tell': 8,\n",
              "             'intended': 1,\n",
              "             'go': 4,\n",
              "             'harness.”': 1,\n",
              "             '“then,': 6,\n",
              "             'do': 28,\n",
              "             'know?”': 1,\n",
              "             'deduce': 4,\n",
              "             'it.': 12,\n",
              "             'getting': 2,\n",
              "             'yourself': 6,\n",
              "             'very': 38,\n",
              "             'wet': 1,\n",
              "             'lately,': 2,\n",
              "             'clumsy': 1,\n",
              "             'careless': 1,\n",
              "             'servant': 3,\n",
              "             'girl?”': 1,\n",
              "             '“my': 7,\n",
              "             'dear': 7,\n",
              "             'holmes,”': 3,\n",
              "             'said': 38,\n",
              "             'i,': 4,\n",
              "             '“this': 8,\n",
              "             'too': 6,\n",
              "             'much.': 1,\n",
              "             'certainly': 3,\n",
              "             'burned,': 1,\n",
              "             'lived': 1,\n",
              "             'few': 5,\n",
              "             'centuries': 1,\n",
              "             'ago.': 2,\n",
              "             'true': 2,\n",
              "             'country': 2,\n",
              "             'walk': 4,\n",
              "             'thursday': 1,\n",
              "             'came': 9,\n",
              "             'home': 2,\n",
              "             'dreadful': 1,\n",
              "             'mess,': 1,\n",
              "             'changed': 2,\n",
              "             'clothes': 1,\n",
              "             'can’t': 3,\n",
              "             'imagine': 2,\n",
              "             'mary': 2,\n",
              "             'jane,': 1,\n",
              "             'incorrigible,': 1,\n",
              "             'wife': 1,\n",
              "             'given': 4,\n",
              "             'notice,': 1,\n",
              "             'there,': 1,\n",
              "             'fail': 2,\n",
              "             'out.”': 1,\n",
              "             'chuckled': 2,\n",
              "             'rubbed': 1,\n",
              "             'long,': 2,\n",
              "             'nervous': 1,\n",
              "             'together.': 2,\n",
              "             '“it': 14,\n",
              "             'simplicity': 1,\n",
              "             'itself,”': 1,\n",
              "             'he;': 1,\n",
              "             'inside': 2,\n",
              "             'your': 53,\n",
              "             'left': 10,\n",
              "             'shoe,': 1,\n",
              "             'where': 10,\n",
              "             'firelight': 1,\n",
              "             'strikes': 1,\n",
              "             'leather': 2,\n",
              "             'scored': 1,\n",
              "             'six': 4,\n",
              "             'almost': 3,\n",
              "             'parallel': 1,\n",
              "             'cuts.': 1,\n",
              "             'obviously': 1,\n",
              "             'caused': 1,\n",
              "             'someone': 2,\n",
              "             'carelessly': 1,\n",
              "             'scraped': 1,\n",
              "             'round': 5,\n",
              "             'edges': 1,\n",
              "             'sole': 1,\n",
              "             'order': 1,\n",
              "             'remove': 1,\n",
              "             'crusted': 1,\n",
              "             'mud': 1,\n",
              "             'hence,': 1,\n",
              "             'see,': 3,\n",
              "             'double': 3,\n",
              "             'deduction': 1,\n",
              "             'vile': 1,\n",
              "             'weather,': 1,\n",
              "             'particularly': 1,\n",
              "             'malignant': 1,\n",
              "             'boot-slitting': 1,\n",
              "             'specimen': 1,\n",
              "             'london': 3,\n",
              "             'slavey.': 1,\n",
              "             'practice,': 1,\n",
              "             'if': 31,\n",
              "             'gentleman': 8,\n",
              "             'walks': 1,\n",
              "             'smelling': 1,\n",
              "             'iodoform,': 1,\n",
              "             'black': 4,\n",
              "             'mark': 2,\n",
              "             'nitrate': 1,\n",
              "             'silver': 1,\n",
              "             'right': 10,\n",
              "             'forefinger,': 1,\n",
              "             'bulge': 1,\n",
              "             'side': 3,\n",
              "             'top-hat': 2,\n",
              "             'show': 2,\n",
              "             'secreted': 1,\n",
              "             'stethoscope,': 1,\n",
              "             'dull,': 1,\n",
              "             'indeed,': 4,\n",
              "             'pronounce': 1,\n",
              "             'active': 1,\n",
              "             'member': 2,\n",
              "             'medical': 1,\n",
              "             'profession.”': 1,\n",
              "             'could': 30,\n",
              "             'help': 4,\n",
              "             'laughing': 3,\n",
              "             'ease': 1,\n",
              "             'explained': 1,\n",
              "             'process': 1,\n",
              "             'deduction.': 1,\n",
              "             '“when': 2,\n",
              "             'hear': 5,\n",
              "             'give': 6,\n",
              "             'reasons,”': 1,\n",
              "             'remarked,': 3,\n",
              "             '“the': 10,\n",
              "             'thing': 4,\n",
              "             'appears': 1,\n",
              "             'ridiculously': 1,\n",
              "             'simple': 4,\n",
              "             'easily': 2,\n",
              "             'myself,': 3,\n",
              "             'though': 2,\n",
              "             'successive': 1,\n",
              "             'instance': 3,\n",
              "             'am': 29,\n",
              "             'baffled': 1,\n",
              "             'until': 7,\n",
              "             'explain': 1,\n",
              "             'process.': 1,\n",
              "             'believe': 1,\n",
              "             'are': 31,\n",
              "             'good': 15,\n",
              "             'yours.”': 1,\n",
              "             '“quite': 3,\n",
              "             'so,”': 1,\n",
              "             'answered,': 2,\n",
              "             'lighting': 1,\n",
              "             'cigarette,': 1,\n",
              "             'throwing': 1,\n",
              "             'down': 26,\n",
              "             'armchair.': 1,\n",
              "             '“you': 21,\n",
              "             'distinction': 1,\n",
              "             'clear.': 1,\n",
              "             'example,': 2,\n",
              "             'frequently': 1,\n",
              "             'steps': 3,\n",
              "             'lead': 2,\n",
              "             'hall': 2,\n",
              "             'this': 33,\n",
              "             'room.”': 2,\n",
              "             '“frequently.”': 1,\n",
              "             '“how': 4,\n",
              "             'often?”': 1,\n",
              "             '“well,': 9,\n",
              "             'hundreds': 1,\n",
              "             'times.”': 1,\n",
              "             '“then': 9,\n",
              "             'many': 8,\n",
              "             'there?”': 1,\n",
              "             'many?': 1,\n",
              "             'don’t': 4,\n",
              "             'know.”': 1,\n",
              "             'so!': 2,\n",
              "             'observed.': 3,\n",
              "             'seen.': 1,\n",
              "             'point.': 1,\n",
              "             'now,': 5,\n",
              "             'seventeen': 1,\n",
              "             'steps,': 1,\n",
              "             'because': 3,\n",
              "             'both': 4,\n",
              "             'way,': 3,\n",
              "             'interested': 3,\n",
              "             'problems,': 1,\n",
              "             'enough': 6,\n",
              "             'chronicle': 2,\n",
              "             'two': 13,\n",
              "             'trifling': 1,\n",
              "             'experiences,': 1,\n",
              "             'may': 21,\n",
              "             'this.”': 1,\n",
              "             'sheet': 2,\n",
              "             'thick,': 2,\n",
              "             'pink-tinted': 1,\n",
              "             'notepaper': 1,\n",
              "             'lying': 1,\n",
              "             'open': 8,\n",
              "             'table.': 2,\n",
              "             'last': 2,\n",
              "             'post,”': 1,\n",
              "             'he.': 10,\n",
              "             '“read': 1,\n",
              "             'aloud.”': 1,\n",
              "             'note': 5,\n",
              "             'undated,': 1,\n",
              "             'without': 11,\n",
              "             'either': 3,\n",
              "             'signature': 1,\n",
              "             'address.': 2,\n",
              "             '“there': 3,\n",
              "             'will': 37,\n",
              "             'call': 7,\n",
              "             'to-night,': 1,\n",
              "             'quarter': 2,\n",
              "             'eight': 5,\n",
              "             'o’clock,”': 1,\n",
              "             'said,': 3,\n",
              "             '“a': 4,\n",
              "             'desires': 1,\n",
              "             'consult': 1,\n",
              "             'matter': 11,\n",
              "             'deepest': 1,\n",
              "             'moment.': 1,\n",
              "             'recent': 1,\n",
              "             'services': 1,\n",
              "             'royal': 2,\n",
              "             'houses': 1,\n",
              "             'europe': 1,\n",
              "             'safely': 1,\n",
              "             'trusted': 1,\n",
              "             'matters': 2,\n",
              "             'importance': 2,\n",
              "             'can': 13,\n",
              "             'exaggerated.': 1,\n",
              "             'we': 38,\n",
              "             'quarters': 2,\n",
              "             'received.': 1,\n",
              "             'hour,': 2,\n",
              "             'amiss': 1,\n",
              "             'visitor': 3,\n",
              "             'wear': 2,\n",
              "             'mask.”': 1,\n",
              "             'indeed': 4,\n",
              "             'mystery,”': 2,\n",
              "             '“what': 8,\n",
              "             'means?”': 1,\n",
              "             'no': 14,\n",
              "             'data': 1,\n",
              "             'yet.': 1,\n",
              "             'capital': 1,\n",
              "             'mistake': 2,\n",
              "             'theorise': 1,\n",
              "             'data.': 1,\n",
              "             'insensibly': 1,\n",
              "             'begins': 1,\n",
              "             'twist': 1,\n",
              "             'facts': 4,\n",
              "             'suit': 2,\n",
              "             'theories,': 1,\n",
              "             'instead': 2,\n",
              "             'theories': 1,\n",
              "             'facts.': 1,\n",
              "             'itself.': 1,\n",
              "             'what': 31,\n",
              "             'it?”': 5,\n",
              "             'carefully': 1,\n",
              "             'examined': 2,\n",
              "             'writing,': 1,\n",
              "             'paper': 9,\n",
              "             'written.': 1,\n",
              "             'wrote': 3,\n",
              "             'presumably': 1,\n",
              "             'well': 6,\n",
              "             'do,”': 1,\n",
              "             'endeavouring': 1,\n",
              "             'imitate': 1,\n",
              "             'companion’s': 1,\n",
              "             'processes.': 1,\n",
              "             '“such': 1,\n",
              "             'bought': 1,\n",
              "             'crown': 2,\n",
              "             'packet.': 1,\n",
              "             'peculiarly': 1,\n",
              "             'stiff.”': 1,\n",
              "             '“peculiar—that': 1,\n",
              "             'word,”': 1,\n",
              "             'holmes.': 12,\n",
              "             'english': 3,\n",
              "             'all.': 4,\n",
              "             'hold': 1,\n",
              "             'light.”': 1,\n",
              "             'so,': 3,\n",
              "             'large': 5,\n",
              "             '“e”': 1,\n",
              "             'small': 9,\n",
              "             '“g,”': 1,\n",
              "             '“p,”': 1,\n",
              "             '“g”': 1,\n",
              "             '“t”': 1,\n",
              "             'woven': 1,\n",
              "             'texture': 1,\n",
              "             'paper.': 1,\n",
              "             'make': 10,\n",
              "             'that?”': 2,\n",
              "             'asked': 5,\n",
              "             'name': 8,\n",
              "             'maker,': 1,\n",
              "             'doubt;': 1,\n",
              "             'monogram,': 1,\n",
              "             'rather.”': 1,\n",
              "             '“not': 6,\n",
              "             '‘g’': 1,\n",
              "             '‘t’': 1,\n",
              "             'stands': 2,\n",
              "             '‘gesellschaft,’': 1,\n",
              "             'german': 4,\n",
              "             '‘company.’': 1,\n",
              "             'customary': 1,\n",
              "             'contraction': 1,\n",
              "             'like': 8,\n",
              "             '‘co.’': 1,\n",
              "             '‘p,’': 1,\n",
              "             'course,': 4,\n",
              "             '‘papier.’': 1,\n",
              "             '‘eg.’': 1,\n",
              "             'let': 3,\n",
              "             'glance': 2,\n",
              "             'continental': 1,\n",
              "             'gazetteer.”': 1,\n",
              "             'took': 11,\n",
              "             'heavy': 5,\n",
              "             'brown': 3,\n",
              "             'volume': 1,\n",
              "             'shelves.': 1,\n",
              "             '“eglow,': 1,\n",
              "             'eglonitz—here': 1,\n",
              "             'are,': 2,\n",
              "             'egria.': 1,\n",
              "             'german-speaking': 1,\n",
              "             'country—in': 1,\n",
              "             'bohemia,': 3,\n",
              "             'far': 4,\n",
              "             'carlsbad.': 1,\n",
              "             '‘remarkable': 1,\n",
              "             'being': 5,\n",
              "             'scene': 3,\n",
              "             'death': 1,\n",
              "             'wallenstein,': 1,\n",
              "             'its': 6,\n",
              "             'numerous': 1,\n",
              "             'glass-factories': 1,\n",
              "             'paper-mills.’': 1,\n",
              "             'ha,': 2,\n",
              "             'boy,': 1,\n",
              "             'sparkled,': 1,\n",
              "             'sent': 3,\n",
              "             'great': 7,\n",
              "             'blue': 2,\n",
              "             'triumphant': 1,\n",
              "             'cloud': 1,\n",
              "             'cigarette.': 1,\n",
              "             'made': 10,\n",
              "             'bohemia,”': 1,\n",
              "             'said.': 2,\n",
              "             '“precisely.': 1,\n",
              "             'german.': 1,\n",
              "             'peculiar': 4,\n",
              "             'construction': 1,\n",
              "             'sentence—‘this': 1,\n",
              "             'received.’': 1,\n",
              "             'frenchman': 1,\n",
              "             'russian': 1,\n",
              "             'written': 2,\n",
              "             'that.': 3,\n",
              "             'uncourteous': 1,\n",
              "             'verbs.': 1,\n",
              "             'only': 11,\n",
              "             'remains,': 1,\n",
              "             'therefore,': 1,\n",
              "             'discover': 1,\n",
              "             'wanted': 4,\n",
              "             'writes': 1,\n",
              "             'prefers': 1,\n",
              "             'wearing': 1,\n",
              "             'mask': 2,\n",
              "             'showing': 2,\n",
              "             'face.': 3,\n",
              "             'here': 3,\n",
              "             'comes,': 1,\n",
              "             'mistaken,': 1,\n",
              "             'resolve': 1,\n",
              "             'doubts.”': 1,\n",
              "             'sharp': 3,\n",
              "             'sound': 2,\n",
              "             'horses’': 1,\n",
              "             'hoofs': 1,\n",
              "             'grating': 1,\n",
              "             'wheels': 2,\n",
              "             'curb,': 1,\n",
              "             'followed': 4,\n",
              "             'pull': 1,\n",
              "             'bell.': 2,\n",
              "             'whistled.': 1,\n",
              "             'pair,': 1,\n",
              "             'sound,”': 1,\n",
              "             '“yes,”': 1,\n",
              "             'continued,': 1,\n",
              "             'glancing': 1,\n",
              "             'window.': 4,\n",
              "             'nice': 2,\n",
              "             'brougham': 3,\n",
              "             'pair': 2,\n",
              "             'beauties.': 1,\n",
              "             'hundred': 6,\n",
              "             'fifty': 1,\n",
              "             'guineas': 1,\n",
              "             'apiece.': 1,\n",
              "             'there’s': 3,\n",
              "             'money': 1,\n",
              "             'case,': 1,\n",
              "             'nothing': 11,\n",
              "             'else.”': 2,\n",
              "             'think': 7,\n",
              "             'better': 6,\n",
              "             'go,': 2,\n",
              "             'holmes.”': 2,\n",
              "             'bit,': 1,\n",
              "             'doctor.': 1,\n",
              "             'stay': 2,\n",
              "             'are.': 1,\n",
              "             'lost': 3,\n",
              "             'boswell.': 1,\n",
              "             'promises': 2,\n",
              "             'interesting.': 1,\n",
              "             'pity': 2,\n",
              "             'miss': 5,\n",
              "             'it.”': 3,\n",
              "             '“but': 12,\n",
              "             'client—”': 1,\n",
              "             '“never': 3,\n",
              "             'want': 2,\n",
              "             'help,': 1,\n",
              "             'comes.': 1,\n",
              "             'sit': 1,\n",
              "             'doctor,': 4,\n",
              "             'best': 5,\n",
              "             'attention.”': 1,\n",
              "             'slow': 1,\n",
              "             'step,': 1,\n",
              "             'stairs': 1,\n",
              "             'passage,': 1,\n",
              "             'paused': 2,\n",
              "             'immediately': 2,\n",
              "             'outside': 2,\n",
              "             'door.': 3,\n",
              "             'loud': 1,\n",
              "             'authoritative': 1,\n",
              "             'tap.': 1,\n",
              "             '“come': 1,\n",
              "             'in!”': 1,\n",
              "             'entered': 1,\n",
              "             'less': 5,\n",
              "             'feet': 1,\n",
              "             'inches': 1,\n",
              "             'height,': 1,\n",
              "             'limbs': 1,\n",
              "             'hercules.': 1,\n",
              "             'dress': 2,\n",
              "             'rich': 3,\n",
              "             'richness': 1,\n",
              "             'would,': 2,\n",
              "             'england,': 1,\n",
              "             'bad': 1,\n",
              "             'taste.': 1,\n",
              "             'bands': 1,\n",
              "             'astrakhan': 1,\n",
              "             'slashed': 1,\n",
              "             'sleeves': 1,\n",
              "             'fronts': 1,\n",
              "             'double-breasted': 1,\n",
              "             'coat,': 1,\n",
              "             'deep': 3,\n",
              "             'cloak': 2,\n",
              "             'thrown': 1,\n",
              "             'shoulders': 1,\n",
              "             'lined': 1,\n",
              "             'flame-coloured': 2,\n",
              "             'silk': 1,\n",
              "             'secured': 1,\n",
              "             'neck': 1,\n",
              "             'brooch': 1,\n",
              "             'consisted': 1,\n",
              "             'single': 2,\n",
              "             'flaming': 1,\n",
              "             'beryl.': 1,\n",
              "             'boots': 1,\n",
              "             'extended': 1,\n",
              "             'halfway': 2,\n",
              "             'calves,': 1,\n",
              "             'trimmed': 1,\n",
              "             'tops': 1,\n",
              "             'fur,': 1,\n",
              "             'completed': 1,\n",
              "             'impression': 1,\n",
              "             'barbaric': 1,\n",
              "             'opulence': 1,\n",
              "             'suggested': 1,\n",
              "             'appearance.': 2,\n",
              "             'carried': 2,\n",
              "             'broad-brimmed': 1,\n",
              "             'hat': 1,\n",
              "             'hand,': 4,\n",
              "             'wore': 2,\n",
              "             'upper': 1,\n",
              "             'face,': 2,\n",
              "             'extending': 1,\n",
              "             'past': 4,\n",
              "             'cheekbones,': 1,\n",
              "             'vizard': 1,\n",
              "             'mask,': 1,\n",
              "             'apparently': 1,\n",
              "             'moment,': 2,\n",
              "             'hand': 8,\n",
              "             'still': 8,\n",
              "             'raised': 1,\n",
              "             'entered.': 1,\n",
              "             'lower': 1,\n",
              "             'face': 5,\n",
              "             'appeared': 4,\n",
              "             'character,': 1,\n",
              "             'hanging': 2,\n",
              "             'lip,': 1,\n",
              "             'straight': 1,\n",
              "             'chin': 1,\n",
              "             'suggestive': 1,\n",
              "             'resolution': 1,\n",
              "             'pushed': 4,\n",
              "             'length': 1,\n",
              "             'obstinacy.': 1,\n",
              "             'note?”': 1,\n",
              "             'harsh': 1,\n",
              "             'voice': 3,\n",
              "             'strongly': 1,\n",
              "             'marked': 1,\n",
              "             'accent.': 1,\n",
              "             'call.”': 1,\n",
              "             'us,': 1,\n",
              "             'uncertain': 1,\n",
              "             '“pray': 3,\n",
              "             'seat,”': 1,\n",
              "             'colleague,': 1,\n",
              "             'dr.': 2,\n",
              "             'occasionally': 1,\n",
              "             'cases.': 1,\n",
              "             'whom': 7,\n",
              "             'honour': 3,\n",
              "             'address?”': 2,\n",
              "             'address': 4,\n",
              "             'count': 3,\n",
              "             'von': 4,\n",
              "             'kramm,': 1,\n",
              "             'nobleman.': 1,\n",
              "             'understand': 4,\n",
              "             'gentleman,': 2,\n",
              "             'friend,': 3,\n",
              "             'discretion,': 1,\n",
              "             'trust': 3,\n",
              "             'extreme': 2,\n",
              "             'importance.': 2,\n",
              "             'not,': 2,\n",
              "             'much': 9,\n",
              "             'prefer': 1,\n",
              "             'communicate': 1,\n",
              "             'alone.”': 1,\n",
              "             'rose': 2,\n",
              "             'caught': 4,\n",
              "             'wrist': 2,\n",
              "             'back': 6,\n",
              "             'chair.': 2,\n",
              "             'both,': 1,\n",
              "             'none,”': 1,\n",
              "             'say': 8,\n",
              "             'anything': 3,\n",
              "             'me.”': 4,\n",
              "             'shrugged': 1,\n",
              "             'broad': 2,\n",
              "             'shoulders.': 1,\n",
              "             'begin,”': 1,\n",
              "             'he,': 4,\n",
              "             '“by': 1,\n",
              "             ...})"
            ]
          },
          "metadata": {},
          "execution_count": 20
        }
      ]
    },
    {
      "cell_type": "code",
      "source": [
        "print(type(input_file))\n",
        "print(input_file.count())\n",
        "print(input_file.getNumPartitions())\n",
        "print(sc.defaultParallelism)"
      ],
      "metadata": {
        "colab": {
          "base_uri": "https://localhost:8080/"
        },
        "id": "ylJyV4I2KHs2",
        "outputId": "b5f07221-417a-4de6-e865-1fccd2129c57"
      },
      "execution_count": null,
      "outputs": [
        {
          "output_type": "stream",
          "name": "stdout",
          "text": [
            "<class 'pyspark.rdd.RDD'>\n",
            "636\n",
            "6\n",
            "1\n"
          ]
        }
      ]
    },
    {
      "cell_type": "markdown",
      "source": [
        "Save the file"
      ],
      "metadata": {
        "id": "FzCVQnkuZdkn"
      }
    },
    {
      "cell_type": "code",
      "source": [
        "sdatas.saveAsTextFile('w3.txt')"
      ],
      "metadata": {
        "id": "BdnN0CKiLQ8C"
      },
      "execution_count": null,
      "outputs": []
    },
    {
      "cell_type": "markdown",
      "source": [
        "Flat Map"
      ],
      "metadata": {
        "id": "gcXRxEE1aP2c"
      }
    },
    {
      "cell_type": "code",
      "source": [
        "print(sdatas.flatMap(lambda x: (x,1)).take(5))\n",
        "sdatas.map(lambda x: (x,1)).take(5)"
      ],
      "metadata": {
        "colab": {
          "base_uri": "https://localhost:8080/"
        },
        "id": "Q5SCBYGCBtiI",
        "outputId": "d53fd15b-9183-44a8-8506-9609c10f822f"
      },
      "execution_count": null,
      "outputs": [
        {
          "output_type": "stream",
          "name": "stdout",
          "text": [
            "['a', 1, 'scandal', 1, 'in']\n"
          ]
        },
        {
          "output_type": "execute_result",
          "data": {
            "text/plain": [
              "[('a', 1), ('scandal', 1), ('in', 1), ('bohemia', 1), ('i.', 1)]"
            ]
          },
          "metadata": {},
          "execution_count": 23
        }
      ]
    },
    {
      "cell_type": "code",
      "source": [
        "rdd2=sdatas.map(lambda x: (x,1)).groupByKey().mapValues(sum).map(lambda x: (x[1],x[0])).sortByKey(False)\n",
        "\n",
        "rdd2.take(5)"
      ],
      "metadata": {
        "colab": {
          "base_uri": "https://localhost:8080/"
        },
        "id": "Texdc3CxBtPm",
        "outputId": "3861ee52-c898-4258-9b42-f539b97f9756"
      },
      "execution_count": null,
      "outputs": [
        {
          "output_type": "execute_result",
          "data": {
            "text/plain": [
              "[(556, 'the'), (321, ''), (305, 'and'), (302, 'of'), (299, 'to')]"
            ]
          },
          "metadata": {},
          "execution_count": 24
        }
      ]
    },
    {
      "cell_type": "code",
      "source": [
        "rrd1=sdatas.map(lambda x: (x,1)).groupByKey().mapValues(sum).map(lambda x: (x[1],x[0])).sortByKey(False)\n",
        "rrd1.take(5)\n"
      ],
      "metadata": {
        "colab": {
          "base_uri": "https://localhost:8080/"
        },
        "id": "0uFB5ZXCF56G",
        "outputId": "94363049-f5f3-4481-b3ce-3547e0b701dd"
      },
      "execution_count": null,
      "outputs": [
        {
          "output_type": "execute_result",
          "data": {
            "text/plain": [
              "[(556, 'the'), (321, ''), (305, 'and'), (302, 'of'), (299, 'to')]"
            ]
          },
          "metadata": {},
          "execution_count": 25
        }
      ]
    },
    {
      "cell_type": "markdown",
      "source": [],
      "metadata": {
        "id": "DzVAhF6CZ-fc"
      }
    },
    {
      "cell_type": "code",
      "source": [
        "spark.sparkContext.parallelize(range(1,5)).reduce(lambda x, y: x+y)"
      ],
      "metadata": {
        "colab": {
          "base_uri": "https://localhost:8080/"
        },
        "id": "pzBD5oyeHnRU",
        "outputId": "09fcb339-5191-4a87-8063-8922ffc06c10"
      },
      "execution_count": null,
      "outputs": [
        {
          "output_type": "execute_result",
          "data": {
            "text/plain": [
              "10"
            ]
          },
          "metadata": {},
          "execution_count": 26
        }
      ]
    },
    {
      "cell_type": "code",
      "source": [
        "myCollection = \"Spark The Definitive Guide : Big Data Processing Made Simple\"\\\n",
        "  .split(\" \")\n",
        "words = spark.sparkContext.parallelize(myCollection, 2)\n",
        "words.take(5)"
      ],
      "metadata": {
        "colab": {
          "base_uri": "https://localhost:8080/"
        },
        "id": "l7lSOyDKVrH9",
        "outputId": "a43d9f2c-74f3-4b03-9ecf-d2dbacbae8cf"
      },
      "execution_count": null,
      "outputs": [
        {
          "output_type": "execute_result",
          "data": {
            "text/plain": [
              "['Spark', 'The', 'Definitive', 'Guide', ':']"
            ]
          },
          "metadata": {},
          "execution_count": 63
        }
      ]
    },
    {
      "cell_type": "code",
      "source": [
        "### using keyBy()\n",
        "keyword=words.keyBy(lambda word: hash(word))\n",
        "keyword.take(4)"
      ],
      "metadata": {
        "colab": {
          "base_uri": "https://localhost:8080/"
        },
        "id": "oBiBW02BVq_z",
        "outputId": "2308a593-93c8-41c8-c350-e6f39d8985f7"
      },
      "execution_count": null,
      "outputs": [
        {
          "output_type": "execute_result",
          "data": {
            "text/plain": [
              "[(-7604683196601698838, 'Spark'),\n",
              " (1381986379548814910, 'The'),\n",
              " (-4122473907452972367, 'Definitive'),\n",
              " (6601866536240625759, 'Guide')]"
            ]
          },
          "metadata": {},
          "execution_count": 64
        }
      ]
    },
    {
      "cell_type": "code",
      "source": [
        "## using mapValues\n",
        "keyword.mapValues(lambda x: x.upper()).collect()"
      ],
      "metadata": {
        "colab": {
          "base_uri": "https://localhost:8080/"
        },
        "id": "csPm4joHVq7E",
        "outputId": "e37bc9c1-c696-4862-d703-51c20f96e1ae"
      },
      "execution_count": null,
      "outputs": [
        {
          "output_type": "execute_result",
          "data": {
            "text/plain": [
              "[(-7604683196601698838, 'SPARK'),\n",
              " (1381986379548814910, 'THE'),\n",
              " (-4122473907452972367, 'DEFINITIVE'),\n",
              " (6601866536240625759, 'GUIDE'),\n",
              " (1827294539281609183, ':'),\n",
              " (-7752043373178716433, 'BIG'),\n",
              " (-151788679466617941, 'DATA'),\n",
              " (4204150861945194593, 'PROCESSING'),\n",
              " (146797214411928478, 'MADE'),\n",
              " (-4607150138042100501, 'SIMPLE')]"
            ]
          },
          "metadata": {},
          "execution_count": 65
        }
      ]
    },
    {
      "cell_type": "code",
      "source": [
        "## extracting keys and/or values\n",
        "print(keyword.keys().collect())\n",
        "print(keyword.values().collect())"
      ],
      "metadata": {
        "colab": {
          "base_uri": "https://localhost:8080/"
        },
        "id": "L-Xl4fvhVqzP",
        "outputId": "a86cab8e-8159-40bf-eb0e-79d79b5d1a78"
      },
      "execution_count": null,
      "outputs": [
        {
          "output_type": "stream",
          "name": "stdout",
          "text": [
            "[-7604683196601698838, 1381986379548814910, -4122473907452972367, 6601866536240625759, 1827294539281609183, -7752043373178716433, -151788679466617941, 4204150861945194593, 146797214411928478, -4607150138042100501]\n",
            "['Spark', 'The', 'Definitive', 'Guide', ':', 'Big', 'Data', 'Processing', 'Made', 'Simple']\n"
          ]
        }
      ]
    },
    {
      "cell_type": "code",
      "source": [
        "def addFunc(left, right):\n",
        "    return(left + right)\n",
        "\n",
        "def maxFunc(left, right):\n",
        "    max(left, right)"
      ],
      "metadata": {
        "id": "ZoIIJb0_V3Sc"
      },
      "execution_count": null,
      "outputs": []
    },
    {
      "cell_type": "code",
      "source": [
        "spth_2=\"sherlock_holmes.txt\"\n",
        "input_file = sc.textFile(spth_2,6)\n",
        "chars=input_file.flatMap(lambda word: word.split(\" \"))\n",
        "KVcharacters=chars.map(lambda letter: (letter,1))\n",
        "KVcharacters.countByKey()"
      ],
      "metadata": {
        "colab": {
          "base_uri": "https://localhost:8080/"
        },
        "collapsed": true,
        "id": "XFjFBVFBV6mI",
        "outputId": "a023bc7b-a05c-4f0a-e883-aac302156b9b"
      },
      "execution_count": null,
      "outputs": [
        {
          "output_type": "execute_result",
          "data": {
            "text/plain": [
              "defaultdict(int,\n",
              "            {'A': 12,\n",
              "             'SCANDAL': 1,\n",
              "             'IN': 1,\n",
              "             'BOHEMIA': 1,\n",
              "             'I.': 2,\n",
              "             'To': 4,\n",
              "             'Sherlock': 13,\n",
              "             'Holmes': 27,\n",
              "             'she': 54,\n",
              "             'is': 113,\n",
              "             'always': 7,\n",
              "             'the': 525,\n",
              "             'woman.': 3,\n",
              "             'I': 280,\n",
              "             'have': 88,\n",
              "             'seldom': 2,\n",
              "             'heard': 11,\n",
              "             'him': 16,\n",
              "             'mention': 1,\n",
              "             'her': 40,\n",
              "             'under': 10,\n",
              "             'any': 10,\n",
              "             'other': 12,\n",
              "             'name.': 1,\n",
              "             'In': 6,\n",
              "             'his': 131,\n",
              "             'eyes': 9,\n",
              "             'eclipses': 1,\n",
              "             'and': 289,\n",
              "             'predominates': 1,\n",
              "             'whole': 6,\n",
              "             'of': 301,\n",
              "             'sex.': 1,\n",
              "             'It': 37,\n",
              "             'was': 139,\n",
              "             'not': 73,\n",
              "             'that': 131,\n",
              "             'he': 101,\n",
              "             'felt': 2,\n",
              "             'emotion': 2,\n",
              "             'akin': 2,\n",
              "             'to': 295,\n",
              "             'love': 6,\n",
              "             'for': 67,\n",
              "             'Irene': 10,\n",
              "             'Adler.': 2,\n",
              "             'All': 2,\n",
              "             'emotions,': 1,\n",
              "             'one': 28,\n",
              "             'particularly,': 1,\n",
              "             'were': 31,\n",
              "             'abhorrent': 1,\n",
              "             'cold,': 1,\n",
              "             'precise': 1,\n",
              "             'but': 49,\n",
              "             'admirably': 2,\n",
              "             'balanced': 1,\n",
              "             'mind.': 1,\n",
              "             'He': 28,\n",
              "             'was,': 1,\n",
              "             'take': 7,\n",
              "             'it,': 11,\n",
              "             'most': 16,\n",
              "             'perfect': 1,\n",
              "             'reasoning': 2,\n",
              "             'observing': 2,\n",
              "             'machine': 1,\n",
              "             'world': 1,\n",
              "             'has': 33,\n",
              "             'seen,': 1,\n",
              "             'as': 79,\n",
              "             'a': 276,\n",
              "             'lover': 1,\n",
              "             'would': 27,\n",
              "             'placed': 1,\n",
              "             'himself': 7,\n",
              "             'in': 181,\n",
              "             'false': 3,\n",
              "             'position.': 1,\n",
              "             'never': 7,\n",
              "             'spoke': 3,\n",
              "             'softer': 1,\n",
              "             'passions,': 1,\n",
              "             'save': 4,\n",
              "             'with': 90,\n",
              "             'gibe': 1,\n",
              "             'sneer.': 1,\n",
              "             'They': 8,\n",
              "             'admirable': 2,\n",
              "             'things': 3,\n",
              "             'observer—excellent': 1,\n",
              "             'drawing': 1,\n",
              "             'veil': 1,\n",
              "             'from': 49,\n",
              "             'men’s': 2,\n",
              "             'motives': 1,\n",
              "             'actions.': 1,\n",
              "             'But': 7,\n",
              "             'trained': 2,\n",
              "             'reasoner': 2,\n",
              "             'admit': 2,\n",
              "             'such': 12,\n",
              "             'intrusions': 1,\n",
              "             'into': 37,\n",
              "             'own': 16,\n",
              "             'delicate': 4,\n",
              "             'finely': 1,\n",
              "             'adjusted': 2,\n",
              "             'temperament': 1,\n",
              "             'introduce': 1,\n",
              "             'distracting': 1,\n",
              "             'factor': 2,\n",
              "             'which': 63,\n",
              "             'might': 13,\n",
              "             'throw': 3,\n",
              "             'doubt': 6,\n",
              "             'upon': 36,\n",
              "             'all': 30,\n",
              "             'mental': 1,\n",
              "             'results.': 1,\n",
              "             'Grit': 1,\n",
              "             'sensitive': 1,\n",
              "             'instrument,': 1,\n",
              "             'or': 25,\n",
              "             'crack': 1,\n",
              "             'high-power': 1,\n",
              "             'lenses,': 1,\n",
              "             'be': 64,\n",
              "             'more': 16,\n",
              "             'disturbing': 1,\n",
              "             'than': 15,\n",
              "             'strong': 3,\n",
              "             'nature': 4,\n",
              "             'his.': 1,\n",
              "             'And': 16,\n",
              "             'yet': 5,\n",
              "             'there': 28,\n",
              "             'woman': 5,\n",
              "             'him,': 3,\n",
              "             'late': 3,\n",
              "             'Adler,': 5,\n",
              "             'dubious': 1,\n",
              "             'questionable': 1,\n",
              "             'memory.': 2,\n",
              "             '': 321,\n",
              "             'had': 73,\n",
              "             'seen': 6,\n",
              "             'little': 22,\n",
              "             'lately.': 1,\n",
              "             'My': 4,\n",
              "             'marriage': 3,\n",
              "             'drifted': 1,\n",
              "             'us': 8,\n",
              "             'away': 7,\n",
              "             'each': 3,\n",
              "             'other.': 1,\n",
              "             'complete': 2,\n",
              "             'happiness,': 1,\n",
              "             'home-centred': 1,\n",
              "             'interests': 1,\n",
              "             'rise': 1,\n",
              "             'up': 35,\n",
              "             'around': 1,\n",
              "             'man': 19,\n",
              "             'who': 38,\n",
              "             'first': 4,\n",
              "             'finds': 1,\n",
              "             'master': 1,\n",
              "             'establishment,': 1,\n",
              "             'sufficient': 1,\n",
              "             'absorb': 1,\n",
              "             'my': 93,\n",
              "             'attention,': 1,\n",
              "             'while': 9,\n",
              "             'Holmes,': 12,\n",
              "             'loathed': 1,\n",
              "             'every': 10,\n",
              "             'form': 1,\n",
              "             'society': 1,\n",
              "             'Bohemian': 3,\n",
              "             'soul,': 1,\n",
              "             'remained': 1,\n",
              "             'our': 12,\n",
              "             'lodgings': 1,\n",
              "             'Baker': 6,\n",
              "             'Street,': 4,\n",
              "             'buried': 1,\n",
              "             'among': 4,\n",
              "             'old': 4,\n",
              "             'books,': 1,\n",
              "             'alternating': 1,\n",
              "             'week': 3,\n",
              "             'between': 4,\n",
              "             'cocaine': 1,\n",
              "             'ambition,': 1,\n",
              "             'drowsiness': 1,\n",
              "             'drug,': 1,\n",
              "             'fierce': 2,\n",
              "             'energy': 1,\n",
              "             'keen': 2,\n",
              "             'nature.': 1,\n",
              "             'still,': 2,\n",
              "             'ever,': 1,\n",
              "             'deeply': 2,\n",
              "             'attracted': 1,\n",
              "             'by': 36,\n",
              "             'study': 3,\n",
              "             'crime,': 1,\n",
              "             'occupied': 1,\n",
              "             'immense': 2,\n",
              "             'faculties': 1,\n",
              "             'extraordinary': 4,\n",
              "             'powers': 2,\n",
              "             'observation': 1,\n",
              "             'following': 2,\n",
              "             'out': 25,\n",
              "             'those': 4,\n",
              "             'clues,': 1,\n",
              "             'clearing': 2,\n",
              "             'mysteries': 1,\n",
              "             'been': 38,\n",
              "             'abandoned': 1,\n",
              "             'hopeless': 1,\n",
              "             'official': 1,\n",
              "             'police.': 1,\n",
              "             'From': 4,\n",
              "             'time': 5,\n",
              "             'some': 18,\n",
              "             'vague': 1,\n",
              "             'account': 4,\n",
              "             'doings:': 1,\n",
              "             'summons': 1,\n",
              "             'Odessa': 1,\n",
              "             'case': 7,\n",
              "             'Trepoff': 1,\n",
              "             'murder,': 1,\n",
              "             'singular': 4,\n",
              "             'tragedy': 1,\n",
              "             'Atkinson': 1,\n",
              "             'brothers': 1,\n",
              "             'at': 67,\n",
              "             'Trincomalee,': 1,\n",
              "             'finally': 1,\n",
              "             'mission': 1,\n",
              "             'accomplished': 1,\n",
              "             'so': 23,\n",
              "             'delicately': 1,\n",
              "             'successfully': 1,\n",
              "             'reigning': 2,\n",
              "             'family': 1,\n",
              "             'Holland.': 1,\n",
              "             'Beyond': 1,\n",
              "             'these': 3,\n",
              "             'signs': 1,\n",
              "             'activity,': 1,\n",
              "             'however,': 4,\n",
              "             'merely': 4,\n",
              "             'shared': 1,\n",
              "             'readers': 1,\n",
              "             'daily': 1,\n",
              "             'press,': 1,\n",
              "             'knew': 5,\n",
              "             'former': 1,\n",
              "             'friend': 5,\n",
              "             'companion.': 2,\n",
              "             'One': 1,\n",
              "             'night—it': 1,\n",
              "             'on': 34,\n",
              "             'twentieth': 1,\n",
              "             'March,': 1,\n",
              "             '1888—I': 1,\n",
              "             'returning': 1,\n",
              "             'journey': 1,\n",
              "             'patient': 1,\n",
              "             '(for': 1,\n",
              "             'now': 6,\n",
              "             'returned': 3,\n",
              "             'civil': 1,\n",
              "             'practice),': 1,\n",
              "             'when': 31,\n",
              "             'way': 5,\n",
              "             'led': 2,\n",
              "             'me': 44,\n",
              "             'through': 5,\n",
              "             'Street.': 1,\n",
              "             'As': 12,\n",
              "             'passed': 1,\n",
              "             'well-remembered': 1,\n",
              "             'door,': 3,\n",
              "             'must': 19,\n",
              "             'associated': 2,\n",
              "             'mind': 6,\n",
              "             'wooing,': 1,\n",
              "             'dark': 3,\n",
              "             'incidents': 1,\n",
              "             'Study': 1,\n",
              "             'Scarlet,': 1,\n",
              "             'seized': 2,\n",
              "             'desire': 2,\n",
              "             'see': 15,\n",
              "             'again,': 5,\n",
              "             'know': 18,\n",
              "             'how': 17,\n",
              "             'employing': 1,\n",
              "             'powers.': 1,\n",
              "             'His': 6,\n",
              "             'rooms': 2,\n",
              "             'brilliantly': 1,\n",
              "             'lit,': 2,\n",
              "             'and,': 5,\n",
              "             'even': 6,\n",
              "             'looked': 9,\n",
              "             'up,': 3,\n",
              "             'saw': 8,\n",
              "             'tall,': 1,\n",
              "             'spare': 2,\n",
              "             'figure': 3,\n",
              "             'pass': 1,\n",
              "             'twice': 5,\n",
              "             'silhouette': 1,\n",
              "             'against': 6,\n",
              "             'blind.': 1,\n",
              "             'pacing': 2,\n",
              "             'room': 8,\n",
              "             'swiftly,': 1,\n",
              "             'eagerly,': 1,\n",
              "             'head': 3,\n",
              "             'sunk': 1,\n",
              "             'chest': 3,\n",
              "             'hands': 5,\n",
              "             'clasped': 1,\n",
              "             'behind': 4,\n",
              "             'him.': 9,\n",
              "             'me,': 5,\n",
              "             'mood': 1,\n",
              "             'habit,': 1,\n",
              "             'attitude': 1,\n",
              "             'manner': 2,\n",
              "             'told': 5,\n",
              "             'their': 10,\n",
              "             'story.': 1,\n",
              "             'work': 4,\n",
              "             'again.': 1,\n",
              "             'risen': 1,\n",
              "             'drug-created': 1,\n",
              "             'dreams': 1,\n",
              "             'hot': 2,\n",
              "             'scent': 1,\n",
              "             'new': 3,\n",
              "             'problem.': 1,\n",
              "             'rang': 1,\n",
              "             'bell': 1,\n",
              "             'shown': 4,\n",
              "             'chamber': 2,\n",
              "             'formerly': 1,\n",
              "             'part': 8,\n",
              "             'own.': 2,\n",
              "             'effusive.': 1,\n",
              "             'was;': 1,\n",
              "             'glad,': 1,\n",
              "             'think,': 4,\n",
              "             'me.': 8,\n",
              "             'With': 3,\n",
              "             'hardly': 4,\n",
              "             'word': 3,\n",
              "             'spoken,': 1,\n",
              "             'kindly': 1,\n",
              "             'eye,': 1,\n",
              "             'waved': 1,\n",
              "             'an': 41,\n",
              "             'armchair,': 2,\n",
              "             'threw': 3,\n",
              "             'across': 4,\n",
              "             'cigars,': 1,\n",
              "             'indicated': 2,\n",
              "             'spirit': 1,\n",
              "             'gasogene': 1,\n",
              "             'corner.': 1,\n",
              "             'Then': 4,\n",
              "             'stood': 4,\n",
              "             'before': 13,\n",
              "             'fire': 3,\n",
              "             'over': 12,\n",
              "             'introspective': 1,\n",
              "             'fashion.': 1,\n",
              "             '“Wedlock': 1,\n",
              "             'suits': 1,\n",
              "             'you,”': 1,\n",
              "             'remarked.': 3,\n",
              "             '“I': 46,\n",
              "             'Watson,': 4,\n",
              "             'you': 103,\n",
              "             'put': 5,\n",
              "             'seven': 3,\n",
              "             'half': 9,\n",
              "             'pounds': 2,\n",
              "             'since': 3,\n",
              "             'you.”': 7,\n",
              "             '“Seven!”': 1,\n",
              "             'answered.': 3,\n",
              "             '“Indeed,': 1,\n",
              "             'should': 18,\n",
              "             'thought': 6,\n",
              "             'more.': 4,\n",
              "             'Just': 2,\n",
              "             'trifle': 1,\n",
              "             'more,': 2,\n",
              "             'fancy,': 1,\n",
              "             'Watson.': 2,\n",
              "             'practice': 1,\n",
              "             'observe.': 2,\n",
              "             'You': 19,\n",
              "             'did': 12,\n",
              "             'tell': 8,\n",
              "             'intended': 1,\n",
              "             'go': 4,\n",
              "             'harness.”': 1,\n",
              "             '“Then,': 6,\n",
              "             'do': 26,\n",
              "             'know?”': 1,\n",
              "             'deduce': 4,\n",
              "             'it.': 12,\n",
              "             'How': 2,\n",
              "             'getting': 2,\n",
              "             'yourself': 6,\n",
              "             'very': 37,\n",
              "             'wet': 1,\n",
              "             'lately,': 2,\n",
              "             'clumsy': 1,\n",
              "             'careless': 1,\n",
              "             'servant': 3,\n",
              "             'girl?”': 1,\n",
              "             '“My': 5,\n",
              "             'dear': 6,\n",
              "             'Holmes,”': 3,\n",
              "             'said': 38,\n",
              "             'I,': 4,\n",
              "             '“this': 2,\n",
              "             'too': 5,\n",
              "             'much.': 1,\n",
              "             'certainly': 3,\n",
              "             'burned,': 1,\n",
              "             'lived': 1,\n",
              "             'few': 5,\n",
              "             'centuries': 1,\n",
              "             'ago.': 2,\n",
              "             'true': 2,\n",
              "             'country': 2,\n",
              "             'walk': 4,\n",
              "             'Thursday': 1,\n",
              "             'came': 9,\n",
              "             'home': 2,\n",
              "             'dreadful': 1,\n",
              "             'mess,': 1,\n",
              "             'changed': 2,\n",
              "             'clothes': 1,\n",
              "             'can’t': 3,\n",
              "             'imagine': 2,\n",
              "             'Mary': 2,\n",
              "             'Jane,': 1,\n",
              "             'incorrigible,': 1,\n",
              "             'wife': 1,\n",
              "             'given': 4,\n",
              "             'notice,': 1,\n",
              "             'there,': 1,\n",
              "             'fail': 2,\n",
              "             'it': 100,\n",
              "             'out.”': 1,\n",
              "             'chuckled': 2,\n",
              "             'rubbed': 1,\n",
              "             'long,': 2,\n",
              "             'nervous': 1,\n",
              "             'together.': 2,\n",
              "             '“It': 14,\n",
              "             'simplicity': 1,\n",
              "             'itself,”': 1,\n",
              "             'he;': 1,\n",
              "             '“my': 1,\n",
              "             'inside': 2,\n",
              "             'your': 47,\n",
              "             'left': 10,\n",
              "             'shoe,': 1,\n",
              "             'just': 19,\n",
              "             'where': 9,\n",
              "             'firelight': 1,\n",
              "             'strikes': 1,\n",
              "             'leather': 2,\n",
              "             'scored': 1,\n",
              "             'six': 4,\n",
              "             'almost': 3,\n",
              "             'parallel': 1,\n",
              "             'cuts.': 1,\n",
              "             'Obviously': 1,\n",
              "             'they': 9,\n",
              "             'caused': 1,\n",
              "             'someone': 2,\n",
              "             'carelessly': 1,\n",
              "             'scraped': 1,\n",
              "             'round': 5,\n",
              "             'edges': 1,\n",
              "             'sole': 1,\n",
              "             'order': 1,\n",
              "             'remove': 1,\n",
              "             'crusted': 1,\n",
              "             'mud': 1,\n",
              "             'Hence,': 1,\n",
              "             'see,': 3,\n",
              "             'double': 3,\n",
              "             'deduction': 1,\n",
              "             'vile': 1,\n",
              "             'weather,': 1,\n",
              "             'particularly': 1,\n",
              "             'malignant': 1,\n",
              "             'boot-slitting': 1,\n",
              "             'specimen': 1,\n",
              "             'London': 3,\n",
              "             'slavey.': 1,\n",
              "             'practice,': 1,\n",
              "             'if': 24,\n",
              "             'gentleman': 8,\n",
              "             'walks': 1,\n",
              "             'smelling': 1,\n",
              "             'iodoform,': 1,\n",
              "             'black': 4,\n",
              "             'mark': 2,\n",
              "             'nitrate': 1,\n",
              "             'silver': 1,\n",
              "             'right': 10,\n",
              "             'forefinger,': 1,\n",
              "             'bulge': 1,\n",
              "             'side': 3,\n",
              "             'top-hat': 2,\n",
              "             'show': 2,\n",
              "             'secreted': 1,\n",
              "             'stethoscope,': 1,\n",
              "             'dull,': 1,\n",
              "             'indeed,': 3,\n",
              "             'pronounce': 1,\n",
              "             'active': 1,\n",
              "             'member': 2,\n",
              "             'medical': 1,\n",
              "             'profession.”': 1,\n",
              "             'could': 30,\n",
              "             'help': 4,\n",
              "             'laughing': 3,\n",
              "             'ease': 1,\n",
              "             'explained': 1,\n",
              "             'process': 1,\n",
              "             'deduction.': 1,\n",
              "             '“When': 2,\n",
              "             'hear': 5,\n",
              "             'give': 6,\n",
              "             'reasons,”': 1,\n",
              "             'remarked,': 3,\n",
              "             '“the': 1,\n",
              "             'thing': 4,\n",
              "             'appears': 1,\n",
              "             'ridiculously': 1,\n",
              "             'simple': 4,\n",
              "             'easily': 2,\n",
              "             'myself,': 3,\n",
              "             'though': 2,\n",
              "             'successive': 1,\n",
              "             'instance': 3,\n",
              "             'am': 29,\n",
              "             'baffled': 1,\n",
              "             'until': 6,\n",
              "             'explain': 1,\n",
              "             'process.': 1,\n",
              "             'believe': 1,\n",
              "             'are': 31,\n",
              "             'good': 15,\n",
              "             'yours.”': 1,\n",
              "             '“Quite': 3,\n",
              "             'so,”': 1,\n",
              "             'answered,': 2,\n",
              "             'lighting': 1,\n",
              "             'cigarette,': 1,\n",
              "             'throwing': 1,\n",
              "             'down': 26,\n",
              "             'armchair.': 1,\n",
              "             '“You': 20,\n",
              "             'The': 29,\n",
              "             'distinction': 1,\n",
              "             'clear.': 1,\n",
              "             'For': 2,\n",
              "             'example,': 2,\n",
              "             'frequently': 1,\n",
              "             'steps': 3,\n",
              "             'lead': 2,\n",
              "             'hall': 2,\n",
              "             'this': 27,\n",
              "             'room.”': 2,\n",
              "             '“Frequently.”': 1,\n",
              "             '“How': 4,\n",
              "             'often?”': 1,\n",
              "             '“Well,': 9,\n",
              "             'hundreds': 1,\n",
              "             'times.”': 1,\n",
              "             '“Then': 9,\n",
              "             'many': 8,\n",
              "             'there?”': 1,\n",
              "             'many?': 1,\n",
              "             'don’t': 4,\n",
              "             'know.”': 1,\n",
              "             'so!': 2,\n",
              "             'observed.': 3,\n",
              "             'seen.': 1,\n",
              "             'That': 6,\n",
              "             'point.': 1,\n",
              "             'Now,': 4,\n",
              "             'seventeen': 1,\n",
              "             'steps,': 1,\n",
              "             'because': 3,\n",
              "             'both': 4,\n",
              "             'By': 2,\n",
              "             'way,': 3,\n",
              "             'interested': 3,\n",
              "             'problems,': 1,\n",
              "             'enough': 6,\n",
              "             'chronicle': 1,\n",
              "             'two': 12,\n",
              "             'trifling': 1,\n",
              "             'experiences,': 1,\n",
              "             'may': 20,\n",
              "             'this.”': 1,\n",
              "             'sheet': 2,\n",
              "             'thick,': 2,\n",
              "             'pink-tinted': 1,\n",
              "             'notepaper': 1,\n",
              "             'lying': 1,\n",
              "             'open': 8,\n",
              "             'table.': 2,\n",
              "             'last': 2,\n",
              "             'post,”': 1,\n",
              "             'he.': 10,\n",
              "             '“Read': 1,\n",
              "             'aloud.”': 1,\n",
              "             'note': 5,\n",
              "             'undated,': 1,\n",
              "             'without': 11,\n",
              "             'either': 3,\n",
              "             'signature': 1,\n",
              "             'address.': 2,\n",
              "             '“There': 3,\n",
              "             'will': 37,\n",
              "             'call': 7,\n",
              "             'to-night,': 1,\n",
              "             'quarter': 2,\n",
              "             'eight': 5,\n",
              "             'o’clock,”': 1,\n",
              "             'said,': 3,\n",
              "             '“a': 1,\n",
              "             'desires': 1,\n",
              "             'consult': 1,\n",
              "             'matter': 11,\n",
              "             'deepest': 1,\n",
              "             'moment.': 1,\n",
              "             'Your': 6,\n",
              "             'recent': 1,\n",
              "             'services': 1,\n",
              "             'royal': 2,\n",
              "             'houses': 1,\n",
              "             'Europe': 1,\n",
              "             'safely': 1,\n",
              "             'trusted': 1,\n",
              "             'matters': 2,\n",
              "             'importance': 2,\n",
              "             'can': 12,\n",
              "             'exaggerated.': 1,\n",
              "             'This': 6,\n",
              "             'we': 31,\n",
              "             'quarters': 2,\n",
              "             'received.': 1,\n",
              "             'Be': 2,\n",
              "             'then': 8,\n",
              "             'hour,': 2,\n",
              "             'amiss': 1,\n",
              "             'visitor': 3,\n",
              "             'wear': 2,\n",
              "             'mask.”': 1,\n",
              "             '“This': 6,\n",
              "             'indeed': 4,\n",
              "             'mystery,”': 2,\n",
              "             '“What': 8,\n",
              "             'means?”': 1,\n",
              "             'no': 14,\n",
              "             'data': 1,\n",
              "             'yet.': 1,\n",
              "             'capital': 1,\n",
              "             'mistake': 2,\n",
              "             'theorise': 1,\n",
              "             'data.': 1,\n",
              "             'Insensibly': 1,\n",
              "             'begins': 1,\n",
              "             'twist': 1,\n",
              "             'facts': 4,\n",
              "             'suit': 2,\n",
              "             'theories,': 1,\n",
              "             'instead': 2,\n",
              "             'theories': 1,\n",
              "             'facts.': 1,\n",
              "             'itself.': 1,\n",
              "             'What': 4,\n",
              "             'it?”': 5,\n",
              "             'carefully': 1,\n",
              "             'examined': 2,\n",
              "             'writing,': 1,\n",
              "             'paper': 9,\n",
              "             'written.': 1,\n",
              "             '“The': 9,\n",
              "             'wrote': 3,\n",
              "             'presumably': 1,\n",
              "             'well': 6,\n",
              "             'do,”': 1,\n",
              "             'endeavouring': 1,\n",
              "             'imitate': 1,\n",
              "             'companion’s': 1,\n",
              "             'processes.': 1,\n",
              "             '“Such': 1,\n",
              "             'bought': 1,\n",
              "             'crown': 1,\n",
              "             'packet.': 1,\n",
              "             'peculiarly': 1,\n",
              "             'stiff.”': 1,\n",
              "             '“Peculiar—that': 1,\n",
              "             'word,”': 1,\n",
              "             'Holmes.': 12,\n",
              "             'English': 3,\n",
              "             'all.': 4,\n",
              "             'Hold': 1,\n",
              "             'light.”': 1,\n",
              "             'so,': 3,\n",
              "             'large': 4,\n",
              "             '“E”': 1,\n",
              "             'small': 9,\n",
              "             '“g,”': 1,\n",
              "             '“P,”': 1,\n",
              "             '“G”': 1,\n",
              "             '“t”': 1,\n",
              "             'woven': 1,\n",
              "             'texture': 1,\n",
              "             'paper.': 1,\n",
              "             'make': 10,\n",
              "             'that?”': 2,\n",
              "             'asked': 5,\n",
              "             'name': 8,\n",
              "             'maker,': 1,\n",
              "             'doubt;': 1,\n",
              "             'monogram,': 1,\n",
              "             'rather.”': 1,\n",
              "             '“Not': 6,\n",
              "             '‘G’': 1,\n",
              "             '‘t’': 1,\n",
              "             'stands': 2,\n",
              "             '‘Gesellschaft,’': 1,\n",
              "             'German': 4,\n",
              "             '‘Company.’': 1,\n",
              "             'customary': 1,\n",
              "             'contraction': 1,\n",
              "             'like': 8,\n",
              "             '‘Co.’': 1,\n",
              "             '‘P,’': 1,\n",
              "             'course,': 4,\n",
              "             '‘Papier.’': 1,\n",
              "             'Now': 4,\n",
              "             '‘Eg.’': 1,\n",
              "             'Let': 1,\n",
              "             'glance': 2,\n",
              "             'Continental': 1,\n",
              "             'Gazetteer.”': 1,\n",
              "             'took': 11,\n",
              "             'heavy': 4,\n",
              "             'brown': 3,\n",
              "             'volume': 1,\n",
              "             'shelves.': 1,\n",
              "             '“Eglow,': 1,\n",
              "             'Eglonitz—here': 1,\n",
              "             'are,': 2,\n",
              "             'Egria.': 1,\n",
              "             'German-speaking': 1,\n",
              "             'country—in': 1,\n",
              "             'Bohemia,': 3,\n",
              "             'far': 4,\n",
              "             'Carlsbad.': 1,\n",
              "             '‘Remarkable': 1,\n",
              "             'being': 5,\n",
              "             'scene': 3,\n",
              "             'death': 1,\n",
              "             'Wallenstein,': 1,\n",
              "             'its': 6,\n",
              "             'numerous': 1,\n",
              "             'glass-factories': 1,\n",
              "             'paper-mills.’': 1,\n",
              "             'Ha,': 1,\n",
              "             'ha,': 1,\n",
              "             'boy,': 1,\n",
              "             'what': 27,\n",
              "             'sparkled,': 1,\n",
              "             'sent': 3,\n",
              "             'great': 7,\n",
              "             'blue': 2,\n",
              "             'triumphant': 1,\n",
              "             'cloud': 1,\n",
              "             'cigarette.': 1,\n",
              "             'made': 10,\n",
              "             'Bohemia,”': 1,\n",
              "             'said.': 2,\n",
              "             '“Precisely.': 1,\n",
              "             'German.': 1,\n",
              "             'Do': 2,\n",
              "             'peculiar': 4,\n",
              "             'construction': 1,\n",
              "             'sentence—‘This': 1,\n",
              "             'received.’': 1,\n",
              "             'Frenchman': 1,\n",
              "             'Russian': 1,\n",
              "             'written': 2,\n",
              "             'that.': 3,\n",
              "             'uncourteous': 1,\n",
              "             'verbs.': 1,\n",
              "             'only': 11,\n",
              "             'remains,': 1,\n",
              "             'therefore,': 1,\n",
              "             'discover': 1,\n",
              "             'wanted': 4,\n",
              "             'writes': 1,\n",
              "             'prefers': 1,\n",
              "             'wearing': 1,\n",
              "             'mask': 2,\n",
              "             'showing': 2,\n",
              "             'face.': 3,\n",
              "             'here': 2,\n",
              "             'comes,': 1,\n",
              "             'mistaken,': 1,\n",
              "             'resolve': 1,\n",
              "             'doubts.”': 1,\n",
              "             'sharp': 3,\n",
              "             'sound': 2,\n",
              "             'horses’': 1,\n",
              "             'hoofs': 1,\n",
              "             'grating': 1,\n",
              "             'wheels': 2,\n",
              "             'curb,': 1,\n",
              "             'followed': 4,\n",
              "             'pull': 1,\n",
              "             'bell.': 2,\n",
              "             'whistled.': 1,\n",
              "             '“A': 3,\n",
              "             'pair,': 1,\n",
              "             'sound,”': 1,\n",
              "             '“Yes,”': 1,\n",
              "             'continued,': 1,\n",
              "             'glancing': 1,\n",
              "             'window.': 4,\n",
              "             'nice': 2,\n",
              "             'brougham': 3,\n",
              "             'pair': 2,\n",
              "             'beauties.': 1,\n",
              "             'hundred': 6,\n",
              "             'fifty': 1,\n",
              "             'guineas': 1,\n",
              "             'apiece.': 1,\n",
              "             'There’s': 2,\n",
              "             'money': 1,\n",
              "             'case,': 1,\n",
              "             'nothing': 11,\n",
              "             'else.”': 2,\n",
              "             'think': 7,\n",
              "             'better': 6,\n",
              "             'go,': 2,\n",
              "             'Holmes.”': 2,\n",
              "             'bit,': 1,\n",
              "             'Doctor.': 1,\n",
              "             'Stay': 1,\n",
              "             'are.': 1,\n",
              "             'lost': 3,\n",
              "             'Boswell.': 1,\n",
              "             'promises': 2,\n",
              "             'interesting.': 1,\n",
              "             'pity': 2,\n",
              "             'miss': 1,\n",
              "             'it.”': 3,\n",
              "             '“But': 12,\n",
              "             'client—”': 1,\n",
              "             '“Never': 3,\n",
              "             'want': 2,\n",
              "             'help,': 1,\n",
              "             'Here': 1,\n",
              "             'comes.': 1,\n",
              "             'Sit': 1,\n",
              "             'Doctor,': 4,\n",
              "             'best': 5,\n",
              "             'attention.”': 1,\n",
              "             'slow': 1,\n",
              "             'step,': 1,\n",
              "             'stairs': 1,\n",
              "             'passage,': 1,\n",
              "             'paused': 2,\n",
              "             'immediately': 2,\n",
              "             'outside': 2,\n",
              "             'door.': 3,\n",
              "             'loud': 1,\n",
              "             'authoritative': 1,\n",
              "             'tap.': 1,\n",
              "             '“Come': 1,\n",
              "             'in!”': 1,\n",
              "             'entered': 1,\n",
              "             'less': 5,\n",
              "             'feet': 1,\n",
              "             'inches': 1,\n",
              "             'height,': 1,\n",
              "             'limbs': 1,\n",
              "             'Hercules.': 1,\n",
              "             'dress': 2,\n",
              "             'rich': 3,\n",
              "             'richness': 1,\n",
              "             'would,': 2,\n",
              "             'England,': 1,\n",
              "             'bad': 1,\n",
              "             'taste.': 1,\n",
              "             'Heavy': 1,\n",
              "             'bands': 1,\n",
              "             'astrakhan': 1,\n",
              "             'slashed': 1,\n",
              "             'sleeves': 1,\n",
              "             'fronts': 1,\n",
              "             'double-breasted': 1,\n",
              "             'coat,': 1,\n",
              "             'deep': 3,\n",
              "             'cloak': 2,\n",
              "             'thrown': 1,\n",
              "             'shoulders': 1,\n",
              "             'lined': 1,\n",
              "             'flame-coloured': 2,\n",
              "             'silk': 1,\n",
              "             'secured': 1,\n",
              "             'neck': 1,\n",
              "             'brooch': 1,\n",
              "             'consisted': 1,\n",
              "             'single': 2,\n",
              "             'flaming': 1,\n",
              "             'beryl.': 1,\n",
              "             'Boots': 1,\n",
              "             'extended': 1,\n",
              "             'halfway': 2,\n",
              "             'calves,': 1,\n",
              "             'trimmed': 1,\n",
              "             'tops': 1,\n",
              "             'fur,': 1,\n",
              "             'completed': 1,\n",
              "             'impression': 1,\n",
              "             'barbaric': 1,\n",
              "             'opulence': 1,\n",
              "             'suggested': 1,\n",
              "             'appearance.': 2,\n",
              "             'carried': 2,\n",
              "             'broad-brimmed': 1,\n",
              "             'hat': 1,\n",
              "             'hand,': 4,\n",
              "             'wore': 2,\n",
              "             'upper': 1,\n",
              "             'face,': 2,\n",
              "             'extending': 1,\n",
              "             'past': 4,\n",
              "             'cheekbones,': 1,\n",
              "             'vizard': 1,\n",
              "             'mask,': 1,\n",
              "             'apparently': 1,\n",
              "             'moment,': 2,\n",
              "             'hand': 8,\n",
              "             'still': 8,\n",
              "             'raised': 1,\n",
              "             'entered.': 1,\n",
              "             'lower': 1,\n",
              "             'face': 5,\n",
              "             'appeared': 4,\n",
              "             'character,': 1,\n",
              "             'hanging': 2,\n",
              "             'lip,': 1,\n",
              "             'straight': 1,\n",
              "             'chin': 1,\n",
              "             'suggestive': 1,\n",
              "             'resolution': 1,\n",
              "             'pushed': 4,\n",
              "             'length': 1,\n",
              "             'obstinacy.': 1,\n",
              "             'note?”': 1,\n",
              "             'harsh': 1,\n",
              "             'voice': 3,\n",
              "             'strongly': 1,\n",
              "             'marked': 1,\n",
              "             'accent.': 1,\n",
              "             'call.”': 1,\n",
              "             'us,': 1,\n",
              "             'uncertain': 1,\n",
              "             '“Pray': 3,\n",
              "             'seat,”': 1,\n",
              "             'colleague,': 1,\n",
              "             'Dr.': 2,\n",
              "             ...})"
            ]
          },
          "metadata": {},
          "execution_count": 69
        }
      ]
    },
    {
      "cell_type": "code",
      "source": [
        "KVcharacters.reduceByKey(lambda x,y: x+y).collect()"
      ],
      "metadata": {
        "colab": {
          "base_uri": "https://localhost:8080/"
        },
        "collapsed": true,
        "id": "-WwDA1pRV6i1",
        "outputId": "3ff5b47a-07eb-4421-f677-eb6c87576d07"
      },
      "execution_count": null,
      "outputs": [
        {
          "output_type": "execute_result",
          "data": {
            "text/plain": [
              "[('BOHEMIA', 1),\n",
              " ('always', 7),\n",
              " ('have', 88),\n",
              " ('heard', 11),\n",
              " ('of', 301),\n",
              " ('It', 37),\n",
              " ('love', 6),\n",
              " ('machine', 1),\n",
              " ('as', 79),\n",
              " ('placed', 1),\n",
              " ('spoke', 3),\n",
              " ('save', 4),\n",
              " ('admirable', 2),\n",
              " ('drawing', 1),\n",
              " ('But', 7),\n",
              " ('intrusions', 1),\n",
              " ('into', 37),\n",
              " ('distracting', 1),\n",
              " ('high-power', 1),\n",
              " ('there', 28),\n",
              " ('', 321),\n",
              " ('seen', 6),\n",
              " ('away', 7),\n",
              " ('finds', 1),\n",
              " ('master', 1),\n",
              " ('form', 1),\n",
              " ('Baker', 6),\n",
              " ('books,', 1),\n",
              " ('cocaine', 1),\n",
              " ('nature.', 1),\n",
              " ('observation', 1),\n",
              " ('out', 25),\n",
              " ('clues,', 1),\n",
              " ('official', 1),\n",
              " ('account', 4),\n",
              " ('murder,', 1),\n",
              " ('Atkinson', 1),\n",
              " ('Trincomalee,', 1),\n",
              " ('family', 1),\n",
              " ('signs', 1),\n",
              " ('One', 1),\n",
              " ('twentieth', 1),\n",
              " ('when', 31),\n",
              " ('led', 2),\n",
              " ('must', 19),\n",
              " ('mind', 6),\n",
              " ('dark', 3),\n",
              " ('know', 18),\n",
              " ('even', 6),\n",
              " ('head', 3),\n",
              " ('told', 5),\n",
              " ('new', 3),\n",
              " ('own.', 2),\n",
              " ('was;', 1),\n",
              " ('eye,', 1),\n",
              " ('spirit', 1),\n",
              " ('before', 13),\n",
              " ('“Wedlock', 1),\n",
              " ('you,”', 1),\n",
              " ('you.”', 7),\n",
              " ('answered.', 3),\n",
              " ('know?”', 1),\n",
              " ('very', 37),\n",
              " ('girl?”', 1),\n",
              " ('lived', 1),\n",
              " ('centuries', 1),\n",
              " ('walk', 4),\n",
              " ('came', 9),\n",
              " ('dreadful', 1),\n",
              " ('can’t', 3),\n",
              " ('incorrigible,', 1),\n",
              " ('shoe,', 1),\n",
              " ('parallel', 1),\n",
              " ('caused', 1),\n",
              " ('carelessly', 1),\n",
              " ('sole', 1),\n",
              " ('deduction', 1),\n",
              " ('particularly', 1),\n",
              " ('practice,', 1),\n",
              " ('right', 10),\n",
              " ('dull,', 1),\n",
              " ('pronounce', 1),\n",
              " ('medical', 1),\n",
              " ('easily', 2),\n",
              " ('are', 31),\n",
              " ('answered,', 2),\n",
              " ('down', 26),\n",
              " ('steps', 3),\n",
              " ('“Frequently.”', 1),\n",
              " ('“How', 4),\n",
              " ('know.”', 1),\n",
              " ('steps,', 1),\n",
              " ('both', 4),\n",
              " ('interested', 3),\n",
              " ('two', 12),\n",
              " ('sheet', 2),\n",
              " ('thick,', 2),\n",
              " ('open', 8),\n",
              " ('table.', 2),\n",
              " ('aloud.”', 1),\n",
              " ('address.', 2),\n",
              " ('we', 31),\n",
              " ('quarters', 2),\n",
              " ('“This', 6),\n",
              " ('indeed', 4),\n",
              " ('“What', 8),\n",
              " ('no', 14),\n",
              " ('yet.', 1),\n",
              " ('mistake', 2),\n",
              " ('instead', 2),\n",
              " ('itself.', 1),\n",
              " ('What', 4),\n",
              " ('examined', 2),\n",
              " ('imitate', 1),\n",
              " ('bought', 1),\n",
              " ('stiff.”', 1),\n",
              " ('large', 4),\n",
              " ('“g,”', 1),\n",
              " ('make', 10),\n",
              " ('“Not', 6),\n",
              " ('‘t’', 1),\n",
              " ('like', 8),\n",
              " ('Now', 4),\n",
              " ('took', 11),\n",
              " ('shelves.', 1),\n",
              " ('are,', 2),\n",
              " ('boy,', 1),\n",
              " ('Do', 2),\n",
              " ('sentence—‘This', 1),\n",
              " ('Russian', 1),\n",
              " ('therefore,', 1),\n",
              " ('showing', 2),\n",
              " ('comes,', 1),\n",
              " ('mistaken,', 1),\n",
              " ('sound', 2),\n",
              " ('curb,', 1),\n",
              " ('bell.', 2),\n",
              " ('nice', 2),\n",
              " ('Holmes.”', 2),\n",
              " ('bit,', 1),\n",
              " ('are.', 1),\n",
              " ('“But', 12),\n",
              " ('step,', 1),\n",
              " ('paused', 2),\n",
              " ('authoritative', 1),\n",
              " ('height,', 1),\n",
              " ('dress', 2),\n",
              " ('slashed', 1),\n",
              " ('fronts', 1),\n",
              " ('neck', 1),\n",
              " ('consisted', 1),\n",
              " ('flaming', 1),\n",
              " ('beryl.', 1),\n",
              " ('barbaric', 1),\n",
              " ('hat', 1),\n",
              " ('entered.', 1),\n",
              " ('hanging', 2),\n",
              " ('lip,', 1),\n",
              " ('suggestive', 1),\n",
              " ('pushed', 4),\n",
              " ('strongly', 1),\n",
              " ('address?”', 2),\n",
              " ('extreme', 2),\n",
              " ('importance.', 2),\n",
              " ('broad', 2),\n",
              " ('“by', 1),\n",
              " ('influence', 2),\n",
              " ('European', 1),\n",
              " ('person', 4),\n",
              " ('unknown', 1),\n",
              " ('own.”', 1),\n",
              " ('it,”', 1),\n",
              " ('plainly,', 1),\n",
              " ('Bohemia.”', 2),\n",
              " ('glanced', 3),\n",
              " ('Majesty', 9),\n",
              " ('state', 1),\n",
              " ('gesture', 1),\n",
              " ('right,”', 1),\n",
              " ('attempt', 2),\n",
              " ('Wilhelm', 1),\n",
              " ('visitor,', 2),\n",
              " ('high', 2),\n",
              " ('“you', 1),\n",
              " ('business', 7),\n",
              " ('briefly', 1),\n",
              " ('adventuress,', 1),\n",
              " ('deep-sea', 1),\n",
              " ('Warsaw—yes!', 1),\n",
              " ('entangled', 1),\n",
              " ('compromising', 1),\n",
              " ('desirous', 1),\n",
              " ('legal', 1),\n",
              " ('Majesty.', 3),\n",
              " ('blackmailing', 1),\n",
              " ('authenticity?”', 1),\n",
              " ('“We', 5),\n",
              " ('Prince', 1),\n",
              " ('sell.”', 1),\n",
              " ('then.”', 1),\n",
              " ('pay', 4),\n",
              " ('house.', 4),\n",
              " ('Once', 1),\n",
              " ('none.”', 1),\n",
              " ('pretty', 1),\n",
              " ('heard.”', 1),\n",
              " ('Lothman', 1),\n",
              " ('send', 2),\n",
              " ('sure', 4),\n",
              " ('why?”', 1),\n",
              " ('publicly', 1),\n",
              " ('Monday.”', 1),\n",
              " ('three', 11),\n",
              " ('let', 2),\n",
              " ('anxiety.”', 1),\n",
              " ('gold', 2),\n",
              " ('notes,”', 1),\n",
              " ('asked.', 8),\n",
              " ('“Is', 2),\n",
              " ('Watson,”', 3),\n",
              " ('added,', 1),\n",
              " ('II.', 2),\n",
              " ('precisely', 1),\n",
              " ('be.', 1),\n",
              " ('inquiry,', 1),\n",
              " ('grasp', 1),\n",
              " ('subtle', 1),\n",
              " ('invariable', 1),\n",
              " ('inflamed', 1),\n",
              " ('disreputable', 1),\n",
              " ('friend’s', 2),\n",
              " ('certain', 1),\n",
              " ('heartily', 2),\n",
              " ('cried,', 3),\n",
              " ('choked', 2),\n",
              " ('“It’s', 1),\n",
              " ('ended', 1),\n",
              " ('perhaps', 2),\n",
              " ('rather', 6),\n",
              " ('wonderful', 1),\n",
              " ('garden', 1),\n",
              " ('furnished,', 1),\n",
              " ('child', 1),\n",
              " ('lounged', 2),\n",
              " ('garden.', 1),\n",
              " ('ostlers', 1),\n",
              " ('glass', 2),\n",
              " ('fills', 1),\n",
              " ('interested,', 1),\n",
              " ('bonnet', 1),\n",
              " ('planet.', 1),\n",
              " ('man.', 5),\n",
              " ('sings', 1),\n",
              " ('drives', 1),\n",
              " ('returns', 2),\n",
              " ('Mr.', 24),\n",
              " ('advantages', 1),\n",
              " ('confidant.', 1),\n",
              " ('When', 5),\n",
              " ('campaign.', 1),\n",
              " ('visits?', 1),\n",
              " ('probably', 2),\n",
              " ('turn', 2),\n",
              " ('chambers', 1),\n",
              " ('inquiry.', 1),\n",
              " ('fear', 2),\n",
              " ('closely,”', 1),\n",
              " ('hansom', 1),\n",
              " ('drove', 4),\n",
              " ('out.', 2),\n",
              " ('aquiline,', 1),\n",
              " ('brushed', 1),\n",
              " ('home.', 1),\n",
              " ('glimpses', 1),\n",
              " ('looking', 4),\n",
              " ('‘first', 1),\n",
              " ('Gross', 1),\n",
              " ('Half', 1),\n",
              " ('twenty', 3),\n",
              " ('ear,', 2),\n",
              " ('tags', 1),\n",
              " ('sticking', 1),\n",
              " ('Monica,', 1),\n",
              " ('run', 1),\n",
              " ('driver', 1),\n",
              " ('twelve,', 1),\n",
              " ('ever', 4),\n",
              " ('church.', 2),\n",
              " ('surpliced', 1),\n",
              " ('clergyman,', 1),\n",
              " ('seemed', 5),\n",
              " ('altar', 1),\n",
              " ('faced', 1),\n",
              " ('cried.', 2),\n",
              " ('“‘What', 1),\n",
              " ('minutes,', 1),\n",
              " ('responses', 1),\n",
              " ('nothing,', 1),\n",
              " ('tying', 1),\n",
              " ('clergyman', 2),\n",
              " ('position', 1),\n",
              " ('informality', 1),\n",
              " ('mean', 3),\n",
              " ('menaced.', 1),\n",
              " ('immediate', 1),\n",
              " ('necessitate', 1),\n",
              " ('usual,’', 1),\n",
              " ('law?”', 1),\n",
              " ('man.”', 1),\n",
              " ('hours', 1),\n",
              " ('Madame,', 1),\n",
              " ('seven.', 1),\n",
              " ('insist.', 1),\n",
              " ('join', 1),\n",
              " ('visible', 1),\n",
              " ('throw,', 1),\n",
              " ('me?”', 1),\n",
              " ('“Entirely.”', 1),\n",
              " ('roll', 1),\n",
              " ('cap', 1),\n",
              " ('object,', 1),\n",
              " ('excellent.', 1),\n",
              " ('prepare', 1),\n",
              " ('curiosity', 1),\n",
              " ('stage', 1),\n",
              " ('fine', 1),\n",
              " ('Holmes’', 2),\n",
              " ('locality', 1),\n",
              " ('contrary,', 2),\n",
              " ('group', 1),\n",
              " ('dressed', 3),\n",
              " ('several', 3),\n",
              " ('chances', 1),\n",
              " ('averse', 1),\n",
              " ('Too', 1),\n",
              " ('woman’s', 2),\n",
              " ('dress.', 1),\n",
              " ('capable', 1),\n",
              " ('possibility.', 1),\n",
              " ('secretive,', 1),\n",
              " ('bear', 1),\n",
              " ('Besides,', 2),\n",
              " ('letter.”', 1),\n",
              " ('smart', 1),\n",
              " ('intention.', 1),\n",
              " ('quarrel', 1),\n",
              " ('out,', 3),\n",
              " ('savagely', 1),\n",
              " ('ground,', 1),\n",
              " ('fall', 1),\n",
              " ('attend', 1),\n",
              " ('hurt?”', 1),\n",
              " ('no,', 1),\n",
              " ('there’s', 1),\n",
              " ('him!”', 1),\n",
              " ('another.', 2),\n",
              " ('lady’s', 1),\n",
              " ('gang,', 1),\n",
              " ('too.', 1),\n",
              " ('sitting-room.', 1),\n",
              " ('solemnly', 1),\n",
              " ('creature', 1),\n",
              " ('grace', 1),\n",
              " ('treachery', 1),\n",
              " ('smoke-rocket', 1),\n",
              " ('ulster.', 1),\n",
              " ('thought,', 1),\n",
              " ('couch,', 2),\n",
              " ('swiftly', 1),\n",
              " ('out?”', 1),\n",
              " ('You,', 1),\n",
              " ('trick.”', 1),\n",
              " ('determined', 1),\n",
              " ('which.', 1),\n",
              " ('air,', 1),\n",
              " ('thinks', 1),\n",
              " ('shake', 1),\n",
              " ('replaced', 1),\n",
              " ('hesitated', 1),\n",
              " ('safer', 1),\n",
              " ('over-precipitance', 1),\n",
              " ('finished.', 1),\n",
              " ('change', 2),\n",
              " ('Mister', 1),\n",
              " ('slim', 1),\n",
              " ('deuce', 1),\n",
              " ('been.”', 1),\n",
              " ('grasping', 1),\n",
              " ('waiting.”', 1),\n",
              " ('Norton.”', 1),\n",
              " ('him.”', 2),\n",
              " ('interfere', 2),\n",
              " ('queen', 1),\n",
              " ('steps.', 1),\n",
              " ('answered', 2),\n",
              " ('5:15', 1),\n",
              " ('Cross', 1),\n",
              " ('“What!”', 1),\n",
              " ('“All', 1),\n",
              " ('lost.”', 1),\n",
              " ('see.”', 1),\n",
              " ('furniture', 1),\n",
              " ('scattered', 1),\n",
              " ('shelves', 1),\n",
              " ('flight.', 1),\n",
              " ('this,', 1),\n",
              " ('kind', 1),\n",
              " ('gives.', 1),\n",
              " ('John,', 1),\n",
              " ('photograph,', 2),\n",
              " ('peace.', 1),\n",
              " ('loved', 1),\n",
              " ('safeguard', 1),\n",
              " ('née', 1),\n",
              " ('woman—oh,', 1),\n",
              " ('level?”', 1),\n",
              " ('successful.', 1),\n",
              " ('safe', 1),\n",
              " ('morning.”', 1),\n",
              " ('threatened', 1),\n",
              " ('used', 2),\n",
              " ('speaks', 1),\n",
              " ('refers', 1),\n",
              " ('LEAGUE', 1),\n",
              " ('hair.', 1),\n",
              " ('cordially.', 1),\n",
              " ('Very', 1),\n",
              " ('bob', 1),\n",
              " ('fingertips', 1),\n",
              " ('moods.', 1),\n",
              " ('share', 1),\n",
              " ('enthusiasm', 1),\n",
              " ('saying', 1),\n",
              " ('imagination.”', 1),\n",
              " ('narrative', 1),\n",
              " ('strangest', 1),\n",
              " ('narrative.', 1),\n",
              " ('ask', 1),\n",
              " ('possible', 1),\n",
              " ('lips.', 1),\n",
              " ('indication', 1),\n",
              " ('similar', 1),\n",
              " ('newspaper', 1),\n",
              " ('greatcoat.', 1),\n",
              " ('flattened', 1),\n",
              " ('indications', 1),\n",
              " ('drab', 1),\n",
              " ('ornament.', 1),\n",
              " ('manual', 2),\n",
              " ('chair,', 2),\n",
              " ('It’s', 4),\n",
              " ('carpenter.”', 1),\n",
              " ('worked', 1),\n",
              " ('developed.”', 1),\n",
              " ('Freemasonry?”', 1),\n",
              " ('especially', 1),\n",
              " ('as,', 1),\n",
              " ('rules', 1),\n",
              " ('writing?”', 1),\n",
              " ('shiny', 1),\n",
              " ('desk?”', 1),\n",
              " ('China?”', 1),\n",
              " ('China.', 2),\n",
              " ('tattoo', 1),\n",
              " ('subject.', 1),\n",
              " ('When,', 1),\n",
              " ('heavily.', 1),\n",
              " ('clever,', 1),\n",
              " ('“that', 1),\n",
              " ('candid.', 1),\n",
              " ('advertisement,', 2),\n",
              " ('column.', 1),\n",
              " ('LEAGUE:', 1),\n",
              " ('Lebanon,', 1),\n",
              " ('U.S.A.,', 1),\n",
              " ('£', 1),\n",
              " ('4', 1),\n",
              " ('twenty-one', 1),\n",
              " ('years,', 2),\n",
              " ('Apply', 1),\n",
              " ('eleven', 1),\n",
              " ('o’clock,', 1),\n",
              " ('Ross,', 1),\n",
              " ('Court,', 1),\n",
              " ('mean?”', 1),\n",
              " ('wriggled', 1),\n",
              " ('habit', 1),\n",
              " ('note,', 1),\n",
              " ('Chronicle', 1),\n",
              " ('27,', 1),\n",
              " ('affair,', 1),\n",
              " ('assistants,', 1),\n",
              " ('job', 1),\n",
              " ('willing', 2),\n",
              " ('earn', 1),\n",
              " ('fortunate', 1),\n",
              " ('employé', 1),\n",
              " ('full', 2),\n",
              " ('common', 1),\n",
              " ('assistant', 1),\n",
              " ('rabbit', 1),\n",
              " ('hole', 1),\n",
              " ('live', 1),\n",
              " ('sir,', 1),\n",
              " ('debts,', 1),\n",
              " ('weeks,', 1),\n",
              " ('says:', 1),\n",
              " ('says', 1),\n",
              " ('hair', 5),\n",
              " ('crib', 1),\n",
              " ('ready', 1),\n",
              " ('didn’t', 1),\n",
              " ('outside,', 1),\n",
              " ('“‘Never.’', 1),\n",
              " ('handy.', 1),\n",
              " ('American', 2),\n",
              " ('instructions', 1),\n",
              " ('millions', 1),\n",
              " ('red.', 1),\n",
              " ('gentlemen,', 1),\n",
              " ('yourselves,', 1),\n",
              " ('shade', 2),\n",
              " ('Court', 1),\n",
              " ('orange', 1),\n",
              " ('were—straw,', 1),\n",
              " ('despair;', 1),\n",
              " ('crowd,', 1),\n",
              " ('office.', 1),\n",
              " ('wedged', 1),\n",
              " ('refreshed', 1),\n",
              " ('A', 12),\n",
              " ('SCANDAL', 1),\n",
              " ('Holmes', 27),\n",
              " ('woman.', 3),\n",
              " ('and', 289),\n",
              " ('whole', 6),\n",
              " ('sex.', 1),\n",
              " ('that', 131),\n",
              " ('emotion', 2),\n",
              " ('to', 295),\n",
              " ('one', 28),\n",
              " ('particularly,', 1),\n",
              " ('abhorrent', 1),\n",
              " ('cold,', 1),\n",
              " ('mind.', 1),\n",
              " ('has', 33),\n",
              " ('lover', 1),\n",
              " ('false', 3),\n",
              " ('observer—excellent', 1),\n",
              " ('men’s', 2),\n",
              " ('motives', 1),\n",
              " ('actions.', 1),\n",
              " ('delicate', 4),\n",
              " ('introduce', 1),\n",
              " ('might', 13),\n",
              " ('or', 25),\n",
              " ('be', 64),\n",
              " ('disturbing', 1),\n",
              " ('nature', 4),\n",
              " ('woman', 5),\n",
              " ('dubious', 1),\n",
              " ('had', 73),\n",
              " ('little', 22),\n",
              " ('man', 19),\n",
              " ('who', 38),\n",
              " ('first', 4),\n",
              " ('while', 9),\n",
              " ('buried', 1),\n",
              " ('among', 4),\n",
              " ('drowsiness', 1),\n",
              " ('drug,', 1),\n",
              " ('ever,', 1),\n",
              " ('by', 36),\n",
              " ('crime,', 1),\n",
              " ('extraordinary', 4),\n",
              " ('been', 38),\n",
              " ('some', 18),\n",
              " ('summons', 1),\n",
              " ('brothers', 1),\n",
              " ('finally', 1),\n",
              " ('so', 23),\n",
              " ('Holland.', 1),\n",
              " ('press,', 1),\n",
              " ('former', 1),\n",
              " ('friend', 5),\n",
              " ('March,', 1),\n",
              " ('As', 12),\n",
              " ('powers.', 1),\n",
              " ('brilliantly', 1),\n",
              " ('and,', 5),\n",
              " ('up,', 3),\n",
              " ('behind', 4),\n",
              " ('habit,', 1),\n",
              " ('scent', 1),\n",
              " ('problem.', 1),\n",
              " ('me.', 8),\n",
              " ('With', 3),\n",
              " ('indicated', 2),\n",
              " ('fashion.', 1),\n",
              " ('you', 103),\n",
              " ('pounds', 2),\n",
              " ('more.', 4),\n",
              " ('more,', 2),\n",
              " ('Watson.', 2),\n",
              " ('intended', 1),\n",
              " ('Holmes,”', 3),\n",
              " ('too', 5),\n",
              " ('together.', 2),\n",
              " ('your', 47),\n",
              " ('left', 10),\n",
              " ('scored', 1),\n",
              " ('Obviously', 1),\n",
              " ('someone', 2),\n",
              " ('mud', 1),\n",
              " ('see,', 3),\n",
              " ('if', 24),\n",
              " ('side', 3),\n",
              " ('explained', 1),\n",
              " ('reasons,”', 1),\n",
              " ('thing', 4),\n",
              " ('successive', 1),\n",
              " ('process.', 1),\n",
              " ('lighting', 1),\n",
              " ('armchair.', 1),\n",
              " ('For', 2),\n",
              " ('hundreds', 1),\n",
              " ('times.”', 1),\n",
              " ('many', 8),\n",
              " ('point.', 1),\n",
              " ('because', 3),\n",
              " ('chronicle', 1),\n",
              " ('note', 5),\n",
              " ('“There', 3),\n",
              " ('consult', 1),\n",
              " ('moment.', 1),\n",
              " ('Your', 6),\n",
              " ('recent', 1),\n",
              " ('can', 12),\n",
              " ('hour,', 2),\n",
              " ('amiss', 1),\n",
              " ('visitor', 3),\n",
              " ('data', 1),\n",
              " ('facts.', 1),\n",
              " ('writing,', 1),\n",
              " ('wrote', 3),\n",
              " ('presumably', 1),\n",
              " ('crown', 1),\n",
              " ('peculiarly', 1),\n",
              " ('that?”', 2),\n",
              " ('‘Gesellschaft,’', 1),\n",
              " ('glance', 2),\n",
              " ('“Eglow,', 1),\n",
              " ('Egria.', 1),\n",
              " ('being', 5),\n",
              " ('its', 6),\n",
              " ('numerous', 1),\n",
              " ('glass-factories', 1),\n",
              " ('sparkled,', 1),\n",
              " ('blue', 2),\n",
              " ('Bohemia,”', 1),\n",
              " ('wanted', 4),\n",
              " ('sharp', 3),\n",
              " ('wheels', 2),\n",
              " ('window.', 4),\n",
              " ('go,', 2),\n",
              " ('Doctor.', 1),\n",
              " ('want', 2),\n",
              " ('help,', 1),\n",
              " ('Here', 1),\n",
              " ('Doctor,', 4),\n",
              " ('immediately', 2),\n",
              " ('outside', 2),\n",
              " ('inches', 1),\n",
              " ('bad', 1),\n",
              " ('coat,', 1),\n",
              " ('lined', 1),\n",
              " ('secured', 1),\n",
              " ('calves,', 1),\n",
              " ('trimmed', 1),\n",
              " ('tops', 1),\n",
              " ('wore', 2),\n",
              " ('upper', 1),\n",
              " ('moment,', 2),\n",
              " ('marked', 1),\n",
              " ('Kramm,', 1),\n",
              " ('friend,', 3),\n",
              " ('back', 6),\n",
              " ('chair.', 2),\n",
              " ('both,', 1),\n",
              " ('present', 4),\n",
              " ('weight', 1),\n",
              " ('history.”', 1),\n",
              " ('taken', 3),\n",
              " ('grow', 1),\n",
              " ('closing', 1),\n",
              " ('surprise', 1),\n",
              " ('incisive', 2),\n",
              " ('energetic', 2),\n",
              " ('impatiently', 1),\n",
              " ('gigantic', 1),\n",
              " ('client.', 1),\n",
              " ('case,”', 1),\n",
              " ('uncontrollable', 1),\n",
              " ('agitation.', 1),\n",
              " ('desperation,', 1),\n",
              " ('King', 15),\n",
              " ('passing', 2),\n",
              " ('white', 3),\n",
              " ('forehead,', 1),\n",
              " ('person.', 1),\n",
              " ('incognito', 1),\n",
              " ('Prague', 1),\n",
              " ('consult,”', 1),\n",
              " ('five', 7),\n",
              " ('Warsaw,', 1),\n",
              " ('acquaintance', 1),\n",
              " ('opening', 2),\n",
              " ('docketing', 1),\n",
              " ('men', 7),\n",
              " ('biography', 1),\n",
              " ('“Let', 1),\n",
              " ('Prima', 1),\n",
              " ('donna', 1),\n",
              " ('Opera', 1),\n",
              " ('became', 4),\n",
              " ('“None.”', 2),\n",
              " ('writing.”', 1),\n",
              " ('“Pooh,', 1),\n",
              " ('note-paper.”', 1),\n",
              " ('dear!', 1),\n",
              " ('bad!', 1),\n",
              " ('indiscretion.”', 1),\n",
              " ('mad—insane.”', 1),\n",
              " ('compromised', 1),\n",
              " ('seriously.”', 1),\n",
              " ('then.', 1),\n",
              " ('“Stolen,', 1),\n",
              " ('attempts', 2),\n",
              " ('Twice', 2),\n",
              " ('ransacked', 2),\n",
              " ('There', 10),\n",
              " ('“Absolutely', 1),\n",
              " ('does', 6),\n",
              " ('about', 14),\n",
              " ('Clotilde', 1),\n",
              " ('Scandinavia.', 1),\n",
              " ('strict', 2),\n",
              " ('delicacy.', 1),\n",
              " ('conduct', 1),\n",
              " ('steel.', 2),\n",
              " ('resolute', 2),\n",
              " ('Rather', 1),\n",
              " ('“Because', 2),\n",
              " ('day', 4),\n",
              " ('yawn.', 1),\n",
              " ('“That', 3),\n",
              " ('fortunate,', 1),\n",
              " ('drop', 1),\n",
              " ('money?”', 1),\n",
              " ('carte', 1),\n",
              " ('provinces', 1),\n",
              " ('kingdom', 2),\n",
              " ('note-book', 1),\n",
              " ('“One', 1),\n",
              " ('was.”', 1),\n",
              " ('soon', 3),\n",
              " ('you.', 5),\n",
              " ('street.', 5),\n",
              " ('o’clock', 4),\n",
              " ('landlady', 2),\n",
              " ('informed', 1),\n",
              " ('beside', 2),\n",
              " ('awaiting', 1),\n",
              " ('for,', 1),\n",
              " ('surrounded', 1),\n",
              " ('client', 5),\n",
              " ('character', 3),\n",
              " ('methods', 1),\n",
              " ('failing', 1),\n",
              " ('ceased', 1),\n",
              " ('side-whiskered,', 1),\n",
              " ('vanished', 1),\n",
              " ('old.', 1),\n",
              " ('legs', 1),\n",
              " ('really!”', 1),\n",
              " ('morning,', 2),\n",
              " ('house,', 3),\n",
              " ('unusual.', 1),\n",
              " ('sympathy', 2),\n",
              " ('horsey', 1),\n",
              " ('know.', 2),\n",
              " ('Lodge.', 3),\n",
              " ('road,', 1),\n",
              " ('side,', 1),\n",
              " ('Behind', 1),\n",
              " ('passage', 1),\n",
              " ('view,', 2),\n",
              " ('street', 3),\n",
              " ('found,', 1),\n",
              " ('wall', 1),\n",
              " ('rubbing', 1),\n",
              " ('information', 1),\n",
              " ('least', 1),\n",
              " ('biographies', 1),\n",
              " ('listen', 1),\n",
              " ('daintiest', 1),\n",
              " ('Serpentine-mews,', 2),\n",
              " ('lives', 1),\n",
              " ('quietly,', 2),\n",
              " ('male', 1),\n",
              " ('often', 4),\n",
              " ('matter.', 2),\n",
              " ('lawyer.', 2),\n",
              " ('object', 2),\n",
              " ('mistress?', 1),\n",
              " ('former,', 1),\n",
              " ('likely.', 1),\n",
              " ('On', 3),\n",
              " ('issue', 1),\n",
              " ('continue', 2),\n",
              " ('attention', 1),\n",
              " ('point,', 1),\n",
              " ('difficulties,', 1),\n",
              " ('man,', 3),\n",
              " ('moustached—evidently', 1),\n",
              " ('wait,', 1),\n",
              " ('air', 1),\n",
              " ('catch', 1),\n",
              " ('sitting-room,', 2),\n",
              " ('down,', 2),\n",
              " ('arms.', 1),\n",
              " ('flurried', 1),\n",
              " ('earnestly,', 1),\n",
              " ('&', 1),\n",
              " ('“Away', 1),\n",
              " ('went,', 1),\n",
              " ('wondering', 1),\n",
              " ('coachman', 2),\n",
              " ('hadn’t', 2),\n",
              " ('reach', 2),\n",
              " ('lose,', 1),\n",
              " ('us.', 2),\n",
              " ('hurried', 3),\n",
              " ('altar.', 1),\n",
              " ('idler', 1),\n",
              " ('running', 3),\n",
              " ('half-dragged', 1),\n",
              " ('altar,', 1),\n",
              " ('generally', 1),\n",
              " ('assisting', 1),\n",
              " ('secure', 4),\n",
              " ('done', 7),\n",
              " ('other,', 2),\n",
              " ('seems', 1),\n",
              " ('license,', 1),\n",
              " ('saved', 1),\n",
              " ('having', 4),\n",
              " ('sovereign,', 1),\n",
              " ('then?”', 4),\n",
              " ('measures', 1),\n",
              " ('Temple,', 1),\n",
              " ('park', 1),\n",
              " ('off', 6),\n",
              " ('are?”', 1),\n",
              " ('beer,”', 1),\n",
              " ('breaking', 1),\n",
              " ('“Nor', 1),\n",
              " ('cause.”', 1),\n",
              " ('brought', 3),\n",
              " ('nearly', 1),\n",
              " ('We', 7),\n",
              " ('occur.', 1),\n",
              " ('afterwards', 1),\n",
              " ('fire.', 1),\n",
              " ('taking', 2),\n",
              " ('confined', 2),\n",
              " ('number', 2),\n",
              " ('window,', 2),\n",
              " ('simple-minded', 1),\n",
              " ('sympathetic', 1),\n",
              " ('peering', 1),\n",
              " ('benevolent', 1),\n",
              " ('alone', 1),\n",
              " ('hour', 1),\n",
              " ('dusk,', 1),\n",
              " ('expected.', 1),\n",
              " ('well-dressed', 1),\n",
              " ('remarked', 4),\n",
              " ('princess.', 1),\n",
              " ('“Where,', 2),\n",
              " ('naturally', 1),\n",
              " ('secreting.', 1),\n",
              " ('else?', 1),\n",
              " ('resolved', 1),\n",
              " ('days.', 1),\n",
              " ('burgled.”', 1),\n",
              " ('“Pshaw!', 1),\n",
              " ('wheels.', 1),\n",
              " ('carriage.', 1),\n",
              " ('gleam', 1),\n",
              " ('carriage', 1),\n",
              " ('loafer,', 1),\n",
              " ('broke', 2),\n",
              " ('guardsmen,', 1),\n",
              " ('flushed', 1),\n",
              " ('sticks.', 1),\n",
              " ('lights', 1),\n",
              " ('life', 4),\n",
              " ('“He’s', 1),\n",
              " ('“They', 1),\n",
              " ('rough', 1),\n",
              " ('Bring', 1),\n",
              " ('Slowly', 1),\n",
              " ('principal', 1),\n",
              " ('observed', 1),\n",
              " ('ashamed', 1),\n",
              " ('After', 1),\n",
              " ('all,', 2),\n",
              " ('ostlers,', 1),\n",
              " ('Thick', 1),\n",
              " ('clouds', 1),\n",
              " ('curled', 1),\n",
              " ('rushing', 1),\n",
              " ('later', 1),\n",
              " ('rejoiced', 1),\n",
              " ('arm', 1),\n",
              " ('is.”', 1),\n",
              " ('wish', 6),\n",
              " ('everyone', 1),\n",
              " ('forward,', 1),\n",
              " ('fell', 1),\n",
              " ('clapped', 1),\n",
              " ('in.', 2),\n",
              " ('bound', 1),\n",
              " ('motioned', 1),\n",
              " ('all-important.', 1),\n",
              " ('values', 1),\n",
              " ('advantage', 2),\n",
              " ('baby;', 1),\n",
              " ('nerves', 1),\n",
              " ('responded', 1),\n",
              " ('sliding', 2),\n",
              " ('bell-pull.', 1),\n",
              " ('excuses,', 1),\n",
              " ('escaped', 1),\n",
              " ('wait.', 1),\n",
              " ('practically', 1),\n",
              " ('probable', 1),\n",
              " ('“At', 1),\n",
              " ('field.', 1),\n",
              " ('habits.', 1),\n",
              " ('wire', 1),\n",
              " ('“Good-night,', 1),\n",
              " ('pavement', 1),\n",
              " ('III.', 1),\n",
              " ('night,', 1),\n",
              " ('gone.”', 1),\n",
              " ('matters.”', 1),\n",
              " ('descended', 1),\n",
              " ('married,”', 1),\n",
              " ('whom?”', 1),\n",
              " ('future', 1),\n",
              " ('made!”', 1),\n",
              " ('silence,', 1),\n",
              " ('broken', 1),\n",
              " ('elderly', 2),\n",
              " ('eye', 2),\n",
              " ('believe?”', 1),\n",
              " ('she.', 1),\n",
              " ('Charing', 1),\n",
              " ('surprise.', 1),\n",
              " ('return.”', 1),\n",
              " ('hoarsely.', 1),\n",
              " ('drawers,', 1),\n",
              " ('bell-pull,', 1),\n",
              " ('shutter,', 1),\n",
              " ('letter.', 1),\n",
              " ('SHERLOCK', 1),\n",
              " ('suspicion.', 1),\n",
              " ('warned', 1),\n",
              " ('freedom', 1),\n",
              " ('walking', 1),\n",
              " ('hindrance', 1),\n",
              " ('keep', 5),\n",
              " ('“Very', 2),\n",
              " ('epistle.', 1),\n",
              " ('“Did', 1),\n",
              " ('was?', 1),\n",
              " ('Would', 1),\n",
              " ('seems,', 1),\n",
              " ('level', 1),\n",
              " ('successful', 2),\n",
              " ('glad', 2),\n",
              " ('indebted', 1),\n",
              " ('snake', 1),\n",
              " ('company', 1),\n",
              " ('affect', 1),\n",
              " ('autumn', 1),\n",
              " ('possibly', 1),\n",
              " ('engaged.”', 1),\n",
              " ...]"
            ]
          },
          "metadata": {},
          "execution_count": 74
        }
      ]
    },
    {
      "cell_type": "code",
      "source": [
        "### inner joins\n",
        "x = sc.parallelize([(\"a\", 1), (\"b\", 4), (\"c\",5)])\n",
        "y = sc.parallelize([(\"a\", 2), (\"a\", 3)])\n",
        "sorted(x.join(y).collect())"
      ],
      "metadata": {
        "colab": {
          "base_uri": "https://localhost:8080/"
        },
        "id": "jVNNXLa2V6fA",
        "outputId": "93208c58-ea36-4f31-c5d3-8229e4fa5cad"
      },
      "execution_count": null,
      "outputs": [
        {
          "output_type": "execute_result",
          "data": {
            "text/plain": [
              "[('a', (1, 2)), ('a', (1, 3))]"
            ]
          },
          "metadata": {},
          "execution_count": 75
        }
      ]
    },
    {
      "cell_type": "code",
      "source": [
        "## zips\n",
        "y = sc.parallelize(zip(range(0,5), range(10,25)))\n",
        "y.take(10)"
      ],
      "metadata": {
        "colab": {
          "base_uri": "https://localhost:8080/"
        },
        "id": "ML01sIDuV6UW",
        "outputId": "e8ef444f-4293-47cf-c376-43ee3b6cfcc9"
      },
      "execution_count": null,
      "outputs": [
        {
          "output_type": "execute_result",
          "data": {
            "text/plain": [
              "[(0, 10), (1, 11), (2, 12), (3, 13), (4, 14)]"
            ]
          },
          "metadata": {},
          "execution_count": 76
        }
      ]
    },
    {
      "cell_type": "markdown",
      "source": [
        "Broadcast Variables:Efficiently share immutable data across all nodes in a Spark cluster. Broadcast variables are sent to each worker node once and then cached there.Reduces network and serialization overhead by caching the variable on worker nodes"
      ],
      "metadata": {
        "id": "fPzWH3qEalUk"
      }
    },
    {
      "cell_type": "code",
      "source": [
        "my_collection = \"Spark The Definitive Guide : Big Data \\\n",
        "Processing Made Simple\".split(\" \")\n",
        "words = spark.sparkContext.parallelize(my_collection, 2)\n",
        "\n",
        "supplementalData = {\"Spark\":1000, \\\n",
        "                    \"Definitive\":200,\\\n",
        "                    \"Big\":-300, \\\n",
        "                    \"Simple\":100, \\\n",
        "                    \"Algebra\": -1000\n",
        "                   }\n",
        "\n",
        "suppBroadcast = spark.sparkContext.broadcast(supplementalData)\n",
        "\n",
        "print(suppBroadcast.value)\n",
        "\n",
        "words.map(lambda word: (word, suppBroadcast.value.get(word, 0))) \\\n",
        "    .sortBy(lambda wordPair: wordPair[1]).collect()"
      ],
      "metadata": {
        "colab": {
          "base_uri": "https://localhost:8080/"
        },
        "id": "ryJzHEXcWi9u",
        "outputId": "00352b4e-08b1-4c9c-b239-b022c0c8429a"
      },
      "execution_count": null,
      "outputs": [
        {
          "output_type": "stream",
          "name": "stdout",
          "text": [
            "{'Spark': 1000, 'Definitive': 200, 'Big': -300, 'Simple': 100, 'Algebra': -1000}\n"
          ]
        },
        {
          "output_type": "execute_result",
          "data": {
            "text/plain": [
              "[('Big', -300),\n",
              " ('The', 0),\n",
              " ('Guide', 0),\n",
              " (':', 0),\n",
              " ('Data', 0),\n",
              " ('Processing', 0),\n",
              " ('Made', 0),\n",
              " ('Simple', 100),\n",
              " ('Definitive', 200),\n",
              " ('Spark', 1000)]"
            ]
          },
          "metadata": {},
          "execution_count": 78
        }
      ]
    },
    {
      "cell_type": "markdown",
      "source": [
        "Surrogate Key creation in real applications:\n",
        "Start with an empty lookup (Map/dictionary, ie key value pairs)\n",
        "lets say you wanted a lookup on mobile numbers\n",
        "Start processing your input one row at a time (this can \\\n",
        "   be parallelised as well)\n",
        "\n",
        "for every incoming mobile num check if it exists in your lookup\n",
        "if it exists, fetch the key\n",
        "if it doesnt:\n",
        "    1. generate a new unique value as key for that incoming \\\n",
        "        mobile number\n",
        "    2. store the newly generated mob. num, unique key pair in \\\n",
        "        lookup\n",
        "    3. return the newly generated unique key to calling function\n",
        "\n",
        "Now your lookup has one row\n",
        "Go on repeating all above steps"
      ],
      "metadata": {
        "id": "XE_bRYKeWw0r"
      }
    },
    {
      "cell_type": "code",
      "source": [
        "#from pyspark import SparkContext\n",
        "#sc = SparkContext(\"local\", \"Accumulator app\")\n",
        "num = sc.accumulator(10)\n",
        "def f(x):\n",
        "    global num\n",
        "    num += x\n",
        "\n",
        "rdd = sc.parallelize([20,30,40,50])\n",
        "rdd.foreach(f)\n",
        "final = num.value\n",
        "print (\"Accumulated value is -> %i\" % (final))"
      ],
      "metadata": {
        "colab": {
          "base_uri": "https://localhost:8080/"
        },
        "id": "JSoB4L2ZWiwr",
        "outputId": "f7cdfa84-38d9-40f7-af80-9958f494ef43"
      },
      "execution_count": null,
      "outputs": [
        {
          "output_type": "stream",
          "name": "stdout",
          "text": [
            "Accumulated value is -> 150\n"
          ]
        }
      ]
    },
    {
      "cell_type": "code",
      "source": [],
      "metadata": {
        "id": "jjSHDQ20Wiov"
      },
      "execution_count": null,
      "outputs": []
    },
    {
      "cell_type": "markdown",
      "source": [
        "# DataFrame"
      ],
      "metadata": {
        "id": "e14Uyc0jRnXe"
      }
    },
    {
      "cell_type": "markdown",
      "source": [
        "Data Frames are immutable and once created can't be modified.Have structure like a table and contains rows and columns. Data Framework runs on the Spark SQL Context and provides SQL like queries for querying data. DataFrames support data from many different sources including Hive tables, Structured Data files, external databases, or existing RDDs. It is highly influenced with the designing principles of Data Frames in R Programming and Pandas in\n",
        "Python."
      ],
      "metadata": {
        "id": "XYGs1lzzcJvW"
      }
    },
    {
      "cell_type": "code",
      "source": [
        "dirty_data = spark.createDataFrame([\n",
        "          (1,'Porsche','Boxster S','Turbo',2.5,4,22,None)\n",
        "        , (2,'Aston Martin','Vanquish','Aspirated',6.0,12,16,None)\n",
        "        , (3,'Porsche','911 Carrera 4S Cabriolet','Turbo',3.0,6,24,None)\n",
        "        , (3,'General Motors','SPARK ACTIV','Aspirated',1.4,None,32,None)\n",
        "        , (5,'BMW','COOPER S HARDTOP 2 DOOR','Turbo',2.0,4,26,None)\n",
        "        , (6,'BMW','330i','Turbo',2.0,None,27,None)\n",
        "        , (7,'BMW','440i Coupe','Turbo',3.0,6,23,None)\n",
        "        , (8,'BMW','440i Coupe','Turbo',3.0,6,23,None)\n",
        "        , (9,'Mercedes-Benz',None,None,None,None,27,None)\n",
        "        , (10,'Mercedes-Benz','CLS 550','Turbo',4.7,8,21,79231)\n",
        "        , (11,'Volkswagen','GTI','Turbo',2.0,4,None,None)\n",
        "        , (12,'Ford Motor Company','FUSION AWD','Turbo',2.7,6,20,None)\n",
        "        , (13,'Nissan','Q50 AWD RED SPORT','Turbo',3.0,6,22,None)\n",
        "        , (14,'Nissan','Q70 AWD','Aspirated',5.6,8,18,None)\n",
        "        , (15,'Kia','Stinger RWD','Turbo',2.0,4,25,None)\n",
        "        , (16,'Toyota','CAMRY HYBRID LE','Aspirated',2.5,4,46,None)\n",
        "        , (16,'Toyota','CAMRY HYBRID LE','Aspirated',2.5,4,46,None)\n",
        "        , (18,'FCA US LLC','300','Aspirated',3.6,6,23,None)\n",
        "        , (19,'Hyundai','G80 AWD','Turbo',3.3,6,20,None)\n",
        "        , (20,'Hyundai','G80 AWD','Turbo',3.3,6,20,None)\n",
        "        , (21,'BMW','X5 M','Turbo',4.4,8,18,121231)\n",
        "        , (22,'GE','K1500 SUBURBAN 4WD','Aspirated',5.3,8,18,None)\n",
        "    ], ['Id','Manufacturer','Model','EngineType','Displacement',\n",
        "        'Cylinders','FuelEconomy','MSRP'])"
      ],
      "metadata": {
        "id": "riBVEY4GhQ9n"
      },
      "execution_count": null,
      "outputs": []
    },
    {
      "cell_type": "markdown",
      "source": [
        "distinct() -- method in Apache Spark is used to remove duplicate elements from an RDD or DataFrame"
      ],
      "metadata": {
        "id": "_RXHOhZ3cp80"
      }
    },
    {
      "cell_type": "code",
      "source": [
        "# no'r duplicated rows\n",
        "dirty_data.count(), dirty_data.distinct().count()"
      ],
      "metadata": {
        "colab": {
          "base_uri": "https://localhost:8080/"
        },
        "id": "zaZxkxNVhQ6R",
        "outputId": "ffe5130b-67ec-4b63-a714-9de27acaa44f"
      },
      "execution_count": null,
      "outputs": [
        {
          "output_type": "execute_result",
          "data": {
            "text/plain": [
              "(22, 21)"
            ]
          },
          "metadata": {},
          "execution_count": 29
        }
      ]
    },
    {
      "cell_type": "code",
      "source": [
        "#duplicated row\n",
        "(\n",
        "    dirty_data\n",
        "    .groupby(dirty_data.columns)\n",
        "    .count()\n",
        "    .filter('count > 1')\n",
        "    .show()\n",
        ")"
      ],
      "metadata": {
        "id": "rdiUBqAyhQ4M",
        "colab": {
          "base_uri": "https://localhost:8080/"
        },
        "outputId": "73b293cf-5346-4b31-a3ca-0f25fccfef42"
      },
      "execution_count": null,
      "outputs": [
        {
          "output_type": "stream",
          "name": "stdout",
          "text": [
            "+---+------------+---------------+----------+------------+---------+-----------+----+-----+\n",
            "| Id|Manufacturer|          Model|EngineType|Displacement|Cylinders|FuelEconomy|MSRP|count|\n",
            "+---+------------+---------------+----------+------------+---------+-----------+----+-----+\n",
            "| 16|      Toyota|CAMRY HYBRID LE| Aspirated|         2.5|        4|         46|NULL|    2|\n",
            "+---+------------+---------------+----------+------------+---------+-----------+----+-----+\n",
            "\n"
          ]
        }
      ]
    },
    {
      "cell_type": "code",
      "source": [
        "# remove the duplicated rows (the original data don't change)\n",
        "full_removed = dirty_data.dropDuplicates()\n",
        "full_removed.count()"
      ],
      "metadata": {
        "id": "p7Ma9rxahQ1y",
        "colab": {
          "base_uri": "https://localhost:8080/"
        },
        "outputId": "a507416b-94fa-4edf-d3e5-50ae62dcfcf7"
      },
      "execution_count": null,
      "outputs": [
        {
          "output_type": "execute_result",
          "data": {
            "text/plain": [
              "21"
            ]
          },
          "metadata": {},
          "execution_count": 31
        }
      ]
    },
    {
      "cell_type": "code",
      "source": [
        "# count of rows\n",
        "no_ids = (\n",
        "    full_removed\n",
        "    .select([col for col in full_removed.columns if col != 'Id'])\n",
        ")\n",
        "\n",
        "no_ids.count(), no_ids.distinct().count()"
      ],
      "metadata": {
        "id": "E76xhWpZhQzR",
        "colab": {
          "base_uri": "https://localhost:8080/"
        },
        "outputId": "6d963a7a-fedb-4ab4-b7cd-4d08fe9d0b89"
      },
      "execution_count": null,
      "outputs": [
        {
          "output_type": "execute_result",
          "data": {
            "text/plain": [
              "(21, 19)"
            ]
          },
          "metadata": {},
          "execution_count": 32
        }
      ]
    },
    {
      "cell_type": "code",
      "source": [
        "# duplicated row\n",
        "(\n",
        "    full_removed\n",
        "    .groupby([col for col in full_removed.columns if col != 'Id'])\n",
        "    .count()\n",
        "    .filter('count > 1')\n",
        "    .show()\n",
        ")"
      ],
      "metadata": {
        "id": "Mxn376UChQwi",
        "colab": {
          "base_uri": "https://localhost:8080/"
        },
        "outputId": "de552cdf-5699-4db0-a0db-7e250a91492a"
      },
      "execution_count": null,
      "outputs": [
        {
          "output_type": "stream",
          "name": "stdout",
          "text": [
            "+------------+----------+----------+------------+---------+-----------+----+-----+\n",
            "|Manufacturer|     Model|EngineType|Displacement|Cylinders|FuelEconomy|MSRP|count|\n",
            "+------------+----------+----------+------------+---------+-----------+----+-----+\n",
            "|         BMW|440i Coupe|     Turbo|         3.0|        6|         23|NULL|    2|\n",
            "|     Hyundai|   G80 AWD|     Turbo|         3.3|        6|         20|NULL|    2|\n",
            "+------------+----------+----------+------------+---------+-----------+----+-----+\n",
            "\n"
          ]
        }
      ]
    },
    {
      "cell_type": "code",
      "source": [
        "# removeing the duplicated record\n",
        "id_removed = full_removed.dropDuplicates(\n",
        "    subset = [col for col in full_removed.columns if col != 'Id']\n",
        ")\n",
        "# count\n",
        "id_removed.count()"
      ],
      "metadata": {
        "id": "UAf2-pT7hQkx",
        "colab": {
          "base_uri": "https://localhost:8080/"
        },
        "outputId": "0311f8a0-8e08-4df0-81fe-48a07654ce3c"
      },
      "execution_count": null,
      "outputs": [
        {
          "output_type": "execute_result",
          "data": {
            "text/plain": [
              "19"
            ]
          },
          "metadata": {},
          "execution_count": 35
        }
      ]
    },
    {
      "cell_type": "code",
      "source": [
        "# duplicated IDs\n",
        "import pyspark.sql.functions as fn\n",
        "\n",
        "id_removed.agg(\n",
        "      fn.count('Id').alias('CountOfIDs')\n",
        "    , fn.countDistinct('Id').alias('CountOfDistinctIDs')\n",
        ").show()"
      ],
      "metadata": {
        "id": "VsIa8-HfhQVK",
        "colab": {
          "base_uri": "https://localhost:8080/"
        },
        "outputId": "47a01301-7d56-4f92-dc2f-75d1ed3eddfc"
      },
      "execution_count": null,
      "outputs": [
        {
          "output_type": "stream",
          "name": "stdout",
          "text": [
            "+----------+------------------+\n",
            "|CountOfIDs|CountOfDistinctIDs|\n",
            "+----------+------------------+\n",
            "|        19|                18|\n",
            "+----------+------------------+\n",
            "\n"
          ]
        }
      ]
    },
    {
      "cell_type": "code",
      "source": [
        "# duplicated Id\n",
        "(\n",
        "    id_removed\n",
        "    .groupby('Id')\n",
        "    .count()\n",
        "    .filter('count > 1')\n",
        "    .show()\n",
        ")"
      ],
      "metadata": {
        "colab": {
          "base_uri": "https://localhost:8080/"
        },
        "id": "POsYSwPMRHuX",
        "outputId": "7ea426c4-686c-4002-f3c8-5086d5e71fae"
      },
      "execution_count": null,
      "outputs": [
        {
          "output_type": "stream",
          "name": "stdout",
          "text": [
            "+---+-----+\n",
            "| Id|count|\n",
            "+---+-----+\n",
            "|  3|    2|\n",
            "+---+-----+\n",
            "\n"
          ]
        }
      ]
    },
    {
      "cell_type": "code",
      "source": [
        "(\n",
        "    id_removed\n",
        "    .filter('Id = 3')\n",
        "    .show()\n",
        ")"
      ],
      "metadata": {
        "colab": {
          "base_uri": "https://localhost:8080/"
        },
        "id": "8AfIHI0MRHhI",
        "outputId": "b6877b54-7e7e-43b4-953d-5741650cc173"
      },
      "execution_count": null,
      "outputs": [
        {
          "output_type": "stream",
          "name": "stdout",
          "text": [
            "+---+--------------+--------------------+----------+------------+---------+-----------+----+\n",
            "| Id|  Manufacturer|               Model|EngineType|Displacement|Cylinders|FuelEconomy|MSRP|\n",
            "+---+--------------+--------------------+----------+------------+---------+-----------+----+\n",
            "|  3|General Motors|         SPARK ACTIV| Aspirated|         1.4|     NULL|         32|NULL|\n",
            "|  3|       Porsche|911 Carrera 4S Ca...|     Turbo|         3.0|        6|         24|NULL|\n",
            "+---+--------------+--------------------+----------+------------+---------+-----------+----+\n",
            "\n"
          ]
        }
      ]
    },
    {
      "cell_type": "code",
      "source": [
        "new_id = (\n",
        "    id_removed\n",
        "    .select(\n",
        "        [fn.monotonically_increasing_id().alias('Id')] +\n",
        "        [col for col in id_removed.columns if col != 'Id']\n",
        "    )\n",
        ")\n",
        "\n",
        "new_id.show()"
      ],
      "metadata": {
        "colab": {
          "base_uri": "https://localhost:8080/"
        },
        "id": "4KgtqG_ORNnW",
        "outputId": "ed2566bf-392e-4714-bfa8-598341fdd59f"
      },
      "execution_count": null,
      "outputs": [
        {
          "output_type": "stream",
          "name": "stdout",
          "text": [
            "+---+------------------+--------------------+----------+------------+---------+-----------+------+\n",
            "| Id|      Manufacturer|               Model|EngineType|Displacement|Cylinders|FuelEconomy|  MSRP|\n",
            "+---+------------------+--------------------+----------+------------+---------+-----------+------+\n",
            "|  0|     Mercedes-Benz|             CLS 550|     Turbo|         4.7|        8|         21| 79231|\n",
            "|  1|               BMW|                X5 M|     Turbo|         4.4|        8|         18|121231|\n",
            "|  2|    General Motors|         SPARK ACTIV| Aspirated|         1.4|     NULL|         32|  NULL|\n",
            "|  3|     Mercedes-Benz|                NULL|      NULL|        NULL|     NULL|         27|  NULL|\n",
            "|  4|Ford Motor Company|          FUSION AWD|     Turbo|         2.7|        6|         20|  NULL|\n",
            "|  5|               BMW|COOPER S HARDTOP ...|     Turbo|         2.0|        4|         26|  NULL|\n",
            "|  6|      Aston Martin|            Vanquish| Aspirated|         6.0|       12|         16|  NULL|\n",
            "|  7|        Volkswagen|                 GTI|     Turbo|         2.0|        4|       NULL|  NULL|\n",
            "|  8|               Kia|         Stinger RWD|     Turbo|         2.0|        4|         25|  NULL|\n",
            "|  9|               BMW|                330i|     Turbo|         2.0|     NULL|         27|  NULL|\n",
            "| 10|           Porsche|           Boxster S|     Turbo|         2.5|        4|         22|  NULL|\n",
            "| 11|        FCA US LLC|                 300| Aspirated|         3.6|        6|         23|  NULL|\n",
            "| 12|           Hyundai|             G80 AWD|     Turbo|         3.3|        6|         20|  NULL|\n",
            "| 13|               BMW|          440i Coupe|     Turbo|         3.0|        6|         23|  NULL|\n",
            "| 14|            Nissan|   Q50 AWD RED SPORT|     Turbo|         3.0|        6|         22|  NULL|\n",
            "| 15|            Nissan|             Q70 AWD| Aspirated|         5.6|        8|         18|  NULL|\n",
            "| 16|           Porsche|911 Carrera 4S Ca...|     Turbo|         3.0|        6|         24|  NULL|\n",
            "| 17|            Toyota|     CAMRY HYBRID LE| Aspirated|         2.5|        4|         46|  NULL|\n",
            "| 18|                GE|  K1500 SUBURBAN 4WD| Aspirated|         5.3|        8|         18|  NULL|\n",
            "+---+------------------+--------------------+----------+------------+---------+-----------+------+\n",
            "\n"
          ]
        }
      ]
    },
    {
      "cell_type": "code",
      "source": [
        "(\n",
        "    spark.createDataFrame(\n",
        "        new_id.rdd.map(\n",
        "           lambda row: (\n",
        "                 row['Id']\n",
        "               , sum([c == None for c in row])\n",
        "           )\n",
        "        )\n",
        "        .filter(lambda el: el[1] > 1)\n",
        "        .collect()\n",
        "        ,['Id', 'CountMissing']\n",
        "    )\n",
        "    .orderBy('CountMissing', ascending=False)\n",
        "    .show()\n",
        ")"
      ],
      "metadata": {
        "colab": {
          "base_uri": "https://localhost:8080/"
        },
        "id": "jkpqRjKPRNac",
        "outputId": "3cd86e4d-9cd5-477c-9351-6eae3e6936aa"
      },
      "execution_count": null,
      "outputs": [
        {
          "output_type": "stream",
          "name": "stdout",
          "text": [
            "+---+------------+\n",
            "| Id|CountMissing|\n",
            "+---+------------+\n",
            "|  3|           5|\n",
            "|  2|           2|\n",
            "|  7|           2|\n",
            "|  9|           2|\n",
            "+---+------------+\n",
            "\n"
          ]
        }
      ]
    },
    {
      "cell_type": "code",
      "source": [
        "(\n",
        "    new_id\n",
        "    .where('Id == 3')\n",
        "    .show()\n",
        ")"
      ],
      "metadata": {
        "colab": {
          "base_uri": "https://localhost:8080/"
        },
        "id": "JqVI6CE_RVOs",
        "outputId": "51bbd60d-f1c1-415c-8db4-054189664685"
      },
      "execution_count": null,
      "outputs": [
        {
          "output_type": "stream",
          "name": "stdout",
          "text": [
            "+---+-------------+-----+----------+------------+---------+-----------+----+\n",
            "| Id| Manufacturer|Model|EngineType|Displacement|Cylinders|FuelEconomy|MSRP|\n",
            "+---+-------------+-----+----------+------------+---------+-----------+----+\n",
            "|  3|Mercedes-Benz| NULL|      NULL|        NULL|     NULL|         27|NULL|\n",
            "+---+-------------+-----+----------+------------+---------+-----------+----+\n",
            "\n"
          ]
        }
      ]
    },
    {
      "cell_type": "code",
      "source": [
        "merc_out = new_id.dropna(thresh=4)\n",
        "new_id.count(), merc_out.count()"
      ],
      "metadata": {
        "colab": {
          "base_uri": "https://localhost:8080/"
        },
        "id": "xh_OcCI8RVI2",
        "outputId": "213b20cc-4a72-4c9d-cf6a-b75c3dfc6b2f"
      },
      "execution_count": null,
      "outputs": [
        {
          "output_type": "execute_result",
          "data": {
            "text/plain": [
              "(19, 18)"
            ]
          },
          "metadata": {},
          "execution_count": 42
        }
      ]
    },
    {
      "cell_type": "markdown",
      "source": [
        "'''sort merc_out\n",
        "aggregate sorted merc_out\n",
        "loop for all columns\n",
        "calculate missing values per column\n",
        "divide that by total number of rows\n",
        "gives us the ratio of available values for that column\n",
        "substract that from 1\n",
        "gives us the ratio of missing values for that column\n",
        "rename that column as <column>_miss\n",
        "after the loop is over, finally the higher the ratio, more tha missing values in a colum\n",
        "collect the output\n",
        "convert it to a dictionary\n",
        "extract the dictionary items\n",
        "fetch the second column\n",
        "sort '''"
      ],
      "metadata": {
        "id": "TF4x_TKGdsgL"
      }
    },
    {
      "cell_type": "code",
      "source": [
        "\n",
        "for k, v in sorted(\n",
        "    merc_out.agg(*[\n",
        "               (1 - (fn.count(c) / fn.count('*'))).alias(c + '_miss')\n",
        "               for c in merc_out.columns\n",
        "           ])\n",
        "        .collect()[0]\n",
        "        .asDict()\n",
        "        .items()\n",
        "    , key=lambda el: el[1]\n",
        "    , reverse=True\n",
        "):\n",
        "    print(k, v)"
      ],
      "metadata": {
        "colab": {
          "base_uri": "https://localhost:8080/"
        },
        "id": "8AJTl3hiRVC1",
        "outputId": "985b7fdc-9892-433b-943e-b9b4c90ca7ee"
      },
      "execution_count": null,
      "outputs": [
        {
          "output_type": "stream",
          "name": "stdout",
          "text": [
            "MSRP_miss 0.8888888888888888\n",
            "Cylinders_miss 0.11111111111111116\n",
            "FuelEconomy_miss 0.05555555555555558\n",
            "Id_miss 0.0\n",
            "Manufacturer_miss 0.0\n",
            "Model_miss 0.0\n",
            "EngineType_miss 0.0\n",
            "Displacement_miss 0.0\n"
          ]
        }
      ]
    },
    {
      "cell_type": "code",
      "source": [
        "no_MSRP = merc_out.select([col for col in new_id.columns if col != 'MSRP'])\n",
        "no_MSRP.show()"
      ],
      "metadata": {
        "colab": {
          "base_uri": "https://localhost:8080/"
        },
        "id": "7JkuHyShRqc0",
        "outputId": "8425c89d-1e79-4ec8-8673-a9de2eb30fa4"
      },
      "execution_count": null,
      "outputs": [
        {
          "output_type": "stream",
          "name": "stdout",
          "text": [
            "+---+------------------+--------------------+----------+------------+---------+-----------+\n",
            "| Id|      Manufacturer|               Model|EngineType|Displacement|Cylinders|FuelEconomy|\n",
            "+---+------------------+--------------------+----------+------------+---------+-----------+\n",
            "|  0|     Mercedes-Benz|             CLS 550|     Turbo|         4.7|        8|         21|\n",
            "|  1|               BMW|                X5 M|     Turbo|         4.4|        8|         18|\n",
            "|  2|    General Motors|         SPARK ACTIV| Aspirated|         1.4|     NULL|         32|\n",
            "|  4|Ford Motor Company|          FUSION AWD|     Turbo|         2.7|        6|         20|\n",
            "|  5|               BMW|COOPER S HARDTOP ...|     Turbo|         2.0|        4|         26|\n",
            "|  6|      Aston Martin|            Vanquish| Aspirated|         6.0|       12|         16|\n",
            "|  7|        Volkswagen|                 GTI|     Turbo|         2.0|        4|       NULL|\n",
            "|  8|               Kia|         Stinger RWD|     Turbo|         2.0|        4|         25|\n",
            "|  9|               BMW|                330i|     Turbo|         2.0|     NULL|         27|\n",
            "| 10|           Porsche|           Boxster S|     Turbo|         2.5|        4|         22|\n",
            "| 11|        FCA US LLC|                 300| Aspirated|         3.6|        6|         23|\n",
            "| 12|           Hyundai|             G80 AWD|     Turbo|         3.3|        6|         20|\n",
            "| 13|               BMW|          440i Coupe|     Turbo|         3.0|        6|         23|\n",
            "| 14|            Nissan|   Q50 AWD RED SPORT|     Turbo|         3.0|        6|         22|\n",
            "| 15|            Nissan|             Q70 AWD| Aspirated|         5.6|        8|         18|\n",
            "| 16|           Porsche|911 Carrera 4S Ca...|     Turbo|         3.0|        6|         24|\n",
            "| 17|            Toyota|     CAMRY HYBRID LE| Aspirated|         2.5|        4|         46|\n",
            "| 18|                GE|  K1500 SUBURBAN 4WD| Aspirated|         5.3|        8|         18|\n",
            "+---+------------------+--------------------+----------+------------+---------+-----------+\n",
            "\n"
          ]
        }
      ]
    },
    {
      "cell_type": "markdown",
      "source": [
        "Missing Observations"
      ],
      "metadata": {
        "id": "o-eT4UQRe4DX"
      }
    },
    {
      "cell_type": "code",
      "source": [
        "\n",
        "multipliers = (\n",
        "    no_MSRP\n",
        "    .agg(\n",
        "          fn.mean(\n",
        "              fn.col('FuelEconomy') /\n",
        "              (\n",
        "                  fn.col('Displacement') * fn.col('Cylinders')\n",
        "              )\n",
        "          ).alias('FuelEconomy')\n",
        "        , fn.mean(\n",
        "            fn.col('Cylinders') /\n",
        "            fn.col('Displacement')\n",
        "        ).alias('Cylinders')\n",
        "    )\n",
        ").toPandas().to_dict('records')[0]\n",
        "\n",
        "multipliers"
      ],
      "metadata": {
        "colab": {
          "base_uri": "https://localhost:8080/"
        },
        "id": "D41JozF7RqYm",
        "outputId": "b37e02ed-0a61-4c87-c405-ae9b4d7b9e15"
      },
      "execution_count": null,
      "outputs": [
        {
          "output_type": "execute_result",
          "data": {
            "text/plain": [
              "{'FuelEconomy': 1.4957485048359973, 'Cylinders': 1.8353365984789107}"
            ]
          },
          "metadata": {},
          "execution_count": 45
        }
      ]
    },
    {
      "cell_type": "code",
      "source": [
        "cylinders=5\n",
        "disp=2\n",
        "calc=cylinders/disp\n",
        "print(\"calc: \", calc)\n",
        "\n",
        "print(\"new cylinder value: \", int(calc * disp))"
      ],
      "metadata": {
        "colab": {
          "base_uri": "https://localhost:8080/"
        },
        "id": "GdnwCjFNRqSF",
        "outputId": "85715ed4-3a64-4c50-b2f2-de98bf25fd09"
      },
      "execution_count": null,
      "outputs": [
        {
          "output_type": "stream",
          "name": "stdout",
          "text": [
            "calc:  2.5\n",
            "new cylinder value:  5\n"
          ]
        }
      ]
    },
    {
      "cell_type": "code",
      "source": [
        "cylinders=None\n",
        "cylinders=calc\n",
        "disp=3\n",
        "calc=cylinders/disp\n",
        "print(\"calc: \", calc)\n",
        "\n",
        "print(\"new cylinder value: \", int(calc * disp))"
      ],
      "metadata": {
        "colab": {
          "base_uri": "https://localhost:8080/"
        },
        "id": "qQVLKD4BRqJu",
        "outputId": "e41b2881-44ad-479a-b4ca-f5570609e85c"
      },
      "execution_count": null,
      "outputs": [
        {
          "output_type": "stream",
          "name": "stdout",
          "text": [
            "calc:  0.8333333333333334\n",
            "new cylinder value:  2\n"
          ]
        }
      ]
    },
    {
      "cell_type": "code",
      "source": [
        "cylinders=calc\n",
        "print(\"new cylinder value: \", cylinders)"
      ],
      "metadata": {
        "colab": {
          "base_uri": "https://localhost:8080/"
        },
        "id": "rz0UpzwaR7dM",
        "outputId": "ace4ee3f-95c1-4f44-fae9-55a024818a33"
      },
      "execution_count": null,
      "outputs": [
        {
          "output_type": "stream",
          "name": "stdout",
          "text": [
            "new cylinder value:  0.8333333333333334\n"
          ]
        }
      ]
    },
    {
      "cell_type": "code",
      "source": [
        "imputed = (\n",
        "    no_MSRP\n",
        "    .withColumn('FuelEconomy', fn.col('FuelEconomy')   / fn.col('Displacement') / fn.col('Cylinders'))\n",
        "    .withColumn('Cylinders',   fn.col('Cylinders')   / fn.col('Displacement'))\n",
        "    .fillna(multipliers)\n",
        "    .withColumn('Cylinders',   (fn.col('Cylinders')   * fn.col('Displacement')).cast('integer'))\n",
        "    .withColumn('FuelEconomy', fn.col('FuelEconomy') * fn.col('Displacement') * fn.col('Cylinders'))\n",
        ")\n",
        "\n",
        "imputed.show()"
      ],
      "metadata": {
        "colab": {
          "base_uri": "https://localhost:8080/"
        },
        "id": "C1FQWCB5R7XL",
        "outputId": "773c759f-ff5e-4a97-c333-173be82aaf23"
      },
      "execution_count": null,
      "outputs": [
        {
          "output_type": "stream",
          "name": "stdout",
          "text": [
            "+---+------------------+--------------------+----------+------------+---------+------------------+\n",
            "| Id|      Manufacturer|               Model|EngineType|Displacement|Cylinders|       FuelEconomy|\n",
            "+---+------------------+--------------------+----------+------------+---------+------------------+\n",
            "|  0|     Mercedes-Benz|             CLS 550|     Turbo|         4.7|        8|              21.0|\n",
            "|  1|               BMW|                X5 M|     Turbo|         4.4|        8|              18.0|\n",
            "|  2|    General Motors|         SPARK ACTIV| Aspirated|         1.4|        2| 4.188095813540793|\n",
            "|  4|Ford Motor Company|          FUSION AWD|     Turbo|         2.7|        5|16.666666666666668|\n",
            "|  5|               BMW|COOPER S HARDTOP ...|     Turbo|         2.0|        4|              26.0|\n",
            "|  6|      Aston Martin|            Vanquish| Aspirated|         6.0|       12|              16.0|\n",
            "|  7|        Volkswagen|                 GTI|     Turbo|         2.0|        4|11.965988038687978|\n",
            "|  8|               Kia|         Stinger RWD|     Turbo|         2.0|        4|              25.0|\n",
            "|  9|               BMW|                330i|     Turbo|         2.0|        3| 8.974491029015983|\n",
            "| 10|           Porsche|           Boxster S|     Turbo|         2.5|        4|              22.0|\n",
            "| 11|        FCA US LLC|                 300| Aspirated|         3.6|        6|              23.0|\n",
            "| 12|           Hyundai|             G80 AWD|     Turbo|         3.3|        6|              20.0|\n",
            "| 13|               BMW|          440i Coupe|     Turbo|         3.0|        6|23.000000000000004|\n",
            "| 14|            Nissan|   Q50 AWD RED SPORT|     Turbo|         3.0|        6|21.999999999999996|\n",
            "| 15|            Nissan|             Q70 AWD| Aspirated|         5.6|        8|              18.0|\n",
            "| 16|           Porsche|911 Carrera 4S Ca...|     Turbo|         3.0|        6|              24.0|\n",
            "| 17|            Toyota|     CAMRY HYBRID LE| Aspirated|         2.5|        4|              46.0|\n",
            "| 18|                GE|  K1500 SUBURBAN 4WD| Aspirated|         5.3|        8|              18.0|\n",
            "+---+------------------+--------------------+----------+------------+---------+------------------+\n",
            "\n"
          ]
        }
      ]
    },
    {
      "cell_type": "markdown",
      "source": [
        "Identifying Outliers:Handling outliers in Spark involves identifying, analyzing, and possibly removing or transforming data points that deviate significantly from the rest of the dataset.\n",
        "\n",
        "Z-Score: Measures how many standard deviations an element is from the mean. Typically, a Z-score beyond ±3 indicates an outlier.\n",
        "\n",
        "Interquartile Range (IQR): Measures the spread between the 25th (Q1) and 75th (Q3) percentiles. Outliers are usually considered as values outside\n",
        "𝑄\n",
        "1\n",
        "−\n",
        "1.5\n",
        "×\n",
        "𝐼\n",
        "𝑄\n",
        "𝑅\n",
        "Q1−1.5×IQR and\n",
        "𝑄\n",
        "3\n",
        "+\n",
        "1.5\n",
        "×\n",
        "𝐼\n",
        "𝑄\n",
        "𝑅\n",
        "Q3+1.5×IQR.\n",
        "Visualization:\n",
        "\n",
        "Box Plots: Helpful in visualizing the spread and identifying potential outliers."
      ],
      "metadata": {
        "id": "OOvooRDgeVYX"
      }
    },
    {
      "cell_type": "code",
      "source": [
        "followers=[10,20,21,22,40,9,11,99,0.5,11,20,35]\n",
        "[0.5,9,10, 11,11,20,20,21,22,35,40,99]\n",
        "q1=[0.5]\n",
        "q2=[11]\n",
        "q3=[20]\n",
        "q4=[35]"
      ],
      "metadata": {
        "id": "W9f48zkkR7LM"
      },
      "execution_count": null,
      "outputs": []
    },
    {
      "cell_type": "code",
      "source": [
        "import numpy as np"
      ],
      "metadata": {
        "id": "G9Y_oRUJR7Cv"
      },
      "execution_count": null,
      "outputs": []
    },
    {
      "cell_type": "code",
      "source": [
        "followers_minus_top_outlier=[10,20,21,22,40,9,11,0.5,11,20,35]\n",
        "followers_minus_all_outliers=[10,20,21,22,40,9,11,11,20,35]\n",
        "features = ['Displacement', 'Cylinders', 'FuelEconomy']\n",
        "quantiles = [0.25, 0.75]\n",
        "\n",
        "cut_off_points = []\n",
        "\n",
        "for feature in features:\n",
        "    quants = imputed.approxQuantile(feature, quantiles, 0.05)\n",
        "\n",
        "    IQR = quants[1] - quants[0]\n",
        "    cut_off_points.append((feature, [\n",
        "        quants[0] - 1.5 * IQR,\n",
        "        quants[1] + 1.5 * IQR,\n",
        "    ]))\n",
        "\n",
        "cut_off_points = dict(cut_off_points)\n",
        "\n",
        "outliers = imputed.select(*['id'] + [\n",
        "       (\n",
        "           (imputed[f] < cut_off_points[f][0]) |\n",
        "           (imputed[f] > cut_off_points[f][1])\n",
        "       ).alias(f + '_o') for f in features\n",
        "  ])\n",
        "outliers.show()"
      ],
      "metadata": {
        "colab": {
          "base_uri": "https://localhost:8080/"
        },
        "id": "AKlKMj_VSLWU",
        "outputId": "139b9e44-d463-42b8-dede-41db2ff02c9d"
      },
      "execution_count": null,
      "outputs": [
        {
          "output_type": "stream",
          "name": "stdout",
          "text": [
            "+---+--------------+-----------+-------------+\n",
            "| id|Displacement_o|Cylinders_o|FuelEconomy_o|\n",
            "+---+--------------+-----------+-------------+\n",
            "|  0|         false|      false|        false|\n",
            "|  1|         false|      false|        false|\n",
            "|  2|         false|      false|         true|\n",
            "|  4|         false|      false|        false|\n",
            "|  5|         false|      false|        false|\n",
            "|  6|         false|       true|        false|\n",
            "|  7|         false|      false|        false|\n",
            "|  8|         false|      false|        false|\n",
            "|  9|         false|      false|        false|\n",
            "| 10|         false|      false|        false|\n",
            "| 11|         false|      false|        false|\n",
            "| 12|         false|      false|        false|\n",
            "| 13|         false|      false|        false|\n",
            "| 14|         false|      false|        false|\n",
            "| 15|         false|      false|        false|\n",
            "| 16|         false|      false|        false|\n",
            "| 17|         false|      false|         true|\n",
            "| 18|         false|      false|        false|\n",
            "+---+--------------+-----------+-------------+\n",
            "\n"
          ]
        }
      ]
    },
    {
      "cell_type": "code",
      "source": [
        "with_outliers_flag = imputed.join(outliers, on='Id')\n",
        "\n",
        "(\n",
        "    with_outliers_flag\n",
        "    .filter('FuelEconomy_o')\n",
        "    .select('Id', 'Manufacturer', 'Model', 'FuelEconomy')\n",
        "    .show()\n",
        ")"
      ],
      "metadata": {
        "colab": {
          "base_uri": "https://localhost:8080/"
        },
        "id": "FNcWwQMzSLO8",
        "outputId": "5c3f1b80-d187-4c42-dd7b-65a61219df92"
      },
      "execution_count": null,
      "outputs": [
        {
          "output_type": "stream",
          "name": "stdout",
          "text": [
            "+---+--------------+---------------+-----------------+\n",
            "| Id|  Manufacturer|          Model|      FuelEconomy|\n",
            "+---+--------------+---------------+-----------------+\n",
            "|  2|General Motors|    SPARK ACTIV|4.188095813540793|\n",
            "| 17|        Toyota|CAMRY HYBRID LE|             46.0|\n",
            "+---+--------------+---------------+-----------------+\n",
            "\n"
          ]
        }
      ]
    },
    {
      "cell_type": "code",
      "source": [
        "no_outliers = (\n",
        "    with_outliers_flag\n",
        "    .filter('!FuelEconomy_o')\n",
        "    .select(imputed.columns)\n",
        ")"
      ],
      "metadata": {
        "id": "oNzcq0NDSLHV"
      },
      "execution_count": null,
      "outputs": []
    },
    {
      "cell_type": "markdown",
      "source": [
        "Descriptive Statistics"
      ],
      "metadata": {
        "id": "1whc-mFPeIyW"
      }
    },
    {
      "cell_type": "code",
      "source": [
        "descriptive_stats = no_outliers.describe(features)\n",
        "descriptive_stats.show()"
      ],
      "metadata": {
        "colab": {
          "base_uri": "https://localhost:8080/"
        },
        "id": "StqW3DOfSa2M",
        "outputId": "5db72f53-6824-40e6-f335-3ee0156b669b"
      },
      "execution_count": null,
      "outputs": [
        {
          "output_type": "stream",
          "name": "stdout",
          "text": [
            "+-------+------------------+-----------------+------------------+\n",
            "|summary|      Displacement|        Cylinders|       FuelEconomy|\n",
            "+-------+------------------+-----------------+------------------+\n",
            "|  count|                16|               16|                16|\n",
            "|   mean|           3.44375|            6.125|19.600446608398165|\n",
            "| stddev|1.3549753995306828|2.276693508870558| 4.666647767373752|\n",
            "|    min|               2.0|                3| 8.974491029015983|\n",
            "|    max|               6.0|               12|              26.0|\n",
            "+-------+------------------+-----------------+------------------+\n",
            "\n"
          ]
        }
      ]
    },
    {
      "cell_type": "code",
      "source": [
        "descriptive_stats_all = no_outliers.describe()\n",
        "descriptive_stats_all.show()"
      ],
      "metadata": {
        "colab": {
          "base_uri": "https://localhost:8080/"
        },
        "id": "xmdTcPiPSavz",
        "outputId": "36c75377-aa94-4dea-c0c1-6bb223cd367a"
      },
      "execution_count": null,
      "outputs": [
        {
          "output_type": "stream",
          "name": "stdout",
          "text": [
            "+-------+-----------------+------------+-----+----------+------------------+-----------------+------------------+\n",
            "|summary|               Id|Manufacturer|Model|EngineType|      Displacement|        Cylinders|       FuelEconomy|\n",
            "+-------+-----------------+------------+-----+----------+------------------+-----------------+------------------+\n",
            "|  count|               16|          16|   16|        16|                16|               16|                16|\n",
            "|   mean|           9.3125|        NULL|300.0|      NULL|           3.44375|            6.125|19.600446608398165|\n",
            "| stddev|5.287958017987662|        NULL| NULL|      NULL|1.3549753995306828|2.276693508870558| 4.666647767373752|\n",
            "|    min|                0|Aston Martin|  300| Aspirated|               2.0|                3| 8.974491029015983|\n",
            "|    max|               18|  Volkswagen| X5 M|     Turbo|               6.0|               12|              26.0|\n",
            "+-------+-----------------+------------+-----+----------+------------------+-----------------+------------------+\n",
            "\n"
          ]
        }
      ]
    },
    {
      "cell_type": "code",
      "source": [
        "(\n",
        "    no_outliers\n",
        "    .select(features)\n",
        "    .groupBy('Cylinders')\n",
        "    .agg(*[\n",
        "          fn.count('*').alias('Count')\n",
        "        , fn.mean('FuelEconomy').alias('MPG_avg')\n",
        "        , fn.mean('Displacement').alias('Disp_avg')\n",
        "        , fn.stddev('FuelEconomy').alias('MPG_stdev')\n",
        "        , fn.stddev('Displacement').alias('Disp_stdev')\n",
        "    ])\n",
        "    .orderBy('Cylinders')\n",
        ").show()"
      ],
      "metadata": {
        "colab": {
          "base_uri": "https://localhost:8080/"
        },
        "id": "HR9gwr9iTDfO",
        "outputId": "3f974b63-773d-4296-b040-7b80347b4ce6"
      },
      "execution_count": null,
      "outputs": [
        {
          "output_type": "stream",
          "name": "stdout",
          "text": [
            "+---------+-----+------------------+--------+------------------+-------------------+\n",
            "|Cylinders|Count|           MPG_avg|Disp_avg|         MPG_stdev|         Disp_stdev|\n",
            "+---------+-----+------------------+--------+------------------+-------------------+\n",
            "|        3|    1| 8.974491029015983|     2.0|              NULL|               NULL|\n",
            "|        4|    4|21.241497009671995|   2.125| 6.413009924998989|               0.25|\n",
            "|        5|    1|16.666666666666668|     2.7|              NULL|               NULL|\n",
            "|        6|    5|              22.4|    3.18|1.5165750888103107|0.26832815729997495|\n",
            "|        8|    4|             18.75|     5.0|               1.5| 0.5477225575051655|\n",
            "|       12|    1|              16.0|     6.0|              NULL|               NULL|\n",
            "+---------+-----+------------------+--------+------------------+-------------------+\n",
            "\n"
          ]
        }
      ]
    },
    {
      "cell_type": "markdown",
      "source": [
        "Computing Correlation:\n"
      ],
      "metadata": {
        "id": "BhvDOvYcTHTk"
      }
    },
    {
      "cell_type": "code",
      "source": [
        "(\n",
        "    no_outliers\n",
        "    .corr('Cylinders', 'Displacement')\n",
        ")"
      ],
      "metadata": {
        "colab": {
          "base_uri": "https://localhost:8080/"
        },
        "id": "ldz1CS3kShrz",
        "outputId": "1737f9d0-5a37-46d1-962c-f1f504d50262"
      },
      "execution_count": null,
      "outputs": [
        {
          "output_type": "execute_result",
          "data": {
            "text/plain": [
              "0.9381829964408112"
            ]
          },
          "metadata": {},
          "execution_count": 59
        }
      ]
    },
    {
      "cell_type": "code",
      "source": [
        "n_features = len(features)\n",
        "\n",
        "corr = []\n",
        "\n",
        "for i in range(0, n_features):\n",
        "    temp = [None] * i\n",
        "\n",
        "    for j in range(i, n_features):\n",
        "        temp.append(no_outliers.corr(features[i], features[j]))\n",
        "    corr.append([features[i]] + temp)\n",
        "\n",
        "correlations = spark.createDataFrame(corr, ['Column'] + features)\n",
        "\n",
        "correlations.show()"
      ],
      "metadata": {
        "colab": {
          "base_uri": "https://localhost:8080/"
        },
        "id": "ATloO5_NShhD",
        "outputId": "716aecce-a59f-4628-8863-25a84010e2f6"
      },
      "execution_count": null,
      "outputs": [
        {
          "output_type": "stream",
          "name": "stdout",
          "text": [
            "+------------+------------+------------------+--------------------+\n",
            "|      Column|Displacement|         Cylinders|         FuelEconomy|\n",
            "+------------+------------+------------------+--------------------+\n",
            "|Displacement|         1.0|0.9381829964408112|-0.10757908872387642|\n",
            "|   Cylinders|        NULL|               1.0|-0.04218546545035...|\n",
            "| FuelEconomy|        NULL|              NULL|                 1.0|\n",
            "+------------+------------+------------------+--------------------+\n",
            "\n"
          ]
        }
      ]
    },
    {
      "cell_type": "markdown",
      "source": [
        "# MLib and Cluster Deployment"
      ],
      "metadata": {
        "id": "SUnYA52B6oap"
      }
    },
    {
      "cell_type": "code",
      "source": [
        "from pyspark import SparkConf, SparkContext\n",
        "import os\n",
        "from pyspark.sql import SparkSession\n",
        "spark = SparkSession.builder.master(\"local\").appName(\"sparksql\").getOrCreate()\n",
        "\n",
        "#sc.stop()\n",
        "conf = SparkConf().setMaster(\"local\").setAppName(\"sparksql\")\n",
        "sc = SparkContext.getOrCreate()"
      ],
      "metadata": {
        "id": "fG8DZ_Ht6x_L"
      },
      "execution_count": null,
      "outputs": []
    },
    {
      "cell_type": "code",
      "source": [
        "flightData2015 = spark\\\n",
        ".read\\\n",
        ".option(\"inferSchema\", \"true\")\\\n",
        ".option(\"header\", \"true\")\\\n",
        ".csv(\"2015-summary.csv\")"
      ],
      "metadata": {
        "id": "9pO3jPjv7toW"
      },
      "execution_count": null,
      "outputs": []
    },
    {
      "cell_type": "code",
      "source": [
        "flightData2015.take(1)"
      ],
      "metadata": {
        "colab": {
          "base_uri": "https://localhost:8080/"
        },
        "id": "UCVUxpRW7_-L",
        "outputId": "2e60a59b-3b04-4760-9493-9cfc00bbfddb"
      },
      "execution_count": null,
      "outputs": [
        {
          "output_type": "execute_result",
          "data": {
            "text/plain": [
              "[Row(DEST_COUNTRY_NAME='United States', ORIGIN_COUNTRY_NAME='Romania', count=15)]"
            ]
          },
          "metadata": {},
          "execution_count": 37
        }
      ]
    },
    {
      "cell_type": "code",
      "source": [
        "flightData2015.createOrReplaceTempView(\"flight_data_2015\")"
      ],
      "metadata": {
        "id": "QMtNu5lC7_x5"
      },
      "execution_count": null,
      "outputs": []
    },
    {
      "cell_type": "code",
      "source": [
        "sqlWay = spark.sql(\"\"\"\n",
        "SELECT DEST_COUNTRY_NAME, count(*)\n",
        "FROM flight_data_2015\n",
        "GROUP BY DEST_COUNTRY_NAME\n",
        "\"\"\")\n",
        "\n",
        "\n",
        "dataFrameWay = flightData2015\\\n",
        ".groupBy(\"DEST_COUNTRY_NAME\")\\\n",
        ".count()\n",
        "\n",
        "sqlWay.explain()\n",
        "dataFrameWay.explain()"
      ],
      "metadata": {
        "colab": {
          "base_uri": "https://localhost:8080/"
        },
        "id": "KkZIqMyf7_kJ",
        "outputId": "23348a46-2954-40e2-9daf-a312fcbd50ff"
      },
      "execution_count": null,
      "outputs": [
        {
          "output_type": "stream",
          "name": "stdout",
          "text": [
            "== Physical Plan ==\n",
            "AdaptiveSparkPlan isFinalPlan=false\n",
            "+- HashAggregate(keys=[DEST_COUNTRY_NAME#173], functions=[count(1)])\n",
            "   +- Exchange hashpartitioning(DEST_COUNTRY_NAME#173, 200), ENSURE_REQUIREMENTS, [plan_id=841]\n",
            "      +- HashAggregate(keys=[DEST_COUNTRY_NAME#173], functions=[partial_count(1)])\n",
            "         +- FileScan csv [DEST_COUNTRY_NAME#173] Batched: false, DataFilters: [], Format: CSV, Location: InMemoryFileIndex(1 paths)[file:/content/2015-summary.csv], PartitionFilters: [], PushedFilters: [], ReadSchema: struct<DEST_COUNTRY_NAME:string>\n",
            "\n",
            "\n",
            "== Physical Plan ==\n",
            "AdaptiveSparkPlan isFinalPlan=false\n",
            "+- HashAggregate(keys=[DEST_COUNTRY_NAME#265], functions=[count(1)])\n",
            "   +- Exchange hashpartitioning(DEST_COUNTRY_NAME#265, 200), ENSURE_REQUIREMENTS, [plan_id=854]\n",
            "      +- HashAggregate(keys=[DEST_COUNTRY_NAME#265], functions=[partial_count(1)])\n",
            "         +- FileScan csv [DEST_COUNTRY_NAME#265] Batched: false, DataFilters: [], Format: CSV, Location: InMemoryFileIndex(1 paths)[file:/content/2015-summary.csv], PartitionFilters: [], PushedFilters: [], ReadSchema: struct<DEST_COUNTRY_NAME:string>\n",
            "\n",
            "\n"
          ]
        }
      ]
    },
    {
      "cell_type": "code",
      "source": [
        "sqlWay.count()"
      ],
      "metadata": {
        "colab": {
          "base_uri": "https://localhost:8080/"
        },
        "id": "legcIovq8OCC",
        "outputId": "bdb619f8-871b-492a-a81e-c0e86ef31098"
      },
      "execution_count": null,
      "outputs": [
        {
          "output_type": "execute_result",
          "data": {
            "text/plain": [
              "132"
            ]
          },
          "metadata": {},
          "execution_count": 39
        }
      ]
    },
    {
      "cell_type": "code",
      "source": [
        "dataFrameWay = flightData2015\\\n",
        ".groupBy(\"DEST_COUNTRY_NAME\")\\\n",
        ".count()\n",
        "\n",
        "dataFrameWay.take(1)"
      ],
      "metadata": {
        "colab": {
          "base_uri": "https://localhost:8080/"
        },
        "id": "JMmLLP608N5X",
        "outputId": "e95e09ee-7210-44f1-d06a-328a66aff16d"
      },
      "execution_count": null,
      "outputs": [
        {
          "output_type": "execute_result",
          "data": {
            "text/plain": [
              "[Row(DEST_COUNTRY_NAME='Anguilla', count=1)]"
            ]
          },
          "metadata": {},
          "execution_count": 40
        }
      ]
    },
    {
      "cell_type": "code",
      "source": [
        "from pyspark.sql.functions import desc\n",
        "flightData2015\\\n",
        ".groupBy(\"DEST_COUNTRY_NAME\")\\\n",
        ".sum(\"count\")\\\n",
        ".withColumnRenamed(\"sum(count)\", \"destination_total\")\\\n",
        ".sort(desc(\"destination_total\"))\\\n",
        ".limit(5)\\\n",
        ".take(5)"
      ],
      "metadata": {
        "colab": {
          "base_uri": "https://localhost:8080/"
        },
        "id": "S-0d21si8Nwl",
        "outputId": "4ca60fd3-3302-4922-f1fa-3deb9e58618e"
      },
      "execution_count": null,
      "outputs": [
        {
          "output_type": "execute_result",
          "data": {
            "text/plain": [
              "[Row(DEST_COUNTRY_NAME='United States', destination_total=411352),\n",
              " Row(DEST_COUNTRY_NAME='Canada', destination_total=8399),\n",
              " Row(DEST_COUNTRY_NAME='Mexico', destination_total=7140),\n",
              " Row(DEST_COUNTRY_NAME='United Kingdom', destination_total=2025),\n",
              " Row(DEST_COUNTRY_NAME='Japan', destination_total=1548)]"
            ]
          },
          "metadata": {},
          "execution_count": 41
        }
      ]
    },
    {
      "cell_type": "code",
      "source": [
        "sqlWay = spark.sql(\"\"\"\n",
        "CREATE TABLE flights_11_new (\n",
        "DEST_COUNTRY_NAME STRING,\n",
        "ORIGIN_COUNTRY_NAME STRING,\n",
        "count LONG)\n",
        "USING JSON OPTIONS (path '2015-summary.json')\n",
        "\"\"\"\n",
        ")"
      ],
      "metadata": {
        "id": "67YZ_ATr8gfu"
      },
      "execution_count": null,
      "outputs": []
    },
    {
      "cell_type": "code",
      "source": [
        "sqlWay.createGlobalTempView('flights_11_new')\n"
      ],
      "metadata": {
        "id": "7KS8Elgz8gYG"
      },
      "execution_count": null,
      "outputs": []
    },
    {
      "cell_type": "code",
      "source": [
        "sqlWay=spark.sql(\"\"\"\n",
        "    SELECT * FROM flights_11_new\n",
        "    \"\"\")\n",
        "sqlWay.show()"
      ],
      "metadata": {
        "colab": {
          "base_uri": "https://localhost:8080/"
        },
        "collapsed": true,
        "id": "gGpaIA2R8gNC",
        "outputId": "8d162133-1b0f-4694-9033-a82e7b97a1d8"
      },
      "execution_count": null,
      "outputs": [
        {
          "output_type": "stream",
          "name": "stdout",
          "text": [
            "+-----------------+-------------------+-----+\n",
            "|DEST_COUNTRY_NAME|ORIGIN_COUNTRY_NAME|count|\n",
            "+-----------------+-------------------+-----+\n",
            "+-----------------+-------------------+-----+\n",
            "\n"
          ]
        }
      ]
    },
    {
      "cell_type": "code",
      "source": [
        "countsql=spark.sql(\"SELECT * FROM flights_2_new WHERE count BETWEEN 40 AND 100\")\n",
        "countsql.show()"
      ],
      "metadata": {
        "colab": {
          "base_uri": "https://localhost:8080/"
        },
        "collapsed": true,
        "id": "Lr8SlWd-8gAD",
        "outputId": "4861ca3f-873b-4ca3-9117-edcb0b70f4ca"
      },
      "execution_count": null,
      "outputs": [
        {
          "output_type": "stream",
          "name": "stdout",
          "text": [
            "+-----------------+-------------------+-----+\n",
            "|DEST_COUNTRY_NAME|ORIGIN_COUNTRY_NAME|count|\n",
            "+-----------------+-------------------+-----+\n",
            "+-----------------+-------------------+-----+\n",
            "\n"
          ]
        }
      ]
    },
    {
      "cell_type": "code",
      "source": [
        "dataFrameWay.write.bucketBy(42, \"DEST_COUNTRY_NAME\").sortBy(\"count\").saveAsTable(\"flight_in_table_22\")"
      ],
      "metadata": {
        "id": "rIH2FNlW-RTJ"
      },
      "execution_count": null,
      "outputs": []
    },
    {
      "cell_type": "code",
      "source": [
        "tabsqlWay = spark.sql(\"\"\"\n",
        "SELECT *\n",
        "FROM flight_in_table_22\n",
        "\"\"\")\n",
        "tabsqlWay.show()"
      ],
      "metadata": {
        "colab": {
          "base_uri": "https://localhost:8080/"
        },
        "id": "oGbDBCb0-T5C",
        "outputId": "dd52304d-8697-45fd-bdf6-d34fdc3c6d85"
      },
      "execution_count": null,
      "outputs": [
        {
          "output_type": "stream",
          "name": "stdout",
          "text": [
            "+--------------------+-----+\n",
            "|   DEST_COUNTRY_NAME|count|\n",
            "+--------------------+-----+\n",
            "|Saint Vincent and...|    1|\n",
            "|Turks and Caicos ...|    1|\n",
            "|            Dominica|    1|\n",
            "|               Ghana|    1|\n",
            "|          Martinique|    1|\n",
            "|Federated States ...|    1|\n",
            "|            Bulgaria|    1|\n",
            "|              Taiwan|    1|\n",
            "|       Cote d'Ivoire|    1|\n",
            "| Trinidad and Tobago|    1|\n",
            "|              Poland|    1|\n",
            "|            Pakistan|    1|\n",
            "|            Paraguay|    1|\n",
            "|              France|    1|\n",
            "|             Algeria|    1|\n",
            "|    Saint Barthelemy|    1|\n",
            "|            Ethiopia|    1|\n",
            "|        Burkina Faso|    1|\n",
            "|             Bahrain|    1|\n",
            "|               Italy|    1|\n",
            "+--------------------+-----+\n",
            "only showing top 20 rows\n",
            "\n"
          ]
        }
      ]
    },
    {
      "cell_type": "code",
      "source": [],
      "metadata": {
        "id": "CMW6wRb7-X8d"
      },
      "execution_count": null,
      "outputs": []
    }
  ]
}