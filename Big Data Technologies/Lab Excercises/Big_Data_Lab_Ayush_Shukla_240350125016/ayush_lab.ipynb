{
  "cells": [
    {
      "cell_type": "code",
      "execution_count": null,
      "metadata": {
        "id": "L1RGshPOq2Ej"
      },
      "outputs": [],
      "source": [
        ""
      ]
    },
    {
      "cell_type": "markdown",
      "metadata": {
        "id": "4grg5QBPq2Ek"
      },
      "source": [
        "# Creating RDDs"
      ]
    },
    {
      "cell_type": "code",
      "execution_count": null,
      "metadata": {
        "id": "imy3QZ2kq2Em"
      },
      "outputs": [],
      "source": [
        "#os.getenv('PYSPARK_SUBMIT_ARGS')"
      ]
    },
    {
      "cell_type": "code",
      "execution_count": null,
      "metadata": {
        "id": "Or9GSeBFq2Eo",
        "outputId": "ea74dd6c-5d02-4bcc-c6e5-9b8239c067bb"
      },
      "outputs": [
        {
          "name": "stderr",
          "output_type": "stream",
          "text": [
            "24/07/04 14:45:21 WARN Utils: Your hostname, Akashs-MacBook-Air-2.local resolves to a loopback address: 127.0.0.1; using 192.168.55.206 instead (on interface en0)\n",
            "24/07/04 14:45:21 WARN Utils: Set SPARK_LOCAL_IP if you need to bind to another address\n",
            "Setting default log level to \"WARN\".\n",
            "To adjust logging level use sc.setLogLevel(newLevel). For SparkR, use setLogLevel(newLevel).\n",
            "24/07/04 14:45:23 WARN NativeCodeLoader: Unable to load native-hadoop library for your platform... using builtin-java classes where applicable\n"
          ]
        }
      ],
      "source": [
        "import os\n",
        "#This line is meant to set the JAVA_HOME environment variable to the path of Java version 1.8. This is necessary because Spark requires Java, and you need to ensure the correct version of Java is used.\n",
        "#The ! before the command indicates that this line is a shell command being run from within the Python script.\n",
        "!export JAVA_HOME=$(/usr/libexec/java_home -v 1.8)\n",
        "#SparkConf is used to configure the Spark application.\n",
        "#SparkContext is the entry point to any Spark functionality. It's needed to create RDDs (Resilient Distributed Datasets) and to execute operations.\n",
        "from pyspark import SparkConf, SparkContext\n",
        "\n",
        "#os.environ['PYSPARK_PYTHON'] = '/Library/Frameworks/Python.framework/Versions/3.6/bin/python3'\n",
        "#os.environ['PYSPARK_PYTHON'] = '/usr/local/bin/python3'\n",
        "os.environ['PYSPARK_PYTHON'] = '/usr/local/Cellar/python@3.10/3.10.9/bin/python3'\n",
        "#os.environ['PYSPARK_DRIVER_PYTHON'] = '/usr/local/bin/python3'\n",
        "\n",
        "#SparkSession is the entry point to programming with the Spark SQL module, and it allows you to work with DataFrames and SQL queries.\n",
        "#master(\"local\") indicates that the Spark application will run locally on your machine, using one thread.\n",
        "#appName(\"rdd_demo\") sets the name of your Spark application to \"rdd_demo\".\n",
        "#getOrCreate() either retrieves an existing Spark session or creates a new one.\n",
        "\n",
        "from pyspark.sql import SparkSession\n",
        "spark = SparkSession.builder.master(\"local\").appName(\"rdd_demo\").getOrCreate()\n",
        "#spark = SparkSession.builder.master(\"local[1]\").appName(\"rdd_demo\").getOrCreate()\n",
        "#spark = SparkSession.builder.master(\"local\").config(\"spark.driver.bindAddress\", \"127.0.0.1\").appName(\"rdd_demo\").getOrCreate()\n",
        "#spark = SparkSession.builder.master(\"local\").config(\"spark.ui.port\", \"4041\").appName(\"rdd_demo\").getOrCreate()\n",
        "#spark = SparkSession.builder.master(\"local\").config(\"spark.ui.reverseProxy\", \"true\").appName(\"rdd_demo\").getOrCreate()\n",
        "\n",
        "\n",
        "#sc.stop()\n",
        "#SparkConf() is used to configure the SparkContext. In this case, it's set to run locally with the application name \"MinTemperatures\".\n",
        "#SparkContext.getOrCreate() either retrieves an existing SparkContext or creates a new one.\n",
        "conf = SparkConf().setMaster(\"local\").setAppName(\"MinTemperatures\")\n",
        "sc = SparkContext.getOrCreate()"
      ]
    },
    {
      "cell_type": "code",
      "execution_count": null,
      "metadata": {
        "id": "nAxH0yqDq2Eq",
        "outputId": "d9e88f8f-c7d7-4712-9994-ce099e89fdd5"
      },
      "outputs": [
        {
          "data": {
            "text/html": [
              "\n",
              "            <div>\n",
              "                <p><b>SparkSession - in-memory</b></p>\n",
              "                \n",
              "        <div>\n",
              "            <p><b>SparkContext</b></p>\n",
              "\n",
              "            <p><a href=\"http://192.168.55.206:4040\">Spark UI</a></p>\n",
              "\n",
              "            <dl>\n",
              "              <dt>Version</dt>\n",
              "                <dd><code>v3.5.0</code></dd>\n",
              "              <dt>Master</dt>\n",
              "                <dd><code>local</code></dd>\n",
              "              <dt>AppName</dt>\n",
              "                <dd><code>rdd_demo</code></dd>\n",
              "            </dl>\n",
              "        </div>\n",
              "        \n",
              "            </div>\n",
              "        "
            ],
            "text/plain": [
              "<pyspark.sql.session.SparkSession at 0x117ed6bf0>"
            ]
          },
          "execution_count": 2,
          "metadata": {},
          "output_type": "execute_result"
        }
      ],
      "source": [
        "spark"
      ]
    },
    {
      "cell_type": "code",
      "execution_count": null,
      "metadata": {
        "id": "cLvzH4AMq2Er"
      },
      "outputs": [],
      "source": [
        "# 1. flightData2015 = spark\\\n",
        "# This starts the process of reading data into a DataFrame. The spark object refers to the SparkSession created earlier.\n",
        "# flightData2015 is the variable that will hold the resulting DataFrame.\n",
        "# 2. .read\\\n",
        "# This accesses the DataFrameReader object, which is used to read data into a DataFrame. It allows you to specify various options related to the format, schema, and source of the data.\n",
        "# 3. .option(\"inferSchema\", \"false\")\\\n",
        "# The .option() method allows you to set specific options for how Spark reads the data.\n",
        "# \"inferSchema\", \"false\" specifies that Spark should not automatically infer the schema of the data. Instead, it will treat all columns as strings (text) unless a schema is provided.\n",
        "# If \"inferSchema\" were set to \"true\", Spark would try to infer the data types of each column based on the data.\n",
        "# 4. .option(\"header\", \"true\")\\\n",
        "# This option indicates that the first row of the CSV file contains the column names (headers).\n",
        "# If \"header\" were set to \"false\", Spark would treat the first row as regular data instead of column headers.\n",
        "# 5. .csv(\"/Users/aakash/Downloads/spark-code/data/flight-data/csv/2015-summary.csv\")\n",
        "# This line specifies the path to the CSV file that you want to read into the DataFrame.\n",
        "# The csv() method is used to read a CSV file into a DataFrame.\n",
        "flightData2015 = spark\\\n",
        "  .read\\\n",
        "  .option(\"inferSchema\", \"false\")\\\n",
        "  .option(\"header\", \"true\")\\\n",
        "  .csv(\"/Users/aakash/Downloads/spark-code/data/flight-data/csv/2015-summary.csv\")"
      ]
    },
    {
      "cell_type": "code",
      "execution_count": null,
      "metadata": {
        "id": "PHJ8vSHNq2Er",
        "outputId": "f9e63bb0-5875-4ab2-a312-07a86cc94a34"
      },
      "outputs": [
        {
          "name": "stdout",
          "output_type": "stream",
          "text": [
            "DataFrame[DEST_COUNTRY_NAME: string, ORIGIN_COUNTRY_NAME: string, count: string]\n"
          ]
        }
      ],
      "source": [
        "print(flightData2015)"
      ]
    },
    {
      "cell_type": "code",
      "execution_count": null,
      "metadata": {
        "id": "o8HA9tieq2Er",
        "outputId": "583abe7f-f022-40c4-c452-523e6d9a1f01"
      },
      "outputs": [
        {
          "data": {
            "text/plain": [
              "DataFrame[DEST_COUNTRY_NAME: string, ORIGIN_COUNTRY_NAME: string, count: string]"
            ]
          },
          "execution_count": 7,
          "metadata": {},
          "output_type": "execute_result"
        }
      ],
      "source": [
        "flightData2015"
      ]
    },
    {
      "cell_type": "code",
      "execution_count": null,
      "metadata": {
        "id": "KnG3QNgmq2Es",
        "outputId": "00653f30-9797-43f9-f422-3696c2a3b24f"
      },
      "outputs": [
        {
          "data": {
            "text/plain": [
              "pyspark.sql.dataframe.DataFrame"
            ]
          },
          "execution_count": 8,
          "metadata": {},
          "output_type": "execute_result"
        }
      ],
      "source": [
        "type(flightData2015)"
      ]
    },
    {
      "cell_type": "code",
      "execution_count": null,
      "metadata": {
        "id": "j7RXISLVq2Es",
        "outputId": "62542b20-dfd3-4390-9f8d-32d21ca84f52"
      },
      "outputs": [
        {
          "name": "stdout",
          "output_type": "stream",
          "text": [
            "<class 'pyspark.rdd.RDD'>\n"
          ]
        },
        {
          "name": "stderr",
          "output_type": "stream",
          "text": [
            "                                                                                \r"
          ]
        },
        {
          "name": "stdout",
          "output_type": "stream",
          "text": [
            "[Row(dest='United States', source='Romania', count='15')]\n",
            "256\n"
          ]
        }
      ],
      "source": [
        "##### read using datasource API\n"
      ]
    },
    {
      "cell_type": "code",
      "execution_count": null,
      "metadata": {
        "id": "ZOj-dR3sq2Es",
        "outputId": "9543e3a7-7c00-43d3-ed19-f2e504ef684d"
      },
      "outputs": [
        {
          "name": "stdout",
          "output_type": "stream",
          "text": [
            "<class 'pyspark.rdd.RDD'>\n",
            "['DEST_COUNTRY_NAME,ORIGIN_COUNTRY_NAME,count', 'United States,Romania,15']\n"
          ]
        }
      ],
      "source": [
        "##### read using sparkcontext\n",
        "# 1. spth=\"/Users/aakash/Downloads/spark-code/data/flight-data/csv/2015-summary.csv\"\n",
        "# This line defines a string variable spth that holds the path to the CSV file you want to read.\n",
        "# 2. sc_flightData2015 = spark.sparkContext.textFile(spth)\n",
        "# This line reads the CSV file into an RDD (Resilient Distributed Dataset) using the SparkContext's textFile method.\n",
        "# spark.sparkContext gives you access to the SparkContext from the SparkSession.\n",
        "# The textFile(spth) method reads the file specified by spth into an RDD. Each line of the file becomes a single element in the RDD.\n",
        "# 3. print(type(sc_flightData2015))\n",
        "# This prints the type of sc_flightData2015.\n",
        "# Since sc_flightData2015 is an RDD, the output will be <class 'pyspark.rdd.RDD'>, indicating that the data is stored as an RDD.\n",
        "# 4. print(sc_flightData2015.take(2))\n",
        "# The take(2) method retrieves the first 2 elements (lines) of the RDD sc_flightData2015 and returns them as a list.\n",
        "# print(sc_flightData2015.take(2)) will print the first 2 lines of the CSV file as strings in a list.\n",
        "spth=\"/Users/aakash/Downloads/spark-code/data/flight-data/csv/2015-summary.csv\"\n",
        "sc_flightData2015=spark.sparkContext.textFile(spth)\n",
        "print(type(sc_flightData2015))\n",
        "print(sc_flightData2015.take(2))"
      ]
    },
    {
      "cell_type": "code",
      "execution_count": null,
      "metadata": {
        "scrolled": true,
        "id": "PN3TMITdq2Et",
        "outputId": "a8061330-0fec-4c46-8138-423b8bbf8228"
      },
      "outputs": [
        {
          "name": "stdout",
          "output_type": "stream",
          "text": [
            "<class 'pandas.core.frame.DataFrame'>\n",
            "  DEST_COUNTRY_NAME ORIGIN_COUNTRY_NAME  count\n",
            "0     United States             Romania     15\n",
            "1     United States             Croatia      1\n",
            "2     United States             Ireland    344\n",
            "3             Egypt       United States     15\n",
            "4     United States               India     62\n",
            "<class 'pyspark.rdd.RDD'>\n",
            "[Row(DEST_COUNTRY_NAME='United States', ORIGIN_COUNTRY_NAME='Romania', count=15)]\n"
          ]
        }
      ],
      "source": [
        "##### convert pandas file to RDD\n",
        "#The pandas library is imported with the alias pd. Pandas is a powerful library for data manipulation and analysis in Python.\n",
        "import pandas as pd\n",
        "#The variable spth holds the path to the CSV file that you want to read.\n",
        "spth=\"/Users/aakash/Downloads/spark-code/data/flight-data/csv/2015-summary.csv\"\n",
        "#pd.read_csv(spth, header=0) reads the CSV file at the specified path into a Pandas DataFrame named pd_flightData2015.\n",
        "header=0 tells Pandas to use the first row of the CSV file as the column names.\n",
        "#This prints the type of pd_flightData2015, which will be <class 'pandas.core.frame.DataFrame'> because it is a Pandas DataFrame.\n",
        "pd_flightData2015=pd.read_csv(spth, header=0)\n",
        "#pd_flightData2015.head() returns the first five rows of the DataFrame, providing a quick look at the data.\n",
        "print(type(pd_flightData2015))\n",
        "#spark.createDataFrame(pd_flightData2015) converts the Pandas DataFrame pd_flightData2015 into a Spark DataFrame.\n",
        ".rdd converts the resulting Spark DataFrame into an RDD, which is assigned back to pd_flightData2015.\n",
        "#This prints the type of pd_flightData2015, which will now be <class 'pyspark.rdd.RDD'>, indicating that it has been converted into an RDD.\n",
        "print(pd_flightData2015.head())\n",
        "#pd_flightData2015.take(1) retrieves the first element from the RDD and prints it. The output will be a list containing the first row of the data, represented as a tuple.\n",
        "pd_flightData2015=spark.createDataFrame(pd_flightData2015).rdd\n",
        "print(type(pd_flightData2015))\n",
        "print(pd_flightData2015.take(1))"
      ]
    },
    {
      "cell_type": "code",
      "execution_count": null,
      "metadata": {
        "id": "saU0V5X2q2Et",
        "outputId": "a35ed281-03b8-4728-f41d-2abf8226f786"
      },
      "outputs": [
        {
          "data": {
            "text/plain": [
              "['Spark',\n",
              " 'The',\n",
              " 'Definitive',\n",
              " 'Guide',\n",
              " ':',\n",
              " 'Big',\n",
              " 'Data',\n",
              " 'Processing',\n",
              " 'Made',\n",
              " 'Simple']"
            ]
          },
          "execution_count": 7,
          "metadata": {},
          "output_type": "execute_result"
        }
      ],
      "source": [
        "#The string \"Spark The Definitive Guide : Big Data Processing Made Simple\" is a sentence.\n",
        "# .split(\" \") splits this string into a list of words based on spaces as the delimiter.\n",
        "# myCollection becomes a list of words: ['Spark', 'The', 'Definitive', 'Guide', ':', 'Big', 'Data', 'Processing', 'Made', 'Simple'].\n",
        "myCollection = \"Spark The Definitive Guide : Big Data Processing Made Simple\"\\\n",
        "  .split(\" \")\n",
        "#   spark.sparkContext.parallelize(myCollection, 2) creates an RDD from the list myCollection.\n",
        "# parallelize() is a method used to distribute the elements of the list across a specified number of partitions.\n",
        "# The second argument 2 specifies the number of partitions to divide the data into. In this case, the RDD will be split into 2 partitions.\n",
        "words = spark.sparkContext.parallelize(myCollection, 2)\n",
        "# words.take(10) retrieves the first 10 elements of the RDD and returns them as a list.\n",
        "# Since the original list myCollection has 10 elements, this will return the entire list: ['Spark', 'The', 'Definitive', 'Guide', ':', 'Big', 'Data', 'Processing', 'Made', 'Simple'].\n",
        "words.take(10)"
      ]
    },
    {
      "cell_type": "code",
      "execution_count": null,
      "metadata": {
        "id": "063HZHQ7q2Et",
        "outputId": "2fc75fa2-59a3-470d-90e0-036ab1faa284"
      },
      "outputs": [
        {
          "name": "stdout",
          "output_type": "stream",
          "text": [
            "myWords\n",
            "<class 'pyspark.rdd.RDD'>\n",
            "['Spark', 'The', 'Definitive', 'Guide', ':']\n"
          ]
        },
        {
          "data": {
            "text/plain": [
              "2"
            ]
          },
          "execution_count": 8,
          "metadata": {},
          "output_type": "execute_result"
        }
      ],
      "source": [
        "##### from a collection of text\n",
        "# The string \"Spark The Definitive Guide : Big Data Processing Made Simple\" is split into a list of words based on spaces.\n",
        "# myCollection becomes a list: ['Spark', 'The', 'Definitive', 'Guide', ':', 'Big', 'Data', 'Processing', 'Made', 'Simple'].\n",
        "myCollection = \"Spark The Definitive Guide : Big Data Processing Made Simple\"\\\n",
        "  .split(\" \")\n",
        "# spark.sparkContext.parallelize(myCollection, 2) creates an RDD from the myCollection list.\n",
        "# The second argument 2 specifies that the RDD should be split into 2 partitions, enabling parallel processing.\n",
        "words = spark.sparkContext.parallelize(myCollection, 2)\n",
        "# setName(\"myWords\") assigns the name \"myWords\" to the words RDD.\n",
        "# Naming an RDD can be helpful for debugging and understanding the lineage of RDDs when viewing the Spark UI or logs.\n",
        "words.setName(\"myWords\")\n",
        "print(words.name()) # myWords\n",
        "print(type(words))\n",
        "print(words.take(5))\n",
        "# words.getNumPartitions() returns the number of partitions in the RDD.\n",
        "# Since the RDD was created with 2 partitions, this method will return 2\n",
        "words.getNumPartitions()"
      ]
    },
    {
      "cell_type": "code",
      "execution_count": null,
      "metadata": {
        "id": "9IP1FHBAq2Eu",
        "outputId": "d7e557a3-a689-4f17-d5e6-4a8d0c8b2a0e"
      },
      "outputs": [
        {
          "name": "stdout",
          "output_type": "stream",
          "text": [
            "[0, 1, 2, 3, 4]\n",
            "<class 'pyspark.rdd.PipelinedRDD'>\n"
          ]
        },
        {
          "data": {
            "text/plain": [
              "1"
            ]
          },
          "execution_count": 8,
          "metadata": {},
          "output_type": "execute_result"
        }
      ],
      "source": [
        "### from a range of numbers\n",
        "myRange = spark.range(1000000000000).toDF(\"number\").rdd.map(lambda row: row[0])\n",
        "#myRange = spark.range(1000).toDF(\"number\")\n",
        "print(myRange.take(5))\n",
        "print(type(myRange))\n",
        "myRange.getNumPartitions()"
      ]
    },
    {
      "cell_type": "markdown",
      "metadata": {
        "id": "v2YuMwAaq2Eu"
      },
      "source": [
        "# filtering"
      ]
    },
    {
      "cell_type": "code",
      "execution_count": 1,
      "metadata": {
        "id": "j8IXVbC8q2Eu"
      },
      "outputs": [],
      "source": [
        "# date = fields[0] assigns the first element of the list (fields[0]) to the variable date. In the example, this would be '2023-08-11'.\n",
        "# p_open = fields[1] assigns the second element of the list (fields[1]) to the variable p_open, representing the opening price. In the example, this would be '100.5'.\n",
        "# p_close = fields[5] assigns the sixth element of the list (fields[5]) to the variable p_close, representing the closing price. In the example, this would be '101.0'.\n",
        "def parseLine(line):\n",
        "    fields = line.split(',')\n",
        "    date = fields[0]\n",
        "    p_open = fields[1]\n",
        "    p_close = fields[5]\n",
        "    return (date, p_open, p_close)"
      ]
    },
    {
      "cell_type": "code",
      "execution_count": null,
      "metadata": {
        "id": "s1N352hYq2Eu",
        "outputId": "afb31d35-5a13-4573-eca6-45b0dceb692e"
      },
      "outputs": [
        {
          "data": {
            "text/plain": [
              "[('Date', 'Open', 'Close'), ('2022-01-01', '100', '10000')]"
            ]
          },
          "execution_count": 10,
          "metadata": {},
          "output_type": "execute_result"
        }
      ],
      "source": [
        "spth=\"/Users/aakash/Downloads/spark-code/data/RELIANCE.csv\"\n",
        "sdt=spark.sparkContext.textFile(spth)\n",
        "sdt=sdt.map(parseLine)\n",
        "sdt.take(2)"
      ]
    },
    {
      "cell_type": "code",
      "execution_count": null,
      "metadata": {
        "id": "7t65nlH9q2Eu",
        "outputId": "70d1c6f6-9448-4498-e776-1500200e3544"
      },
      "outputs": [
        {
          "name": "stderr",
          "output_type": "stream",
          "text": [
            "\r",
            "[Stage 10:>                                                         (0 + 1) / 1]\r",
            "\r",
            "                                                                                \r"
          ]
        },
        {
          "name": "stdout",
          "output_type": "stream",
          "text": [
            "5\n",
            "<class 'pyspark.rdd.PipelinedRDD'>\n",
            "[(datetime.date(2022, 1, 1), 100, 10000), (datetime.date(2022, 1, 2), 200, 20000)]\n",
            "[(datetime.date(2022, 1, 1), 100, 10000), (datetime.date(2022, 1, 2), 200, 20000), (datetime.date(2022, 1, 3), 300, 30000), (datetime.date(2022, 1, 4), 400, 40000), (datetime.date(2022, 1, 5), 500, 50000)]\n",
            "<class 'pyspark.rdd.PipelinedRDD'>\n",
            "5\n"
          ]
        }
      ],
      "source": [
        "spth=\"/Users/aakash/Downloads/spark-code/data/RELIANCE.csv\"\n",
        "# spark.read.format(\"CSV\") specifies that the data format is CSV.\n",
        "# .option(\"header\", \"true\") tells Spark that the first row of the CSV file contains headers (column names).\n",
        "# .option(\"inferSchema\", \"true\") enables automatic inference of the data types for each column.\n",
        "# .load(spth) loads the data from the specified file path into a DataFrame o_sdt.\n",
        "o_sdt = spark.read.format(\"CSV\").option(\"header\",\"true\").option(\"inferSchema\", \"true\") \\\n",
        "    .load(spth)\n",
        "\n",
        "#     .toDF(\"Date\", \"Open\", \"High\", \"Low\", \"Last\", \"Close\", \"Volume\", \"Turnover\") renames the columns of the DataFrame with the specified names.\n",
        "# .rdd converts the DataFrame into an RDD.\n",
        "# .map(lambda row: (row[0], row[1], row[5])) transforms each row of the RDD. It creates a new RDD where each row is a tuple containing only the Date, Open, and Close columns (corresponding to row[0], row[1], and row[5] respectively).\n",
        "o_sdt=o_sdt.toDF(\"Date\",\"Open\",\"High\",\"Low\",\"Last\",\"Close\",\"Volume\",\"Turnover\").rdd \\\n",
        "    .map(lambda row: (row[0], row[1], row[5]))\n",
        "\n",
        "  #o_sdt.count() counts the number of rows (tuples) in the RDD and prints the result\n",
        "print(o_sdt.count())\n",
        "print(type(o_sdt))\n",
        "#print(type(o_sdt)) outputs the type of o_sdt, which is <class 'pyspark.rdd.RDD'> since it was converted to an RDD.\n",
        "print(o_sdt.take(2))\n",
        "\n",
        "#.filter(lambda row: row[2] > row[1]) filters the RDD to include only rows where the Close price (row[2]) is greater than the Open price (row[1]).\n",
        "#The filtered RDD is then stored back in o_sdt.\n",
        "o_sdt=o_sdt.filter(lambda row: row[2] > row[1])\n",
        "print(o_sdt.take(5))\n",
        "print(type(o_sdt))\n",
        "print(o_sdt.count())"
      ]
    },
    {
      "cell_type": "markdown",
      "metadata": {
        "id": "Ra6BkPhWq2Eu"
      },
      "source": [
        "## filter function"
      ]
    },
    {
      "cell_type": "code",
      "execution_count": null,
      "metadata": {
        "id": "j5w3MwQsq2Ev"
      },
      "outputs": [],
      "source": [
        "def HighClose(row):\n",
        "    ## Discuss\n",
        "    if row[2] > row[1]:\n",
        "        return(row)"
      ]
    },
    {
      "cell_type": "markdown",
      "metadata": {
        "id": "vyRwKw51q2Ev"
      },
      "source": [
        "Notice anything in output below?"
      ]
    },
    {
      "cell_type": "code",
      "execution_count": null,
      "metadata": {
        "id": "6sJJ2z0-q2Ev",
        "outputId": "52e7d0bb-0db9-46dd-b094-75952e2af013"
      },
      "outputs": [
        {
          "name": "stdout",
          "output_type": "stream",
          "text": [
            "5\n",
            "[('2022-01-01', '100', '10000'), ('2022-01-02', '200', '20000'), ('2022-01-03', '300', '30000'), ('2022-01-04', '400', '40000'), ('2022-01-05', '500', '50000')]\n",
            "<class 'pyspark.rdd.PipelinedRDD'>\n",
            "5\n"
          ]
        }
      ],
      "source": [
        "# spark.read.format(\"CSV\"): Specifies that the file format is CSV.\n",
        "# .option(\"header\", \"true\"): Indicates that the first row of the CSV file contains the header (column names).\n",
        "# .load(spth): Loads the data from the specified file path spth into a DataFrame o_sdt.\n",
        "o_sdt = spark.read.format(\"CSV\").option(\"header\",\"true\").load(spth)\n",
        "# .toDF(\"Date\", \"Open\", \"High\", \"Low\", \"Last\", \"Close\", \"Volume\", \"Turnover\"): Renames the columns of the DataFrame.\n",
        "# .rdd: Converts the DataFrame into an RDD.\n",
        "# .map(lambda row: (row[0], row[1], row[5])): Transforms each row of the RDD into a tuple containing only the Date, Open, and Close columns (corresponding to row[0], row[1], and row[5]).\n",
        "o_sdt=o_sdt.toDF(\"Date\",\"Open\",\"High\",\"Low\",\"Last\",\"Close\",\"Volume\",\"Turnover\").rdd.map(lambda row: (row[0], row[1], row[5]))\n",
        "print(o_sdt.count())\n",
        "# .filter(lambda row: HighClose(row)): Filters the RDD using the HighClose function, which is applied to each row.\n",
        "# The HighClose function (not defined in the provided code) is expected to take a row (tuple) as input and return True or False based on some condition.\n",
        "# The RDD o_sdt is updated to only include rows where HighClose(row) returns True.\n",
        "o_sdt=o_sdt.filter(lambda row: HighClose(row))\n",
        "print(o_sdt.take(5))\n",
        "print(type(o_sdt))\n",
        "print(o_sdt.count())"
      ]
    },
    {
      "cell_type": "markdown",
      "metadata": {
        "id": "AqlU_dhgq2Ev"
      },
      "source": [
        "How about now?"
      ]
    },
    {
      "cell_type": "code",
      "execution_count": null,
      "metadata": {
        "id": "F_bUT7Vcq2Ev"
      },
      "outputs": [],
      "source": [
        "# spark.read.format(\"CSV\"): Specifies that the file format is CSV.\n",
        "# .option(\"header\", \"true\"): Indicates that the first row of the CSV file contains the headers (column names).\n",
        "# .option(\"inferSchema\", \"true\"): Automatically infers the schema of each column, determining the data types based on the content.\n",
        "# .load(spth): Loads the data from the specified file path spth into a DataFrame o_sdt.\n",
        "o_sdt = spark.read.format(\"CSV\").option(\"header\",\"true\").option(\"inferSchema\", \"true\").load(spth)\n",
        "# .toDF(\"Date\", \"Open\", \"High\", \"Low\", \"Last\", \"Close\", \"Volume\", \"Turnover\"): Renames the columns of the DataFrame to the specified names.\n",
        "# .rdd: Converts the DataFrame into an RDD (Resilient Distributed Dataset).\n",
        "# .map(lambda row: (row[0], row[1], row[5])): Applies a transformation to each row of the RDD. It creates a new RDD where each row is a tuple containing only the Date, Open, and Close columns:\n",
        "# row[0] corresponds to the Date.\n",
        "# row[1] corresponds to the Open price.\n",
        "# row[5] corresponds to the Close price.\n",
        "o_sdt=o_sdt.toDF(\"Date\",\"Open\",\"High\",\"Low\",\"Last\",\"Close\",\"Volume\",\"Turnover\").rdd.map(lambda row: (row[0], row[1], row[5]))\n",
        "print(o_sdt.count())\n",
        "# .filter(lambda row: HighClose(row)): Filters the RDD by applying the HighClose function to each row.\n",
        "# The HighClose function (not provided in the code) is expected to take a row (tuple) as input and return True or False based on some condition.\n",
        "# Only rows where HighClose(row) returns True are retained in the RDD.\n",
        "o_sdt=o_sdt.filter(lambda row: HighClose(row))\n",
        "print(o_sdt.take(5))\n",
        "print(type(o_sdt))\n",
        "print(o_sdt.count())\n"
      ]
    },
    {
      "cell_type": "markdown",
      "metadata": {
        "id": "UTkk8h-Xq2Ev"
      },
      "source": [
        "# Maps"
      ]
    },
    {
      "cell_type": "code",
      "execution_count": null,
      "metadata": {
        "id": "XWcWiq77q2Ev"
      },
      "outputs": [],
      "source": [
        "def to_to_mill(row):\n",
        "    return (row[0], row[1], row[2], round(row[3],0))"
      ]
    },
    {
      "cell_type": "code",
      "execution_count": null,
      "metadata": {
        "id": "C75IzAqlq2Ev",
        "outputId": "1b74bc76-c62f-4ae1-d689-3eede1210e10"
      },
      "outputs": [
        {
          "name": "stdout",
          "output_type": "stream",
          "text": [
            "[(datetime.date(2022, 1, 1), 100, 10000, None), (datetime.date(2022, 1, 2), 200, 20000, None)]\n",
            "<class 'pyspark.rdd.PipelinedRDD'>\n"
          ]
        }
      ],
      "source": [
        "spth=\"/Users/aakash/Downloads/spark-code/data/RELIANCE.csv\"\n",
        "o_sdt = spark.read.format(\"CSV\").option(\"header\",\"true\").option(\"inferSchema\", \"true\").load(spth)\n",
        "o_sdt=o_sdt.toDF(\"Date\",\"Open\",\"High\",\"Low\",\"Last\",\"Close\",\"Volume\",\"Turnover\").rdd.map(lambda row: (row[0], row[1], row[5], row[7]))\n",
        "print(o_sdt.take(2))\n",
        "o_sdt=o_sdt.map(to_to_mill)\n",
        "print(type(o_sdt))"
      ]
    },
    {
      "cell_type": "markdown",
      "metadata": {
        "id": "JvVjs6mTq2Ew"
      },
      "source": [
        "# flatMap"
      ]
    },
    {
      "cell_type": "code",
      "execution_count": null,
      "metadata": {
        "id": "mDR-fGNUq2Ew"
      },
      "outputs": [],
      "source": [
        "def Func(lines):\n",
        "    lines = lines.lower()\n",
        "    lines = lines.split(\" \")\n",
        "    return lines\n",
        "\n",
        "#sc.stop()\n",
        "#conf = SparkConf().setMaster(\"local\").setAppName(\"wordcount\")\n",
        "#sc = SparkContext.getOrCreate()\n",
        "\n",
        "spth=\"/Users/aakash/Downloads/spark-code/data/sherlock_holmes.txt\"\n",
        "input_file = sc.textFile(spth)"
      ]
    },
    {
      "cell_type": "code",
      "execution_count": null,
      "metadata": {
        "id": "0WIKbAYHq2Ew",
        "outputId": "ff7fe0fd-a542-4837-a525-bb957ec37753"
      },
      "outputs": [
        {
          "name": "stdout",
          "output_type": "stream",
          "text": [
            "['A SCANDAL IN BOHEMIA']\n"
          ]
        }
      ],
      "source": [
        "print(input_file.take(1))"
      ]
    },
    {
      "cell_type": "code",
      "execution_count": null,
      "metadata": {
        "id": "YHDoEmGKq2Ew"
      },
      "outputs": [],
      "source": [
        "rdd1 = input_file.flatMap(Func)"
      ]
    },
    {
      "cell_type": "code",
      "execution_count": null,
      "metadata": {
        "id": "I_X0tldCq2Ew",
        "outputId": "1c7fb360-def7-408b-ab64-7f92243d7537"
      },
      "outputs": [
        {
          "data": {
            "text/plain": [
              "['a', 'scandal', 'in', 'bohemia', 'i.']"
            ]
          },
          "execution_count": 13,
          "metadata": {},
          "output_type": "execute_result"
        }
      ],
      "source": [
        "rdd1.take(5)"
      ]
    },
    {
      "cell_type": "code",
      "execution_count": null,
      "metadata": {
        "id": "aEz320Suq2Ew",
        "outputId": "955677c7-f874-4679-f307-9720fc13532f"
      },
      "outputs": [
        {
          "data": {
            "text/plain": [
              "[('a', 1), ('scandal', 1), ('in', 1), ('bohemia', 1), ('i.', 1)]"
            ]
          },
          "execution_count": 20,
          "metadata": {},
          "output_type": "execute_result"
        }
      ],
      "source": [
        "rdd1.map(lambda x: (x,1)).take(5)"
      ]
    },
    {
      "cell_type": "code",
      "execution_count": null,
      "metadata": {
        "id": "LxLRux9dq2Ew",
        "outputId": "093b412c-ef19-4e90-9e83-402f2bf2877c"
      },
      "outputs": [
        {
          "name": "stderr",
          "output_type": "stream",
          "text": [
            "                                                                                \r"
          ]
        },
        {
          "data": {
            "text/plain": [
              "[(556, 'the'), (321, ''), (305, 'and'), (302, 'of'), (299, 'to')]"
            ]
          },
          "execution_count": 21,
          "metadata": {},
          "output_type": "execute_result"
        }
      ],
      "source": [
        "# rdd1: This is the original RDD containing elements to be processed.\n",
        "# .map(lambda x: (x, 1)): This transformation maps each element x of rdd1 to a tuple (x, 1).\n",
        "# This essentially creates a new RDD where each element is a tuple, with the original element as the key and 1 as the value.\n",
        "# Example: If rdd1 contains [a, b, a, c], the resulting RDD will be [(a, 1), (b, 1), (a, 1), (c, 1)].\n",
        "rdd2=rdd1 \\\n",
        ".map(lambda x: (x,1)) \\\n",
        "\n",
        "# .groupByKey(): Groups the tuples by their key (i.e., the original element) and aggregates the values for each key.\n",
        "# After this step, each key (original element) will have an iterable of values associated with it. For example, [(a, [1, 1]), (b, [1]), (c, [1])].\n",
        ".groupByKey() \\\n",
        ".mapValues(sum) \\\n",
        ".map(lambda x: (x[1],x[0])) \\\n",
        ".sortByKey(False)\n",
        "\n",
        "rdd2.take(5)"
      ]
    },
    {
      "cell_type": "markdown",
      "metadata": {
        "id": "Qeef7a29q2Ex"
      },
      "source": [
        "## Reduce"
      ]
    },
    {
      "cell_type": "code",
      "execution_count": null,
      "metadata": {
        "id": "22DQcXRBq2Ex"
      },
      "outputs": [],
      "source": [
        "spark.sparkContext.parallelize(range(1,5)).reduce(lambda x, y: x+y)"
      ]
    },
    {
      "cell_type": "code",
      "execution_count": null,
      "metadata": {
        "id": "cmdjeYZFq2Ex"
      },
      "outputs": [],
      "source": [
        "Reduce works on 2 consecutive inputs\n",
        "and performs incremental operations on them\n",
        "\n",
        "Input: [1,2,3,4]\n",
        "Reduce step 1 -\n",
        "    Input: 1,2\n",
        "    Output: 1+2\n",
        "\n",
        "Reduce step 2 -\n",
        "    Input: 3\n",
        "    Output: 3+3= 6\n",
        "\n",
        "Reduce step 3 -\n",
        "    Input: 4\n",
        "    Output: 6+4 = 10"
      ]
    }
  ],
  "metadata": {
    "kernelspec": {
      "display_name": "Python 3 (ipykernel)",
      "language": "python",
      "name": "python3"
    },
    "language_info": {
      "codemirror_mode": {
        "name": "ipython",
        "version": 3
      },
      "file_extension": ".py",
      "mimetype": "text/x-python",
      "name": "python",
      "nbconvert_exporter": "python",
      "pygments_lexer": "ipython3",
      "version": "3.10.9"
    },
    "colab": {
      "provenance": []
    }
  },
  "nbformat": 4,
  "nbformat_minor": 0
}