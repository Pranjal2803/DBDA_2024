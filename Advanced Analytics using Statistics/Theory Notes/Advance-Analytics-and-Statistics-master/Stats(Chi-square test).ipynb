{
 "cells": [
  {
   "cell_type": "markdown",
   "id": "a1a9c30e-a3ce-48ee-b2a4-b597619f7172",
   "metadata": {},
   "source": [
    "#### Chi-Square Test (Non-Parametric):-"
   ]
  },
  {
   "cell_type": "markdown",
   "id": "a70ffc58-433c-4d41-9ed0-297cb7d74d97",
   "metadata": {},
   "source": [
    " Question: Hanuman Airlines (HA) operated daily flights to several Indian cities. One of the problems HA faces is the food preferences by the passengers. Captain Cook, the operations manager of HA, believes that 35% of their passengers prefer vegetarian food, 40% prefer non-vegetarian food, 20% low calorie food, and 5% request for diabetic food. A sample of 500 passengers was chosen to analyze the\n",
    "\n",
    "food preferences and the observed frequencies are as follows:\n",
    "\n",
    "1. Vegetarian: 190\n",
    "\n",
    "2. Non-vegetarian: 185\n",
    "\n",
    "3. Low-calorie: 90\n",
    "\n",
    "4. Diabetic: 35\n",
    "\n",
    "Conduct a chi-square test to check whether Captain Cook's belief is true at alpha = 0.05"
   ]
  },
  {
   "cell_type": "code",
   "execution_count": 3,
   "id": "9fc78460-3339-4112-af9d-e60616096d47",
   "metadata": {},
   "outputs": [
    {
     "name": "stdout",
     "output_type": "stream",
     "text": [
      "[175.0, 200.0, 100.0, 25.0]\n",
      "Power_divergenceResult(statistic=7.410714285714286, pvalue=0.05989751420084909)\n"
     ]
    }
   ],
   "source": [
    "from scipy.stats import power_divergence \n",
    "f_obs=[190,185,90,35]\n",
    "\n",
    "f_exp=[500*0.35,500*0.4,500*0.2,500*0.05]\n",
    "print(f_exp)\n",
    "\n",
    "result = power_divergence(f_obs, f_exp)\n",
    "print(result)"
   ]
  },
  {
   "cell_type": "code",
   "execution_count": null,
   "id": "35a46a62-d41a-4d52-bc27-942560ae7b8f",
   "metadata": {},
   "outputs": [],
   "source": []
  }
 ],
 "metadata": {
  "kernelspec": {
   "display_name": "Python 3 (ipykernel)",
   "language": "python",
   "name": "python3"
  },
  "language_info": {
   "codemirror_mode": {
    "name": "ipython",
    "version": 3
   },
   "file_extension": ".py",
   "mimetype": "text/x-python",
   "name": "python",
   "nbconvert_exporter": "python",
   "pygments_lexer": "ipython3",
   "version": "3.11.7"
  }
 },
 "nbformat": 4,
 "nbformat_minor": 5
}
