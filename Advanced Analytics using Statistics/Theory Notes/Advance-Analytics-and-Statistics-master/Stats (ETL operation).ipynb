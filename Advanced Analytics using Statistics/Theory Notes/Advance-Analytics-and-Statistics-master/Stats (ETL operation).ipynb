{
 "cells": [
  {
   "cell_type": "code",
   "execution_count": 1,
   "metadata": {
    "id": "O_jKprtLGk-h"
   },
   "outputs": [],
   "source": [
    "# Before perform any opteration in statistic we use to import  few inbuild library like pandas ,numpy ,\n",
    "# For ploting graph use seaborn  and matplotlib.pyplot library \n",
    "# importing math library for performing math operation \n",
    "# import  warnings library for ignoring  any warnings "
   ]
  },
  {
   "cell_type": "markdown",
   "metadata": {
    "id": "wYJThqOBGlly"
   },
   "source": [
    "Assignment1: Perform ETL operation on the given data\n",
    "\n"
   ]
  },
  {
   "cell_type": "code",
   "execution_count": 2,
   "metadata": {
    "colab": {
     "base_uri": "https://localhost:8080/"
    },
    "id": "aK5qVBzFHjmQ",
    "outputId": "83cc07fb-d6c9-4008-9cdc-bf6240896ce2"
   },
   "outputs": [
    {
     "data": {
      "text/plain": [
       "<pandas._config.config.option_context at 0x1c6693f70d0>"
      ]
     },
     "execution_count": 2,
     "metadata": {},
     "output_type": "execute_result"
    }
   ],
   "source": [
    "import warnings\n",
    "warnings.filterwarnings('ignore')\n",
    "# Setting precision level to 4 to show only upto 4 decimal points\n",
    "import pandas as pd\n",
    "pd.option_context('display.precision', 2)"
   ]
  },
  {
   "cell_type": "markdown",
   "metadata": {
    "id": "wj7tXayPHo99"
   },
   "source": [
    "Task1:Load both stocks data1 from the given healthdrink file"
   ]
  },
  {
   "cell_type": "code",
   "execution_count": 3,
   "metadata": {},
   "outputs": [],
   "source": [
    "# In the extract step, we're reading data from the CSV file named \"BEML.csv\" using the pd.read_csv() function from the Pandas library. \n",
    "# This function reads the data and stores it in a DataFrame named beml_df. The print(beml_df[:5]) statement displays the first 5 rows of \n",
    "# the DataFrame, giving us a glimpse of the data we've just extracted.\n",
    "\n",
    "\n",
    "# In the extract step, we're reading  second stock data from the CSV file named \"GLAXO.csv\" using the pd.read_csv() function from the Pandas library. \n",
    "# This function reads the data and stores it in a DataFrame named beml_df. The print(glaxodata.head(5)) statement displays the first 5 rows of \n",
    "# the DataFrame, giving us a glimpse of the data we've just extracted.\n"
   ]
  },
  {
   "cell_type": "code",
   "execution_count": 4,
   "metadata": {},
   "outputs": [
    {
     "name": "stdout",
     "output_type": "stream",
     "text": [
      "            Date     Open     High      Low     Last    Close  \\\n",
      "0     2010-01-04  1121.00  1151.00  1121.00  1134.00  1135.60   \n",
      "1     2010-01-05  1146.80  1149.00  1128.75  1135.00  1134.60   \n",
      "2     2010-01-06  1140.00  1164.25  1130.05  1137.00  1139.60   \n",
      "3     2010-01-07  1142.00  1159.40  1119.20  1141.00  1144.15   \n",
      "4     2010-01-08  1156.00  1172.00  1140.00  1141.20  1144.05   \n",
      "...          ...      ...      ...      ...      ...      ...   \n",
      "1734  2016-12-26   965.00   965.05   935.00   950.10   950.25   \n",
      "1735  2016-12-27   960.70   989.00   952.35   974.00   975.70   \n",
      "1736  2016-12-28   980.75   985.00   970.15   977.00   974.40   \n",
      "1737  2016-12-29   977.10   997.95   974.55   985.15   986.05   \n",
      "1738  2016-12-30   986.00  1006.95   985.90  1004.00  1000.60   \n",
      "\n",
      "      Total Trade Quantity  Turnover (Lacs)  \n",
      "0                 101651.0          1157.18  \n",
      "1                  59504.0           676.47  \n",
      "2                 128908.0          1482.84  \n",
      "3                 117871.0          1352.98  \n",
      "4                 170063.0          1971.42  \n",
      "...                    ...              ...  \n",
      "1734              398696.0          3783.63  \n",
      "1735              808561.0          7885.14  \n",
      "1736              367041.0          3592.49  \n",
      "1737              555233.0          5489.14  \n",
      "1738              460675.0          4606.48  \n",
      "\n",
      "[1739 rows x 8 columns]\n",
      "            Date     Open     High      Low    Last    Close  \\\n",
      "0     2010-01-04  1613.00  1629.10  1602.00  1629.0  1625.65   \n",
      "1     2010-01-05  1639.95  1639.95  1611.05  1620.0  1616.80   \n",
      "2     2010-01-06  1618.00  1644.00  1617.00  1639.0  1638.50   \n",
      "3     2010-01-07  1645.00  1654.00  1636.00  1648.0  1648.70   \n",
      "4     2010-01-08  1650.00  1650.00  1626.55  1640.0  1639.80   \n",
      "...          ...      ...      ...      ...     ...      ...   \n",
      "1734  2016-12-26  2703.00  2740.00  2677.00  2715.0  2723.50   \n",
      "1735  2016-12-27  2722.95  2725.00  2683.00  2692.0  2701.75   \n",
      "1736  2016-12-28  2701.75  2718.00  2690.00  2698.0  2702.15   \n",
      "1737  2016-12-29  2702.05  2739.00  2691.95  2710.0  2727.90   \n",
      "1738  2016-12-30  2730.00  2740.45  2705.00  2730.0  2729.80   \n",
      "\n",
      "      Total Trade Quantity  Turnover (Lacs)  \n",
      "0                   9365.0           151.74  \n",
      "1                  38148.0           622.58  \n",
      "2                  36519.0           595.09  \n",
      "3                  12809.0           211.00  \n",
      "4                  28035.0           459.11  \n",
      "...                    ...              ...  \n",
      "1734                3953.0           107.15  \n",
      "1735               10600.0           286.10  \n",
      "1736                6050.0           163.44  \n",
      "1737                7649.0           207.87  \n",
      "1738                6513.0           177.65  \n",
      "\n",
      "[1739 rows x 8 columns]\n"
     ]
    }
   ],
   "source": [
    "import pandas as pd\n",
    "\n",
    "\n",
    "df1=pd.read_csv('BEML.csv')\n",
    "print(df1)\n",
    "df=pd.read_csv('GLAXO.csv')\n",
    "print(df)"
   ]
  },
  {
   "cell_type": "markdown",
   "metadata": {
    "id": "IQAFfyGNH77k"
   },
   "source": [
    "Task2:Identify the feature vector from the given file, and write the python code to keep that only in the data frame\n"
   ]
  },
  {
   "cell_type": "code",
   "execution_count": 5,
   "metadata": {},
   "outputs": [],
   "source": [
    "# selecting one feature vector by selecting Date and Close column  \n",
    "# and create new dataframe by name's feature_df1 for beml_df dataframe and feature_df1 for glaxo_df dataframe \n",
    "# print the both  dataframes "
   ]
  },
  {
   "cell_type": "code",
   "execution_count": 6,
   "metadata": {},
   "outputs": [
    {
     "name": "stdout",
     "output_type": "stream",
     "text": [
      "            Date    Close\n",
      "0     2010-01-04  1135.60\n",
      "1     2010-01-05  1134.60\n",
      "2     2010-01-06  1139.60\n",
      "3     2010-01-07  1144.15\n",
      "4     2010-01-08  1144.05\n",
      "...          ...      ...\n",
      "1734  2016-12-26   950.25\n",
      "1735  2016-12-27   975.70\n",
      "1736  2016-12-28   974.40\n",
      "1737  2016-12-29   986.05\n",
      "1738  2016-12-30  1000.60\n",
      "\n",
      "[1739 rows x 2 columns]\n",
      "            Date    Close\n",
      "0     2010-01-04  1625.65\n",
      "1     2010-01-05  1616.80\n",
      "2     2010-01-06  1638.50\n",
      "3     2010-01-07  1648.70\n",
      "4     2010-01-08  1639.80\n",
      "...          ...      ...\n",
      "1734  2016-12-26  2723.50\n",
      "1735  2016-12-27  2701.75\n",
      "1736  2016-12-28  2702.15\n",
      "1737  2016-12-29  2727.90\n",
      "1738  2016-12-30  2729.80\n",
      "\n",
      "[1739 rows x 2 columns]\n"
     ]
    }
   ],
   "source": [
    "import pandas as pd\n",
    "\n",
    "# Identify the relevant feature columns (e.g., 'temperature', 'humidity')\n",
    "feature_columns = ['Date', 'Close']\n",
    "\n",
    "# Create a new DataFrame with only the feature columns\n",
    "feature_df1 = df1[feature_columns]\n",
    "feature_df = df[feature_columns]\n",
    "\n",
    "print(feature_df1)\n",
    "print(feature_df)\n"
   ]
  },
  {
   "cell_type": "code",
   "execution_count": 7,
   "metadata": {
    "id": "RAlekrE3Ibpt"
   },
   "outputs": [
    {
     "name": "stdout",
     "output_type": "stream",
     "text": [
      "<class 'pandas.core.frame.DataFrame'>\n",
      "RangeIndex: 1739 entries, 0 to 1738\n",
      "Data columns (total 8 columns):\n",
      " #   Column                Non-Null Count  Dtype  \n",
      "---  ------                --------------  -----  \n",
      " 0   Date                  1739 non-null   object \n",
      " 1   Open                  1739 non-null   float64\n",
      " 2   High                  1739 non-null   float64\n",
      " 3   Low                   1739 non-null   float64\n",
      " 4   Last                  1739 non-null   float64\n",
      " 5   Close                 1739 non-null   float64\n",
      " 6   Total Trade Quantity  1739 non-null   float64\n",
      " 7   Turnover (Lacs)       1739 non-null   float64\n",
      "dtypes: float64(7), object(1)\n",
      "memory usage: 108.8+ KB\n"
     ]
    }
   ],
   "source": [
    "# check information of dataframe by using info() function\n",
    "df.info()"
   ]
  },
  {
   "cell_type": "markdown",
   "metadata": {
    "id": "oNj4eGNaIdwk"
   },
   "source": [
    "Task3: Perform data transformation operation on time variable"
   ]
  },
  {
   "cell_type": "code",
   "execution_count": 8,
   "metadata": {},
   "outputs": [],
   "source": [
    "# Perform data transformation operation on time variable by using pd.to_datetime() funtuon"
   ]
  },
  {
   "cell_type": "code",
   "execution_count": 9,
   "metadata": {},
   "outputs": [],
   "source": [
    "df['Date'] = pd.to_datetime(df['Date'])"
   ]
  },
  {
   "cell_type": "markdown",
   "metadata": {
    "id": "Our4ycFrIr_j"
   },
   "source": [
    "Tasks4:Calculate gain of Close price of both stock"
   ]
  },
  {
   "cell_type": "code",
   "execution_count": 10,
   "metadata": {},
   "outputs": [
    {
     "name": "stdout",
     "output_type": "stream",
     "text": [
      "glaxo gain=\n",
      "         Date     Open     High      Low    Last    Close  \\\n",
      "0 2010-01-04  1613.00  1629.10  1602.00  1629.0  1625.65   \n",
      "1 2010-01-05  1639.95  1639.95  1611.05  1620.0  1616.80   \n",
      "2 2010-01-06  1618.00  1644.00  1617.00  1639.0  1638.50   \n",
      "3 2010-01-07  1645.00  1654.00  1636.00  1648.0  1648.70   \n",
      "4 2010-01-08  1650.00  1650.00  1626.55  1640.0  1639.80   \n",
      "\n",
      "   Total Trade Quantity  Turnover (Lacs)      gain  \n",
      "0                9365.0           151.74       NaN  \n",
      "1               38148.0           622.58 -0.005444  \n",
      "2               36519.0           595.09  0.013422  \n",
      "3               12809.0           211.00  0.006225  \n",
      "4               28035.0           459.11 -0.005398  \n",
      "\n",
      "beml gain=\n",
      "          Date    Open     High      Low    Last    Close  \\\n",
      "0  2010-01-04  1121.0  1151.00  1121.00  1134.0  1135.60   \n",
      "1  2010-01-05  1146.8  1149.00  1128.75  1135.0  1134.60   \n",
      "2  2010-01-06  1140.0  1164.25  1130.05  1137.0  1139.60   \n",
      "3  2010-01-07  1142.0  1159.40  1119.20  1141.0  1144.15   \n",
      "4  2010-01-08  1156.0  1172.00  1140.00  1141.2  1144.05   \n",
      "\n",
      "   Total Trade Quantity  Turnover (Lacs)      gain  \n",
      "0              101651.0          1157.18       NaN  \n",
      "1               59504.0           676.47 -0.000881  \n",
      "2              128908.0          1482.84  0.004407  \n",
      "3              117871.0          1352.98  0.003993  \n",
      "4              170063.0          1971.42 -0.000087  \n"
     ]
    }
   ],
   "source": [
    "# Cosidering close value of stock as gain\n",
    "# calculating gain of both stock use [df.Close.pct_change(periods=1)]\n",
    "df1['gain']=df1.Close.pct_change(periods=1)\n",
    "df['gain']=df.Close.pct_change(periods=1)\n",
    "print(\"glaxo gain=\\n\",df.head(5))\n",
    "print()\n",
    "print(\"beml gain=\\n\",df1.head(5))"
   ]
  },
  {
   "cell_type": "code",
   "execution_count": 11,
   "metadata": {
    "id": "SMoz-hmSI3Tz"
   },
   "outputs": [
    {
     "name": "stdout",
     "output_type": "stream",
     "text": [
      "Percentage change between day 0 and day 1: 10.00%\n",
      "Percentage change between day 1 and day 2: 9.09%\n",
      "Percentage change between day 2 and day 3: -4.17%\n",
      "Percentage change between day 3 and day 4: 13.04%\n",
      "Percentage change between day 4 and day 5: -3.85%\n"
     ]
    }
   ],
   "source": [
    "# creating a function  for checking how many percentage change between day 0 and day1 \n",
    "# function  contain close_prices\n",
    "def calculate_percentage_change(close_prices):\n",
    "    percentage_changes = []\n",
    "    for i in range(1, len(close_prices)):\n",
    "        percentage_change = (close_prices[i] - close_prices[i - 1]) / close_prices[i - 1]\n",
    "        percentage_changes.append(percentage_change)\n",
    "    return percentage_changes\n",
    "\n",
    "# Example usage:\n",
    "close_prices = [100, 110, 120, 115, 130, 125]\n",
    "percentage_changes = calculate_percentage_change(close_prices)\n",
    "\n",
    "for i, change in enumerate(percentage_changes):\n",
    "    print(f\"Percentage change between day {i} and day {i + 1}: {change:.2%}\")\n"
   ]
  },
  {
   "cell_type": "markdown",
   "metadata": {
    "id": "LunDFAJII5fU"
   },
   "source": [
    "Task5: identify Null in the gain of close variable and remove null"
   ]
  },
  {
   "cell_type": "code",
   "execution_count": 12,
   "metadata": {
    "id": "ubLzX952JGcK"
   },
   "outputs": [],
   "source": [
    "df.dropna(inplace = True)"
   ]
  },
  {
   "cell_type": "markdown",
   "metadata": {
    "id": "j8SPZ_XaJWFK"
   },
   "source": [
    "Task6: Make a new detination file(NewGlaxo.csv) and load the created data frame"
   ]
  },
  {
   "cell_type": "code",
   "execution_count": 13,
   "metadata": {
    "id": "8itGyu3oJXfw"
   },
   "outputs": [
    {
     "name": "stdout",
     "output_type": "stream",
     "text": [
      "ETL operation completed\n"
     ]
    }
   ],
   "source": [
    "#For making  a new detination file(NewGlaxo.csv) and load the created data frame use to_csv() funtion \n",
    "destination_file=\"NewGlaxo.csv\"\n",
    "df.to_csv(destination_file,index=False)\n",
    "print(\"ETL operation completed\")"
   ]
  },
  {
   "cell_type": "markdown",
   "metadata": {},
   "source": [
    "Note:-In Python, the append() function is a method specifically used with lists. It allows you to add a single element to the end of an existing list."
   ]
  },
  {
   "cell_type": "code",
   "execution_count": null,
   "metadata": {},
   "outputs": [],
   "source": []
  }
 ],
 "metadata": {
  "colab": {
   "provenance": []
  },
  "kernelspec": {
   "display_name": "Python 3 (ipykernel)",
   "language": "python",
   "name": "python3"
  },
  "language_info": {
   "codemirror_mode": {
    "name": "ipython",
    "version": 3
   },
   "file_extension": ".py",
   "mimetype": "text/x-python",
   "name": "python",
   "nbconvert_exporter": "python",
   "pygments_lexer": "ipython3",
   "version": "3.11.7"
  }
 },
 "nbformat": 4,
 "nbformat_minor": 4
}
