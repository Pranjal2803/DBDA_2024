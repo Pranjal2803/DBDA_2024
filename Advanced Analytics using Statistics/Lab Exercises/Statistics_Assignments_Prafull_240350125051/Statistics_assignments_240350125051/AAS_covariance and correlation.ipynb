{
  "nbformat": 4,
  "nbformat_minor": 0,
  "metadata": {
    "colab": {
      "provenance": []
    },
    "kernelspec": {
      "name": "python3",
      "display_name": "Python 3"
    },
    "language_info": {
      "name": "python"
    }
  },
  "cells": [
    {
      "cell_type": "code",
      "execution_count": null,
      "metadata": {
        "id": "3T7QnLwiAPi-"
      },
      "outputs": [],
      "source": [
        "import numpy as np\n",
        "import pandas as pd\n",
        "\n",
        "# Generate sample data\n",
        "np.random.seed(0)#Configuration for random number\n",
        "data = pd.DataFrame(np.random.randn(100, 2), columns=['X', 'Y'])#Create a\n",
        "#two features data, here naming X and Y of size 100 samples"
      ]
    },
    {
      "cell_type": "code",
      "source": [
        "# Calculate covariance matrix\n",
        "cov_matrix = np.cov(data['X'], data['Y'])"
      ],
      "metadata": {
        "id": "NJU1L70iAQ48"
      },
      "execution_count": null,
      "outputs": []
    },
    {
      "cell_type": "code",
      "source": [
        "# Extract covariance\n",
        "covariance = cov_matrix[0, 1]# b and c element represent covariance\n",
        "covariance"
      ],
      "metadata": {
        "id": "HHB0MhDUAUNb"
      },
      "execution_count": null,
      "outputs": []
    },
    {
      "cell_type": "code",
      "source": [
        "# Calculate correlation matrix\n",
        "cor_matrix = np.corrcoef(data['X'], data['Y'])\n",
        "cor_matrix"
      ],
      "metadata": {
        "id": "XYVsWuw-AXEi"
      },
      "execution_count": null,
      "outputs": []
    },
    {
      "cell_type": "code",
      "source": [
        "# Extract correlation coefficient\n",
        "correlation = cor_matrix[0, 1]\n",
        "correlation"
      ],
      "metadata": {
        "id": "FSCKfOa_Ab_i"
      },
      "execution_count": null,
      "outputs": []
    },
    {
      "cell_type": "code",
      "source": [
        "import matplotlib.pyplot as plt\n",
        "import seaborn as sns\n",
        "\n",
        "def create_box_plot(data):\n",
        "    plt.figure(figsize=(8, 6))\n",
        "    sns.boxplot(data=data)\n",
        "    plt.title('Box Plot')\n",
        "    plt.xlabel('Data')\n",
        "    plt.ylabel('Values')\n",
        "    plt.show()\n",
        "\n",
        "# Example data\n",
        "data = {\n",
        "    'Group A': [10, 12, 15, 18, 20, 22],#add -1 and see outlier\n",
        "    'Group B': [11, 14, 17, 20, 23, 26],\n",
        "    'Group C': [8, 10, 12, 14, 16, 18]\n",
        "}\n",
        "\n",
        "create_box_plot(data)"
      ],
      "metadata": {
        "id": "N3cSfJwIAcoz"
      },
      "execution_count": null,
      "outputs": []
    }
  ]
}