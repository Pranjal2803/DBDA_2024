{
 "cells": [
  {
   "cell_type": "markdown",
   "id": "46bfd30e-f0c1-449f-8b50-bbdcb00a1b19",
   "metadata": {},
   "source": [
    "The \"z-test\" and \"t-test\" are both statistical tests used to make inferences about population parameters based on sample data. However, they are used under different circumstances due to differences in assumptions and conditions.\n",
    "\n",
    "1. **Z-test:**\n",
    "   - The z-test is used when the population standard deviation is known, or the sample size is large (typically n > 30).\n",
    "   - It is used to compare a sample mean to a known population mean when the population standard deviation is known.\n",
    "   - The z-test statistic follows a standard normal distribution (mean of 0 and standard deviation of 1) under the null hypothesis.\n",
    "\n",
    "2. **T-test:**\n",
    "   - The t-test is used when the population standard deviation is unknown and must be estimated from the sample, or when the sample size is small (typically n < 30).\n",
    "   - It is used to compare the means of two samples or to compare a sample mean to a known population mean when the population standard deviation is unknown.\n",
    "   - The t-test statistic follows a Student's t-distribution with n-1 degrees of freedom under the null hypothesis, where n is the sample size.\n",
    "\n",
    "T-tests come in different variations depending on the study design and the number of groups being compared. Common types of t-tests include:\n",
    "\n",
    "- **One-sample t-test:** Used to determine if the mean of a single sample differs significantly from a known or hypothesized population mean.\n",
    "- **Independent samples t-test (two-sample t-test):** Used to compare the means of two independent groups to determine if they are significantly different from each other.\n",
    "- **Paired samples t-test:** Used to compare the means of two related groups (e.g., before and after measurements) to determine if there is a significant difference between the two means.\n",
    "\n",
    "In summary, the choice between z-test and t-test depends on factors such as the known population standard deviation, sample size, and whether the samples are independent or related. The z-test is used when the population standard deviation is known or the sample size is large, while the t-test is used when the population standard deviation is unknown or the sample size is small."
   ]
  },
  {
   "cell_type": "code",
   "execution_count": 1,
   "id": "445413dc-5f88-4e76-a015-e2c7ac85b6d9",
   "metadata": {},
   "outputs": [],
   "source": [
    "import pandas as pd\n",
    "from scipy import stats\n",
    "import seaborn as sn\n",
    "import matplotlib.pyplot as plt\n",
    "import math\n",
    "import warnings\n",
    "warnings.filterwarnings('ignore')"
   ]
  },
  {
   "cell_type": "markdown",
   "id": "d1342916-916e-47c6-bc8c-7ef35c018b5b",
   "metadata": {},
   "source": [
    "# Z-test"
   ]
  },
  {
   "cell_type": "code",
   "execution_count": 2,
   "id": "2bb9f089-05ce-4d71-b7db-fda38bbfc496",
   "metadata": {},
   "outputs": [
    {
     "data": {
      "text/html": [
       "<div>\n",
       "<style scoped>\n",
       "    .dataframe tbody tr th:only-of-type {\n",
       "        vertical-align: middle;\n",
       "    }\n",
       "\n",
       "    .dataframe tbody tr th {\n",
       "        vertical-align: top;\n",
       "    }\n",
       "\n",
       "    .dataframe thead th {\n",
       "        text-align: right;\n",
       "    }\n",
       "</style>\n",
       "<table border=\"1\" class=\"dataframe\">\n",
       "  <thead>\n",
       "    <tr style=\"text-align: right;\">\n",
       "      <th></th>\n",
       "      <th>processing_time</th>\n",
       "    </tr>\n",
       "  </thead>\n",
       "  <tbody>\n",
       "    <tr>\n",
       "      <th>0</th>\n",
       "      <td>16.0</td>\n",
       "    </tr>\n",
       "    <tr>\n",
       "      <th>1</th>\n",
       "      <td>16.0</td>\n",
       "    </tr>\n",
       "    <tr>\n",
       "      <th>2</th>\n",
       "      <td>30.0</td>\n",
       "    </tr>\n",
       "    <tr>\n",
       "      <th>3</th>\n",
       "      <td>37.0</td>\n",
       "    </tr>\n",
       "    <tr>\n",
       "      <th>4</th>\n",
       "      <td>25.0</td>\n",
       "    </tr>\n",
       "  </tbody>\n",
       "</table>\n",
       "</div>"
      ],
      "text/plain": [
       "   processing_time\n",
       "0             16.0\n",
       "1             16.0\n",
       "2             30.0\n",
       "3             37.0\n",
       "4             25.0"
      ]
     },
     "execution_count": 2,
     "metadata": {},
     "output_type": "execute_result"
    }
   ],
   "source": [
    "passport_df=pd.read_csv(\"passport.csv\")\n",
    "passport_df.head(5)"
   ]
  },
  {
   "cell_type": "code",
   "execution_count": 3,
   "id": "c408e9b9-e660-41ba-b914-e99b46eafb4c",
   "metadata": {},
   "outputs": [],
   "source": [
    "def z_test(pop_mean,pop_std,sample):\n",
    "    z_score=(sample.mean()-pop_mean)/pop_std/math.sqrt(len(sample))\n",
    "    return z_score,stats.norm.cdf(z_score)\n"
   ]
  },
  {
   "cell_type": "code",
   "execution_count": 4,
   "id": "4c5c3107-f271-466b-8563-84f299e5763e",
   "metadata": {},
   "outputs": [
    {
     "data": {
      "text/plain": [
       "(-0.037314876389986866, 0.4851169720548894)"
      ]
     },
     "execution_count": 4,
     "metadata": {},
     "output_type": "execute_result"
    }
   ],
   "source": [
    "z_test(30,12.5,passport_df.processing_time)"
   ]
  },
  {
   "cell_type": "markdown",
   "id": "34491c4d-7a21-4001-b424-351a52b141f0",
   "metadata": {},
   "source": [
    "##### Conclusion : 0.4851 > 0.05 ;Fail to reject H0(accept HO) "
   ]
  },
  {
   "cell_type": "markdown",
   "id": "030a404b-af98-4d41-896b-e60d963d44e9",
   "metadata": {},
   "source": [
    "Note:-In Python, stats.norm.cdf is a function from the scipy.stats module, specifically from the norm class, and it is used to compute the cumulative distribution function (CDF) of a normal (Gaussian) distribution.\n",
    "\n",
    "The cumulative distribution function of a random variable X, evaluated at x, is the probability that X will take a value less than or equal to x.\n",
    "\n",
    "This function is particularly useful in statistics and probability theory for calculating probabilities associated with normal distributions, such as finding the probability of a random variable falling within a certain range or below a certain value."
   ]
  },
  {
   "cell_type": "markdown",
   "id": "caba896c-5101-4941-b05f-a22799a1ea87",
   "metadata": {},
   "source": [
    "# One  T-test"
   ]
  },
  {
   "cell_type": "code",
   "execution_count": 5,
   "id": "2d8de19b-47fd-4bb6-8243-27b9563d3f83",
   "metadata": {},
   "outputs": [
    {
     "data": {
      "text/html": [
       "<div>\n",
       "<style scoped>\n",
       "    .dataframe tbody tr th:only-of-type {\n",
       "        vertical-align: middle;\n",
       "    }\n",
       "\n",
       "    .dataframe tbody tr th {\n",
       "        vertical-align: top;\n",
       "    }\n",
       "\n",
       "    .dataframe thead th {\n",
       "        text-align: right;\n",
       "    }\n",
       "</style>\n",
       "<table border=\"1\" class=\"dataframe\">\n",
       "  <thead>\n",
       "    <tr style=\"text-align: right;\">\n",
       "      <th></th>\n",
       "      <th>production_cost</th>\n",
       "    </tr>\n",
       "  </thead>\n",
       "  <tbody>\n",
       "    <tr>\n",
       "      <th>0</th>\n",
       "      <td>601</td>\n",
       "    </tr>\n",
       "    <tr>\n",
       "      <th>1</th>\n",
       "      <td>627</td>\n",
       "    </tr>\n",
       "    <tr>\n",
       "      <th>2</th>\n",
       "      <td>330</td>\n",
       "    </tr>\n",
       "    <tr>\n",
       "      <th>3</th>\n",
       "      <td>364</td>\n",
       "    </tr>\n",
       "    <tr>\n",
       "      <th>4</th>\n",
       "      <td>562</td>\n",
       "    </tr>\n",
       "  </tbody>\n",
       "</table>\n",
       "</div>"
      ],
      "text/plain": [
       "   production_cost\n",
       "0              601\n",
       "1              627\n",
       "2              330\n",
       "3              364\n",
       "4              562"
      ]
     },
     "execution_count": 5,
     "metadata": {},
     "output_type": "execute_result"
    }
   ],
   "source": [
    "bollywood_movies_df=pd.read_csv(\"bollywoodmovies.csv\")\n",
    "bollywood_movies_df.head(5)"
   ]
  },
  {
   "cell_type": "code",
   "execution_count": 6,
   "id": "4cb3f615-d2ec-4ca2-8365-efa709dadc94",
   "metadata": {},
   "outputs": [
    {
     "data": {
      "text/plain": [
       "TtestResult(statistic=-2.2845532872667547, pvalue=0.027862556406761777, df=39)"
      ]
     },
     "execution_count": 6,
     "metadata": {},
     "output_type": "execute_result"
    }
   ],
   "source": [
    "stats.ttest_1samp(bollywood_movies_df.production_cost,500)"
   ]
  },
  {
   "cell_type": "markdown",
   "id": "caacc0cc-c51d-4b19-bb4f-8282452bd575",
   "metadata": {},
   "source": [
    "##### Conclusion:0.02786255<0.05(pvalue< alpha);reject HO"
   ]
  },
  {
   "cell_type": "markdown",
   "id": "3412e019-eaae-4965-956a-58e13dd9a10c",
   "metadata": {},
   "source": [
    "Note:-A one-sample t-test is used when you have a single group of samples and you want to determine whether the mean of that group is significantly different from a known or hypothesized value.\n",
    "The function ttest_1samp() takes two arguments:\r\n",
    "\r\n",
    "data: The array representing the sample data.\r\n",
    "popmean (population mean): The hypothesized population mean against which you want to test the sample mea"
   ]
  },
  {
   "cell_type": "markdown",
   "id": "00a68adb-611c-45c8-9461-c8cc97eeb4fb",
   "metadata": {},
   "source": [
    "# Two Smaple T-Test"
   ]
  },
  {
   "cell_type": "code",
   "execution_count": 7,
   "id": "22553fc5-1c66-4bad-94ae-74a76309ad75",
   "metadata": {},
   "outputs": [],
   "source": [
    "healthdrink_yes_df=pd.read_excel('healthdrink.xlsx',\"healthdrink_yes\")\n",
    "healthdrink_no_df=pd.read_excel('healthdrink.xlsx','healthdrink_no')"
   ]
  },
  {
   "cell_type": "code",
   "execution_count": 8,
   "id": "51e534d5-d514-4ee0-a140-94ba190d31b8",
   "metadata": {},
   "outputs": [
    {
     "data": {
      "text/plain": [
       "TtestResult(statistic=8.131675069083359, pvalue=1.197698592263946e-13, df=157.0)"
      ]
     },
     "execution_count": 8,
     "metadata": {},
     "output_type": "execute_result"
    }
   ],
   "source": [
    "stats.ttest_ind(healthdrink_yes_df['height_increase'],healthdrink_no_df['height_increase'])"
   ]
  },
  {
   "cell_type": "markdown",
   "id": "b739a570-09ae-47a4-b031-8ebb6c369b75",
   "metadata": {},
   "source": [
    "##### Conclusion: 1.1976 > 0.05 ; Fail to reject H0"
   ]
  },
  {
   "cell_type": "markdown",
   "id": "c1a61e52-e842-4233-b0a8-f6519a0b3a2a",
   "metadata": {},
   "source": [
    "Note:-In Python, stats.ttest_ind is a function from the scipy.stats module, and it is used to perform a t-test for the means of two independent samples. The t-test is a statistical test used to determine whether there is a significant difference between the means of two groups.\n",
    "\n",
    "The function ttest_ind() takes two arrays representing the two independent samples as input and returns two values:\n",
    "\n",
    "t_statistic: The calculated t-statistic, which measures the difference between the means of the two samples relative to the variance in the data.\n",
    "p_value: The p-value associated with the test, which indicates the probability of observing the given t-statistic under the null hypothesis that the means of the two samples are equal.\n",
    "Researchers often use the p-value to determine the statistical significance of the difference between the means of the two samples. If the p-value is less than a chosen significance level (often 0.05), it suggests that there is sufficient evidence to reject the null hypothesis and conclude that the means of the two samples are significantly different."
   ]
  },
  {
   "cell_type": "markdown",
   "id": "7bf5e40d-5dbf-4c02-a242-a4434e99f00f",
   "metadata": {},
   "source": [
    "# Paired Sample T-Test"
   ]
  },
  {
   "cell_type": "code",
   "execution_count": 9,
   "id": "b295916e-249d-4a32-8bb7-870772901177",
   "metadata": {},
   "outputs": [
    {
     "data": {
      "text/html": [
       "<div>\n",
       "<style scoped>\n",
       "    .dataframe tbody tr th:only-of-type {\n",
       "        vertical-align: middle;\n",
       "    }\n",
       "\n",
       "    .dataframe tbody tr th {\n",
       "        vertical-align: top;\n",
       "    }\n",
       "\n",
       "    .dataframe thead th {\n",
       "        text-align: right;\n",
       "    }\n",
       "</style>\n",
       "<table border=\"1\" class=\"dataframe\">\n",
       "  <thead>\n",
       "    <tr style=\"text-align: right;\">\n",
       "      <th></th>\n",
       "      <th>Before_Breakup</th>\n",
       "      <th>After_Breakup</th>\n",
       "    </tr>\n",
       "  </thead>\n",
       "  <tbody>\n",
       "    <tr>\n",
       "      <th>0</th>\n",
       "      <td>470</td>\n",
       "      <td>408</td>\n",
       "    </tr>\n",
       "    <tr>\n",
       "      <th>1</th>\n",
       "      <td>354</td>\n",
       "      <td>439</td>\n",
       "    </tr>\n",
       "    <tr>\n",
       "      <th>2</th>\n",
       "      <td>496</td>\n",
       "      <td>321</td>\n",
       "    </tr>\n",
       "    <tr>\n",
       "      <th>3</th>\n",
       "      <td>351</td>\n",
       "      <td>437</td>\n",
       "    </tr>\n",
       "    <tr>\n",
       "      <th>4</th>\n",
       "      <td>349</td>\n",
       "      <td>335</td>\n",
       "    </tr>\n",
       "  </tbody>\n",
       "</table>\n",
       "</div>"
      ],
      "text/plain": [
       "   Before_Breakup  After_Breakup\n",
       "0             470            408\n",
       "1             354            439\n",
       "2             496            321\n",
       "3             351            437\n",
       "4             349            335"
      ]
     },
     "execution_count": 9,
     "metadata": {},
     "output_type": "execute_result"
    }
   ],
   "source": [
    "breakup_df=pd.read_csv(\"breakups.csv\")\n",
    "breakup_df.head(5)"
   ]
  },
  {
   "cell_type": "code",
   "execution_count": 10,
   "id": "6202cc8d-c87a-4605-adbd-98b0cb58716c",
   "metadata": {},
   "outputs": [
    {
     "data": {
      "image/png": "[encoded data removed]",
      "text/plain": [
       "<Figure size 640x480 with 1 Axes>"
      ]
     },
     "metadata": {},
     "output_type": "display_data"
    }
   ],
   "source": [
    "sn.distplot(breakup_df['Before_Breakup'],label='Before_Breakup')\n",
    "sn.distplot(breakup_df['After_Breakup'],label=\"After_Breakup\")\n",
    "plt.legend()\n",
    "plt.show()"
   ]
  },
  {
   "cell_type": "code",
   "execution_count": 11,
   "id": "8fa0a9ca-d4b2-4d02-a9f7-39265d12e150",
   "metadata": {},
   "outputs": [
    {
     "data": {
      "text/plain": [
       "TtestResult(statistic=0.5375404241815106, pvalue=0.5971346738292477, df=19)"
      ]
     },
     "execution_count": 11,
     "metadata": {},
     "output_type": "execute_result"
    }
   ],
   "source": [
    "stats.ttest_rel(breakup_df['After_Breakup'],breakup_df['Before_Breakup'])"
   ]
  },
  {
   "cell_type": "markdown",
   "id": "e3889c94-0766-4be5-9187-62fa74e8d916",
   "metadata": {},
   "source": [
    "##### Conclusion : 0.597134> 0.05 ;fail to reject HO"
   ]
  },
  {
   "cell_type": "markdown",
   "id": "154c71a4-2bff-468d-b3be-bef1c6d2abc6",
   "metadata": {},
   "source": [
    "Note:-In Python, stats.ttest_rel is a function from the scipy.stats module, and it is used to perform a paired sample t-test.\r\n",
    "\r\n",
    "A paired sample t-test is used when you have two related groups of samples, and you want to determine whether there is a significant difference between the means of the two groups. The samples in each group are related or paired in some way, such as being measurements taken from the same individuals before and after an intervention."
   ]
  },
  {
   "cell_type": "markdown",
   "id": "5a74863a-a716-43c3-9c10-9281563f6141",
   "metadata": {},
   "source": [
    "The function ttest_rel() takes two arrays representing the paired samples as input and returns two values:\n",
    "\n",
    "t_statistic: The calculated t-statistic, which measures the difference between the means of the paired samples relative to the variance in the data.\n",
    "p_value: The p-value associated with the test, which indicates the probability of observing the given t-statistic under the null hypothesis that the means of the paired samples are equal.\n",
    "As with other hypothesis tests, researchers often use the p-value to determine the statistical significance of the difference between the means of the paired samples. If the p-value is less than a chosen significance level (often 0.05), it suggests that there is sufficient evidence to reject the null hypothesis and conclude that the means of the paired samples are significantly different."
   ]
  },
  {
   "cell_type": "code",
   "execution_count": null,
   "id": "253f5eed-5f61-40cb-8abb-dac36ef6f41c",
   "metadata": {},
   "outputs": [],
   "source": []
  }
 ],
 "metadata": {
  "kernelspec": {
   "display_name": "Python 3 (ipykernel)",
   "language": "python",
   "name": "python3"
  },
  "language_info": {
   "codemirror_mode": {
    "name": "ipython",
    "version": 3
   },
   "file_extension": ".py",
   "mimetype": "text/x-python",
   "name": "python",
   "nbconvert_exporter": "python",
   "pygments_lexer": "ipython3",
   "version": "3.11.7"
  }
 },
 "nbformat": 4,
 "nbformat_minor": 5
}
