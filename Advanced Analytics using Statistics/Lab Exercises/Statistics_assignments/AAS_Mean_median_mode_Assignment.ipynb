{
 "cells": [
  {
   "cell_type": "code",
   "execution_count": 2,
   "id": "64769ed2-0f64-4bdc-8ce4-f496bd897dfe",
   "metadata": {},
   "outputs": [],
   "source": [
    "\n",
    "# #Question: Imagine a scenario where an investor wants to understand the risks and returns associated with various stocks\n",
    "# before investing in them.  Given two stocks, find out which stock is at lesser risk by looking into measures of dispersion \n",
    "# of stocks values. Also implement the 12 sub task given in today’s class for the same problem"
   ]
  },
  {
   "cell_type": "code",
   "execution_count": 5,
   "id": "13f9cc33-9a2f-420e-a9ca-6bff90fdc407",
   "metadata": {},
   "outputs": [],
   "source": [
    "import pandas as pd\n",
    "import numpy as np\n",
    "import statistics as stat\n",
    "import matplotlib.pyplot as plt\n",
    "import seaborn as sn\n",
    "import warnings\n",
    "warnings.filterwarnings('ignore')"
   ]
  },
  {
   "cell_type": "code",
   "execution_count": 8,
   "id": "53d32c25-dad7-4c4c-8adb-269a9d8afde0",
   "metadata": {},
   "outputs": [],
   "source": [
    "# In the extract step, we're reading data from the CSV file named \"BEML.csv\" using the pd.read_csv() function from the Pandas library. \n",
    "# This function reads the data and stores it in a DataFrame named beml_df. The print(beml_df[:5]) statement displays the first 5 rows of \n",
    "# the DataFrame, giving us a glimpse of the data we've just extracted."
   ]
  },
  {
   "cell_type": "code",
   "execution_count": 7,
   "id": "00ab30f2-bd9b-43a6-b764-db97c8258358",
   "metadata": {},
   "outputs": [
    {
     "data": {
      "text/html": [
       "<div>\n",
       "<style scoped>\n",
       "    .dataframe tbody tr th:only-of-type {\n",
       "        vertical-align: middle;\n",
       "    }\n",
       "\n",
       "    .dataframe tbody tr th {\n",
       "        vertical-align: top;\n",
       "    }\n",
       "\n",
       "    .dataframe thead th {\n",
       "        text-align: right;\n",
       "    }\n",
       "</style>\n",
       "<table border=\"1\" class=\"dataframe\">\n",
       "  <thead>\n",
       "    <tr style=\"text-align: right;\">\n",
       "      <th></th>\n",
       "      <th>Date</th>\n",
       "      <th>Open</th>\n",
       "      <th>High</th>\n",
       "      <th>Low</th>\n",
       "      <th>Last</th>\n",
       "      <th>Close</th>\n",
       "      <th>Total Trade Quantity</th>\n",
       "      <th>Turnover (Lacs)</th>\n",
       "    </tr>\n",
       "  </thead>\n",
       "  <tbody>\n",
       "    <tr>\n",
       "      <th>0</th>\n",
       "      <td>2010-01-04</td>\n",
       "      <td>1121.00</td>\n",
       "      <td>1151.00</td>\n",
       "      <td>1121.00</td>\n",
       "      <td>1134.00</td>\n",
       "      <td>1135.60</td>\n",
       "      <td>101651.0</td>\n",
       "      <td>1157.18</td>\n",
       "    </tr>\n",
       "    <tr>\n",
       "      <th>1</th>\n",
       "      <td>2010-01-05</td>\n",
       "      <td>1146.80</td>\n",
       "      <td>1149.00</td>\n",
       "      <td>1128.75</td>\n",
       "      <td>1135.00</td>\n",
       "      <td>1134.60</td>\n",
       "      <td>59504.0</td>\n",
       "      <td>676.47</td>\n",
       "    </tr>\n",
       "    <tr>\n",
       "      <th>2</th>\n",
       "      <td>2010-01-06</td>\n",
       "      <td>1140.00</td>\n",
       "      <td>1164.25</td>\n",
       "      <td>1130.05</td>\n",
       "      <td>1137.00</td>\n",
       "      <td>1139.60</td>\n",
       "      <td>128908.0</td>\n",
       "      <td>1482.84</td>\n",
       "    </tr>\n",
       "    <tr>\n",
       "      <th>3</th>\n",
       "      <td>2010-01-07</td>\n",
       "      <td>1142.00</td>\n",
       "      <td>1159.40</td>\n",
       "      <td>1119.20</td>\n",
       "      <td>1141.00</td>\n",
       "      <td>1144.15</td>\n",
       "      <td>117871.0</td>\n",
       "      <td>1352.98</td>\n",
       "    </tr>\n",
       "    <tr>\n",
       "      <th>4</th>\n",
       "      <td>2010-01-08</td>\n",
       "      <td>1156.00</td>\n",
       "      <td>1172.00</td>\n",
       "      <td>1140.00</td>\n",
       "      <td>1141.20</td>\n",
       "      <td>1144.05</td>\n",
       "      <td>170063.0</td>\n",
       "      <td>1971.42</td>\n",
       "    </tr>\n",
       "    <tr>\n",
       "      <th>...</th>\n",
       "      <td>...</td>\n",
       "      <td>...</td>\n",
       "      <td>...</td>\n",
       "      <td>...</td>\n",
       "      <td>...</td>\n",
       "      <td>...</td>\n",
       "      <td>...</td>\n",
       "      <td>...</td>\n",
       "    </tr>\n",
       "    <tr>\n",
       "      <th>1734</th>\n",
       "      <td>2016-12-26</td>\n",
       "      <td>965.00</td>\n",
       "      <td>965.05</td>\n",
       "      <td>935.00</td>\n",
       "      <td>950.10</td>\n",
       "      <td>950.25</td>\n",
       "      <td>398696.0</td>\n",
       "      <td>3783.63</td>\n",
       "    </tr>\n",
       "    <tr>\n",
       "      <th>1735</th>\n",
       "      <td>2016-12-27</td>\n",
       "      <td>960.70</td>\n",
       "      <td>989.00</td>\n",
       "      <td>952.35</td>\n",
       "      <td>974.00</td>\n",
       "      <td>975.70</td>\n",
       "      <td>808561.0</td>\n",
       "      <td>7885.14</td>\n",
       "    </tr>\n",
       "    <tr>\n",
       "      <th>1736</th>\n",
       "      <td>2016-12-28</td>\n",
       "      <td>980.75</td>\n",
       "      <td>985.00</td>\n",
       "      <td>970.15</td>\n",
       "      <td>977.00</td>\n",
       "      <td>974.40</td>\n",
       "      <td>367041.0</td>\n",
       "      <td>3592.49</td>\n",
       "    </tr>\n",
       "    <tr>\n",
       "      <th>1737</th>\n",
       "      <td>2016-12-29</td>\n",
       "      <td>977.10</td>\n",
       "      <td>997.95</td>\n",
       "      <td>974.55</td>\n",
       "      <td>985.15</td>\n",
       "      <td>986.05</td>\n",
       "      <td>555233.0</td>\n",
       "      <td>5489.14</td>\n",
       "    </tr>\n",
       "    <tr>\n",
       "      <th>1738</th>\n",
       "      <td>2016-12-30</td>\n",
       "      <td>986.00</td>\n",
       "      <td>1006.95</td>\n",
       "      <td>985.90</td>\n",
       "      <td>1004.00</td>\n",
       "      <td>1000.60</td>\n",
       "      <td>460675.0</td>\n",
       "      <td>4606.48</td>\n",
       "    </tr>\n",
       "  </tbody>\n",
       "</table>\n",
       "<p>1739 rows × 8 columns</p>\n",
       "</div>"
      ],
      "text/plain": [
       "            Date     Open     High      Low     Last    Close  \\\n",
       "0     2010-01-04  1121.00  1151.00  1121.00  1134.00  1135.60   \n",
       "1     2010-01-05  1146.80  1149.00  1128.75  1135.00  1134.60   \n",
       "2     2010-01-06  1140.00  1164.25  1130.05  1137.00  1139.60   \n",
       "3     2010-01-07  1142.00  1159.40  1119.20  1141.00  1144.15   \n",
       "4     2010-01-08  1156.00  1172.00  1140.00  1141.20  1144.05   \n",
       "...          ...      ...      ...      ...      ...      ...   \n",
       "1734  2016-12-26   965.00   965.05   935.00   950.10   950.25   \n",
       "1735  2016-12-27   960.70   989.00   952.35   974.00   975.70   \n",
       "1736  2016-12-28   980.75   985.00   970.15   977.00   974.40   \n",
       "1737  2016-12-29   977.10   997.95   974.55   985.15   986.05   \n",
       "1738  2016-12-30   986.00  1006.95   985.90  1004.00  1000.60   \n",
       "\n",
       "      Total Trade Quantity  Turnover (Lacs)  \n",
       "0                 101651.0          1157.18  \n",
       "1                  59504.0           676.47  \n",
       "2                 128908.0          1482.84  \n",
       "3                 117871.0          1352.98  \n",
       "4                 170063.0          1971.42  \n",
       "...                    ...              ...  \n",
       "1734              398696.0          3783.63  \n",
       "1735              808561.0          7885.14  \n",
       "1736              367041.0          3592.49  \n",
       "1737              555233.0          5489.14  \n",
       "1738              460675.0          4606.48  \n",
       "\n",
       "[1739 rows x 8 columns]"
      ]
     },
     "execution_count": 7,
     "metadata": {},
     "output_type": "execute_result"
    }
   ],
   "source": [
    "bemldata=pd.read_csv(\"BEML.csv\")\n",
    "bemldata"
   ]
  },
  {
   "cell_type": "code",
   "execution_count": null,
   "id": "3059ceab-f22e-4e78-9881-d7de83148841",
   "metadata": {},
   "outputs": [],
   "source": [
    "# In the extract step, we're reading  second stock data from the CSV file named \"GLAXO.csv\" using the pd.read_csv() function from the Pandas library. \n",
    "# This function reads the data and stores it in a DataFrame named beml_df. The print(glaxodata.head(5)) statement displays the first 5 rows of \n",
    "# the DataFrame, giving us a glimpse of the data we've just extracted."
   ]
  },
  {
   "cell_type": "code",
   "execution_count": 8,
   "id": "fcda6b87-5b4d-40b4-b51e-f01af3edc7d3",
   "metadata": {},
   "outputs": [
    {
     "data": {
      "text/html": [
       "<div>\n",
       "<style scoped>\n",
       "    .dataframe tbody tr th:only-of-type {\n",
       "        vertical-align: middle;\n",
       "    }\n",
       "\n",
       "    .dataframe tbody tr th {\n",
       "        vertical-align: top;\n",
       "    }\n",
       "\n",
       "    .dataframe thead th {\n",
       "        text-align: right;\n",
       "    }\n",
       "</style>\n",
       "<table border=\"1\" class=\"dataframe\">\n",
       "  <thead>\n",
       "    <tr style=\"text-align: right;\">\n",
       "      <th></th>\n",
       "      <th>Date</th>\n",
       "      <th>Open</th>\n",
       "      <th>High</th>\n",
       "      <th>Low</th>\n",
       "      <th>Last</th>\n",
       "      <th>Close</th>\n",
       "      <th>Total Trade Quantity</th>\n",
       "      <th>Turnover (Lacs)</th>\n",
       "    </tr>\n",
       "  </thead>\n",
       "  <tbody>\n",
       "    <tr>\n",
       "      <th>0</th>\n",
       "      <td>2010-01-04</td>\n",
       "      <td>1613.00</td>\n",
       "      <td>1629.10</td>\n",
       "      <td>1602.00</td>\n",
       "      <td>1629.0</td>\n",
       "      <td>1625.65</td>\n",
       "      <td>9365.0</td>\n",
       "      <td>151.74</td>\n",
       "    </tr>\n",
       "    <tr>\n",
       "      <th>1</th>\n",
       "      <td>2010-01-05</td>\n",
       "      <td>1639.95</td>\n",
       "      <td>1639.95</td>\n",
       "      <td>1611.05</td>\n",
       "      <td>1620.0</td>\n",
       "      <td>1616.80</td>\n",
       "      <td>38148.0</td>\n",
       "      <td>622.58</td>\n",
       "    </tr>\n",
       "    <tr>\n",
       "      <th>2</th>\n",
       "      <td>2010-01-06</td>\n",
       "      <td>1618.00</td>\n",
       "      <td>1644.00</td>\n",
       "      <td>1617.00</td>\n",
       "      <td>1639.0</td>\n",
       "      <td>1638.50</td>\n",
       "      <td>36519.0</td>\n",
       "      <td>595.09</td>\n",
       "    </tr>\n",
       "    <tr>\n",
       "      <th>3</th>\n",
       "      <td>2010-01-07</td>\n",
       "      <td>1645.00</td>\n",
       "      <td>1654.00</td>\n",
       "      <td>1636.00</td>\n",
       "      <td>1648.0</td>\n",
       "      <td>1648.70</td>\n",
       "      <td>12809.0</td>\n",
       "      <td>211.00</td>\n",
       "    </tr>\n",
       "    <tr>\n",
       "      <th>4</th>\n",
       "      <td>2010-01-08</td>\n",
       "      <td>1650.00</td>\n",
       "      <td>1650.00</td>\n",
       "      <td>1626.55</td>\n",
       "      <td>1640.0</td>\n",
       "      <td>1639.80</td>\n",
       "      <td>28035.0</td>\n",
       "      <td>459.11</td>\n",
       "    </tr>\n",
       "  </tbody>\n",
       "</table>\n",
       "</div>"
      ],
      "text/plain": [
       "         Date     Open     High      Low    Last    Close  \\\n",
       "0  2010-01-04  1613.00  1629.10  1602.00  1629.0  1625.65   \n",
       "1  2010-01-05  1639.95  1639.95  1611.05  1620.0  1616.80   \n",
       "2  2010-01-06  1618.00  1644.00  1617.00  1639.0  1638.50   \n",
       "3  2010-01-07  1645.00  1654.00  1636.00  1648.0  1648.70   \n",
       "4  2010-01-08  1650.00  1650.00  1626.55  1640.0  1639.80   \n",
       "\n",
       "   Total Trade Quantity  Turnover (Lacs)  \n",
       "0                9365.0           151.74  \n",
       "1               38148.0           622.58  \n",
       "2               36519.0           595.09  \n",
       "3               12809.0           211.00  \n",
       "4               28035.0           459.11  "
      ]
     },
     "execution_count": 8,
     "metadata": {},
     "output_type": "execute_result"
    }
   ],
   "source": [
    "glaxodata=pd.read_csv(\"GLAXO.csv\")\n",
    "glaxodata.head(5)"
   ]
  },
  {
   "cell_type": "code",
   "execution_count": null,
   "id": "9fef879e-b232-48ff-b350-9ac5750265e5",
   "metadata": {},
   "outputs": [],
   "source": [
    "# in second step , we selecting the feature vector from both stock data  "
   ]
  },
  {
   "cell_type": "code",
   "execution_count": 9,
   "id": "2454c2f8-2f55-4e63-998f-42a3936c0130",
   "metadata": {},
   "outputs": [],
   "source": [
    "#selecting one feature vector\n",
    "bemldata=bemldata[['Date','Close',]]\n",
    "glaxodata=glaxodata[['Date','Close']]"
   ]
  },
  {
   "cell_type": "code",
   "execution_count": 10,
   "id": "a3e24ecf-4dc3-480c-8b27-8ff5099f2fc5",
   "metadata": {},
   "outputs": [
    {
     "name": "stdout",
     "output_type": "stream",
     "text": [
      "<class 'pandas.core.frame.DataFrame'>\n",
      "RangeIndex: 1739 entries, 0 to 1738\n",
      "Data columns (total 2 columns):\n",
      " #   Column  Non-Null Count  Dtype  \n",
      "---  ------  --------------  -----  \n",
      " 0   Date    1739 non-null   object \n",
      " 1   Close   1739 non-null   float64\n",
      "dtypes: float64(1), object(1)\n",
      "memory usage: 27.3+ KB\n"
     ]
    }
   ],
   "source": [
    "# Coverting time to index\n",
    "glaxo=glaxodata.set_index(pd.DatetimeIndex(glaxodata['Date']))\n",
    "beml=bemldata.set_index(pd.DatetimeIndex(bemldata['Date']))\n",
    "bemldata.info()\n"
   ]
  },
  {
   "cell_type": "code",
   "execution_count": 11,
   "id": "93f18d5d-ac68-4c05-8c55-87b1ec5aa6d1",
   "metadata": {},
   "outputs": [
    {
     "name": "stdout",
     "output_type": "stream",
     "text": [
      "Mean=698.4352213916044\n",
      "Median=682.15 \n",
      "mode=887.7\n"
     ]
    }
   ],
   "source": [
    "#mean.mode,median beml dataset\n",
    "# for calculating mean use np.mean() function   \n",
    "# for calculating median use np.median() function \n",
    "#for calculating mode use stats.mode() function\n",
    "#  print mean ,median and mode\n",
    "Bmean=np.mean(bemldata['Close'])\n",
    "Bmedian=np.median(bemldata['Close'])\n",
    "Bmode=stat.mode(bemldata['Close'])\n",
    "print(f\"Mean={Bmean}\\nMedian={ Bmedian} \\nmode={Bmode}\")"
   ]
  },
  {
   "cell_type": "code",
   "execution_count": 12,
   "id": "18dee781-333c-49da-bd1a-21f0b6749f60",
   "metadata": {},
   "outputs": [
    {
     "name": "stdout",
     "output_type": "stream",
     "text": [
      "Mean=2532.631742380678\n",
      "Median=2364.7 \n",
      "mode=1916.8\n"
     ]
    }
   ],
   "source": [
    "#mean.mode,median Glaxo dataset\n",
    "\n",
    "# for calculating mean use np.mean() function   \n",
    "# for calculating median use np.median() function \n",
    "#for calculating mode use stats.mode() function\n",
    "#  print mean ,median and mode\n",
    "\n",
    "Gmean=np.mean(glaxodata['Close'])\n",
    "Gmedian=np.median(glaxodata['Close'])\n",
    "Gmode=stat.mode(glaxodata['Close'])\n",
    "print(f\"Mean={Gmean}\\nMedian={ Gmedian} \\nmode={Gmode}\")"
   ]
  },
  {
   "cell_type": "code",
   "execution_count": 29,
   "id": "270f55bb-c663-49f7-a28a-929898f7e27f",
   "metadata": {},
   "outputs": [
    {
     "data": {
      "text/plain": [
       "<matplotlib.legend.Legend at 0x1e5f721c590>"
      ]
     },
     "execution_count": 29,
     "metadata": {},
     "output_type": "execute_result"
    },
    {
     "data": {
      "image/png": "[encoded data removed]",
      "text/plain": [
       "<Figure size 640x480 with 1 Axes>"
      ]
     },
     "metadata": {},
     "output_type": "display_data"
    }
   ],
   "source": [
    "# make time plot graph both the stocks\n",
    "# for plotting graph use the plt.plot() function  and set label of  both axis  use plt.xlabel() and plt.ylabel()\n",
    "\n",
    "figsize=(10,5)\n",
    "plt.plot(glaxodata.Close,label=\"glaxo\")\n",
    "plt.xlabel('Time')\n",
    "plt.ylabel(\"close price\")\n",
    "\n",
    "#plt.subplots(figsize=(10,5))\n",
    "plt.plot(bemldata.Close,label=\"beml\")\n",
    "plt.xlabel('Time')\n",
    "plt.ylabel(\"close price\")\n",
    "plt.legend()\n"
   ]
  },
  {
   "cell_type": "code",
   "execution_count": 13,
   "id": "d39e3b7d-b2c2-40c2-9b42-be2602025787",
   "metadata": {},
   "outputs": [
    {
     "name": "stdout",
     "output_type": "stream",
     "text": [
      "glaxo gain=\n",
      "          Date    Close      gain\n",
      "0  2010-01-04  1625.65       NaN\n",
      "1  2010-01-05  1616.80 -0.005444\n",
      "2  2010-01-06  1638.50  0.013422\n",
      "3  2010-01-07  1648.70  0.006225\n",
      "4  2010-01-08  1639.80 -0.005398\n",
      "\n",
      "beml gain=\n",
      "          Date    Close      gain\n",
      "0  2010-01-04  1135.60       NaN\n",
      "1  2010-01-05  1134.60 -0.000881\n",
      "2  2010-01-06  1139.60  0.004407\n",
      "3  2010-01-07  1144.15  0.003993\n",
      "4  2010-01-08  1144.05 -0.000087\n"
     ]
    }
   ],
   "source": [
    "# Cosidering close value of stock as gain\n",
    "# calculating gain of both stock use [df.Close.pct_change(periods=1)]\n",
    "glaxodata['gain']=glaxodata.Close.pct_change(periods=1)\n",
    "bemldata['gain']=bemldata.Close.pct_change(periods=1)\n",
    "print(\"glaxo gain=\\n\",glaxodata.head(5))\n",
    "print()\n",
    "print(\"beml gain=\\n\",bemldata.head(5))"
   ]
  },
  {
   "cell_type": "code",
   "execution_count": 14,
   "id": "bc7d9eb2-b1c0-4393-9edf-6f10ed64cecb",
   "metadata": {},
   "outputs": [
    {
     "data": {
      "text/plain": [
       "<matplotlib.legend.Legend at 0x1ecaa670150>"
      ]
     },
     "execution_count": 14,
     "metadata": {},
     "output_type": "execute_result"
    },
    {
     "data": {
      "image/png": "[encoded data removed]",
      "text/plain": [
       "<Figure size 640x480 with 1 Axes>"
      ]
     },
     "metadata": {},
     "output_type": "display_data"
    }
   ],
   "source": [
    "#plot gain and time\n",
    "# for plotting gain graph use the plt.plot() function and set label of both axis use plt.xlabel() and plt.ylabel()\n",
    "\n",
    "figsize=(10,5)\n",
    "plt.plot(glaxodata.gain,label=\"glaxo\")\n",
    "plt.xlabel('Time')\n",
    "plt.ylabel(\"gain\")\n",
    "\n",
    "#plt.subplots(figsize=(10,5))\n",
    "plt.plot(bemldata.gain,label=\"beml\")\n",
    "plt.xlabel('Time')\n",
    "plt.ylabel(\"gain\")\n",
    "plt.legend()\n"
   ]
  },
  {
   "cell_type": "code",
   "execution_count": 15,
   "id": "07501515-29c5-4555-aa63-573b3aa39443",
   "metadata": {},
   "outputs": [
    {
     "data": {
      "text/plain": [
       "<matplotlib.legend.Legend at 0x1ecaa97b3d0>"
      ]
     },
     "execution_count": 15,
     "metadata": {},
     "output_type": "execute_result"
    },
    {
     "data": {
      "image/png": "[encoded data removed]",
      "text/plain": [
       "<Figure size 640x480 with 1 Axes>"
      ]
     },
     "metadata": {},
     "output_type": "display_data"
    }
   ],
   "source": [
    "#plot distribution plot\n",
    "# use distplot.plt() funtion for ploting distribution of both stock  gain \n",
    "# for plotting graph use the sns.distplot() function  and set label of  both axis  use plt.xlabel() and plt.ylabel()\n",
    "\n",
    "sn.distplot(glaxodata.gain,label=\"glaxo\")\n",
    "sn.distplot(bemldata.gain,label=\"beml\")\n",
    "plt.xlabel(\"gain\")\n",
    "plt.ylabel(\"density\")\n",
    "plt.legend()"
   ]
  },
  {
   "cell_type": "code",
   "execution_count": 16,
   "id": "ce554fd3-fdec-4b89-8a46-5922b8a19872",
   "metadata": {},
   "outputs": [
    {
     "name": "stdout",
     "output_type": "stream",
     "text": [
      "daily gain of glaso\n",
      "Mean:  0.0004\n",
      "standard derivation: 0.0134\n"
     ]
    }
   ],
   "source": [
    "## print daily gain of glaxodata \n",
    "print(\"daily gain of glaso\")\n",
    "print(\"Mean: \", round(glaxodata.gain.mean(),4))\n",
    "print(\"standard derivation:\" ,round(glaxodata.gain.std(),4))"
   ]
  },
  {
   "cell_type": "code",
   "execution_count": 17,
   "id": "82023000-b887-41d5-8b55-08fa092e63e2",
   "metadata": {},
   "outputs": [
    {
     "name": "stdout",
     "output_type": "stream",
     "text": [
      "daily gain of beml\n",
      "Mean:  0.0003\n",
      "standard derivation: 0.0264\n"
     ]
    }
   ],
   "source": [
    "## print daily gain of bemldata\n",
    "print(\"daily gain of beml\")\n",
    "print(\"Mean: \", round(bemldata.gain.mean(),4))\n",
    "print(\"standard derivation:\" ,round(bemldata.gain.std(),4))\n",
    "      "
   ]
  },
  {
   "cell_type": "code",
   "execution_count": 18,
   "id": "502f7690-4e9d-4c0e-91cb-e7c06a6ac457",
   "metadata": {},
   "outputs": [
    {
     "name": "stdout",
     "output_type": "stream",
     "text": [
      "beml stock\n"
     ]
    },
    {
     "data": {
      "text/plain": [
       "count    1738.000000\n",
       "mean        0.000271\n",
       "std         0.026431\n",
       "min        -0.133940\n",
       "25%        -0.013736\n",
       "50%        -0.001541\n",
       "75%         0.011985\n",
       "max         0.198329\n",
       "Name: gain, dtype: float64"
      ]
     },
     "execution_count": 18,
     "metadata": {},
     "output_type": "execute_result"
    }
   ],
   "source": [
    "## describe and  risk of stack\n",
    "print(\"beml stock\")\n",
    "bemldata.gain.describe()\n"
   ]
  },
  {
   "cell_type": "code",
   "execution_count": 19,
   "id": "61043f5a-afa4-4383-9a93-fc3daa1aeb61",
   "metadata": {},
   "outputs": [
    {
     "name": "stdout",
     "output_type": "stream",
     "text": [
      "glaxo stock\n"
     ]
    },
    {
     "data": {
      "text/plain": [
       "count    1738.000000\n",
       "mean        0.000386\n",
       "std         0.013361\n",
       "min        -0.074719\n",
       "25%        -0.005850\n",
       "50%        -0.000021\n",
       "75%         0.005826\n",
       "max         0.189196\n",
       "Name: gain, dtype: float64"
      ]
     },
     "execution_count": 19,
     "metadata": {},
     "output_type": "execute_result"
    }
   ],
   "source": [
    "## describe and  risk of stack\n",
    "print(\"glaxo stock\")\n",
    "glaxodata.gain.describe()"
   ]
  },
  {
   "cell_type": "code",
   "execution_count": 20,
   "id": "4a9142f2-f842-465d-90d5-e6d5fd21a808",
   "metadata": {},
   "outputs": [],
   "source": [
    "## beml stock has higher risk as standard derivation of beml is 2.64% \n",
    "##whereas the standard derivation of glaxo ix 1.33%"
   ]
  },
  {
   "cell_type": "code",
   "execution_count": null,
   "id": "313ebc25-9c36-4f15-9bd8-6406751ea01f",
   "metadata": {},
   "outputs": [],
   "source": []
  }
 ],
 "metadata": {
  "kernelspec": {
   "display_name": "Python 3 (ipykernel)",
   "language": "python",
   "name": "python3"
  },
  "language_info": {
   "codemirror_mode": {
    "name": "ipython",
    "version": 3
   },
   "file_extension": ".py",
   "mimetype": "text/x-python",
   "name": "python",
   "nbconvert_exporter": "python",
   "pygments_lexer": "ipython3",
   "version": "3.11.7"
  }
 },
 "nbformat": 4,
 "nbformat_minor": 5
}
